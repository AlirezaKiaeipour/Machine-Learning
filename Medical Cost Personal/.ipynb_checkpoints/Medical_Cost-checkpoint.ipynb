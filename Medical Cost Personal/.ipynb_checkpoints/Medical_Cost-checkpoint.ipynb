{
 "cells": [
  {
   "cell_type": "markdown",
   "id": "13eb84bb-56d7-48b4-b4f6-841bc0f5091c",
   "metadata": {},
   "source": [
    "## Import Libraries & Load Dataset"
   ]
  },
  {
   "cell_type": "code",
   "execution_count": 1,
   "id": "a4565738-a67f-4f04-9ddd-a45df5158c12",
   "metadata": {},
   "outputs": [],
   "source": [
    "import pandas as pd\n",
    "from sklearn.preprocessing import LabelEncoder , StandardScaler\n",
    "from sklearn.model_selection import train_test_split\n",
    "from sklearn import metrics\n",
    "from sklearn.linear_model import LinearRegression\n",
    "from sklearn.ensemble import RandomForestRegressor , GradientBoostingRegressor\n",
    "from xgboost import XGBRFRegressor\n",
    "from catboost import CatBoostRegressor\n",
    "import seaborn as sns\n",
    "import matplotlib.pyplot as plt"
   ]
  },
  {
   "cell_type": "code",
   "execution_count": 2,
   "id": "4859c188-09c0-4b01-b343-faf746de35c7",
   "metadata": {},
   "outputs": [
    {
     "data": {
      "text/html": [
       "<div>\n",
       "<style scoped>\n",
       "    .dataframe tbody tr th:only-of-type {\n",
       "        vertical-align: middle;\n",
       "    }\n",
       "\n",
       "    .dataframe tbody tr th {\n",
       "        vertical-align: top;\n",
       "    }\n",
       "\n",
       "    .dataframe thead th {\n",
       "        text-align: right;\n",
       "    }\n",
       "</style>\n",
       "<table border=\"1\" class=\"dataframe\">\n",
       "  <thead>\n",
       "    <tr style=\"text-align: right;\">\n",
       "      <th></th>\n",
       "      <th>age</th>\n",
       "      <th>sex</th>\n",
       "      <th>bmi</th>\n",
       "      <th>children</th>\n",
       "      <th>smoker</th>\n",
       "      <th>region</th>\n",
       "      <th>charges</th>\n",
       "    </tr>\n",
       "  </thead>\n",
       "  <tbody>\n",
       "    <tr>\n",
       "      <th>0</th>\n",
       "      <td>19</td>\n",
       "      <td>female</td>\n",
       "      <td>27.900</td>\n",
       "      <td>0</td>\n",
       "      <td>yes</td>\n",
       "      <td>southwest</td>\n",
       "      <td>16884.92400</td>\n",
       "    </tr>\n",
       "    <tr>\n",
       "      <th>1</th>\n",
       "      <td>18</td>\n",
       "      <td>male</td>\n",
       "      <td>33.770</td>\n",
       "      <td>1</td>\n",
       "      <td>no</td>\n",
       "      <td>southeast</td>\n",
       "      <td>1725.55230</td>\n",
       "    </tr>\n",
       "    <tr>\n",
       "      <th>2</th>\n",
       "      <td>28</td>\n",
       "      <td>male</td>\n",
       "      <td>33.000</td>\n",
       "      <td>3</td>\n",
       "      <td>no</td>\n",
       "      <td>southeast</td>\n",
       "      <td>4449.46200</td>\n",
       "    </tr>\n",
       "    <tr>\n",
       "      <th>3</th>\n",
       "      <td>33</td>\n",
       "      <td>male</td>\n",
       "      <td>22.705</td>\n",
       "      <td>0</td>\n",
       "      <td>no</td>\n",
       "      <td>northwest</td>\n",
       "      <td>21984.47061</td>\n",
       "    </tr>\n",
       "    <tr>\n",
       "      <th>4</th>\n",
       "      <td>32</td>\n",
       "      <td>male</td>\n",
       "      <td>28.880</td>\n",
       "      <td>0</td>\n",
       "      <td>no</td>\n",
       "      <td>northwest</td>\n",
       "      <td>3866.85520</td>\n",
       "    </tr>\n",
       "  </tbody>\n",
       "</table>\n",
       "</div>"
      ],
      "text/plain": [
       "   age     sex     bmi  children smoker     region      charges\n",
       "0   19  female  27.900         0    yes  southwest  16884.92400\n",
       "1   18    male  33.770         1     no  southeast   1725.55230\n",
       "2   28    male  33.000         3     no  southeast   4449.46200\n",
       "3   33    male  22.705         0     no  northwest  21984.47061\n",
       "4   32    male  28.880         0     no  northwest   3866.85520"
      ]
     },
     "execution_count": 2,
     "metadata": {},
     "output_type": "execute_result"
    }
   ],
   "source": [
    "data = pd.read_csv(\"insurance.csv\")\n",
    "data.head()"
   ]
  },
  {
   "cell_type": "markdown",
   "id": "1cb4ca52-6392-42a2-8407-1d619bea6b96",
   "metadata": {},
   "source": [
    "# EDA"
   ]
  },
  {
   "cell_type": "code",
   "execution_count": 3,
   "id": "6728d801-c110-498f-a78b-135139c92b9b",
   "metadata": {},
   "outputs": [
    {
     "data": {
      "text/plain": [
       "([<matplotlib.patches.Wedge at 0x249638e2460>,\n",
       "  <matplotlib.patches.Wedge at 0x249638e2b80>],\n",
       " [Text(-0.018078568997004985, 1.0998514287589123, 'female'),\n",
       "  Text(0.018078568997005343, -1.0998514287589123, 'male')],\n",
       " [Text(-0.009861037634729992, 0.5999189611412249, '50.52'),\n",
       "  Text(0.009861037634730185, -0.5999189611412248, '49.48')])"
      ]
     },
     "execution_count": 3,
     "metadata": {},
     "output_type": "execute_result"
    },
    {
     "data": {
      "image/png": "[encoded data removed]",
      "text/plain": [
       "<Figure size 432x432 with 1 Axes>"
      ]
     },
     "metadata": {},
     "output_type": "display_data"
    }
   ],
   "source": [
    "plt.figure(figsize=(6,6))\n",
    "labels = [label for label in data[\"sex\"].unique()]\n",
    "plt.pie(data[\"sex\"].value_counts(),labels=labels,autopct='%.2f')"
   ]
  },
  {
   "cell_type": "code",
   "execution_count": 4,
   "id": "d583c8c1-7d9a-4227-9e8f-7f1972ee1eef",
   "metadata": {},
   "outputs": [
    {
     "data": {
      "text/plain": [
       "([<matplotlib.patches.Wedge at 0x249639b72e0>,\n",
       "  <matplotlib.patches.Wedge at 0x249639b79a0>,\n",
       "  <matplotlib.patches.Wedge at 0x249639c3100>,\n",
       "  <matplotlib.patches.Wedge at 0x249639c3760>],\n",
       " [Text(0.722119686055283, 0.8297850077046582, 'southwest'),\n",
       "  Text(-0.8627681631663758, 0.6823716704454532, 'southeast'),\n",
       "  Text(-0.7201694244483215, -0.8314782018127556, 'northwest'),\n",
       "  Text(0.7967551940047443, -0.7584069889092945, 'northeast')],\n",
       " [Text(0.39388346512106337, 0.4526100042025408, '27.20'),\n",
       "  Text(-0.47060081627256856, 0.37220272933388354, '24.29'),\n",
       "  Text(-0.3928196860627208, -0.45353356462513933, '24.29'),\n",
       "  Text(0.4345937421844059, -0.41367653940506965, '24.22')])"
      ]
     },
     "execution_count": 4,
     "metadata": {},
     "output_type": "execute_result"
    },
    {
     "data": {
      "image/png": "[encoded data removed]",
      "text/plain": [
       "<Figure size 432x432 with 1 Axes>"
      ]
     },
     "metadata": {},
     "output_type": "display_data"
    }
   ],
   "source": [
    "plt.figure(figsize=(6,6))\n",
    "labels = [label for label in data[\"region\"].unique()]\n",
    "plt.pie(data[\"region\"].value_counts(),labels=labels,autopct='%.2f')"
   ]
  },
  {
   "cell_type": "code",
   "execution_count": 5,
   "id": "5988f1a8-20ab-4912-b0fb-bb57f4fda150",
   "metadata": {},
   "outputs": [
    {
     "data": {
      "text/plain": [
       "Text(0.5, 1.0, 'Bar chart to visualize the Gender for Smoker')"
      ]
     },
     "execution_count": 5,
     "metadata": {},
     "output_type": "execute_result"
    },
    {
     "data": {
      "image/png": "[encoded data removed]",
      "text/plain": [
       "<Figure size 432x288 with 1 Axes>"
      ]
     },
     "metadata": {
      "needs_background": "light"
     },
     "output_type": "display_data"
    }
   ],
   "source": [
    "sns.countplot(data=data,x=\"sex\",hue=\"smoker\")\n",
    "plt.title(\"Bar chart to visualize the Gender for Smoker\")"
   ]
  },
  {
   "cell_type": "code",
   "execution_count": 6,
   "id": "e1ff80d4-9a75-4435-9536-00fb620123c9",
   "metadata": {},
   "outputs": [
    {
     "data": {
      "text/plain": [
       "Text(0.5, 1.0, 'Bar chart to visualize the Children for Gender')"
      ]
     },
     "execution_count": 6,
     "metadata": {},
     "output_type": "execute_result"
    },
    {
     "data": {
      "image/png": "[encoded data removed]",
      "text/plain": [
       "<Figure size 432x288 with 1 Axes>"
      ]
     },
     "metadata": {
      "needs_background": "light"
     },
     "output_type": "display_data"
    }
   ],
   "source": [
    "sns.countplot(data=data,x=\"children\",hue=\"sex\")\n",
    "plt.title(\"Bar chart to visualize the Children for Gender\")"
   ]
  },
  {
   "cell_type": "code",
   "execution_count": 7,
   "id": "66a319ab-ac32-4944-abea-22b8dcd7d461",
   "metadata": {},
   "outputs": [
    {
     "data": {
      "text/plain": [
       "Text(0.5, 1.0, 'Bar chart to visualize the Region for Gender')"
      ]
     },
     "execution_count": 7,
     "metadata": {},
     "output_type": "execute_result"
    },
    {
     "data": {
      "image/png": "[encoded data removed]",
      "text/plain": [
       "<Figure size 432x288 with 1 Axes>"
      ]
     },
     "metadata": {
      "needs_background": "light"
     },
     "output_type": "display_data"
    }
   ],
   "source": [
    "sns.countplot(data=data,x=\"region\",hue=\"sex\")\n",
    "plt.title(\"Bar chart to visualize the Region for Gender\")"
   ]
  },
  {
   "cell_type": "code",
   "execution_count": 8,
   "id": "53ae3031-2658-4690-acb1-b6d650b0bb62",
   "metadata": {},
   "outputs": [
    {
     "data": {
      "text/plain": [
       "Text(0.5, 1.0, 'Bar chart to visualize the Region for Smoker')"
      ]
     },
     "execution_count": 8,
     "metadata": {},
     "output_type": "execute_result"
    },
    {
     "data": {
      "image/png": "[encoded data removed]",
      "text/plain": [
       "<Figure size 432x288 with 1 Axes>"
      ]
     },
     "metadata": {
      "needs_background": "light"
     },
     "output_type": "display_data"
    }
   ],
   "source": [
    "sns.countplot(data=data,x=\"region\",hue=\"smoker\")\n",
    "plt.title(\"Bar chart to visualize the Region for Smoker\")"
   ]
  },
  {
   "cell_type": "code",
   "execution_count": 9,
   "id": "d4647a89-1592-4dc3-83dd-cee6b1140417",
   "metadata": {},
   "outputs": [
    {
     "data": {
      "text/plain": [
       "array([[<AxesSubplot:title={'center':'age'}>,\n",
       "        <AxesSubplot:title={'center':'bmi'}>],\n",
       "       [<AxesSubplot:title={'center':'children'}>,\n",
       "        <AxesSubplot:title={'center':'charges'}>]], dtype=object)"
      ]
     },
     "execution_count": 9,
     "metadata": {},
     "output_type": "execute_result"
    },
    {
     "data": {
      "image/png": "[encoded data removed]",
      "text/plain": [
       "<Figure size 720x576 with 4 Axes>"
      ]
     },
     "metadata": {
      "needs_background": "light"
     },
     "output_type": "display_data"
    }
   ],
   "source": [
    "data.hist(figsize=(10,8),bins=40)"
   ]
  },
  {
   "cell_type": "code",
   "execution_count": 10,
   "id": "c22f5f2a-50cc-4c84-8074-5397d32a3a40",
   "metadata": {},
   "outputs": [
    {
     "data": {
      "text/plain": [
       "<AxesSubplot:>"
      ]
     },
     "execution_count": 10,
     "metadata": {},
     "output_type": "execute_result"
    },
    {
     "data": {
      "image/png": "[encoded data removed]",
      "text/plain": [
       "<Figure size 720x504 with 2 Axes>"
      ]
     },
     "metadata": {
      "needs_background": "light"
     },
     "output_type": "display_data"
    }
   ],
   "source": [
    "plt.figure(figsize=(10,7))\n",
    "sns.heatmap(data.corr(),annot=True)"
   ]
  },
  {
   "cell_type": "markdown",
   "id": "aeeb4a89-aec5-4134-a50e-895bb416d939",
   "metadata": {},
   "source": [
    "# Preprocessing"
   ]
  },
  {
   "cell_type": "markdown",
   "id": "061964e6-3216-42bf-ad93-ec3500e0cf2f",
   "metadata": {},
   "source": [
    "## Convert Categorical to numerical\n",
    "### LabelEncoder"
   ]
  },
  {
   "cell_type": "code",
   "execution_count": 11,
   "id": "50a8625e-fa77-4354-87c7-d4834ef10625",
   "metadata": {},
   "outputs": [],
   "source": [
    "LE = LabelEncoder()\n",
    "data[\"sex\"] = LE.fit_transform(data[\"sex\"])\n",
    "data[\"smoker\"] = LE.fit_transform(data[\"smoker\"])\n",
    "data[\"region\"] = LE.fit_transform(data[\"region\"])"
   ]
  },
  {
   "cell_type": "code",
   "execution_count": 12,
   "id": "b90ae065-38d6-4675-a94d-e75fd01aee36",
   "metadata": {},
   "outputs": [
    {
     "data": {
      "text/html": [
       "<div>\n",
       "<style scoped>\n",
       "    .dataframe tbody tr th:only-of-type {\n",
       "        vertical-align: middle;\n",
       "    }\n",
       "\n",
       "    .dataframe tbody tr th {\n",
       "        vertical-align: top;\n",
       "    }\n",
       "\n",
       "    .dataframe thead th {\n",
       "        text-align: right;\n",
       "    }\n",
       "</style>\n",
       "<table border=\"1\" class=\"dataframe\">\n",
       "  <thead>\n",
       "    <tr style=\"text-align: right;\">\n",
       "      <th></th>\n",
       "      <th>age</th>\n",
       "      <th>sex</th>\n",
       "      <th>bmi</th>\n",
       "      <th>children</th>\n",
       "      <th>smoker</th>\n",
       "      <th>region</th>\n",
       "      <th>charges</th>\n",
       "    </tr>\n",
       "  </thead>\n",
       "  <tbody>\n",
       "    <tr>\n",
       "      <th>0</th>\n",
       "      <td>19</td>\n",
       "      <td>0</td>\n",
       "      <td>27.900</td>\n",
       "      <td>0</td>\n",
       "      <td>1</td>\n",
       "      <td>3</td>\n",
       "      <td>16884.92400</td>\n",
       "    </tr>\n",
       "    <tr>\n",
       "      <th>1</th>\n",
       "      <td>18</td>\n",
       "      <td>1</td>\n",
       "      <td>33.770</td>\n",
       "      <td>1</td>\n",
       "      <td>0</td>\n",
       "      <td>2</td>\n",
       "      <td>1725.55230</td>\n",
       "    </tr>\n",
       "    <tr>\n",
       "      <th>2</th>\n",
       "      <td>28</td>\n",
       "      <td>1</td>\n",
       "      <td>33.000</td>\n",
       "      <td>3</td>\n",
       "      <td>0</td>\n",
       "      <td>2</td>\n",
       "      <td>4449.46200</td>\n",
       "    </tr>\n",
       "    <tr>\n",
       "      <th>3</th>\n",
       "      <td>33</td>\n",
       "      <td>1</td>\n",
       "      <td>22.705</td>\n",
       "      <td>0</td>\n",
       "      <td>0</td>\n",
       "      <td>1</td>\n",
       "      <td>21984.47061</td>\n",
       "    </tr>\n",
       "    <tr>\n",
       "      <th>4</th>\n",
       "      <td>32</td>\n",
       "      <td>1</td>\n",
       "      <td>28.880</td>\n",
       "      <td>0</td>\n",
       "      <td>0</td>\n",
       "      <td>1</td>\n",
       "      <td>3866.85520</td>\n",
       "    </tr>\n",
       "  </tbody>\n",
       "</table>\n",
       "</div>"
      ],
      "text/plain": [
       "   age  sex     bmi  children  smoker  region      charges\n",
       "0   19    0  27.900         0       1       3  16884.92400\n",
       "1   18    1  33.770         1       0       2   1725.55230\n",
       "2   28    1  33.000         3       0       2   4449.46200\n",
       "3   33    1  22.705         0       0       1  21984.47061\n",
       "4   32    1  28.880         0       0       1   3866.85520"
      ]
     },
     "execution_count": 12,
     "metadata": {},
     "output_type": "execute_result"
    }
   ],
   "source": [
    "data.head()"
   ]
  },
  {
   "cell_type": "code",
   "execution_count": 13,
   "id": "82b31efd-f0ac-4baa-b95f-1e2c090c5396",
   "metadata": {},
   "outputs": [],
   "source": [
    "X = data.drop([\"charges\"],axis=1).values\n",
    "Y = data.charges.values"
   ]
  },
  {
   "cell_type": "code",
   "execution_count": 14,
   "id": "f9cfff15-69e7-4528-9703-cd2e3dcd10f1",
   "metadata": {},
   "outputs": [],
   "source": [
    "SS = StandardScaler()\n",
    "X = SS.fit_transform(X)"
   ]
  },
  {
   "cell_type": "code",
   "execution_count": 15,
   "id": "7513002b-f214-49e6-8a6f-c04c34b04b85",
   "metadata": {
    "tags": []
   },
   "outputs": [],
   "source": [
    "x_train , x_test , y_train , y_test = train_test_split(X,Y,test_size=0.2,random_state=13)"
   ]
  },
  {
   "cell_type": "markdown",
   "id": "db60812e-55e4-43f1-bd8b-f03a47e5805a",
   "metadata": {},
   "source": [
    "# Model"
   ]
  },
  {
   "cell_type": "markdown",
   "id": "4b04fc9f-df82-461b-8129-30628f05bc6d",
   "metadata": {},
   "source": [
    "### LinearRegression"
   ]
  },
  {
   "cell_type": "code",
   "execution_count": 16,
   "id": "8b4cebac-fdff-42cc-ae82-b90a074857f3",
   "metadata": {},
   "outputs": [],
   "source": [
    "LR = LinearRegression()\n",
    "LR.fit(x_train,y_train)\n",
    "predict_lr = LR.predict(x_test)"
   ]
  },
  {
   "cell_type": "code",
   "execution_count": 17,
   "id": "3fcfa72e-b98f-4b9e-8360-d5c9a0c1946c",
   "metadata": {},
   "outputs": [
    {
     "data": {
      "text/plain": [
       "3804.7551761642285"
      ]
     },
     "execution_count": 17,
     "metadata": {},
     "output_type": "execute_result"
    }
   ],
   "source": [
    "metrics.mean_absolute_error(y_test,predict_lr)"
   ]
  },
  {
   "cell_type": "markdown",
   "id": "b15ccc3f-d173-421c-be0a-b1327cc580f3",
   "metadata": {},
   "source": [
    "### RandomForestRegressor"
   ]
  },
  {
   "cell_type": "code",
   "execution_count": 18,
   "id": "07be6474-ff4f-4dcc-8183-47262e30891d",
   "metadata": {},
   "outputs": [],
   "source": [
    "RF = RandomForestRegressor(n_estimators=90,n_jobs=-1,random_state=2)\n",
    "RF.fit(x_train,y_train)\n",
    "predict_rf = RF.predict(x_test)"
   ]
  },
  {
   "cell_type": "code",
   "execution_count": 19,
   "id": "c24ec1fa-8732-4e1c-a69b-f4649ce9ae36",
   "metadata": {},
   "outputs": [
    {
     "data": {
      "text/plain": [
       "2052.1367470734103"
      ]
     },
     "execution_count": 19,
     "metadata": {},
     "output_type": "execute_result"
    }
   ],
   "source": [
    "metrics.mean_absolute_error(y_test,predict_rf)"
   ]
  },
  {
   "cell_type": "markdown",
   "id": "d679944f-9a45-4ba0-abcb-81bf595d7851",
   "metadata": {},
   "source": [
    "### GBoostingRegressor"
   ]
  },
  {
   "cell_type": "code",
   "execution_count": 20,
   "id": "5beceadb-6d98-4525-acb1-03de63696d04",
   "metadata": {},
   "outputs": [],
   "source": [
    "Gboost = GradientBoostingRegressor(n_estimators=90,learning_rate=0.14,random_state=0)\n",
    "Gboost.fit(x_train,y_train)\n",
    "predict_gb = Gboost.predict(x_test)"
   ]
  },
  {
   "cell_type": "code",
   "execution_count": 21,
   "id": "b5990525-c6cc-4e54-b80e-59ca7d5d858d",
   "metadata": {
    "tags": []
   },
   "outputs": [
    {
     "data": {
      "text/plain": [
       "1928.6168199529452"
      ]
     },
     "execution_count": 21,
     "metadata": {},
     "output_type": "execute_result"
    }
   ],
   "source": [
    "metrics.mean_absolute_error(y_test,predict_gb)"
   ]
  },
  {
   "cell_type": "markdown",
   "id": "7158fccd-b27f-480d-9275-2154ca325bf5",
   "metadata": {},
   "source": [
    "### XGboostRegressor"
   ]
  },
  {
   "cell_type": "code",
   "execution_count": 22,
   "id": "c0a1ba87-1956-48e6-98f1-dc840159becc",
   "metadata": {},
   "outputs": [],
   "source": [
    "XGboost = XGBRFRegressor(learning_rate=0.95)\n",
    "XGboost.fit(x_train,y_train)\n",
    "predict_xb = XGboost.predict(x_test)"
   ]
  },
  {
   "cell_type": "code",
   "execution_count": 23,
   "id": "a178c7fe-a906-4567-9b02-37968654348a",
   "metadata": {
    "tags": []
   },
   "outputs": [
    {
     "data": {
      "text/plain": [
       "1791.840623254431"
      ]
     },
     "execution_count": 23,
     "metadata": {},
     "output_type": "execute_result"
    }
   ],
   "source": [
    "metrics.mean_absolute_error(y_test,predict_xb)"
   ]
  },
  {
   "cell_type": "markdown",
   "id": "1c161f47-d90d-4d2c-9ab3-71ea0013621f",
   "metadata": {},
   "source": [
    "### CatBoostRegressor"
   ]
  },
  {
   "cell_type": "code",
   "execution_count": 24,
   "id": "49554798-8b9d-43c0-a6ff-ba6b4f0a2f48",
   "metadata": {},
   "outputs": [
    {
     "name": "stdout",
     "output_type": "stream",
     "text": [
      "0:\tlearn: 7857.8757009\ttest: 7781.2509328\tbest: 7781.2509328 (0)\ttotal: 12.7ms\tremaining: 6.35s\n",
      "1:\tlearn: 6753.7570093\ttest: 6559.6809701\tbest: 6559.6809701 (1)\ttotal: 28.7ms\tremaining: 7.13s\n",
      "2:\tlearn: 5885.0612150\ttest: 5620.6119403\tbest: 5620.6119403 (2)\ttotal: 41.2ms\tremaining: 6.83s\n",
      "3:\tlearn: 5212.1415888\ttest: 4881.8871269\tbest: 4881.8871269 (3)\ttotal: 55.7ms\tremaining: 6.91s\n",
      "4:\tlearn: 4666.3593458\ttest: 4270.4617537\tbest: 4270.4617537 (4)\ttotal: 72.7ms\tremaining: 7.2s\n",
      "5:\tlearn: 4246.0387850\ttest: 3792.0247201\tbest: 3792.0247201 (5)\ttotal: 87.1ms\tremaining: 7.17s\n",
      "6:\tlearn: 3862.7280374\ttest: 3360.4239739\tbest: 3360.4239739 (6)\ttotal: 104ms\tremaining: 7.31s\n",
      "7:\tlearn: 3584.5481308\ttest: 3063.4792444\tbest: 3063.4792444 (7)\ttotal: 116ms\tremaining: 7.13s\n",
      "8:\tlearn: 3361.6754673\ttest: 2801.2458022\tbest: 2801.2458022 (8)\ttotal: 132ms\tremaining: 7.18s\n",
      "9:\tlearn: 3203.7163551\ttest: 2616.4764459\tbest: 2616.4764459 (9)\ttotal: 144ms\tremaining: 7.04s\n",
      "10:\tlearn: 3115.1495327\ttest: 2513.2224813\tbest: 2513.2224813 (10)\ttotal: 154ms\tremaining: 6.87s\n",
      "11:\tlearn: 3028.3677570\ttest: 2407.4808769\tbest: 2407.4808769 (11)\ttotal: 166ms\tremaining: 6.77s\n",
      "12:\tlearn: 2968.4983645\ttest: 2324.7378731\tbest: 2324.7378731 (12)\ttotal: 178ms\tremaining: 6.69s\n",
      "13:\tlearn: 2919.3142523\ttest: 2267.7264459\tbest: 2267.7264459 (13)\ttotal: 194ms\tremaining: 6.74s\n",
      "14:\tlearn: 2858.4056075\ttest: 2180.1798041\tbest: 2180.1798041 (14)\ttotal: 212ms\tremaining: 6.86s\n",
      "15:\tlearn: 2827.7957944\ttest: 2130.6301306\tbest: 2130.6301306 (15)\ttotal: 230ms\tremaining: 6.95s\n",
      "16:\tlearn: 2796.3871495\ttest: 2099.5443097\tbest: 2099.5443097 (16)\ttotal: 248ms\tremaining: 7.04s\n",
      "17:\tlearn: 2786.7717290\ttest: 2072.7975746\tbest: 2072.7975746 (17)\ttotal: 263ms\tremaining: 7.04s\n",
      "18:\tlearn: 2743.8067757\ttest: 2026.5265858\tbest: 2026.5265858 (18)\ttotal: 275ms\tremaining: 6.96s\n",
      "19:\tlearn: 2732.3913551\ttest: 2010.4279384\tbest: 2010.4279384 (19)\ttotal: 287ms\tremaining: 6.89s\n",
      "20:\tlearn: 2717.2371495\ttest: 1990.9771455\tbest: 1990.9771455 (20)\ttotal: 299ms\tremaining: 6.82s\n",
      "21:\tlearn: 2701.4441589\ttest: 1976.3194963\tbest: 1976.3194963 (21)\ttotal: 312ms\tremaining: 6.79s\n",
      "22:\tlearn: 2686.2408879\ttest: 1950.9653685\tbest: 1950.9653685 (22)\ttotal: 325ms\tremaining: 6.73s\n",
      "23:\tlearn: 2676.9831776\ttest: 1938.7192164\tbest: 1938.7192164 (23)\ttotal: 340ms\tremaining: 6.75s\n",
      "24:\tlearn: 2665.1626168\ttest: 1911.9484608\tbest: 1911.9484608 (24)\ttotal: 352ms\tremaining: 6.69s\n",
      "25:\tlearn: 2662.2661215\ttest: 1911.5184235\tbest: 1911.5184235 (25)\ttotal: 364ms\tremaining: 6.64s\n",
      "26:\tlearn: 2651.2170561\ttest: 1898.3563433\tbest: 1898.3563433 (26)\ttotal: 375ms\tremaining: 6.57s\n",
      "27:\tlearn: 2649.2913551\ttest: 1898.7555970\tbest: 1898.3563433 (26)\ttotal: 387ms\tremaining: 6.53s\n",
      "28:\tlearn: 2631.9528037\ttest: 1876.8877099\tbest: 1876.8877099 (28)\ttotal: 409ms\tremaining: 6.64s\n",
      "29:\tlearn: 2610.9037383\ttest: 1870.5897854\tbest: 1870.5897854 (29)\ttotal: 427ms\tremaining: 6.68s\n",
      "30:\tlearn: 2608.7885514\ttest: 1872.1114739\tbest: 1870.5897854 (29)\ttotal: 441ms\tremaining: 6.67s\n",
      "31:\tlearn: 2606.4053738\ttest: 1870.5677472\tbest: 1870.5677472 (31)\ttotal: 458ms\tremaining: 6.7s\n",
      "32:\tlearn: 2591.1789720\ttest: 1861.2119869\tbest: 1861.2119869 (32)\ttotal: 472ms\tremaining: 6.68s\n",
      "33:\tlearn: 2591.8072430\ttest: 1862.6763060\tbest: 1861.2119869 (32)\ttotal: 483ms\tremaining: 6.62s\n",
      "34:\tlearn: 2592.7074766\ttest: 1862.6389925\tbest: 1861.2119869 (32)\ttotal: 495ms\tremaining: 6.57s\n",
      "35:\tlearn: 2591.8100467\ttest: 1863.6899487\tbest: 1861.2119869 (32)\ttotal: 508ms\tremaining: 6.55s\n",
      "36:\tlearn: 2580.3102804\ttest: 1863.1471549\tbest: 1861.2119869 (32)\ttotal: 529ms\tremaining: 6.62s\n",
      "37:\tlearn: 2578.8252336\ttest: 1863.3013060\tbest: 1861.2119869 (32)\ttotal: 547ms\tremaining: 6.65s\n",
      "38:\tlearn: 2575.8462617\ttest: 1862.8816465\tbest: 1861.2119869 (32)\ttotal: 558ms\tremaining: 6.59s\n",
      "39:\tlearn: 2576.2301402\ttest: 1865.7150187\tbest: 1861.2119869 (32)\ttotal: 570ms\tremaining: 6.55s\n",
      "40:\tlearn: 2572.7871495\ttest: 1858.5652985\tbest: 1858.5652985 (40)\ttotal: 583ms\tremaining: 6.53s\n",
      "41:\tlearn: 2571.8000000\ttest: 1859.3943563\tbest: 1858.5652985 (40)\ttotal: 597ms\tremaining: 6.5s\n",
      "42:\tlearn: 2570.8525701\ttest: 1858.5108442\tbest: 1858.5108442 (42)\ttotal: 613ms\tremaining: 6.52s\n",
      "43:\tlearn: 2567.5845794\ttest: 1861.6324627\tbest: 1858.5108442 (42)\ttotal: 633ms\tremaining: 6.56s\n",
      "44:\tlearn: 2562.9740654\ttest: 1859.1485541\tbest: 1858.5108442 (42)\ttotal: 652ms\tremaining: 6.59s\n",
      "45:\tlearn: 2562.4817757\ttest: 1856.4514925\tbest: 1856.4514925 (45)\ttotal: 669ms\tremaining: 6.61s\n",
      "46:\tlearn: 2547.6616822\ttest: 1841.6533349\tbest: 1841.6533349 (46)\ttotal: 687ms\tremaining: 6.62s\n",
      "47:\tlearn: 2541.7822430\ttest: 1847.2523321\tbest: 1841.6533349 (46)\ttotal: 704ms\tremaining: 6.63s\n",
      "48:\tlearn: 2521.2193925\ttest: 1864.7283116\tbest: 1841.6533349 (46)\ttotal: 721ms\tremaining: 6.64s\n",
      "49:\tlearn: 2521.1642523\ttest: 1865.6975280\tbest: 1841.6533349 (46)\ttotal: 738ms\tremaining: 6.64s\n",
      "50:\tlearn: 2521.6649533\ttest: 1868.0153918\tbest: 1841.6533349 (46)\ttotal: 753ms\tremaining: 6.63s\n",
      "51:\tlearn: 2519.9591121\ttest: 1868.2037080\tbest: 1841.6533349 (46)\ttotal: 764ms\tremaining: 6.58s\n",
      "52:\tlearn: 2520.3240654\ttest: 1868.7180504\tbest: 1841.6533349 (46)\ttotal: 774ms\tremaining: 6.53s\n",
      "53:\tlearn: 2520.6135514\ttest: 1869.1261660\tbest: 1841.6533349 (46)\ttotal: 784ms\tremaining: 6.48s\n",
      "54:\tlearn: 2520.9824766\ttest: 1869.6170709\tbest: 1841.6533349 (46)\ttotal: 796ms\tremaining: 6.44s\n",
      "55:\tlearn: 2521.4009346\ttest: 1870.8628731\tbest: 1841.6533349 (46)\ttotal: 814ms\tremaining: 6.46s\n",
      "56:\tlearn: 2519.4313084\ttest: 1869.0956157\tbest: 1841.6533349 (46)\ttotal: 830ms\tremaining: 6.45s\n",
      "57:\tlearn: 2512.9537383\ttest: 1866.1851679\tbest: 1841.6533349 (46)\ttotal: 849ms\tremaining: 6.47s\n",
      "58:\tlearn: 2501.1095794\ttest: 1848.8544776\tbest: 1841.6533349 (46)\ttotal: 866ms\tremaining: 6.47s\n",
      "59:\tlearn: 2497.0630841\ttest: 1848.9386660\tbest: 1841.6533349 (46)\ttotal: 883ms\tremaining: 6.47s\n",
      "60:\tlearn: 2497.1021028\ttest: 1850.2108209\tbest: 1841.6533349 (46)\ttotal: 897ms\tremaining: 6.46s\n",
      "61:\tlearn: 2497.1460280\ttest: 1850.2971082\tbest: 1841.6533349 (46)\ttotal: 907ms\tremaining: 6.41s\n",
      "62:\tlearn: 2497.4329439\ttest: 1851.3607743\tbest: 1841.6533349 (46)\ttotal: 923ms\tremaining: 6.4s\n",
      "63:\tlearn: 2495.6495327\ttest: 1853.0866371\tbest: 1841.6533349 (46)\ttotal: 938ms\tremaining: 6.39s\n",
      "64:\tlearn: 2483.6324766\ttest: 1849.6851679\tbest: 1841.6533349 (46)\ttotal: 955ms\tremaining: 6.39s\n",
      "65:\tlearn: 2484.0207944\ttest: 1850.1939132\tbest: 1841.6533349 (46)\ttotal: 965ms\tremaining: 6.34s\n",
      "66:\tlearn: 2481.9254673\ttest: 1846.8688200\tbest: 1841.6533349 (46)\ttotal: 976ms\tremaining: 6.31s\n",
      "67:\tlearn: 2479.0343458\ttest: 1845.0240205\tbest: 1841.6533349 (46)\ttotal: 997ms\tremaining: 6.34s\n",
      "68:\tlearn: 2478.5612150\ttest: 1844.7828825\tbest: 1841.6533349 (46)\ttotal: 1.01s\tremaining: 6.29s\n",
      "69:\tlearn: 2478.4974299\ttest: 1844.7961754\tbest: 1841.6533349 (46)\ttotal: 1.02s\tremaining: 6.25s\n",
      "70:\tlearn: 2478.4471963\ttest: 1844.8099347\tbest: 1841.6533349 (46)\ttotal: 1.03s\tremaining: 6.21s\n",
      "71:\tlearn: 2478.4107477\ttest: 1844.8221782\tbest: 1841.6533349 (46)\ttotal: 1.04s\tremaining: 6.18s\n",
      "72:\tlearn: 2478.2721963\ttest: 1844.1187034\tbest: 1841.6533349 (46)\ttotal: 1.05s\tremaining: 6.15s\n",
      "73:\tlearn: 2478.4677570\ttest: 1847.9953358\tbest: 1841.6533349 (46)\ttotal: 1.07s\tremaining: 6.14s\n",
      "74:\tlearn: 2474.6556075\ttest: 1851.1877332\tbest: 1841.6533349 (46)\ttotal: 1.08s\tremaining: 6.14s\n",
      "75:\tlearn: 2472.6985981\ttest: 1851.1739739\tbest: 1841.6533349 (46)\ttotal: 1.1s\tremaining: 6.14s\n",
      "76:\tlearn: 2473.0901869\ttest: 1853.9291045\tbest: 1841.6533349 (46)\ttotal: 1.12s\tremaining: 6.14s\n",
      "77:\tlearn: 2472.7357477\ttest: 1852.9654851\tbest: 1841.6533349 (46)\ttotal: 1.13s\tremaining: 6.12s\n",
      "78:\tlearn: 2472.4717290\ttest: 1852.2047575\tbest: 1841.6533349 (46)\ttotal: 1.14s\tremaining: 6.1s\n",
      "79:\tlearn: 2462.4306075\ttest: 1855.9252565\tbest: 1841.6533349 (46)\ttotal: 1.16s\tremaining: 6.1s\n",
      "80:\tlearn: 2462.3385514\ttest: 1855.4916045\tbest: 1841.6533349 (46)\ttotal: 1.17s\tremaining: 6.08s\n",
      "81:\tlearn: 2447.0193925\ttest: 1859.9344683\tbest: 1841.6533349 (46)\ttotal: 1.19s\tremaining: 6.08s\n",
      "82:\tlearn: 2447.6927570\ttest: 1861.7625933\tbest: 1841.6533349 (46)\ttotal: 1.21s\tremaining: 6.06s\n",
      "83:\tlearn: 2447.9088785\ttest: 1862.2945429\tbest: 1841.6533349 (46)\ttotal: 1.22s\tremaining: 6.06s\n",
      "84:\tlearn: 2447.1308411\ttest: 1865.7094216\tbest: 1841.6533349 (46)\ttotal: 1.24s\tremaining: 6.06s\n",
      "85:\tlearn: 2447.2207944\ttest: 1866.0405784\tbest: 1841.6533349 (46)\ttotal: 1.26s\tremaining: 6.06s\n",
      "86:\tlearn: 2442.6735981\ttest: 1865.2840485\tbest: 1841.6533349 (46)\ttotal: 1.27s\tremaining: 6.05s\n",
      "87:\tlearn: 2429.9411215\ttest: 1873.1068097\tbest: 1841.6533349 (46)\ttotal: 1.29s\tremaining: 6.05s\n",
      "88:\tlearn: 2431.0114486\ttest: 1875.2294776\tbest: 1841.6533349 (46)\ttotal: 1.31s\tremaining: 6.04s\n",
      "89:\tlearn: 2431.4177570\ttest: 1875.8938899\tbest: 1841.6533349 (46)\ttotal: 1.33s\tremaining: 6.04s\n",
      "90:\tlearn: 2429.9771028\ttest: 1875.2945429\tbest: 1841.6533349 (46)\ttotal: 1.34s\tremaining: 6.01s\n",
      "91:\tlearn: 2425.9735981\ttest: 1882.0090951\tbest: 1841.6533349 (46)\ttotal: 1.35s\tremaining: 6.01s\n",
      "92:\tlearn: 2425.4051402\ttest: 1881.3558769\tbest: 1841.6533349 (46)\ttotal: 1.37s\tremaining: 5.99s\n",
      "93:\tlearn: 2424.8196262\ttest: 1882.0545709\tbest: 1841.6533349 (46)\ttotal: 1.39s\tremaining: 5.99s\n",
      "94:\tlearn: 2424.8969626\ttest: 1882.4666511\tbest: 1841.6533349 (46)\ttotal: 1.4s\tremaining: 5.98s\n",
      "95:\tlearn: 2422.5852804\ttest: 1883.5890858\tbest: 1841.6533349 (46)\ttotal: 1.42s\tremaining: 5.97s\n",
      "96:\tlearn: 2423.1128505\ttest: 1883.8843284\tbest: 1841.6533349 (46)\ttotal: 1.44s\tremaining: 5.97s\n",
      "97:\tlearn: 2423.3014019\ttest: 1883.7040578\tbest: 1841.6533349 (46)\ttotal: 1.45s\tremaining: 5.96s\n",
      "98:\tlearn: 2424.4413551\ttest: 1883.5445429\tbest: 1841.6533349 (46)\ttotal: 1.47s\tremaining: 5.96s\n",
      "99:\tlearn: 2421.8406542\ttest: 1890.6842351\tbest: 1841.6533349 (46)\ttotal: 1.49s\tremaining: 5.96s\n",
      "100:\tlearn: 2421.6254673\ttest: 1891.4398321\tbest: 1841.6533349 (46)\ttotal: 1.51s\tremaining: 5.95s\n",
      "101:\tlearn: 2422.2327103\ttest: 1891.3828125\tbest: 1841.6533349 (46)\ttotal: 1.52s\tremaining: 5.92s\n",
      "102:\tlearn: 2423.5829439\ttest: 1892.5824394\tbest: 1841.6533349 (46)\ttotal: 1.53s\tremaining: 5.91s\n",
      "103:\tlearn: 2423.4962617\ttest: 1892.6256996\tbest: 1841.6533349 (46)\ttotal: 1.54s\tremaining: 5.88s\n",
      "104:\tlearn: 2421.9030374\ttest: 1886.2045243\tbest: 1841.6533349 (46)\ttotal: 1.56s\tremaining: 5.87s\n",
      "105:\tlearn: 2422.9406542\ttest: 1887.7255131\tbest: 1841.6533349 (46)\ttotal: 1.57s\tremaining: 5.84s\n",
      "106:\tlearn: 2422.9848131\ttest: 1888.2389226\tbest: 1841.6533349 (46)\ttotal: 1.59s\tremaining: 5.83s\n",
      "107:\tlearn: 2420.4457944\ttest: 1880.6101912\tbest: 1841.6533349 (46)\ttotal: 1.61s\tremaining: 5.83s\n",
      "108:\tlearn: 2421.0406542\ttest: 1880.9282882\tbest: 1841.6533349 (46)\ttotal: 1.62s\tremaining: 5.81s\n",
      "109:\tlearn: 2421.2007009\ttest: 1881.2873134\tbest: 1841.6533349 (46)\ttotal: 1.64s\tremaining: 5.8s\n",
      "110:\tlearn: 2421.3334112\ttest: 1881.5789412\tbest: 1841.6533349 (46)\ttotal: 1.65s\tremaining: 5.79s\n",
      "111:\tlearn: 2421.5137850\ttest: 1881.7894123\tbest: 1841.6533349 (46)\ttotal: 1.66s\tremaining: 5.76s\n",
      "112:\tlearn: 2421.5390187\ttest: 1881.9675840\tbest: 1841.6533349 (46)\ttotal: 1.68s\tremaining: 5.74s\n",
      "113:\tlearn: 2421.9621495\ttest: 1882.0996968\tbest: 1841.6533349 (46)\ttotal: 1.69s\tremaining: 5.71s\n",
      "114:\tlearn: 2422.3476636\ttest: 1882.2446362\tbest: 1841.6533349 (46)\ttotal: 1.7s\tremaining: 5.69s\n",
      "115:\tlearn: 2422.3983645\ttest: 1882.3526119\tbest: 1841.6533349 (46)\ttotal: 1.71s\tremaining: 5.67s\n",
      "116:\tlearn: 2420.7168224\ttest: 1882.0630830\tbest: 1841.6533349 (46)\ttotal: 1.73s\tremaining: 5.65s\n",
      "117:\tlearn: 2420.2432243\ttest: 1879.8950560\tbest: 1841.6533349 (46)\ttotal: 1.74s\tremaining: 5.63s\n",
      "118:\tlearn: 2420.3186916\ttest: 1880.1824860\tbest: 1841.6533349 (46)\ttotal: 1.75s\tremaining: 5.59s\n",
      "119:\tlearn: 2420.1035047\ttest: 1880.1864506\tbest: 1841.6533349 (46)\ttotal: 1.76s\tremaining: 5.57s\n",
      "120:\tlearn: 2419.7939252\ttest: 1885.1801539\tbest: 1841.6533349 (46)\ttotal: 1.77s\tremaining: 5.55s\n",
      "121:\tlearn: 2418.5766355\ttest: 1891.7941931\tbest: 1841.6533349 (46)\ttotal: 1.79s\tremaining: 5.55s\n",
      "122:\tlearn: 2418.4109813\ttest: 1891.8787313\tbest: 1841.6533349 (46)\ttotal: 1.8s\tremaining: 5.53s\n",
      "123:\tlearn: 2418.7240654\ttest: 1892.1396922\tbest: 1841.6533349 (46)\ttotal: 1.81s\tremaining: 5.5s\n",
      "124:\tlearn: 2418.5976636\ttest: 1892.1861007\tbest: 1841.6533349 (46)\ttotal: 1.83s\tremaining: 5.49s\n",
      "125:\tlearn: 2418.7028037\ttest: 1892.5707789\tbest: 1841.6533349 (46)\ttotal: 1.84s\tremaining: 5.47s\n",
      "126:\tlearn: 2418.5425234\ttest: 1892.5461754\tbest: 1841.6533349 (46)\ttotal: 1.85s\tremaining: 5.44s\n",
      "127:\tlearn: 2418.4112150\ttest: 1892.5283349\tbest: 1841.6533349 (46)\ttotal: 1.86s\tremaining: 5.42s\n",
      "128:\tlearn: 2418.3448598\ttest: 1892.5715951\tbest: 1841.6533349 (46)\ttotal: 1.88s\tremaining: 5.39s\n",
      "129:\tlearn: 2418.2581776\ttest: 1892.5529384\tbest: 1841.6533349 (46)\ttotal: 1.89s\tremaining: 5.37s\n",
      "130:\tlearn: 2418.1892523\ttest: 1892.5389459\tbest: 1841.6533349 (46)\ttotal: 1.9s\tremaining: 5.35s\n",
      "131:\tlearn: 2418.1345794\ttest: 1892.5284515\tbest: 1841.6533349 (46)\ttotal: 1.91s\tremaining: 5.33s\n",
      "132:\tlearn: 2417.8850467\ttest: 1891.8336054\tbest: 1841.6533349 (46)\ttotal: 1.92s\tremaining: 5.3s\n",
      "133:\tlearn: 2418.2217290\ttest: 1892.1452892\tbest: 1841.6533349 (46)\ttotal: 1.93s\tremaining: 5.28s\n",
      "134:\tlearn: 2416.5250000\ttest: 1889.8712687\tbest: 1841.6533349 (46)\ttotal: 1.95s\tremaining: 5.27s\n",
      "135:\tlearn: 2415.9095794\ttest: 1889.7438200\tbest: 1841.6533349 (46)\ttotal: 1.96s\tremaining: 5.26s\n",
      "136:\tlearn: 2416.3565421\ttest: 1889.7747201\tbest: 1841.6533349 (46)\ttotal: 1.98s\tremaining: 5.24s\n",
      "137:\tlearn: 2415.4700935\ttest: 1890.5511894\tbest: 1841.6533349 (46)\ttotal: 2s\tremaining: 5.24s\n",
      "138:\tlearn: 2415.5478972\ttest: 1890.6519356\tbest: 1841.6533349 (46)\ttotal: 2.01s\tremaining: 5.22s\n",
      "139:\tlearn: 2404.7184579\ttest: 1886.0457090\tbest: 1841.6533349 (46)\ttotal: 2.03s\tremaining: 5.22s\n",
      "140:\tlearn: 2404.7707944\ttest: 1885.9244403\tbest: 1841.6533349 (46)\ttotal: 2.04s\tremaining: 5.2s\n",
      "141:\tlearn: 2404.9296729\ttest: 1886.1181203\tbest: 1841.6533349 (46)\ttotal: 2.05s\tremaining: 5.18s\n",
      "142:\tlearn: 2404.9058411\ttest: 1885.8150653\tbest: 1841.6533349 (46)\ttotal: 2.07s\tremaining: 5.16s\n",
      "143:\tlearn: 2404.6310748\ttest: 1885.6690765\tbest: 1841.6533349 (46)\ttotal: 2.08s\tremaining: 5.14s\n",
      "144:\tlearn: 2404.7362150\ttest: 1885.7819496\tbest: 1841.6533349 (46)\ttotal: 2.09s\tremaining: 5.12s\n",
      "145:\tlearn: 2404.6967290\ttest: 1885.6750233\tbest: 1841.6533349 (46)\ttotal: 2.1s\tremaining: 5.09s\n",
      "146:\tlearn: 2404.7598131\ttest: 1885.7445196\tbest: 1841.6533349 (46)\ttotal: 2.11s\tremaining: 5.07s\n",
      "147:\tlearn: 2404.8306075\ttest: 1885.7910448\tbest: 1841.6533349 (46)\ttotal: 2.12s\tremaining: 5.05s\n",
      "148:\tlearn: 2404.7738318\ttest: 1885.6826026\tbest: 1841.6533349 (46)\ttotal: 2.14s\tremaining: 5.03s\n",
      "149:\tlearn: 2404.7133178\ttest: 1885.4702659\tbest: 1841.6533349 (46)\ttotal: 2.15s\tremaining: 5.01s\n",
      "150:\tlearn: 2404.7369159\ttest: 1885.4962687\tbest: 1841.6533349 (46)\ttotal: 2.16s\tremaining: 4.98s\n",
      "151:\tlearn: 2404.6841121\ttest: 1885.3214785\tbest: 1841.6533349 (46)\ttotal: 2.17s\tremaining: 4.96s\n",
      "152:\tlearn: 2404.6420561\ttest: 1885.1828358\tbest: 1841.6533349 (46)\ttotal: 2.18s\tremaining: 4.95s\n",
      "153:\tlearn: 2404.6651869\ttest: 1885.1890159\tbest: 1841.6533349 (46)\ttotal: 2.19s\tremaining: 4.93s\n",
      "154:\tlearn: 2404.6726636\ttest: 1885.1991604\tbest: 1841.6533349 (46)\ttotal: 2.21s\tremaining: 4.91s\n",
      "155:\tlearn: 2404.6675234\ttest: 1885.2157183\tbest: 1841.6533349 (46)\ttotal: 2.22s\tremaining: 4.89s\n",
      "156:\tlearn: 2404.4497664\ttest: 1884.8604244\tbest: 1841.6533349 (46)\ttotal: 2.23s\tremaining: 4.88s\n",
      "157:\tlearn: 2404.4182243\ttest: 1884.7784515\tbest: 1841.6533349 (46)\ttotal: 2.25s\tremaining: 4.86s\n",
      "158:\tlearn: 2404.3927570\ttest: 1884.7136194\tbest: 1841.6533349 (46)\ttotal: 2.25s\tremaining: 4.84s\n",
      "159:\tlearn: 2404.2745327\ttest: 1885.1389925\tbest: 1841.6533349 (46)\ttotal: 2.27s\tremaining: 4.82s\n",
      "160:\tlearn: 2394.9102804\ttest: 1896.9267724\tbest: 1841.6533349 (46)\ttotal: 2.29s\tremaining: 4.81s\n",
      "161:\tlearn: 2394.9172897\ttest: 1896.9633862\tbest: 1841.6533349 (46)\ttotal: 2.3s\tremaining: 4.79s\n",
      "162:\tlearn: 2394.8287383\ttest: 1896.6673274\tbest: 1841.6533349 (46)\ttotal: 2.31s\tremaining: 4.77s\n",
      "163:\tlearn: 2394.5383178\ttest: 1895.9166278\tbest: 1841.6533349 (46)\ttotal: 2.32s\tremaining: 4.75s\n",
      "164:\tlearn: 2394.1714953\ttest: 1895.8048041\tbest: 1841.6533349 (46)\ttotal: 2.33s\tremaining: 4.73s\n",
      "165:\tlearn: 2393.8876168\ttest: 1895.7193330\tbest: 1841.6533349 (46)\ttotal: 2.34s\tremaining: 4.72s\n",
      "166:\tlearn: 2394.0885514\ttest: 1895.5291511\tbest: 1841.6533349 (46)\ttotal: 2.35s\tremaining: 4.7s\n",
      "167:\tlearn: 2393.8095794\ttest: 1895.4814599\tbest: 1841.6533349 (46)\ttotal: 2.37s\tremaining: 4.68s\n",
      "168:\tlearn: 2393.4761682\ttest: 1898.1963619\tbest: 1841.6533349 (46)\ttotal: 2.39s\tremaining: 4.68s\n",
      "169:\tlearn: 2392.7792056\ttest: 1897.9579058\tbest: 1841.6533349 (46)\ttotal: 2.4s\tremaining: 4.67s\n",
      "170:\tlearn: 2392.6915888\ttest: 1897.8250933\tbest: 1841.6533349 (46)\ttotal: 2.41s\tremaining: 4.64s\n",
      "171:\tlearn: 2392.7345794\ttest: 1897.7244636\tbest: 1841.6533349 (46)\ttotal: 2.42s\tremaining: 4.62s\n",
      "172:\tlearn: 2392.6135514\ttest: 1897.4830924\tbest: 1841.6533349 (46)\ttotal: 2.44s\tremaining: 4.61s\n",
      "173:\tlearn: 2392.5700935\ttest: 1897.4159282\tbest: 1841.6533349 (46)\ttotal: 2.45s\tremaining: 4.59s\n",
      "174:\tlearn: 2393.2369159\ttest: 1900.5027985\tbest: 1841.6533349 (46)\ttotal: 2.46s\tremaining: 4.58s\n",
      "175:\tlearn: 2393.0621495\ttest: 1900.2028918\tbest: 1841.6533349 (46)\ttotal: 2.48s\tremaining: 4.56s\n",
      "176:\tlearn: 2393.0773364\ttest: 1900.2207323\tbest: 1841.6533349 (46)\ttotal: 2.49s\tremaining: 4.55s\n",
      "177:\tlearn: 2392.8806075\ttest: 1899.9061334\tbest: 1841.6533349 (46)\ttotal: 2.5s\tremaining: 4.53s\n",
      "178:\tlearn: 2392.7266355\ttest: 1899.6569496\tbest: 1841.6533349 (46)\ttotal: 2.51s\tremaining: 4.51s\n",
      "179:\tlearn: 2393.1462617\ttest: 1900.4725979\tbest: 1841.6533349 (46)\ttotal: 2.52s\tremaining: 4.49s\n",
      "180:\tlearn: 2385.8247664\ttest: 1889.7520989\tbest: 1841.6533349 (46)\ttotal: 2.54s\tremaining: 4.48s\n",
      "181:\tlearn: 2384.6317757\ttest: 1892.1819030\tbest: 1841.6533349 (46)\ttotal: 2.56s\tremaining: 4.47s\n",
      "182:\tlearn: 2384.6546729\ttest: 1892.1933302\tbest: 1841.6533349 (46)\ttotal: 2.57s\tremaining: 4.46s\n",
      "183:\tlearn: 2384.8878505\ttest: 1892.0712453\tbest: 1841.6533349 (46)\ttotal: 2.59s\tremaining: 4.44s\n",
      "184:\tlearn: 2385.1203271\ttest: 1891.9635028\tbest: 1841.6533349 (46)\ttotal: 2.6s\tremaining: 4.43s\n",
      "185:\tlearn: 2385.0941589\ttest: 1891.8388526\tbest: 1841.6533349 (46)\ttotal: 2.61s\tremaining: 4.41s\n",
      "186:\tlearn: 2385.0738318\ttest: 1891.8360541\tbest: 1841.6533349 (46)\ttotal: 2.62s\tremaining: 4.39s\n",
      "187:\tlearn: 2385.1067757\ttest: 1891.8404851\tbest: 1841.6533349 (46)\ttotal: 2.64s\tremaining: 4.37s\n",
      "188:\tlearn: 2385.1313084\ttest: 1891.6565998\tbest: 1841.6533349 (46)\ttotal: 2.65s\tremaining: 4.37s\n",
      "189:\tlearn: 2385.1058411\ttest: 1891.5621502\tbest: 1841.6533349 (46)\ttotal: 2.66s\tremaining: 4.34s\n",
      "190:\tlearn: 2385.1233645\ttest: 1891.4064832\tbest: 1841.6533349 (46)\ttotal: 2.68s\tremaining: 4.33s\n",
      "191:\tlearn: 2380.0628505\ttest: 1891.9288713\tbest: 1841.6533349 (46)\ttotal: 2.7s\tremaining: 4.33s\n",
      "192:\tlearn: 2377.5588785\ttest: 1885.7861474\tbest: 1841.6533349 (46)\ttotal: 2.71s\tremaining: 4.32s\n",
      "193:\tlearn: 2376.4100467\ttest: 1886.5762593\tbest: 1841.6533349 (46)\ttotal: 2.73s\tremaining: 4.31s\n",
      "194:\tlearn: 2376.3406542\ttest: 1886.8950560\tbest: 1841.6533349 (46)\ttotal: 2.75s\tremaining: 4.3s\n",
      "195:\tlearn: 2376.2214953\ttest: 1886.5752099\tbest: 1841.6533349 (46)\ttotal: 2.77s\tremaining: 4.29s\n",
      "196:\tlearn: 2376.0378505\ttest: 1886.1679104\tbest: 1841.6533349 (46)\ttotal: 2.78s\tremaining: 4.28s\n",
      "197:\tlearn: 2375.8308411\ttest: 1889.3001399\tbest: 1841.6533349 (46)\ttotal: 2.8s\tremaining: 4.27s\n",
      "198:\tlearn: 2375.6093458\ttest: 1888.8486474\tbest: 1841.6533349 (46)\ttotal: 2.81s\tremaining: 4.25s\n",
      "199:\tlearn: 2371.9579439\ttest: 1900.3372201\tbest: 1841.6533349 (46)\ttotal: 2.83s\tremaining: 4.24s\n",
      "200:\tlearn: 2371.8581776\ttest: 1900.0981810\tbest: 1841.6533349 (46)\ttotal: 2.84s\tremaining: 4.23s\n",
      "201:\tlearn: 2371.4156542\ttest: 1900.3928405\tbest: 1841.6533349 (46)\ttotal: 2.85s\tremaining: 4.21s\n",
      "202:\tlearn: 2371.3602804\ttest: 1900.2185168\tbest: 1841.6533349 (46)\ttotal: 2.87s\tremaining: 4.2s\n",
      "203:\tlearn: 2371.2885514\ttest: 1899.6087920\tbest: 1841.6533349 (46)\ttotal: 2.88s\tremaining: 4.18s\n",
      "204:\tlearn: 2371.1514019\ttest: 1899.3208955\tbest: 1841.6533349 (46)\ttotal: 2.89s\tremaining: 4.16s\n",
      "205:\tlearn: 2371.1850467\ttest: 1899.2147854\tbest: 1841.6533349 (46)\ttotal: 2.9s\tremaining: 4.14s\n",
      "206:\tlearn: 2359.3219626\ttest: 1916.7878965\tbest: 1841.6533349 (46)\ttotal: 2.92s\tremaining: 4.13s\n",
      "207:\tlearn: 2359.1457944\ttest: 1916.5240205\tbest: 1841.6533349 (46)\ttotal: 2.93s\tremaining: 4.12s\n",
      "208:\tlearn: 2359.0072430\ttest: 1916.3228778\tbest: 1841.6533349 (46)\ttotal: 2.95s\tremaining: 4.1s\n",
      "209:\tlearn: 2358.7107477\ttest: 1915.6001632\tbest: 1841.6533349 (46)\ttotal: 2.96s\tremaining: 4.09s\n",
      "210:\tlearn: 2358.6313084\ttest: 1915.4743470\tbest: 1841.6533349 (46)\ttotal: 2.97s\tremaining: 4.07s\n",
      "211:\tlearn: 2358.5686916\ttest: 1915.3747668\tbest: 1841.6533349 (46)\ttotal: 2.99s\tremaining: 4.06s\n",
      "212:\tlearn: 2358.5189252\ttest: 1915.2957090\tbest: 1841.6533349 (46)\ttotal: 3s\tremaining: 4.04s\n",
      "213:\tlearn: 2358.4796729\ttest: 1915.2332090\tbest: 1841.6533349 (46)\ttotal: 3.01s\tremaining: 4.02s\n",
      "214:\tlearn: 2358.2193925\ttest: 1917.1780550\tbest: 1841.6533349 (46)\ttotal: 3.03s\tremaining: 4.01s\n",
      "215:\tlearn: 2351.5946262\ttest: 1932.9573228\tbest: 1841.6533349 (46)\ttotal: 3.05s\tremaining: 4s\n",
      "216:\tlearn: 2351.5252336\ttest: 1932.8740672\tbest: 1841.6533349 (46)\ttotal: 3.06s\tremaining: 3.99s\n",
      "217:\tlearn: 2351.9635514\ttest: 1932.8822295\tbest: 1841.6533349 (46)\ttotal: 3.07s\tremaining: 3.97s\n",
      "218:\tlearn: 2348.5572430\ttest: 1936.1567164\tbest: 1841.6533349 (46)\ttotal: 3.09s\tremaining: 3.96s\n",
      "219:\tlearn: 2348.9394860\ttest: 1936.5402285\tbest: 1841.6533349 (46)\ttotal: 3.1s\tremaining: 3.95s\n",
      "220:\tlearn: 2349.0404206\ttest: 1936.6875000\tbest: 1841.6533349 (46)\ttotal: 3.11s\tremaining: 3.93s\n",
      "221:\tlearn: 2348.8728972\ttest: 1936.2720382\tbest: 1841.6533349 (46)\ttotal: 3.12s\tremaining: 3.91s\n",
      "222:\tlearn: 2348.9516355\ttest: 1936.3885261\tbest: 1841.6533349 (46)\ttotal: 3.13s\tremaining: 3.89s\n",
      "223:\tlearn: 2349.0130841\ttest: 1936.4806437\tbest: 1841.6533349 (46)\ttotal: 3.14s\tremaining: 3.87s\n",
      "224:\tlearn: 2349.0609813\ttest: 1936.5534049\tbest: 1841.6533349 (46)\ttotal: 3.15s\tremaining: 3.85s\n",
      "225:\tlearn: 2349.0976636\ttest: 1936.6110075\tbest: 1841.6533349 (46)\ttotal: 3.16s\tremaining: 3.83s\n",
      "226:\tlearn: 2349.4532710\ttest: 1936.6791045\tbest: 1841.6533349 (46)\ttotal: 3.18s\tremaining: 3.82s\n",
      "227:\tlearn: 2346.8626168\ttest: 1932.4054338\tbest: 1841.6533349 (46)\ttotal: 3.2s\tremaining: 3.81s\n",
      "228:\tlearn: 2347.1560748\ttest: 1932.5243703\tbest: 1841.6533349 (46)\ttotal: 3.21s\tremaining: 3.8s\n",
      "229:\tlearn: 2346.1228972\ttest: 1935.1168377\tbest: 1841.6533349 (46)\ttotal: 3.23s\tremaining: 3.79s\n",
      "230:\tlearn: 2346.0049065\ttest: 1934.5376632\tbest: 1841.6533349 (46)\ttotal: 3.24s\tremaining: 3.77s\n",
      "231:\tlearn: 2346.1268692\ttest: 1934.6291978\tbest: 1841.6533349 (46)\ttotal: 3.25s\tremaining: 3.76s\n",
      "232:\tlearn: 2346.1862150\ttest: 1934.6802705\tbest: 1841.6533349 (46)\ttotal: 3.26s\tremaining: 3.74s\n",
      "233:\tlearn: 2346.0469626\ttest: 1934.4032183\tbest: 1841.6533349 (46)\ttotal: 3.27s\tremaining: 3.72s\n",
      "234:\tlearn: 2342.6764019\ttest: 1937.2530317\tbest: 1841.6533349 (46)\ttotal: 3.29s\tremaining: 3.71s\n",
      "235:\tlearn: 2342.5415888\ttest: 1937.1305970\tbest: 1841.6533349 (46)\ttotal: 3.3s\tremaining: 3.69s\n",
      "236:\tlearn: 2342.5628505\ttest: 1937.1570662\tbest: 1841.6533349 (46)\ttotal: 3.31s\tremaining: 3.68s\n",
      "237:\tlearn: 2342.5799065\ttest: 1937.1779384\tbest: 1841.6533349 (46)\ttotal: 3.32s\tremaining: 3.66s\n",
      "238:\tlearn: 2342.3607477\ttest: 1940.5645989\tbest: 1841.6533349 (46)\ttotal: 3.34s\tremaining: 3.65s\n",
      "239:\tlearn: 2339.4469626\ttest: 1943.6135728\tbest: 1841.6533349 (46)\ttotal: 3.36s\tremaining: 3.64s\n",
      "240:\tlearn: 2339.6544393\ttest: 1943.8759328\tbest: 1841.6533349 (46)\ttotal: 3.37s\tremaining: 3.62s\n",
      "241:\tlearn: 2336.9289720\ttest: 1944.8943563\tbest: 1841.6533349 (46)\ttotal: 3.39s\tremaining: 3.61s\n",
      "242:\tlearn: 2336.3619159\ttest: 1941.3416511\tbest: 1841.6533349 (46)\ttotal: 3.4s\tremaining: 3.6s\n",
      "243:\tlearn: 2334.0497664\ttest: 1940.5711287\tbest: 1841.6533349 (46)\ttotal: 3.42s\tremaining: 3.59s\n",
      "244:\tlearn: 2332.2002336\ttest: 1939.9519590\tbest: 1841.6533349 (46)\ttotal: 3.44s\tremaining: 3.58s\n",
      "245:\tlearn: 2332.7453271\ttest: 1940.3928405\tbest: 1841.6533349 (46)\ttotal: 3.45s\tremaining: 3.56s\n",
      "246:\tlearn: 2331.9584112\ttest: 1939.3420009\tbest: 1841.6533349 (46)\ttotal: 3.46s\tremaining: 3.55s\n",
      "247:\tlearn: 2332.4985981\ttest: 1942.5246035\tbest: 1841.6533349 (46)\ttotal: 3.48s\tremaining: 3.53s\n",
      "248:\tlearn: 2332.6081776\ttest: 1942.6914646\tbest: 1841.6533349 (46)\ttotal: 3.49s\tremaining: 3.52s\n",
      "249:\tlearn: 2332.6920561\ttest: 1942.7488340\tbest: 1841.6533349 (46)\ttotal: 3.5s\tremaining: 3.5s\n",
      "250:\tlearn: 2332.7789720\ttest: 1942.8797808\tbest: 1841.6533349 (46)\ttotal: 3.51s\tremaining: 3.48s\n",
      "251:\tlearn: 2332.8091121\ttest: 1942.9125466\tbest: 1841.6533349 (46)\ttotal: 3.52s\tremaining: 3.46s\n",
      "252:\tlearn: 2332.8693925\ttest: 1943.0086287\tbest: 1841.6533349 (46)\ttotal: 3.53s\tremaining: 3.44s\n",
      "253:\tlearn: 2332.8801402\ttest: 1943.0172575\tbest: 1841.6533349 (46)\ttotal: 3.54s\tremaining: 3.43s\n",
      "254:\tlearn: 2332.9815421\ttest: 1943.1679104\tbest: 1841.6533349 (46)\ttotal: 3.55s\tremaining: 3.41s\n",
      "255:\tlearn: 2324.4990654\ttest: 1943.6999767\tbest: 1841.6533349 (46)\ttotal: 3.57s\tremaining: 3.4s\n",
      "256:\tlearn: 2324.4985981\ttest: 1943.7038246\tbest: 1841.6533349 (46)\ttotal: 3.58s\tremaining: 3.39s\n",
      "257:\tlearn: 2324.7380841\ttest: 1943.9527752\tbest: 1841.6533349 (46)\ttotal: 3.6s\tremaining: 3.37s\n",
      "258:\tlearn: 2324.9203271\ttest: 1946.9131297\tbest: 1841.6533349 (46)\ttotal: 3.61s\tremaining: 3.36s\n",
      "259:\tlearn: 2325.5432243\ttest: 1946.9785448\tbest: 1841.6533349 (46)\ttotal: 3.63s\tremaining: 3.35s\n",
      "260:\tlearn: 2326.0371495\ttest: 1947.1234841\tbest: 1841.6533349 (46)\ttotal: 3.65s\tremaining: 3.34s\n",
      "261:\tlearn: 2325.9268692\ttest: 1946.9819263\tbest: 1841.6533349 (46)\ttotal: 3.66s\tremaining: 3.33s\n",
      "262:\tlearn: 2325.9266355\ttest: 1947.0776586\tbest: 1841.6533349 (46)\ttotal: 3.67s\tremaining: 3.31s\n",
      "263:\tlearn: 2325.8714953\ttest: 1947.1241838\tbest: 1841.6533349 (46)\ttotal: 3.69s\tremaining: 3.3s\n",
      "264:\tlearn: 2325.7920561\ttest: 1947.0289179\tbest: 1841.6533349 (46)\ttotal: 3.7s\tremaining: 3.28s\n",
      "265:\tlearn: 2325.7366822\ttest: 1948.2390392\tbest: 1841.6533349 (46)\ttotal: 3.71s\tremaining: 3.27s\n",
      "266:\tlearn: 2325.7806075\ttest: 1948.3191465\tbest: 1841.6533349 (46)\ttotal: 3.72s\tremaining: 3.25s\n",
      "267:\tlearn: 2325.0086449\ttest: 1948.0306670\tbest: 1841.6533349 (46)\ttotal: 3.74s\tremaining: 3.24s\n",
      "268:\tlearn: 2325.0011682\ttest: 1948.0398787\tbest: 1841.6533349 (46)\ttotal: 3.75s\tremaining: 3.22s\n",
      "269:\tlearn: 2324.4207944\ttest: 1944.5218050\tbest: 1841.6533349 (46)\ttotal: 3.77s\tremaining: 3.21s\n",
      "270:\tlearn: 2324.0329439\ttest: 1946.1666278\tbest: 1841.6533349 (46)\ttotal: 3.78s\tremaining: 3.2s\n",
      "271:\tlearn: 2323.8093458\ttest: 1945.7070896\tbest: 1841.6533349 (46)\ttotal: 3.79s\tremaining: 3.18s\n",
      "272:\tlearn: 2323.6317757\ttest: 1945.3449160\tbest: 1841.6533349 (46)\ttotal: 3.81s\tremaining: 3.17s\n",
      "273:\tlearn: 2319.0434579\ttest: 1954.1170709\tbest: 1841.6533349 (46)\ttotal: 3.83s\tremaining: 3.16s\n",
      "274:\tlearn: 2319.6455607\ttest: 1955.1184701\tbest: 1841.6533349 (46)\ttotal: 3.84s\tremaining: 3.14s\n",
      "275:\tlearn: 2319.5320093\ttest: 1954.8747668\tbest: 1841.6533349 (46)\ttotal: 3.85s\tremaining: 3.13s\n",
      "276:\tlearn: 2320.0934579\ttest: 1955.3224114\tbest: 1841.6533349 (46)\ttotal: 3.87s\tremaining: 3.11s\n",
      "277:\tlearn: 2319.9878505\ttest: 1955.0991138\tbest: 1841.6533349 (46)\ttotal: 3.88s\tremaining: 3.1s\n",
      "278:\tlearn: 2314.7175234\ttest: 1958.4986007\tbest: 1841.6533349 (46)\ttotal: 3.9s\tremaining: 3.08s\n",
      "279:\tlearn: 2315.0147196\ttest: 1958.6152052\tbest: 1841.6533349 (46)\ttotal: 3.91s\tremaining: 3.07s\n",
      "280:\tlearn: 2314.7259346\ttest: 1958.1173041\tbest: 1841.6533349 (46)\ttotal: 3.92s\tremaining: 3.05s\n",
      "281:\tlearn: 2314.5341121\ttest: 1957.9316698\tbest: 1841.6533349 (46)\ttotal: 3.93s\tremaining: 3.04s\n",
      "282:\tlearn: 2314.9042056\ttest: 1959.0727612\tbest: 1841.6533349 (46)\ttotal: 3.95s\tremaining: 3.03s\n",
      "283:\tlearn: 2314.8217290\ttest: 1958.8703358\tbest: 1841.6533349 (46)\ttotal: 3.96s\tremaining: 3.02s\n",
      "284:\tlearn: 2314.6023364\ttest: 1958.5242537\tbest: 1841.6533349 (46)\ttotal: 3.98s\tremaining: 3s\n",
      "285:\tlearn: 2312.2238318\ttest: 1957.4067164\tbest: 1841.6533349 (46)\ttotal: 4s\tremaining: 2.99s\n",
      "286:\tlearn: 2311.6815421\ttest: 1956.9414646\tbest: 1841.6533349 (46)\ttotal: 4.01s\tremaining: 2.98s\n",
      "287:\tlearn: 2310.9000000\ttest: 1955.6956623\tbest: 1841.6533349 (46)\ttotal: 4.03s\tremaining: 2.96s\n",
      "288:\tlearn: 2311.3932243\ttest: 1956.0299674\tbest: 1841.6533349 (46)\ttotal: 4.04s\tremaining: 2.95s\n",
      "289:\tlearn: 2311.6764019\ttest: 1956.2451026\tbest: 1841.6533349 (46)\ttotal: 4.06s\tremaining: 2.94s\n",
      "290:\tlearn: 2311.9642523\ttest: 1956.4328358\tbest: 1841.6533349 (46)\ttotal: 4.07s\tremaining: 2.92s\n",
      "291:\tlearn: 2312.1214953\ttest: 1956.5475746\tbest: 1841.6533349 (46)\ttotal: 4.09s\tremaining: 2.91s\n",
      "292:\tlearn: 2312.3219626\ttest: 1956.5251866\tbest: 1841.6533349 (46)\ttotal: 4.1s\tremaining: 2.9s\n",
      "293:\tlearn: 2312.3385514\ttest: 1956.5370802\tbest: 1841.6533349 (46)\ttotal: 4.11s\tremaining: 2.88s\n",
      "294:\tlearn: 2312.2521028\ttest: 1956.3530784\tbest: 1841.6533349 (46)\ttotal: 4.12s\tremaining: 2.86s\n",
      "295:\tlearn: 2312.5121495\ttest: 1956.5051306\tbest: 1841.6533349 (46)\ttotal: 4.13s\tremaining: 2.85s\n",
      "296:\tlearn: 2312.4446262\ttest: 1956.3540112\tbest: 1841.6533349 (46)\ttotal: 4.15s\tremaining: 2.83s\n",
      "297:\tlearn: 2312.3158879\ttest: 1956.0309002\tbest: 1841.6533349 (46)\ttotal: 4.16s\tremaining: 2.82s\n",
      "298:\tlearn: 2311.8752336\ttest: 1956.1352612\tbest: 1841.6533349 (46)\ttotal: 4.18s\tremaining: 2.81s\n",
      "299:\tlearn: 2312.2785047\ttest: 1956.5471082\tbest: 1841.6533349 (46)\ttotal: 4.19s\tremaining: 2.79s\n",
      "300:\tlearn: 2312.2261682\ttest: 1956.4435634\tbest: 1841.6533349 (46)\ttotal: 4.2s\tremaining: 2.78s\n",
      "301:\tlearn: 2312.1838785\ttest: 1956.3598414\tbest: 1841.6533349 (46)\ttotal: 4.22s\tremaining: 2.76s\n",
      "302:\tlearn: 2310.9478972\ttest: 1957.4918377\tbest: 1841.6533349 (46)\ttotal: 4.23s\tremaining: 2.75s\n",
      "303:\tlearn: 2311.0747664\ttest: 1957.5475746\tbest: 1841.6533349 (46)\ttotal: 4.25s\tremaining: 2.74s\n",
      "304:\tlearn: 2310.4088785\ttest: 1955.3675373\tbest: 1841.6533349 (46)\ttotal: 4.26s\tremaining: 2.73s\n",
      "305:\tlearn: 2309.8871495\ttest: 1956.4939366\tbest: 1841.6533349 (46)\ttotal: 4.28s\tremaining: 2.71s\n",
      "306:\tlearn: 2309.5852804\ttest: 1956.1923974\tbest: 1841.6533349 (46)\ttotal: 4.29s\tremaining: 2.7s\n",
      "307:\tlearn: 2309.7032710\ttest: 1956.2285448\tbest: 1841.6533349 (46)\ttotal: 4.31s\tremaining: 2.68s\n",
      "308:\tlearn: 2309.6002336\ttest: 1956.2677239\tbest: 1841.6533349 (46)\ttotal: 4.32s\tremaining: 2.67s\n",
      "309:\tlearn: 2305.2301402\ttest: 1954.7175840\tbest: 1841.6533349 (46)\ttotal: 4.34s\tremaining: 2.66s\n",
      "310:\tlearn: 2304.9827103\ttest: 1954.8088853\tbest: 1841.6533349 (46)\ttotal: 4.36s\tremaining: 2.65s\n",
      "311:\tlearn: 2295.4070093\ttest: 1963.3171642\tbest: 1841.6533349 (46)\ttotal: 4.38s\tremaining: 2.64s\n",
      "312:\tlearn: 2295.4025701\ttest: 1963.3402519\tbest: 1841.6533349 (46)\ttotal: 4.39s\tremaining: 2.62s\n",
      "313:\tlearn: 2294.4542056\ttest: 1961.7681903\tbest: 1841.6533349 (46)\ttotal: 4.4s\tremaining: 2.61s\n",
      "314:\tlearn: 2294.8322430\ttest: 1965.0834888\tbest: 1841.6533349 (46)\ttotal: 4.41s\tremaining: 2.59s\n",
      "315:\tlearn: 2294.4014019\ttest: 1964.9305037\tbest: 1841.6533349 (46)\ttotal: 4.43s\tremaining: 2.58s\n",
      "316:\tlearn: 2294.4324766\ttest: 1964.9216418\tbest: 1841.6533349 (46)\ttotal: 4.44s\tremaining: 2.56s\n",
      "317:\tlearn: 2294.4378505\ttest: 1965.6870336\tbest: 1841.6533349 (46)\ttotal: 4.45s\tremaining: 2.55s\n",
      "318:\tlearn: 2294.5177570\ttest: 1965.7875466\tbest: 1841.6533349 (46)\ttotal: 4.46s\tremaining: 2.53s\n",
      "319:\tlearn: 2293.7614486\ttest: 1967.0053638\tbest: 1841.6533349 (46)\ttotal: 4.48s\tremaining: 2.52s\n",
      "320:\tlearn: 2294.0577103\ttest: 1967.1716418\tbest: 1841.6533349 (46)\ttotal: 4.49s\tremaining: 2.5s\n",
      "321:\tlearn: 2293.9932243\ttest: 1967.3316231\tbest: 1841.6533349 (46)\ttotal: 4.5s\tremaining: 2.49s\n",
      "322:\tlearn: 2293.5039720\ttest: 1966.1161381\tbest: 1841.6533349 (46)\ttotal: 4.51s\tremaining: 2.47s\n",
      "323:\tlearn: 2293.8065421\ttest: 1966.3318563\tbest: 1841.6533349 (46)\ttotal: 4.53s\tremaining: 2.46s\n",
      "324:\tlearn: 2293.5908879\ttest: 1965.7621269\tbest: 1841.6533349 (46)\ttotal: 4.54s\tremaining: 2.45s\n",
      "325:\tlearn: 2287.7242991\ttest: 1968.6254664\tbest: 1841.6533349 (46)\ttotal: 4.56s\tremaining: 2.44s\n",
      "326:\tlearn: 2285.7149533\ttest: 1973.8185634\tbest: 1841.6533349 (46)\ttotal: 4.58s\tremaining: 2.42s\n",
      "327:\tlearn: 2283.4371495\ttest: 1974.2833489\tbest: 1841.6533349 (46)\ttotal: 4.6s\tremaining: 2.41s\n",
      "328:\tlearn: 2281.4558411\ttest: 1974.2014925\tbest: 1841.6533349 (46)\ttotal: 4.62s\tremaining: 2.4s\n",
      "329:\tlearn: 2281.6163551\ttest: 1974.3078358\tbest: 1841.6533349 (46)\ttotal: 4.63s\tremaining: 2.38s\n",
      "330:\tlearn: 2281.9922897\ttest: 1974.8791978\tbest: 1841.6533349 (46)\ttotal: 4.64s\tremaining: 2.37s\n",
      "331:\tlearn: 2280.7462617\ttest: 1972.4078825\tbest: 1841.6533349 (46)\ttotal: 4.66s\tremaining: 2.36s\n",
      "332:\tlearn: 2280.9175234\ttest: 1972.5202892\tbest: 1841.6533349 (46)\ttotal: 4.67s\tremaining: 2.34s\n",
      "333:\tlearn: 2278.8908879\ttest: 1977.1492537\tbest: 1841.6533349 (46)\ttotal: 4.69s\tremaining: 2.33s\n",
      "334:\tlearn: 2279.1742991\ttest: 1977.6184701\tbest: 1841.6533349 (46)\ttotal: 4.7s\tremaining: 2.32s\n",
      "335:\tlearn: 2279.1635514\ttest: 1978.4633862\tbest: 1841.6533349 (46)\ttotal: 4.72s\tremaining: 2.3s\n",
      "336:\tlearn: 2279.1266355\ttest: 1978.4813433\tbest: 1841.6533349 (46)\ttotal: 4.73s\tremaining: 2.29s\n",
      "337:\tlearn: 2279.0976636\ttest: 1978.4967351\tbest: 1841.6533349 (46)\ttotal: 4.74s\tremaining: 2.27s\n",
      "338:\tlearn: 2279.0747664\ttest: 1978.5097948\tbest: 1841.6533349 (46)\ttotal: 4.75s\tremaining: 2.26s\n",
      "339:\tlearn: 2278.9665888\ttest: 1979.3819963\tbest: 1841.6533349 (46)\ttotal: 4.77s\tremaining: 2.25s\n",
      "340:\tlearn: 2279.2084112\ttest: 1979.6147388\tbest: 1841.6533349 (46)\ttotal: 4.79s\tremaining: 2.23s\n",
      "341:\tlearn: 2278.9899533\ttest: 1979.0032649\tbest: 1841.6533349 (46)\ttotal: 4.8s\tremaining: 2.22s\n",
      "342:\tlearn: 2279.0726636\ttest: 1979.0718284\tbest: 1841.6533349 (46)\ttotal: 4.82s\tremaining: 2.2s\n",
      "343:\tlearn: 2279.2495327\ttest: 1979.1919310\tbest: 1841.6533349 (46)\ttotal: 4.83s\tremaining: 2.19s\n",
      "344:\tlearn: 2279.4292056\ttest: 1979.8523787\tbest: 1841.6533349 (46)\ttotal: 4.85s\tremaining: 2.18s\n",
      "345:\tlearn: 2279.5343458\ttest: 1979.9258396\tbest: 1841.6533349 (46)\ttotal: 4.87s\tremaining: 2.17s\n",
      "346:\tlearn: 2275.9011682\ttest: 1983.5191231\tbest: 1841.6533349 (46)\ttotal: 4.88s\tremaining: 2.15s\n",
      "347:\tlearn: 2275.4278037\ttest: 1982.8036381\tbest: 1841.6533349 (46)\ttotal: 4.9s\tremaining: 2.14s\n",
      "348:\tlearn: 2275.4074766\ttest: 1982.8556437\tbest: 1841.6533349 (46)\ttotal: 4.91s\tremaining: 2.12s\n",
      "349:\tlearn: 2275.0528037\ttest: 1983.6585821\tbest: 1841.6533349 (46)\ttotal: 4.92s\tremaining: 2.11s\n",
      "350:\tlearn: 2274.9890187\ttest: 1983.7017257\tbest: 1841.6533349 (46)\ttotal: 4.94s\tremaining: 2.1s\n",
      "351:\tlearn: 2275.2002336\ttest: 1986.8145989\tbest: 1841.6533349 (46)\ttotal: 4.95s\tremaining: 2.08s\n",
      "352:\tlearn: 2274.5088785\ttest: 1988.0725280\tbest: 1841.6533349 (46)\ttotal: 4.97s\tremaining: 2.07s\n",
      "353:\tlearn: 2274.3014019\ttest: 1987.9127799\tbest: 1841.6533349 (46)\ttotal: 4.99s\tremaining: 2.06s\n",
      "354:\tlearn: 2274.1397196\ttest: 1988.1072761\tbest: 1841.6533349 (46)\ttotal: 5s\tremaining: 2.04s\n",
      "355:\tlearn: 2274.0053738\ttest: 1988.2670243\tbest: 1841.6533349 (46)\ttotal: 5.02s\tremaining: 2.03s\n",
      "356:\tlearn: 2274.0717290\ttest: 1988.5013993\tbest: 1841.6533349 (46)\ttotal: 5.03s\tremaining: 2.01s\n",
      "357:\tlearn: 2274.3030374\ttest: 1990.7618937\tbest: 1841.6533349 (46)\ttotal: 5.05s\tremaining: 2s\n",
      "358:\tlearn: 2274.1768692\ttest: 1990.6079757\tbest: 1841.6533349 (46)\ttotal: 5.06s\tremaining: 1.99s\n",
      "359:\tlearn: 2274.3607477\ttest: 1991.1984608\tbest: 1841.6533349 (46)\ttotal: 5.07s\tremaining: 1.97s\n",
      "360:\tlearn: 2274.5245327\ttest: 1991.6709422\tbest: 1841.6533349 (46)\ttotal: 5.08s\tremaining: 1.96s\n",
      "361:\tlearn: 2274.7397196\ttest: 1992.0293843\tbest: 1841.6533349 (46)\ttotal: 5.09s\tremaining: 1.94s\n",
      "362:\tlearn: 2274.6114486\ttest: 1993.2847481\tbest: 1841.6533349 (46)\ttotal: 5.11s\tremaining: 1.93s\n",
      "363:\tlearn: 2274.6376168\ttest: 1993.3712687\tbest: 1841.6533349 (46)\ttotal: 5.13s\tremaining: 1.92s\n",
      "364:\tlearn: 2269.0822430\ttest: 1989.2381063\tbest: 1841.6533349 (46)\ttotal: 5.14s\tremaining: 1.9s\n",
      "365:\tlearn: 2269.0046729\ttest: 1988.0326493\tbest: 1841.6533349 (46)\ttotal: 5.16s\tremaining: 1.89s\n",
      "366:\tlearn: 2269.4411215\ttest: 1988.4764459\tbest: 1841.6533349 (46)\ttotal: 5.17s\tremaining: 1.87s\n",
      "367:\tlearn: 2269.0549065\ttest: 1991.2108209\tbest: 1841.6533349 (46)\ttotal: 5.19s\tremaining: 1.86s\n",
      "368:\tlearn: 2268.7021028\ttest: 1991.2388060\tbest: 1841.6533349 (46)\ttotal: 5.2s\tremaining: 1.85s\n",
      "369:\tlearn: 2268.6408879\ttest: 1991.1100746\tbest: 1841.6533349 (46)\ttotal: 5.21s\tremaining: 1.83s\n",
      "370:\tlearn: 2268.8037383\ttest: 1991.2917444\tbest: 1841.6533349 (46)\ttotal: 5.23s\tremaining: 1.82s\n",
      "371:\tlearn: 2268.6149533\ttest: 1991.9043843\tbest: 1841.6533349 (46)\ttotal: 5.24s\tremaining: 1.8s\n",
      "372:\tlearn: 2268.4717290\ttest: 1991.7700560\tbest: 1841.6533349 (46)\ttotal: 5.25s\tremaining: 1.79s\n",
      "373:\tlearn: 2268.5051402\ttest: 1991.7922108\tbest: 1841.6533349 (46)\ttotal: 5.26s\tremaining: 1.77s\n",
      "374:\tlearn: 2268.6721963\ttest: 1992.0592351\tbest: 1841.6533349 (46)\ttotal: 5.28s\tremaining: 1.76s\n",
      "375:\tlearn: 2268.5455607\ttest: 1991.8684701\tbest: 1841.6533349 (46)\ttotal: 5.29s\tremaining: 1.74s\n",
      "376:\tlearn: 2268.5378505\ttest: 1991.6662780\tbest: 1841.6533349 (46)\ttotal: 5.3s\tremaining: 1.73s\n",
      "377:\tlearn: 2268.6775701\ttest: 1991.8833955\tbest: 1841.6533349 (46)\ttotal: 5.31s\tremaining: 1.71s\n",
      "378:\tlearn: 2253.2724299\ttest: 1992.4475280\tbest: 1841.6533349 (46)\ttotal: 5.33s\tremaining: 1.7s\n",
      "379:\tlearn: 2253.2046729\ttest: 1992.1828358\tbest: 1841.6533349 (46)\ttotal: 5.34s\tremaining: 1.69s\n",
      "380:\tlearn: 2253.4841121\ttest: 1992.6331623\tbest: 1841.6533349 (46)\ttotal: 5.35s\tremaining: 1.67s\n",
      "381:\tlearn: 2251.9271028\ttest: 1991.2262127\tbest: 1841.6533349 (46)\ttotal: 5.37s\tremaining: 1.66s\n",
      "382:\tlearn: 2251.8364486\ttest: 1990.9267724\tbest: 1841.6533349 (46)\ttotal: 5.38s\tremaining: 1.64s\n",
      "383:\tlearn: 2251.6189252\ttest: 1990.6637127\tbest: 1841.6533349 (46)\ttotal: 5.39s\tremaining: 1.63s\n",
      "384:\tlearn: 2251.8004673\ttest: 1991.0438433\tbest: 1841.6533349 (46)\ttotal: 5.41s\tremaining: 1.61s\n",
      "385:\tlearn: 2252.0126168\ttest: 1991.4032183\tbest: 1841.6533349 (46)\ttotal: 5.42s\tremaining: 1.6s\n",
      "386:\tlearn: 2252.1100467\ttest: 1991.6380597\tbest: 1841.6533349 (46)\ttotal: 5.43s\tremaining: 1.59s\n",
      "387:\tlearn: 2252.2242991\ttest: 1991.8502799\tbest: 1841.6533349 (46)\ttotal: 5.45s\tremaining: 1.57s\n",
      "388:\tlearn: 2252.3149533\ttest: 1992.0172575\tbest: 1841.6533349 (46)\ttotal: 5.46s\tremaining: 1.56s\n",
      "389:\tlearn: 2252.3862150\ttest: 1992.1490205\tbest: 1841.6533349 (46)\ttotal: 5.47s\tremaining: 1.54s\n",
      "390:\tlearn: 2252.2443925\ttest: 1992.2500000\tbest: 1841.6533349 (46)\ttotal: 5.48s\tremaining: 1.53s\n",
      "391:\tlearn: 2252.3448598\ttest: 1992.4421642\tbest: 1841.6533349 (46)\ttotal: 5.49s\tremaining: 1.51s\n",
      "392:\tlearn: 2248.3364486\ttest: 1990.8997201\tbest: 1841.6533349 (46)\ttotal: 5.5s\tremaining: 1.5s\n",
      "393:\tlearn: 2248.3502336\ttest: 1990.9440299\tbest: 1841.6533349 (46)\ttotal: 5.51s\tremaining: 1.48s\n",
      "394:\tlearn: 2248.3719626\ttest: 1991.0844216\tbest: 1841.6533349 (46)\ttotal: 5.53s\tremaining: 1.47s\n",
      "395:\tlearn: 2248.3932243\ttest: 1991.0984142\tbest: 1841.6533349 (46)\ttotal: 5.54s\tremaining: 1.45s\n",
      "396:\tlearn: 2248.2640187\ttest: 1990.7609608\tbest: 1841.6533349 (46)\ttotal: 5.55s\tremaining: 1.44s\n",
      "397:\tlearn: 2240.1567757\ttest: 1993.4288713\tbest: 1841.6533349 (46)\ttotal: 5.57s\tremaining: 1.43s\n",
      "398:\tlearn: 2240.4981308\ttest: 1993.9027519\tbest: 1841.6533349 (46)\ttotal: 5.59s\tremaining: 1.41s\n",
      "399:\tlearn: 2240.6467290\ttest: 1994.1093750\tbest: 1841.6533349 (46)\ttotal: 5.6s\tremaining: 1.4s\n",
      "400:\tlearn: 2240.7644860\ttest: 1994.2728545\tbest: 1841.6533349 (46)\ttotal: 5.61s\tremaining: 1.38s\n",
      "401:\tlearn: 2241.0252336\ttest: 1994.5088619\tbest: 1841.6533349 (46)\ttotal: 5.62s\tremaining: 1.37s\n",
      "402:\tlearn: 2241.0978972\ttest: 1994.6100746\tbest: 1841.6533349 (46)\ttotal: 5.63s\tremaining: 1.35s\n",
      "403:\tlearn: 2241.1553738\ttest: 1994.6898321\tbest: 1841.6533349 (46)\ttotal: 5.64s\tremaining: 1.34s\n",
      "404:\tlearn: 2241.2007009\ttest: 1994.7530317\tbest: 1841.6533349 (46)\ttotal: 5.65s\tremaining: 1.32s\n",
      "405:\tlearn: 2241.2364486\ttest: 1994.8029384\tbest: 1841.6533349 (46)\ttotal: 5.66s\tremaining: 1.31s\n",
      "406:\tlearn: 2241.2649533\ttest: 1994.8423507\tbest: 1841.6533349 (46)\ttotal: 5.67s\tremaining: 1.3s\n",
      "407:\tlearn: 2241.2876168\ttest: 1994.8738340\tbest: 1841.6533349 (46)\ttotal: 5.68s\tremaining: 1.28s\n",
      "408:\tlearn: 2241.3051402\ttest: 1994.8983209\tbest: 1841.6533349 (46)\ttotal: 5.69s\tremaining: 1.27s\n",
      "409:\tlearn: 2241.3191589\ttest: 1994.9179104\tbest: 1841.6533349 (46)\ttotal: 5.7s\tremaining: 1.25s\n",
      "410:\tlearn: 2241.3299065\ttest: 1994.9333022\tbest: 1841.6533349 (46)\ttotal: 5.71s\tremaining: 1.24s\n",
      "411:\tlearn: 2241.3385514\ttest: 1994.9451959\tbest: 1841.6533349 (46)\ttotal: 5.72s\tremaining: 1.22s\n",
      "412:\tlearn: 2241.3457944\ttest: 1994.9547575\tbest: 1841.6533349 (46)\ttotal: 5.74s\tremaining: 1.21s\n",
      "413:\tlearn: 2241.3514019\ttest: 1994.9624534\tbest: 1841.6533349 (46)\ttotal: 5.75s\tremaining: 1.19s\n",
      "414:\tlearn: 2241.3558411\ttest: 1994.9687500\tbest: 1841.6533349 (46)\ttotal: 5.76s\tremaining: 1.18s\n",
      "415:\tlearn: 2241.3591121\ttest: 1994.9734142\tbest: 1841.6533349 (46)\ttotal: 5.77s\tremaining: 1.17s\n",
      "416:\tlearn: 2241.3619159\ttest: 1994.9771455\tbest: 1841.6533349 (46)\ttotal: 5.79s\tremaining: 1.15s\n",
      "417:\tlearn: 2240.0871495\ttest: 1996.3502799\tbest: 1841.6533349 (46)\ttotal: 5.8s\tremaining: 1.14s\n",
      "418:\tlearn: 2240.1691589\ttest: 1996.4573228\tbest: 1841.6533349 (46)\ttotal: 5.81s\tremaining: 1.12s\n",
      "419:\tlearn: 2240.2338785\ttest: 1996.5419776\tbest: 1841.6533349 (46)\ttotal: 5.83s\tremaining: 1.11s\n",
      "420:\tlearn: 2239.4345794\ttest: 1995.8558769\tbest: 1841.6533349 (46)\ttotal: 5.84s\tremaining: 1.1s\n",
      "421:\tlearn: 2239.4287383\ttest: 1995.4962687\tbest: 1841.6533349 (46)\ttotal: 5.86s\tremaining: 1.08s\n",
      "422:\tlearn: 2239.4021028\ttest: 1995.4533582\tbest: 1841.6533349 (46)\ttotal: 5.87s\tremaining: 1.07s\n",
      "423:\tlearn: 2237.5000000\ttest: 1996.3388526\tbest: 1841.6533349 (46)\ttotal: 5.88s\tremaining: 1.05s\n",
      "424:\tlearn: 2233.3927570\ttest: 1995.4169776\tbest: 1841.6533349 (46)\ttotal: 5.9s\tremaining: 1.04s\n",
      "425:\tlearn: 2232.9397196\ttest: 1995.6907649\tbest: 1841.6533349 (46)\ttotal: 5.92s\tremaining: 1.03s\n",
      "426:\tlearn: 2232.4829439\ttest: 1994.8257929\tbest: 1841.6533349 (46)\ttotal: 5.94s\tremaining: 1.01s\n",
      "427:\tlearn: 2232.2469626\ttest: 1994.4881063\tbest: 1841.6533349 (46)\ttotal: 5.96s\tremaining: 1s\n",
      "428:\tlearn: 2232.5130841\ttest: 1994.9797108\tbest: 1841.6533349 (46)\ttotal: 5.97s\tremaining: 988ms\n",
      "429:\tlearn: 2232.7133178\ttest: 1995.0736940\tbest: 1841.6533349 (46)\ttotal: 5.99s\tremaining: 975ms\n",
      "430:\tlearn: 2232.2698598\ttest: 1995.2985075\tbest: 1841.6533349 (46)\ttotal: 6s\tremaining: 961ms\n",
      "431:\tlearn: 2232.4523364\ttest: 1995.3474813\tbest: 1841.6533349 (46)\ttotal: 6.02s\tremaining: 947ms\n",
      "432:\tlearn: 2232.6205607\ttest: 1995.7469683\tbest: 1841.6533349 (46)\ttotal: 6.03s\tremaining: 933ms\n",
      "433:\tlearn: 2232.3219626\ttest: 1995.7112873\tbest: 1841.6533349 (46)\ttotal: 6.05s\tremaining: 920ms\n",
      "434:\tlearn: 2225.5011682\ttest: 2006.1284981\tbest: 1841.6533349 (46)\ttotal: 6.07s\tremaining: 907ms\n",
      "435:\tlearn: 2225.2752336\ttest: 2005.9547575\tbest: 1841.6533349 (46)\ttotal: 6.08s\tremaining: 893ms\n",
      "436:\tlearn: 2225.2614486\ttest: 2005.9025187\tbest: 1841.6533349 (46)\ttotal: 6.09s\tremaining: 879ms\n",
      "437:\tlearn: 2225.1612150\ttest: 2005.7705224\tbest: 1841.6533349 (46)\ttotal: 6.1s\tremaining: 864ms\n",
      "438:\tlearn: 2225.1193925\ttest: 2005.9319030\tbest: 1841.6533349 (46)\ttotal: 6.12s\tremaining: 850ms\n",
      "439:\tlearn: 2225.2579439\ttest: 2006.1627799\tbest: 1841.6533349 (46)\ttotal: 6.13s\tremaining: 836ms\n",
      "440:\tlearn: 2225.2647196\ttest: 2006.4906716\tbest: 1841.6533349 (46)\ttotal: 6.14s\tremaining: 822ms\n",
      "441:\tlearn: 2224.8759346\ttest: 2007.9398321\tbest: 1841.6533349 (46)\ttotal: 6.16s\tremaining: 808ms\n",
      "442:\tlearn: 2224.7964953\ttest: 2008.2490672\tbest: 1841.6533349 (46)\ttotal: 6.17s\tremaining: 794ms\n",
      "443:\tlearn: 2224.8063084\ttest: 2008.5298507\tbest: 1841.6533349 (46)\ttotal: 6.18s\tremaining: 780ms\n",
      "444:\tlearn: 2223.2929907\ttest: 2012.4386660\tbest: 1841.6533349 (46)\ttotal: 6.2s\tremaining: 767ms\n",
      "445:\tlearn: 2222.7198598\ttest: 2012.9069496\tbest: 1841.6533349 (46)\ttotal: 6.22s\tremaining: 753ms\n",
      "446:\tlearn: 2222.8037383\ttest: 2013.0942164\tbest: 1841.6533349 (46)\ttotal: 6.23s\tremaining: 739ms\n",
      "447:\tlearn: 2222.8724299\ttest: 2011.1473881\tbest: 1841.6533349 (46)\ttotal: 6.25s\tremaining: 725ms\n",
      "448:\tlearn: 2223.2563084\ttest: 2011.8125000\tbest: 1841.6533349 (46)\ttotal: 6.26s\tremaining: 711ms\n",
      "449:\tlearn: 2223.0880841\ttest: 2011.7206157\tbest: 1841.6533349 (46)\ttotal: 6.28s\tremaining: 698ms\n",
      "450:\tlearn: 2223.0137850\ttest: 2011.8736007\tbest: 1841.6533349 (46)\ttotal: 6.29s\tremaining: 683ms\n",
      "451:\tlearn: 2222.9058411\ttest: 2011.7164179\tbest: 1841.6533349 (46)\ttotal: 6.3s\tremaining: 669ms\n",
      "452:\tlearn: 2219.0345794\ttest: 2009.5746269\tbest: 1841.6533349 (46)\ttotal: 6.32s\tremaining: 656ms\n",
      "453:\tlearn: 2219.1086449\ttest: 2009.8162313\tbest: 1841.6533349 (46)\ttotal: 6.34s\tremaining: 642ms\n",
      "454:\tlearn: 2219.0551402\ttest: 2009.7754198\tbest: 1841.6533349 (46)\ttotal: 6.35s\tremaining: 628ms\n",
      "455:\tlearn: 2219.0964953\ttest: 2010.0032649\tbest: 1841.6533349 (46)\ttotal: 6.36s\tremaining: 614ms\n",
      "456:\tlearn: 2209.8275701\ttest: 1998.1268657\tbest: 1841.6533349 (46)\ttotal: 6.38s\tremaining: 601ms\n",
      "457:\tlearn: 2209.9285047\ttest: 1998.6245336\tbest: 1841.6533349 (46)\ttotal: 6.39s\tremaining: 586ms\n",
      "458:\tlearn: 2210.2158879\ttest: 2000.9272388\tbest: 1841.6533349 (46)\ttotal: 6.42s\tremaining: 573ms\n",
      "459:\tlearn: 2210.1857477\ttest: 1998.0788246\tbest: 1841.6533349 (46)\ttotal: 6.44s\tremaining: 560ms\n",
      "460:\tlearn: 2210.1780374\ttest: 1998.1222015\tbest: 1841.6533349 (46)\ttotal: 6.45s\tremaining: 546ms\n",
      "461:\tlearn: 2210.2441589\ttest: 1998.2059235\tbest: 1841.6533349 (46)\ttotal: 6.46s\tremaining: 531ms\n",
      "462:\tlearn: 2210.3303738\ttest: 1998.4878731\tbest: 1841.6533349 (46)\ttotal: 6.47s\tremaining: 517ms\n",
      "463:\tlearn: 2210.0707944\ttest: 1998.6291978\tbest: 1841.6533349 (46)\ttotal: 6.49s\tremaining: 503ms\n",
      "464:\tlearn: 2210.1345794\ttest: 1998.8577425\tbest: 1841.6533349 (46)\ttotal: 6.5s\tremaining: 489ms\n",
      "465:\tlearn: 2209.5088785\ttest: 1999.2712220\tbest: 1841.6533349 (46)\ttotal: 6.51s\tremaining: 475ms\n",
      "466:\tlearn: 2209.5656542\ttest: 1999.4885728\tbest: 1841.6533349 (46)\ttotal: 6.52s\tremaining: 461ms\n",
      "467:\tlearn: 2205.6481308\ttest: 1999.6301306\tbest: 1841.6533349 (46)\ttotal: 6.54s\tremaining: 447ms\n",
      "468:\tlearn: 2205.7397196\ttest: 1999.7413713\tbest: 1841.6533349 (46)\ttotal: 6.56s\tremaining: 434ms\n",
      "469:\tlearn: 2205.8242991\ttest: 1999.8777985\tbest: 1841.6533349 (46)\ttotal: 6.57s\tremaining: 420ms\n",
      "470:\tlearn: 2205.8908879\ttest: 1999.9855410\tbest: 1841.6533349 (46)\ttotal: 6.58s\tremaining: 405ms\n",
      "471:\tlearn: 2205.9436916\ttest: 2000.0706623\tbest: 1841.6533349 (46)\ttotal: 6.6s\tremaining: 391ms\n",
      "472:\tlearn: 2205.9852804\ttest: 2000.1378265\tbest: 1841.6533349 (46)\ttotal: 6.61s\tremaining: 377ms\n",
      "473:\tlearn: 2206.0179907\ttest: 2000.3220616\tbest: 1841.6533349 (46)\ttotal: 6.62s\tremaining: 363ms\n",
      "474:\tlearn: 2205.2084112\ttest: 2001.3640392\tbest: 1841.6533349 (46)\ttotal: 6.64s\tremaining: 349ms\n",
      "475:\tlearn: 2204.9584112\ttest: 2000.9216418\tbest: 1841.6533349 (46)\ttotal: 6.65s\tremaining: 335ms\n",
      "476:\tlearn: 2204.6691589\ttest: 2000.6056437\tbest: 1841.6533349 (46)\ttotal: 6.66s\tremaining: 321ms\n",
      "477:\tlearn: 2199.7672897\ttest: 2012.7070896\tbest: 1841.6533349 (46)\ttotal: 6.68s\tremaining: 308ms\n",
      "478:\tlearn: 2199.6665888\ttest: 2012.6840019\tbest: 1841.6533349 (46)\ttotal: 6.7s\tremaining: 294ms\n",
      "479:\tlearn: 2199.8021028\ttest: 2013.3857276\tbest: 1841.6533349 (46)\ttotal: 6.71s\tremaining: 280ms\n",
      "480:\tlearn: 2199.5665888\ttest: 2013.2229478\tbest: 1841.6533349 (46)\ttotal: 6.73s\tremaining: 266ms\n",
      "481:\tlearn: 2199.2032710\ttest: 2015.7080224\tbest: 1841.6533349 (46)\ttotal: 6.75s\tremaining: 252ms\n",
      "482:\tlearn: 2197.7441589\ttest: 2016.9134795\tbest: 1841.6533349 (46)\ttotal: 6.77s\tremaining: 238ms\n",
      "483:\tlearn: 2197.8521028\ttest: 2016.9813433\tbest: 1841.6533349 (46)\ttotal: 6.78s\tremaining: 224ms\n",
      "484:\tlearn: 2198.2214953\ttest: 2019.1401586\tbest: 1841.6533349 (46)\ttotal: 6.8s\tremaining: 210ms\n",
      "485:\tlearn: 2198.2242991\ttest: 2019.1497201\tbest: 1841.6533349 (46)\ttotal: 6.81s\tremaining: 196ms\n",
      "486:\tlearn: 2198.2273364\ttest: 2019.1571828\tbest: 1841.6533349 (46)\ttotal: 6.82s\tremaining: 182ms\n",
      "487:\tlearn: 2198.0151869\ttest: 2019.9305037\tbest: 1841.6533349 (46)\ttotal: 6.83s\tremaining: 168ms\n",
      "488:\tlearn: 2196.7721963\ttest: 2024.9636194\tbest: 1841.6533349 (46)\ttotal: 6.85s\tremaining: 154ms\n",
      "489:\tlearn: 2196.0843458\ttest: 2025.3889925\tbest: 1841.6533349 (46)\ttotal: 6.87s\tremaining: 140ms\n",
      "490:\tlearn: 2196.4369159\ttest: 2025.9179104\tbest: 1841.6533349 (46)\ttotal: 6.89s\tremaining: 126ms\n",
      "491:\tlearn: 2196.5154206\ttest: 2025.8964552\tbest: 1841.6533349 (46)\ttotal: 6.9s\tremaining: 112ms\n",
      "492:\tlearn: 2197.1521028\ttest: 2026.9062500\tbest: 1841.6533349 (46)\ttotal: 6.92s\tremaining: 98.3ms\n",
      "493:\tlearn: 2197.1233645\ttest: 2026.8236940\tbest: 1841.6533349 (46)\ttotal: 6.94s\tremaining: 84.3ms\n",
      "494:\tlearn: 2197.1037383\ttest: 2026.7574627\tbest: 1841.6533349 (46)\ttotal: 6.96s\tremaining: 70.3ms\n",
      "495:\tlearn: 2197.0787383\ttest: 2026.7101213\tbest: 1841.6533349 (46)\ttotal: 6.97s\tremaining: 56.2ms\n",
      "496:\tlearn: 2197.2387850\ttest: 2026.9906716\tbest: 1841.6533349 (46)\ttotal: 6.99s\tremaining: 42.2ms\n",
      "497:\tlearn: 2196.9397196\ttest: 2027.6252332\tbest: 1841.6533349 (46)\ttotal: 7s\tremaining: 28.1ms\n",
      "498:\tlearn: 2197.2053738\ttest: 2025.9960354\tbest: 1841.6533349 (46)\ttotal: 7.02s\tremaining: 14.1ms\n",
      "499:\tlearn: 2197.0460280\ttest: 2025.5666978\tbest: 1841.6533349 (46)\ttotal: 7.04s\tremaining: 0us\n",
      "bestTest = 1841.653335\n",
      "bestIteration = 46\n",
      "Shrink model to first 47 iterations.\n"
     ]
    },
    {
     "data": {
      "text/plain": [
       "<catboost.core.CatBoostRegressor at 0x24963f4ff70>"
      ]
     },
     "execution_count": 24,
     "metadata": {},
     "output_type": "execute_result"
    }
   ],
   "source": [
    "catboost = CatBoostRegressor(n_estimators=500,learning_rate=0.21,eval_metric=\"MAE\",task_type=\"GPU\",random_state=7)\n",
    "catboost.fit(x_train,y_train,[],eval_set=(x_test,y_test))"
   ]
  },
  {
   "cell_type": "code",
   "execution_count": 25,
   "id": "4b7895ce-f83d-40ea-be31-144f86f4ab35",
   "metadata": {},
   "outputs": [
    {
     "data": {
      "text/plain": [
       "{'learn': {'MAE': 2196.0843457943924, 'RMSE': 3829.8523863113287},\n",
       " 'validation': {'MAE': 1841.6533348880596, 'RMSE': 3193.581024679667}}"
      ]
     },
     "execution_count": 25,
     "metadata": {},
     "output_type": "execute_result"
    }
   ],
   "source": [
    "catboost.best_score_"
   ]
  },
  {
   "cell_type": "code",
   "execution_count": 26,
   "id": "acb58749-d73d-4d04-b00c-69e455d2d6b9",
   "metadata": {},
   "outputs": [],
   "source": [
    "predict_cat = catboost.predict(x_test)"
   ]
  },
  {
   "cell_type": "code",
   "execution_count": 27,
   "id": "b4d32170-4269-412f-a50d-d99f28e00f2f",
   "metadata": {},
   "outputs": [],
   "source": [
    "acc = [{\"Algorithm\":\"LinearRegression\",'MAE': metrics.mean_absolute_error(y_test,predict_lr),'MSE': metrics.mean_squared_error(y_test,predict_lr),'R2-Score': metrics.r2_score(y_test,predict_lr)},\n",
    "        {\"Algorithm\":\"RandomForest\",'MAE': metrics.mean_absolute_error(y_test,predict_rf),'MSE': metrics.mean_squared_error(y_test,predict_rf),'R2-Score': metrics.r2_score(y_test,predict_rf)},\n",
    "        {\"Algorithm\":\"Gboost\",'MAE': metrics.mean_absolute_error(y_test,predict_gb),'MSE': metrics.mean_squared_error(y_test,predict_gb),'R2-Score': metrics.r2_score(y_test,predict_gb)},\n",
    "        {\"Algorithm\":\"XGboost\",'MAE': metrics.mean_absolute_error(y_test,predict_xb),'MSE': metrics.mean_squared_error(y_test,predict_xb),'R2-Score': metrics.r2_score(y_test,predict_xb)},\n",
    "        {\"Algorithm\":\"Catboost\",'MAE': metrics.mean_absolute_error(y_test,predict_cat),'MSE': metrics.mean_squared_error(y_test,predict_cat),'R2-Score': metrics.r2_score(y_test,predict_cat)}\n",
    "       ] "
   ]
  },
  {
   "cell_type": "code",
   "execution_count": 28,
   "id": "795b5061-356c-4795-8076-30ef95c622cf",
   "metadata": {},
   "outputs": [
    {
     "data": {
      "text/html": [
       "<div>\n",
       "<style scoped>\n",
       "    .dataframe tbody tr th:only-of-type {\n",
       "        vertical-align: middle;\n",
       "    }\n",
       "\n",
       "    .dataframe tbody tr th {\n",
       "        vertical-align: top;\n",
       "    }\n",
       "\n",
       "    .dataframe thead th {\n",
       "        text-align: right;\n",
       "    }\n",
       "</style>\n",
       "<table border=\"1\" class=\"dataframe\">\n",
       "  <thead>\n",
       "    <tr style=\"text-align: right;\">\n",
       "      <th></th>\n",
       "      <th>Algorithm</th>\n",
       "      <th>MAE</th>\n",
       "      <th>MSE</th>\n",
       "      <th>R2-Score</th>\n",
       "    </tr>\n",
       "  </thead>\n",
       "  <tbody>\n",
       "    <tr>\n",
       "      <th>0</th>\n",
       "      <td>LinearRegression</td>\n",
       "      <td>3804.755176</td>\n",
       "      <td>2.858032e+07</td>\n",
       "      <td>0.798926</td>\n",
       "    </tr>\n",
       "    <tr>\n",
       "      <th>1</th>\n",
       "      <td>RandomForest</td>\n",
       "      <td>2052.136747</td>\n",
       "      <td>1.337069e+07</td>\n",
       "      <td>0.905932</td>\n",
       "    </tr>\n",
       "    <tr>\n",
       "      <th>2</th>\n",
       "      <td>Gboost</td>\n",
       "      <td>1928.616820</td>\n",
       "      <td>1.078905e+07</td>\n",
       "      <td>0.924095</td>\n",
       "    </tr>\n",
       "    <tr>\n",
       "      <th>3</th>\n",
       "      <td>XGboost</td>\n",
       "      <td>1791.840623</td>\n",
       "      <td>1.099885e+07</td>\n",
       "      <td>0.922618</td>\n",
       "    </tr>\n",
       "    <tr>\n",
       "      <th>4</th>\n",
       "      <td>Catboost</td>\n",
       "      <td>1841.653234</td>\n",
       "      <td>1.019896e+07</td>\n",
       "      <td>0.928246</td>\n",
       "    </tr>\n",
       "  </tbody>\n",
       "</table>\n",
       "</div>"
      ],
      "text/plain": [
       "          Algorithm          MAE           MSE  R2-Score\n",
       "0  LinearRegression  3804.755176  2.858032e+07  0.798926\n",
       "1      RandomForest  2052.136747  1.337069e+07  0.905932\n",
       "2            Gboost  1928.616820  1.078905e+07  0.924095\n",
       "3           XGboost  1791.840623  1.099885e+07  0.922618\n",
       "4          Catboost  1841.653234  1.019896e+07  0.928246"
      ]
     },
     "execution_count": 28,
     "metadata": {},
     "output_type": "execute_result"
    }
   ],
   "source": [
    "accurac = pd.DataFrame.from_dict(acc)\n",
    "accurac"
   ]
  }
 ],
 "metadata": {
  "kernelspec": {
   "display_name": "Python 3 (ipykernel)",
   "language": "python",
   "name": "python3"
  },
  "language_info": {
   "codemirror_mode": {
    "name": "ipython",
    "version": 3
   },
   "file_extension": ".py",
   "mimetype": "text/x-python",
   "name": "python",
   "nbconvert_exporter": "python",
   "pygments_lexer": "ipython3",
   "version": "3.9.6"
  }
 },
 "nbformat": 4,
 "nbformat_minor": 5
}
