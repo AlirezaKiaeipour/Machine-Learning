{
 "cells": [
  {
   "cell_type": "markdown",
   "id": "37048a2b-4a8d-4813-94aa-510314e93a9a",
   "metadata": {},
   "source": [
    "## Import Libraries"
   ]
  },
  {
   "cell_type": "code",
   "execution_count": 1,
   "id": "9e90e4ec-8337-432f-9419-22e4a1354045",
   "metadata": {},
   "outputs": [],
   "source": [
    "import pandas as pd\n",
    "import numpy as np\n",
    "from sklearn.preprocessing import LabelEncoder , StandardScaler\n",
    "from sklearn.model_selection import train_test_split\n",
    "from sklearn import metrics\n",
    "from sklearn.neighbors import KNeighborsClassifier\n",
    "from sklearn.svm import SVC\n",
    "from sklearn.ensemble import RandomForestClassifier , AdaBoostClassifier , GradientBoostingClassifier\n",
    "from xgboost import XGBRFClassifier\n",
    "from catboost import CatBoostClassifier\n",
    "import seaborn as sns"
   ]
  },
  {
   "cell_type": "markdown",
   "id": "b4ab401e-2052-4289-ba2c-ed0f2add77fb",
   "metadata": {},
   "source": [
    "# Breast Cancer Dataset"
   ]
  },
  {
   "cell_type": "code",
   "execution_count": 2,
   "id": "be984bc3-217c-4db3-bb88-9a541e0d8e29",
   "metadata": {},
   "outputs": [
    {
     "data": {
      "text/html": [
       "<div>\n",
       "<style scoped>\n",
       "    .dataframe tbody tr th:only-of-type {\n",
       "        vertical-align: middle;\n",
       "    }\n",
       "\n",
       "    .dataframe tbody tr th {\n",
       "        vertical-align: top;\n",
       "    }\n",
       "\n",
       "    .dataframe thead th {\n",
       "        text-align: right;\n",
       "    }\n",
       "</style>\n",
       "<table border=\"1\" class=\"dataframe\">\n",
       "  <thead>\n",
       "    <tr style=\"text-align: right;\">\n",
       "      <th></th>\n",
       "      <th>id</th>\n",
       "      <th>diagnosis</th>\n",
       "      <th>radius_mean</th>\n",
       "      <th>texture_mean</th>\n",
       "      <th>perimeter_mean</th>\n",
       "      <th>area_mean</th>\n",
       "      <th>smoothness_mean</th>\n",
       "      <th>compactness_mean</th>\n",
       "      <th>concavity_mean</th>\n",
       "      <th>concave points_mean</th>\n",
       "      <th>...</th>\n",
       "      <th>radius_worst</th>\n",
       "      <th>texture_worst</th>\n",
       "      <th>perimeter_worst</th>\n",
       "      <th>area_worst</th>\n",
       "      <th>smoothness_worst</th>\n",
       "      <th>compactness_worst</th>\n",
       "      <th>concavity_worst</th>\n",
       "      <th>concave points_worst</th>\n",
       "      <th>symmetry_worst</th>\n",
       "      <th>fractal_dimension_worst</th>\n",
       "    </tr>\n",
       "  </thead>\n",
       "  <tbody>\n",
       "    <tr>\n",
       "      <th>0</th>\n",
       "      <td>842302</td>\n",
       "      <td>M</td>\n",
       "      <td>17.99</td>\n",
       "      <td>10.38</td>\n",
       "      <td>122.80</td>\n",
       "      <td>1001.0</td>\n",
       "      <td>0.11840</td>\n",
       "      <td>0.27760</td>\n",
       "      <td>0.3001</td>\n",
       "      <td>0.14710</td>\n",
       "      <td>...</td>\n",
       "      <td>25.38</td>\n",
       "      <td>17.33</td>\n",
       "      <td>184.60</td>\n",
       "      <td>2019.0</td>\n",
       "      <td>0.1622</td>\n",
       "      <td>0.6656</td>\n",
       "      <td>0.7119</td>\n",
       "      <td>0.2654</td>\n",
       "      <td>0.4601</td>\n",
       "      <td>0.11890</td>\n",
       "    </tr>\n",
       "    <tr>\n",
       "      <th>1</th>\n",
       "      <td>842517</td>\n",
       "      <td>M</td>\n",
       "      <td>20.57</td>\n",
       "      <td>17.77</td>\n",
       "      <td>132.90</td>\n",
       "      <td>1326.0</td>\n",
       "      <td>0.08474</td>\n",
       "      <td>0.07864</td>\n",
       "      <td>0.0869</td>\n",
       "      <td>0.07017</td>\n",
       "      <td>...</td>\n",
       "      <td>24.99</td>\n",
       "      <td>23.41</td>\n",
       "      <td>158.80</td>\n",
       "      <td>1956.0</td>\n",
       "      <td>0.1238</td>\n",
       "      <td>0.1866</td>\n",
       "      <td>0.2416</td>\n",
       "      <td>0.1860</td>\n",
       "      <td>0.2750</td>\n",
       "      <td>0.08902</td>\n",
       "    </tr>\n",
       "    <tr>\n",
       "      <th>2</th>\n",
       "      <td>84300903</td>\n",
       "      <td>M</td>\n",
       "      <td>19.69</td>\n",
       "      <td>21.25</td>\n",
       "      <td>130.00</td>\n",
       "      <td>1203.0</td>\n",
       "      <td>0.10960</td>\n",
       "      <td>0.15990</td>\n",
       "      <td>0.1974</td>\n",
       "      <td>0.12790</td>\n",
       "      <td>...</td>\n",
       "      <td>23.57</td>\n",
       "      <td>25.53</td>\n",
       "      <td>152.50</td>\n",
       "      <td>1709.0</td>\n",
       "      <td>0.1444</td>\n",
       "      <td>0.4245</td>\n",
       "      <td>0.4504</td>\n",
       "      <td>0.2430</td>\n",
       "      <td>0.3613</td>\n",
       "      <td>0.08758</td>\n",
       "    </tr>\n",
       "    <tr>\n",
       "      <th>3</th>\n",
       "      <td>84348301</td>\n",
       "      <td>M</td>\n",
       "      <td>11.42</td>\n",
       "      <td>20.38</td>\n",
       "      <td>77.58</td>\n",
       "      <td>386.1</td>\n",
       "      <td>0.14250</td>\n",
       "      <td>0.28390</td>\n",
       "      <td>0.2414</td>\n",
       "      <td>0.10520</td>\n",
       "      <td>...</td>\n",
       "      <td>14.91</td>\n",
       "      <td>26.50</td>\n",
       "      <td>98.87</td>\n",
       "      <td>567.7</td>\n",
       "      <td>0.2098</td>\n",
       "      <td>0.8663</td>\n",
       "      <td>0.6869</td>\n",
       "      <td>0.2575</td>\n",
       "      <td>0.6638</td>\n",
       "      <td>0.17300</td>\n",
       "    </tr>\n",
       "    <tr>\n",
       "      <th>4</th>\n",
       "      <td>84358402</td>\n",
       "      <td>M</td>\n",
       "      <td>20.29</td>\n",
       "      <td>14.34</td>\n",
       "      <td>135.10</td>\n",
       "      <td>1297.0</td>\n",
       "      <td>0.10030</td>\n",
       "      <td>0.13280</td>\n",
       "      <td>0.1980</td>\n",
       "      <td>0.10430</td>\n",
       "      <td>...</td>\n",
       "      <td>22.54</td>\n",
       "      <td>16.67</td>\n",
       "      <td>152.20</td>\n",
       "      <td>1575.0</td>\n",
       "      <td>0.1374</td>\n",
       "      <td>0.2050</td>\n",
       "      <td>0.4000</td>\n",
       "      <td>0.1625</td>\n",
       "      <td>0.2364</td>\n",
       "      <td>0.07678</td>\n",
       "    </tr>\n",
       "  </tbody>\n",
       "</table>\n",
       "<p>5 rows × 32 columns</p>\n",
       "</div>"
      ],
      "text/plain": [
       "         id diagnosis  radius_mean  texture_mean  perimeter_mean  area_mean  \\\n",
       "0    842302         M        17.99         10.38          122.80     1001.0   \n",
       "1    842517         M        20.57         17.77          132.90     1326.0   \n",
       "2  84300903         M        19.69         21.25          130.00     1203.0   \n",
       "3  84348301         M        11.42         20.38           77.58      386.1   \n",
       "4  84358402         M        20.29         14.34          135.10     1297.0   \n",
       "\n",
       "   smoothness_mean  compactness_mean  concavity_mean  concave points_mean  \\\n",
       "0          0.11840           0.27760          0.3001              0.14710   \n",
       "1          0.08474           0.07864          0.0869              0.07017   \n",
       "2          0.10960           0.15990          0.1974              0.12790   \n",
       "3          0.14250           0.28390          0.2414              0.10520   \n",
       "4          0.10030           0.13280          0.1980              0.10430   \n",
       "\n",
       "   ...  radius_worst  texture_worst  perimeter_worst  area_worst  \\\n",
       "0  ...         25.38          17.33           184.60      2019.0   \n",
       "1  ...         24.99          23.41           158.80      1956.0   \n",
       "2  ...         23.57          25.53           152.50      1709.0   \n",
       "3  ...         14.91          26.50            98.87       567.7   \n",
       "4  ...         22.54          16.67           152.20      1575.0   \n",
       "\n",
       "   smoothness_worst  compactness_worst  concavity_worst  concave points_worst  \\\n",
       "0            0.1622             0.6656           0.7119                0.2654   \n",
       "1            0.1238             0.1866           0.2416                0.1860   \n",
       "2            0.1444             0.4245           0.4504                0.2430   \n",
       "3            0.2098             0.8663           0.6869                0.2575   \n",
       "4            0.1374             0.2050           0.4000                0.1625   \n",
       "\n",
       "   symmetry_worst  fractal_dimension_worst  \n",
       "0          0.4601                  0.11890  \n",
       "1          0.2750                  0.08902  \n",
       "2          0.3613                  0.08758  \n",
       "3          0.6638                  0.17300  \n",
       "4          0.2364                  0.07678  \n",
       "\n",
       "[5 rows x 32 columns]"
      ]
     },
     "execution_count": 2,
     "metadata": {},
     "output_type": "execute_result"
    }
   ],
   "source": [
    "data = pd.read_csv(\"Dataset/breast-cancer.csv\")\n",
    "data.head()"
   ]
  },
  {
   "cell_type": "code",
   "execution_count": 3,
   "id": "f60c469b-4681-4909-b875-96f4610b1e25",
   "metadata": {},
   "outputs": [
    {
     "data": {
      "text/plain": [
       "<AxesSubplot:xlabel='diagnosis', ylabel='count'>"
      ]
     },
     "execution_count": 3,
     "metadata": {},
     "output_type": "execute_result"
    },
    {
     "data": {
      "image/png": "[encoded data removed]",
      "text/plain": [
       "<Figure size 432x288 with 1 Axes>"
      ]
     },
     "metadata": {
      "needs_background": "light"
     },
     "output_type": "display_data"
    }
   ],
   "source": [
    "sns.countplot(x=\"diagnosis\",data=data)"
   ]
  },
  {
   "cell_type": "markdown",
   "id": "a68d2eb9-0b47-44b1-b924-41502bf7cedb",
   "metadata": {
    "tags": []
   },
   "source": [
    "# Preprocessing"
   ]
  },
  {
   "cell_type": "code",
   "execution_count": 4,
   "id": "85fff3df-cec0-48de-b8f0-5ad2aec1c449",
   "metadata": {},
   "outputs": [],
   "source": [
    "X = data.iloc[:,2:]\n",
    "Y = data.diagnosis"
   ]
  },
  {
   "cell_type": "markdown",
   "id": "2b6014ea-9413-49b0-9314-296e5a953f9e",
   "metadata": {},
   "source": [
    "## Scaling\n",
    "### StandardScale"
   ]
  },
  {
   "cell_type": "code",
   "execution_count": 5,
   "id": "0c629b55-809a-4394-b6e3-f30731f8e90c",
   "metadata": {},
   "outputs": [],
   "source": [
    "SS = StandardScaler()\n",
    "X = SS.fit_transform(X)"
   ]
  },
  {
   "cell_type": "markdown",
   "id": "64d60adb-569e-447e-b405-91115af88ed0",
   "metadata": {},
   "source": [
    "## Convert categorical to numeric\n",
    "### Label Encoder"
   ]
  },
  {
   "cell_type": "code",
   "execution_count": 6,
   "id": "ce6d34da-6f8a-4955-a57a-37ceacb05d17",
   "metadata": {},
   "outputs": [],
   "source": [
    "le = LabelEncoder()\n",
    "Y = le.fit_transform(Y)"
   ]
  },
  {
   "cell_type": "code",
   "execution_count": 7,
   "id": "19054797-a2a5-4202-ad1a-fb683d648d3e",
   "metadata": {
    "tags": []
   },
   "outputs": [],
   "source": [
    "x_train , x_test , y_train , y_test = train_test_split(X,Y,test_size=0.2,random_state=10)"
   ]
  },
  {
   "cell_type": "markdown",
   "id": "d944680d-8584-4310-904c-930d30aff115",
   "metadata": {},
   "source": [
    "# Model"
   ]
  },
  {
   "cell_type": "markdown",
   "id": "726005b6-f4f3-4408-a3c3-9476c7450765",
   "metadata": {},
   "source": [
    "### KNeighborsClassifier"
   ]
  },
  {
   "cell_type": "code",
   "execution_count": 8,
   "id": "fca99c21-1230-4e41-9f06-342a5748ad1a",
   "metadata": {},
   "outputs": [],
   "source": [
    "knn = KNeighborsClassifier(n_neighbors=11)\n",
    "knn.fit(x_train,y_train)\n",
    "y_pred = knn.predict(x_test)"
   ]
  },
  {
   "cell_type": "code",
   "execution_count": 9,
   "id": "948b0867-c22a-4dbb-af7a-2a51702210c8",
   "metadata": {},
   "outputs": [
    {
     "name": "stdout",
     "output_type": "stream",
     "text": [
      "              precision    recall  f1-score   support\n",
      "\n",
      "           0       1.00      1.00      1.00        75\n",
      "           1       1.00      1.00      1.00        39\n",
      "\n",
      "    accuracy                           1.00       114\n",
      "   macro avg       1.00      1.00      1.00       114\n",
      "weighted avg       1.00      1.00      1.00       114\n",
      "\n"
     ]
    }
   ],
   "source": [
    "print(metrics.classification_report(y_test,y_pred))"
   ]
  },
  {
   "cell_type": "code",
   "execution_count": 10,
   "id": "92ae2d8f-db92-4f36-9136-7aee08c45ae5",
   "metadata": {},
   "outputs": [
    {
     "name": "stderr",
     "output_type": "stream",
     "text": [
      "c:\\users\\akiai\\appdata\\local\\programs\\python\\python39\\lib\\site-packages\\sklearn\\utils\\deprecation.py:87: FutureWarning: Function plot_confusion_matrix is deprecated; Function `plot_confusion_matrix` is deprecated in 1.0 and will be removed in 1.2. Use one of the class methods: ConfusionMatrixDisplay.from_predictions or ConfusionMatrixDisplay.from_estimator.\n",
      "  warnings.warn(msg, category=FutureWarning)\n"
     ]
    },
    {
     "data": {
      "text/plain": [
       "<sklearn.metrics._plot.confusion_matrix.ConfusionMatrixDisplay at 0x1a6aecb2550>"
      ]
     },
     "execution_count": 10,
     "metadata": {},
     "output_type": "execute_result"
    },
    {
     "data": {
      "image/png": "[encoded data removed]",
      "text/plain": [
       "<Figure size 432x288 with 2 Axes>"
      ]
     },
     "metadata": {
      "needs_background": "light"
     },
     "output_type": "display_data"
    }
   ],
   "source": [
    "metrics.plot_confusion_matrix(knn,x_test,y_test)"
   ]
  },
  {
   "cell_type": "markdown",
   "id": "061c202a-d6e9-484f-b10b-fe32c6e6a9f7",
   "metadata": {},
   "source": [
    "### SVC"
   ]
  },
  {
   "cell_type": "code",
   "execution_count": 11,
   "id": "3d3e6215-e549-4d86-b4e1-78c2df624aff",
   "metadata": {},
   "outputs": [],
   "source": [
    "svc = SVC(C=3,random_state=0)\n",
    "svc.fit(x_train,y_train)\n",
    "predict_svc = svc.predict(x_test)"
   ]
  },
  {
   "cell_type": "code",
   "execution_count": 12,
   "id": "d24148c8-2cf5-425c-b7e5-269566b27014",
   "metadata": {},
   "outputs": [
    {
     "name": "stdout",
     "output_type": "stream",
     "text": [
      "              precision    recall  f1-score   support\n",
      "\n",
      "           0       1.00      0.97      0.99        75\n",
      "           1       0.95      1.00      0.97        39\n",
      "\n",
      "    accuracy                           0.98       114\n",
      "   macro avg       0.98      0.99      0.98       114\n",
      "weighted avg       0.98      0.98      0.98       114\n",
      "\n"
     ]
    }
   ],
   "source": [
    "print(metrics.classification_report(y_test,predict_svc))"
   ]
  },
  {
   "cell_type": "code",
   "execution_count": 13,
   "id": "b6ec3c2e-f8fb-4011-a32c-57798eeb0cc5",
   "metadata": {},
   "outputs": [
    {
     "name": "stderr",
     "output_type": "stream",
     "text": [
      "c:\\users\\akiai\\appdata\\local\\programs\\python\\python39\\lib\\site-packages\\sklearn\\utils\\deprecation.py:87: FutureWarning: Function plot_confusion_matrix is deprecated; Function `plot_confusion_matrix` is deprecated in 1.0 and will be removed in 1.2. Use one of the class methods: ConfusionMatrixDisplay.from_predictions or ConfusionMatrixDisplay.from_estimator.\n",
      "  warnings.warn(msg, category=FutureWarning)\n"
     ]
    },
    {
     "data": {
      "text/plain": [
       "<sklearn.metrics._plot.confusion_matrix.ConfusionMatrixDisplay at 0x1a68b0405e0>"
      ]
     },
     "execution_count": 13,
     "metadata": {},
     "output_type": "execute_result"
    },
    {
     "data": {
      "image/png": "[encoded data removed]",
      "text/plain": [
       "<Figure size 432x288 with 2 Axes>"
      ]
     },
     "metadata": {
      "needs_background": "light"
     },
     "output_type": "display_data"
    }
   ],
   "source": [
    "metrics.plot_confusion_matrix(svc,x_test,y_test)"
   ]
  },
  {
   "cell_type": "markdown",
   "id": "4f093118-351d-47d2-a748-01e250a80453",
   "metadata": {},
   "source": [
    "### RandomForestClassifier"
   ]
  },
  {
   "cell_type": "code",
   "execution_count": 14,
   "id": "de6e4383-b388-4684-92fa-7abf5e8c5b36",
   "metadata": {},
   "outputs": [],
   "source": [
    "RF = RandomForestClassifier(n_estimators=1000,n_jobs=-1,random_state=0)\n",
    "RF.fit(x_train,y_train)\n",
    "predict_rf = RF.predict(x_test)"
   ]
  },
  {
   "cell_type": "code",
   "execution_count": 15,
   "id": "fc160e2b-690d-40ef-9468-4fa20f7c9150",
   "metadata": {},
   "outputs": [
    {
     "name": "stdout",
     "output_type": "stream",
     "text": [
      "              precision    recall  f1-score   support\n",
      "\n",
      "           0       1.00      0.97      0.99        75\n",
      "           1       0.95      1.00      0.97        39\n",
      "\n",
      "    accuracy                           0.98       114\n",
      "   macro avg       0.98      0.99      0.98       114\n",
      "weighted avg       0.98      0.98      0.98       114\n",
      "\n"
     ]
    }
   ],
   "source": [
    "print(metrics.classification_report(y_test,predict_rf))"
   ]
  },
  {
   "cell_type": "code",
   "execution_count": 16,
   "id": "29b074da-7d88-47c4-90f4-f36a56d8be99",
   "metadata": {},
   "outputs": [
    {
     "name": "stderr",
     "output_type": "stream",
     "text": [
      "c:\\users\\akiai\\appdata\\local\\programs\\python\\python39\\lib\\site-packages\\sklearn\\utils\\deprecation.py:87: FutureWarning: Function plot_confusion_matrix is deprecated; Function `plot_confusion_matrix` is deprecated in 1.0 and will be removed in 1.2. Use one of the class methods: ConfusionMatrixDisplay.from_predictions or ConfusionMatrixDisplay.from_estimator.\n",
      "  warnings.warn(msg, category=FutureWarning)\n"
     ]
    },
    {
     "data": {
      "text/plain": [
       "<sklearn.metrics._plot.confusion_matrix.ConfusionMatrixDisplay at 0x1a6aedd5d60>"
      ]
     },
     "execution_count": 16,
     "metadata": {},
     "output_type": "execute_result"
    },
    {
     "data": {
      "image/png": "[encoded data removed]",
      "text/plain": [
       "<Figure size 432x288 with 2 Axes>"
      ]
     },
     "metadata": {
      "needs_background": "light"
     },
     "output_type": "display_data"
    }
   ],
   "source": [
    "metrics.plot_confusion_matrix(RF,x_test,y_test)"
   ]
  },
  {
   "cell_type": "markdown",
   "id": "568d808d-a762-4161-8637-46a387d6412e",
   "metadata": {},
   "source": [
    "### AdaBoostClassifier"
   ]
  },
  {
   "cell_type": "code",
   "execution_count": 17,
   "id": "af18b2c4-49c9-4ace-acbf-19568a79d209",
   "metadata": {},
   "outputs": [],
   "source": [
    "adaboost = AdaBoostClassifier(n_estimators=300,random_state=0)\n",
    "adaboost.fit(x_train,y_train)\n",
    "predict_ab = adaboost.predict(x_test)"
   ]
  },
  {
   "cell_type": "code",
   "execution_count": 18,
   "id": "b33886b0-0dc4-4b18-8f06-b74fffb7c40f",
   "metadata": {},
   "outputs": [
    {
     "name": "stdout",
     "output_type": "stream",
     "text": [
      "              precision    recall  f1-score   support\n",
      "\n",
      "           0       0.99      0.97      0.98        75\n",
      "           1       0.95      0.97      0.96        39\n",
      "\n",
      "    accuracy                           0.97       114\n",
      "   macro avg       0.97      0.97      0.97       114\n",
      "weighted avg       0.97      0.97      0.97       114\n",
      "\n"
     ]
    }
   ],
   "source": [
    "print(metrics.classification_report(y_test,predict_ab))"
   ]
  },
  {
   "cell_type": "code",
   "execution_count": 19,
   "id": "32cbba8d-2534-4dd8-9fef-02b51304a237",
   "metadata": {},
   "outputs": [
    {
     "name": "stderr",
     "output_type": "stream",
     "text": [
      "c:\\users\\akiai\\appdata\\local\\programs\\python\\python39\\lib\\site-packages\\sklearn\\utils\\deprecation.py:87: FutureWarning: Function plot_confusion_matrix is deprecated; Function `plot_confusion_matrix` is deprecated in 1.0 and will be removed in 1.2. Use one of the class methods: ConfusionMatrixDisplay.from_predictions or ConfusionMatrixDisplay.from_estimator.\n",
      "  warnings.warn(msg, category=FutureWarning)\n"
     ]
    },
    {
     "data": {
      "text/plain": [
       "<sklearn.metrics._plot.confusion_matrix.ConfusionMatrixDisplay at 0x1a6aee92790>"
      ]
     },
     "execution_count": 19,
     "metadata": {},
     "output_type": "execute_result"
    },
    {
     "data": {
      "image/png": "[encoded data removed]",
      "text/plain": [
       "<Figure size 432x288 with 2 Axes>"
      ]
     },
     "metadata": {
      "needs_background": "light"
     },
     "output_type": "display_data"
    }
   ],
   "source": [
    "metrics.plot_confusion_matrix(adaboost,x_test,y_test)"
   ]
  },
  {
   "cell_type": "markdown",
   "id": "f94c24bd-6869-4e7e-9122-aa12bfdab440",
   "metadata": {},
   "source": [
    "### GBoostingClassifier"
   ]
  },
  {
   "cell_type": "code",
   "execution_count": 20,
   "id": "0bdf504c-e27f-4571-b842-a47932572fda",
   "metadata": {},
   "outputs": [],
   "source": [
    "Gboost = GradientBoostingClassifier(subsample=0.5,random_state=0)\n",
    "Gboost.fit(x_train,y_train)\n",
    "predict_gb = Gboost.predict(x_test)"
   ]
  },
  {
   "cell_type": "code",
   "execution_count": 21,
   "id": "887d6561-96fb-47c7-b85a-46f29bd1e66f",
   "metadata": {},
   "outputs": [
    {
     "name": "stdout",
     "output_type": "stream",
     "text": [
      "              precision    recall  f1-score   support\n",
      "\n",
      "           0       1.00      0.97      0.99        75\n",
      "           1       0.95      1.00      0.97        39\n",
      "\n",
      "    accuracy                           0.98       114\n",
      "   macro avg       0.98      0.99      0.98       114\n",
      "weighted avg       0.98      0.98      0.98       114\n",
      "\n"
     ]
    }
   ],
   "source": [
    "print(metrics.classification_report(y_test,predict_gb))"
   ]
  },
  {
   "cell_type": "code",
   "execution_count": 22,
   "id": "0bac3171-6c4e-40f9-aa56-2005e1ed0abe",
   "metadata": {},
   "outputs": [
    {
     "name": "stderr",
     "output_type": "stream",
     "text": [
      "c:\\users\\akiai\\appdata\\local\\programs\\python\\python39\\lib\\site-packages\\sklearn\\utils\\deprecation.py:87: FutureWarning: Function plot_confusion_matrix is deprecated; Function `plot_confusion_matrix` is deprecated in 1.0 and will be removed in 1.2. Use one of the class methods: ConfusionMatrixDisplay.from_predictions or ConfusionMatrixDisplay.from_estimator.\n",
      "  warnings.warn(msg, category=FutureWarning)\n"
     ]
    },
    {
     "data": {
      "text/plain": [
       "<sklearn.metrics._plot.confusion_matrix.ConfusionMatrixDisplay at 0x1a6b00a8790>"
      ]
     },
     "execution_count": 22,
     "metadata": {},
     "output_type": "execute_result"
    },
    {
     "data": {
      "image/png": "[encoded data removed]",
      "text/plain": [
       "<Figure size 432x288 with 2 Axes>"
      ]
     },
     "metadata": {
      "needs_background": "light"
     },
     "output_type": "display_data"
    }
   ],
   "source": [
    "metrics.plot_confusion_matrix(Gboost,x_test,y_test)"
   ]
  },
  {
   "cell_type": "markdown",
   "id": "2e38865e-998c-4366-8018-72a05a9589ff",
   "metadata": {},
   "source": [
    "### XGBoostClassifier"
   ]
  },
  {
   "cell_type": "code",
   "execution_count": 23,
   "id": "5c4530be-aba3-4a9d-b7b4-d718d4cfbb2a",
   "metadata": {},
   "outputs": [
    {
     "name": "stderr",
     "output_type": "stream",
     "text": [
      "c:\\users\\akiai\\appdata\\local\\programs\\python\\python39\\lib\\site-packages\\xgboost\\sklearn.py:1224: UserWarning: The use of label encoder in XGBClassifier is deprecated and will be removed in a future release. To remove this warning, do the following: 1) Pass option use_label_encoder=False when constructing XGBClassifier object; and 2) Encode your labels (y) as integers starting with 0, i.e. 0, 1, 2, ..., [num_class - 1].\n",
      "  warnings.warn(label_encoder_deprecation_msg, UserWarning)\n"
     ]
    },
    {
     "name": "stdout",
     "output_type": "stream",
     "text": [
      "[11:35:55] WARNING: C:/Users/Administrator/workspace/xgboost-win64_release_1.5.1/src/learner.cc:1115: Starting in XGBoost 1.3.0, the default evaluation metric used with the objective 'binary:logistic' was changed from 'error' to 'logloss'. Explicitly set eval_metric if you'd like to restore the old behavior.\n"
     ]
    }
   ],
   "source": [
    "XGboost = XGBRFClassifier()\n",
    "XGboost.fit(x_train,y_train)\n",
    "predict_xb = XGboost.predict(x_test)"
   ]
  },
  {
   "cell_type": "code",
   "execution_count": 24,
   "id": "d04603cb-f068-4665-846d-a03e35862ac6",
   "metadata": {},
   "outputs": [
    {
     "name": "stdout",
     "output_type": "stream",
     "text": [
      "              precision    recall  f1-score   support\n",
      "\n",
      "           0       1.00      0.97      0.99        75\n",
      "           1       0.95      1.00      0.97        39\n",
      "\n",
      "    accuracy                           0.98       114\n",
      "   macro avg       0.98      0.99      0.98       114\n",
      "weighted avg       0.98      0.98      0.98       114\n",
      "\n"
     ]
    }
   ],
   "source": [
    "print(metrics.classification_report(y_test,predict_xb))"
   ]
  },
  {
   "cell_type": "code",
   "execution_count": 25,
   "id": "ff12a424-dff6-41b0-9fa7-631f54cd3b9f",
   "metadata": {},
   "outputs": [
    {
     "name": "stderr",
     "output_type": "stream",
     "text": [
      "c:\\users\\akiai\\appdata\\local\\programs\\python\\python39\\lib\\site-packages\\sklearn\\utils\\deprecation.py:87: FutureWarning: Function plot_confusion_matrix is deprecated; Function `plot_confusion_matrix` is deprecated in 1.0 and will be removed in 1.2. Use one of the class methods: ConfusionMatrixDisplay.from_predictions or ConfusionMatrixDisplay.from_estimator.\n",
      "  warnings.warn(msg, category=FutureWarning)\n"
     ]
    },
    {
     "data": {
      "text/plain": [
       "<sklearn.metrics._plot.confusion_matrix.ConfusionMatrixDisplay at 0x1a6aefe6160>"
      ]
     },
     "execution_count": 25,
     "metadata": {},
     "output_type": "execute_result"
    },
    {
     "data": {
      "image/png": "[encoded data removed]",
      "text/plain": [
       "<Figure size 432x288 with 2 Axes>"
      ]
     },
     "metadata": {
      "needs_background": "light"
     },
     "output_type": "display_data"
    }
   ],
   "source": [
    "metrics.plot_confusion_matrix(XGboost,x_test,y_test)"
   ]
  },
  {
   "cell_type": "markdown",
   "id": "00655ff2-dd7d-4271-ae4e-6b4d1c04cf92",
   "metadata": {},
   "source": [
    "### CatBoostClassifier"
   ]
  },
  {
   "cell_type": "code",
   "execution_count": 26,
   "id": "ec7bc8d7-f249-4987-81e9-12096f09eb81",
   "metadata": {},
   "outputs": [
    {
     "name": "stdout",
     "output_type": "stream",
     "text": [
      "0:\tlearn: 0.9780220\ttest: 0.9824561\tbest: 0.9824561 (0)\ttotal: 12ms\tremaining: 2.4s\n",
      "1:\tlearn: 0.9824176\ttest: 0.9736842\tbest: 0.9824561 (0)\ttotal: 21.8ms\tremaining: 2.16s\n",
      "2:\tlearn: 0.9846154\ttest: 0.9649123\tbest: 0.9824561 (0)\ttotal: 31.6ms\tremaining: 2.07s\n",
      "3:\tlearn: 0.9846154\ttest: 0.9649123\tbest: 0.9824561 (0)\ttotal: 40.3ms\tremaining: 1.98s\n",
      "4:\tlearn: 0.9868132\ttest: 0.9824561\tbest: 0.9824561 (0)\ttotal: 50.8ms\tremaining: 1.98s\n",
      "5:\tlearn: 0.9890110\ttest: 0.9824561\tbest: 0.9824561 (0)\ttotal: 61ms\tremaining: 1.97s\n",
      "6:\tlearn: 0.9912088\ttest: 0.9824561\tbest: 0.9824561 (0)\ttotal: 71ms\tremaining: 1.96s\n",
      "7:\tlearn: 0.9912088\ttest: 0.9824561\tbest: 0.9824561 (0)\ttotal: 81.1ms\tremaining: 1.95s\n",
      "8:\tlearn: 0.9934066\ttest: 0.9824561\tbest: 0.9824561 (0)\ttotal: 91.4ms\tremaining: 1.94s\n",
      "9:\tlearn: 0.9934066\ttest: 0.9824561\tbest: 0.9824561 (0)\ttotal: 101ms\tremaining: 1.92s\n",
      "10:\tlearn: 0.9934066\ttest: 0.9912281\tbest: 0.9912281 (10)\ttotal: 110ms\tremaining: 1.89s\n",
      "11:\tlearn: 0.9934066\ttest: 0.9824561\tbest: 0.9912281 (10)\ttotal: 118ms\tremaining: 1.86s\n",
      "12:\tlearn: 0.9934066\ttest: 0.9912281\tbest: 0.9912281 (10)\ttotal: 127ms\tremaining: 1.83s\n",
      "13:\tlearn: 0.9934066\ttest: 0.9912281\tbest: 0.9912281 (10)\ttotal: 136ms\tremaining: 1.81s\n",
      "14:\tlearn: 0.9956044\ttest: 0.9912281\tbest: 0.9912281 (10)\ttotal: 145ms\tremaining: 1.79s\n",
      "15:\tlearn: 0.9956044\ttest: 0.9824561\tbest: 0.9912281 (10)\ttotal: 154ms\tremaining: 1.77s\n",
      "16:\tlearn: 0.9956044\ttest: 0.9824561\tbest: 0.9912281 (10)\ttotal: 163ms\tremaining: 1.75s\n",
      "17:\tlearn: 0.9956044\ttest: 0.9824561\tbest: 0.9912281 (10)\ttotal: 172ms\tremaining: 1.74s\n",
      "18:\tlearn: 0.9956044\ttest: 0.9824561\tbest: 0.9912281 (10)\ttotal: 180ms\tremaining: 1.72s\n",
      "19:\tlearn: 0.9978022\ttest: 0.9824561\tbest: 0.9912281 (10)\ttotal: 190ms\tremaining: 1.71s\n",
      "20:\tlearn: 0.9978022\ttest: 0.9824561\tbest: 0.9912281 (10)\ttotal: 200ms\tremaining: 1.7s\n",
      "21:\tlearn: 0.9978022\ttest: 0.9912281\tbest: 0.9912281 (10)\ttotal: 210ms\tremaining: 1.7s\n",
      "22:\tlearn: 0.9978022\ttest: 0.9824561\tbest: 0.9912281 (10)\ttotal: 219ms\tremaining: 1.69s\n",
      "23:\tlearn: 0.9978022\ttest: 0.9824561\tbest: 0.9912281 (10)\ttotal: 229ms\tremaining: 1.68s\n",
      "24:\tlearn: 0.9978022\ttest: 0.9824561\tbest: 0.9912281 (10)\ttotal: 238ms\tremaining: 1.67s\n",
      "25:\tlearn: 0.9978022\ttest: 0.9824561\tbest: 0.9912281 (10)\ttotal: 248ms\tremaining: 1.66s\n",
      "26:\tlearn: 0.9978022\ttest: 0.9824561\tbest: 0.9912281 (10)\ttotal: 257ms\tremaining: 1.65s\n",
      "27:\tlearn: 0.9978022\ttest: 0.9824561\tbest: 0.9912281 (10)\ttotal: 266ms\tremaining: 1.64s\n",
      "28:\tlearn: 0.9978022\ttest: 0.9736842\tbest: 0.9912281 (10)\ttotal: 276ms\tremaining: 1.63s\n",
      "29:\tlearn: 1.0000000\ttest: 0.9824561\tbest: 0.9912281 (10)\ttotal: 286ms\tremaining: 1.62s\n",
      "30:\tlearn: 1.0000000\ttest: 0.9824561\tbest: 0.9912281 (10)\ttotal: 296ms\tremaining: 1.61s\n",
      "31:\tlearn: 1.0000000\ttest: 0.9824561\tbest: 0.9912281 (10)\ttotal: 304ms\tremaining: 1.6s\n",
      "32:\tlearn: 1.0000000\ttest: 0.9824561\tbest: 0.9912281 (10)\ttotal: 314ms\tremaining: 1.59s\n",
      "33:\tlearn: 1.0000000\ttest: 0.9824561\tbest: 0.9912281 (10)\ttotal: 323ms\tremaining: 1.57s\n",
      "34:\tlearn: 1.0000000\ttest: 0.9736842\tbest: 0.9912281 (10)\ttotal: 331ms\tremaining: 1.56s\n",
      "35:\tlearn: 1.0000000\ttest: 0.9736842\tbest: 0.9912281 (10)\ttotal: 341ms\tremaining: 1.55s\n",
      "36:\tlearn: 1.0000000\ttest: 0.9736842\tbest: 0.9912281 (10)\ttotal: 350ms\tremaining: 1.54s\n",
      "37:\tlearn: 1.0000000\ttest: 0.9736842\tbest: 0.9912281 (10)\ttotal: 359ms\tremaining: 1.53s\n",
      "38:\tlearn: 1.0000000\ttest: 0.9736842\tbest: 0.9912281 (10)\ttotal: 367ms\tremaining: 1.52s\n",
      "39:\tlearn: 1.0000000\ttest: 0.9736842\tbest: 0.9912281 (10)\ttotal: 376ms\tremaining: 1.5s\n",
      "40:\tlearn: 1.0000000\ttest: 0.9736842\tbest: 0.9912281 (10)\ttotal: 387ms\tremaining: 1.5s\n",
      "41:\tlearn: 1.0000000\ttest: 0.9736842\tbest: 0.9912281 (10)\ttotal: 398ms\tremaining: 1.5s\n",
      "42:\tlearn: 1.0000000\ttest: 0.9736842\tbest: 0.9912281 (10)\ttotal: 407ms\tremaining: 1.48s\n",
      "43:\tlearn: 1.0000000\ttest: 0.9736842\tbest: 0.9912281 (10)\ttotal: 417ms\tremaining: 1.48s\n",
      "44:\tlearn: 1.0000000\ttest: 0.9736842\tbest: 0.9912281 (10)\ttotal: 425ms\tremaining: 1.47s\n",
      "45:\tlearn: 1.0000000\ttest: 0.9736842\tbest: 0.9912281 (10)\ttotal: 436ms\tremaining: 1.46s\n",
      "46:\tlearn: 1.0000000\ttest: 0.9736842\tbest: 0.9912281 (10)\ttotal: 445ms\tremaining: 1.45s\n",
      "47:\tlearn: 1.0000000\ttest: 0.9736842\tbest: 0.9912281 (10)\ttotal: 454ms\tremaining: 1.44s\n",
      "48:\tlearn: 1.0000000\ttest: 0.9736842\tbest: 0.9912281 (10)\ttotal: 463ms\tremaining: 1.43s\n",
      "49:\tlearn: 1.0000000\ttest: 0.9736842\tbest: 0.9912281 (10)\ttotal: 474ms\tremaining: 1.42s\n",
      "50:\tlearn: 1.0000000\ttest: 0.9736842\tbest: 0.9912281 (10)\ttotal: 484ms\tremaining: 1.41s\n",
      "51:\tlearn: 1.0000000\ttest: 0.9736842\tbest: 0.9912281 (10)\ttotal: 494ms\tremaining: 1.4s\n",
      "52:\tlearn: 1.0000000\ttest: 0.9736842\tbest: 0.9912281 (10)\ttotal: 502ms\tremaining: 1.39s\n",
      "53:\tlearn: 1.0000000\ttest: 0.9736842\tbest: 0.9912281 (10)\ttotal: 511ms\tremaining: 1.38s\n",
      "54:\tlearn: 1.0000000\ttest: 0.9736842\tbest: 0.9912281 (10)\ttotal: 520ms\tremaining: 1.37s\n",
      "55:\tlearn: 1.0000000\ttest: 0.9736842\tbest: 0.9912281 (10)\ttotal: 530ms\tremaining: 1.36s\n",
      "56:\tlearn: 1.0000000\ttest: 0.9736842\tbest: 0.9912281 (10)\ttotal: 538ms\tremaining: 1.35s\n",
      "57:\tlearn: 1.0000000\ttest: 0.9736842\tbest: 0.9912281 (10)\ttotal: 547ms\tremaining: 1.34s\n",
      "58:\tlearn: 1.0000000\ttest: 0.9736842\tbest: 0.9912281 (10)\ttotal: 556ms\tremaining: 1.33s\n",
      "59:\tlearn: 1.0000000\ttest: 0.9736842\tbest: 0.9912281 (10)\ttotal: 565ms\tremaining: 1.32s\n",
      "60:\tlearn: 1.0000000\ttest: 0.9736842\tbest: 0.9912281 (10)\ttotal: 574ms\tremaining: 1.31s\n",
      "61:\tlearn: 1.0000000\ttest: 0.9736842\tbest: 0.9912281 (10)\ttotal: 586ms\tremaining: 1.3s\n",
      "62:\tlearn: 1.0000000\ttest: 0.9736842\tbest: 0.9912281 (10)\ttotal: 597ms\tremaining: 1.3s\n",
      "63:\tlearn: 1.0000000\ttest: 0.9736842\tbest: 0.9912281 (10)\ttotal: 608ms\tremaining: 1.29s\n",
      "64:\tlearn: 1.0000000\ttest: 0.9736842\tbest: 0.9912281 (10)\ttotal: 624ms\tremaining: 1.29s\n",
      "65:\tlearn: 1.0000000\ttest: 0.9736842\tbest: 0.9912281 (10)\ttotal: 634ms\tremaining: 1.29s\n",
      "66:\tlearn: 1.0000000\ttest: 0.9736842\tbest: 0.9912281 (10)\ttotal: 643ms\tremaining: 1.28s\n",
      "67:\tlearn: 1.0000000\ttest: 0.9736842\tbest: 0.9912281 (10)\ttotal: 653ms\tremaining: 1.27s\n",
      "68:\tlearn: 1.0000000\ttest: 0.9736842\tbest: 0.9912281 (10)\ttotal: 661ms\tremaining: 1.25s\n",
      "69:\tlearn: 1.0000000\ttest: 0.9736842\tbest: 0.9912281 (10)\ttotal: 670ms\tremaining: 1.24s\n",
      "70:\tlearn: 1.0000000\ttest: 0.9736842\tbest: 0.9912281 (10)\ttotal: 679ms\tremaining: 1.23s\n",
      "71:\tlearn: 1.0000000\ttest: 0.9736842\tbest: 0.9912281 (10)\ttotal: 688ms\tremaining: 1.22s\n",
      "72:\tlearn: 1.0000000\ttest: 0.9736842\tbest: 0.9912281 (10)\ttotal: 697ms\tremaining: 1.21s\n",
      "73:\tlearn: 1.0000000\ttest: 0.9736842\tbest: 0.9912281 (10)\ttotal: 709ms\tremaining: 1.21s\n",
      "74:\tlearn: 1.0000000\ttest: 0.9736842\tbest: 0.9912281 (10)\ttotal: 719ms\tremaining: 1.2s\n",
      "75:\tlearn: 1.0000000\ttest: 0.9736842\tbest: 0.9912281 (10)\ttotal: 731ms\tremaining: 1.19s\n",
      "76:\tlearn: 1.0000000\ttest: 0.9736842\tbest: 0.9912281 (10)\ttotal: 740ms\tremaining: 1.18s\n",
      "77:\tlearn: 1.0000000\ttest: 0.9736842\tbest: 0.9912281 (10)\ttotal: 748ms\tremaining: 1.17s\n",
      "78:\tlearn: 1.0000000\ttest: 0.9736842\tbest: 0.9912281 (10)\ttotal: 758ms\tremaining: 1.16s\n",
      "79:\tlearn: 1.0000000\ttest: 0.9736842\tbest: 0.9912281 (10)\ttotal: 767ms\tremaining: 1.15s\n",
      "80:\tlearn: 1.0000000\ttest: 0.9736842\tbest: 0.9912281 (10)\ttotal: 778ms\tremaining: 1.14s\n",
      "81:\tlearn: 1.0000000\ttest: 0.9736842\tbest: 0.9912281 (10)\ttotal: 790ms\tremaining: 1.14s\n",
      "82:\tlearn: 1.0000000\ttest: 0.9736842\tbest: 0.9912281 (10)\ttotal: 799ms\tremaining: 1.13s\n",
      "83:\tlearn: 1.0000000\ttest: 0.9736842\tbest: 0.9912281 (10)\ttotal: 809ms\tremaining: 1.12s\n",
      "84:\tlearn: 1.0000000\ttest: 0.9736842\tbest: 0.9912281 (10)\ttotal: 820ms\tremaining: 1.11s\n",
      "85:\tlearn: 1.0000000\ttest: 0.9736842\tbest: 0.9912281 (10)\ttotal: 829ms\tremaining: 1.1s\n",
      "86:\tlearn: 1.0000000\ttest: 0.9736842\tbest: 0.9912281 (10)\ttotal: 838ms\tremaining: 1.09s\n",
      "87:\tlearn: 1.0000000\ttest: 0.9736842\tbest: 0.9912281 (10)\ttotal: 847ms\tremaining: 1.08s\n",
      "88:\tlearn: 1.0000000\ttest: 0.9736842\tbest: 0.9912281 (10)\ttotal: 856ms\tremaining: 1.07s\n",
      "89:\tlearn: 1.0000000\ttest: 0.9736842\tbest: 0.9912281 (10)\ttotal: 865ms\tremaining: 1.06s\n",
      "90:\tlearn: 1.0000000\ttest: 0.9736842\tbest: 0.9912281 (10)\ttotal: 873ms\tremaining: 1.05s\n",
      "91:\tlearn: 1.0000000\ttest: 0.9736842\tbest: 0.9912281 (10)\ttotal: 882ms\tremaining: 1.03s\n",
      "92:\tlearn: 1.0000000\ttest: 0.9736842\tbest: 0.9912281 (10)\ttotal: 891ms\tremaining: 1.02s\n",
      "93:\tlearn: 1.0000000\ttest: 0.9736842\tbest: 0.9912281 (10)\ttotal: 900ms\tremaining: 1.01s\n",
      "94:\tlearn: 1.0000000\ttest: 0.9736842\tbest: 0.9912281 (10)\ttotal: 909ms\tremaining: 1s\n",
      "95:\tlearn: 1.0000000\ttest: 0.9736842\tbest: 0.9912281 (10)\ttotal: 918ms\tremaining: 995ms\n",
      "96:\tlearn: 1.0000000\ttest: 0.9736842\tbest: 0.9912281 (10)\ttotal: 927ms\tremaining: 984ms\n",
      "97:\tlearn: 1.0000000\ttest: 0.9736842\tbest: 0.9912281 (10)\ttotal: 936ms\tremaining: 974ms\n",
      "98:\tlearn: 1.0000000\ttest: 0.9736842\tbest: 0.9912281 (10)\ttotal: 945ms\tremaining: 964ms\n",
      "99:\tlearn: 1.0000000\ttest: 0.9736842\tbest: 0.9912281 (10)\ttotal: 953ms\tremaining: 953ms\n",
      "100:\tlearn: 1.0000000\ttest: 0.9736842\tbest: 0.9912281 (10)\ttotal: 964ms\tremaining: 945ms\n",
      "101:\tlearn: 1.0000000\ttest: 0.9736842\tbest: 0.9912281 (10)\ttotal: 975ms\tremaining: 937ms\n",
      "102:\tlearn: 1.0000000\ttest: 0.9736842\tbest: 0.9912281 (10)\ttotal: 984ms\tremaining: 926ms\n",
      "103:\tlearn: 1.0000000\ttest: 0.9736842\tbest: 0.9912281 (10)\ttotal: 993ms\tremaining: 917ms\n",
      "104:\tlearn: 1.0000000\ttest: 0.9736842\tbest: 0.9912281 (10)\ttotal: 1s\tremaining: 908ms\n",
      "105:\tlearn: 1.0000000\ttest: 0.9736842\tbest: 0.9912281 (10)\ttotal: 1.01s\tremaining: 898ms\n",
      "106:\tlearn: 1.0000000\ttest: 0.9736842\tbest: 0.9912281 (10)\ttotal: 1.02s\tremaining: 889ms\n",
      "107:\tlearn: 1.0000000\ttest: 0.9736842\tbest: 0.9912281 (10)\ttotal: 1.03s\tremaining: 880ms\n",
      "108:\tlearn: 1.0000000\ttest: 0.9736842\tbest: 0.9912281 (10)\ttotal: 1.04s\tremaining: 870ms\n",
      "109:\tlearn: 1.0000000\ttest: 0.9736842\tbest: 0.9912281 (10)\ttotal: 1.05s\tremaining: 860ms\n",
      "110:\tlearn: 1.0000000\ttest: 0.9736842\tbest: 0.9912281 (10)\ttotal: 1.06s\tremaining: 850ms\n",
      "111:\tlearn: 1.0000000\ttest: 0.9736842\tbest: 0.9912281 (10)\ttotal: 1.07s\tremaining: 840ms\n",
      "112:\tlearn: 1.0000000\ttest: 0.9736842\tbest: 0.9912281 (10)\ttotal: 1.08s\tremaining: 829ms\n",
      "113:\tlearn: 1.0000000\ttest: 0.9736842\tbest: 0.9912281 (10)\ttotal: 1.09s\tremaining: 819ms\n",
      "114:\tlearn: 1.0000000\ttest: 0.9736842\tbest: 0.9912281 (10)\ttotal: 1.1s\tremaining: 810ms\n",
      "115:\tlearn: 1.0000000\ttest: 0.9736842\tbest: 0.9912281 (10)\ttotal: 1.11s\tremaining: 801ms\n",
      "116:\tlearn: 1.0000000\ttest: 0.9736842\tbest: 0.9912281 (10)\ttotal: 1.12s\tremaining: 792ms\n",
      "117:\tlearn: 1.0000000\ttest: 0.9736842\tbest: 0.9912281 (10)\ttotal: 1.13s\tremaining: 783ms\n",
      "118:\tlearn: 1.0000000\ttest: 0.9736842\tbest: 0.9912281 (10)\ttotal: 1.13s\tremaining: 772ms\n",
      "119:\tlearn: 1.0000000\ttest: 0.9736842\tbest: 0.9912281 (10)\ttotal: 1.14s\tremaining: 763ms\n",
      "120:\tlearn: 1.0000000\ttest: 0.9736842\tbest: 0.9912281 (10)\ttotal: 1.15s\tremaining: 753ms\n",
      "121:\tlearn: 1.0000000\ttest: 0.9736842\tbest: 0.9912281 (10)\ttotal: 1.16s\tremaining: 744ms\n",
      "122:\tlearn: 1.0000000\ttest: 0.9736842\tbest: 0.9912281 (10)\ttotal: 1.18s\tremaining: 736ms\n",
      "123:\tlearn: 1.0000000\ttest: 0.9736842\tbest: 0.9912281 (10)\ttotal: 1.18s\tremaining: 726ms\n",
      "124:\tlearn: 1.0000000\ttest: 0.9736842\tbest: 0.9912281 (10)\ttotal: 1.19s\tremaining: 716ms\n",
      "125:\tlearn: 1.0000000\ttest: 0.9736842\tbest: 0.9912281 (10)\ttotal: 1.2s\tremaining: 706ms\n",
      "126:\tlearn: 1.0000000\ttest: 0.9736842\tbest: 0.9912281 (10)\ttotal: 1.21s\tremaining: 696ms\n",
      "127:\tlearn: 1.0000000\ttest: 0.9736842\tbest: 0.9912281 (10)\ttotal: 1.22s\tremaining: 687ms\n",
      "128:\tlearn: 1.0000000\ttest: 0.9736842\tbest: 0.9912281 (10)\ttotal: 1.23s\tremaining: 677ms\n",
      "129:\tlearn: 1.0000000\ttest: 0.9736842\tbest: 0.9912281 (10)\ttotal: 1.24s\tremaining: 667ms\n",
      "130:\tlearn: 1.0000000\ttest: 0.9736842\tbest: 0.9912281 (10)\ttotal: 1.25s\tremaining: 657ms\n",
      "131:\tlearn: 1.0000000\ttest: 0.9736842\tbest: 0.9912281 (10)\ttotal: 1.26s\tremaining: 647ms\n",
      "132:\tlearn: 1.0000000\ttest: 0.9736842\tbest: 0.9912281 (10)\ttotal: 1.26s\tremaining: 637ms\n",
      "133:\tlearn: 1.0000000\ttest: 0.9736842\tbest: 0.9912281 (10)\ttotal: 1.27s\tremaining: 628ms\n",
      "134:\tlearn: 1.0000000\ttest: 0.9736842\tbest: 0.9912281 (10)\ttotal: 1.28s\tremaining: 618ms\n",
      "135:\tlearn: 1.0000000\ttest: 0.9736842\tbest: 0.9912281 (10)\ttotal: 1.29s\tremaining: 608ms\n",
      "136:\tlearn: 1.0000000\ttest: 0.9736842\tbest: 0.9912281 (10)\ttotal: 1.3s\tremaining: 598ms\n",
      "137:\tlearn: 1.0000000\ttest: 0.9736842\tbest: 0.9912281 (10)\ttotal: 1.31s\tremaining: 588ms\n",
      "138:\tlearn: 1.0000000\ttest: 0.9736842\tbest: 0.9912281 (10)\ttotal: 1.32s\tremaining: 578ms\n",
      "139:\tlearn: 1.0000000\ttest: 0.9736842\tbest: 0.9912281 (10)\ttotal: 1.33s\tremaining: 569ms\n",
      "140:\tlearn: 1.0000000\ttest: 0.9736842\tbest: 0.9912281 (10)\ttotal: 1.34s\tremaining: 559ms\n",
      "141:\tlearn: 1.0000000\ttest: 0.9736842\tbest: 0.9912281 (10)\ttotal: 1.34s\tremaining: 549ms\n",
      "142:\tlearn: 1.0000000\ttest: 0.9736842\tbest: 0.9912281 (10)\ttotal: 1.35s\tremaining: 540ms\n",
      "143:\tlearn: 1.0000000\ttest: 0.9736842\tbest: 0.9912281 (10)\ttotal: 1.37s\tremaining: 531ms\n",
      "144:\tlearn: 1.0000000\ttest: 0.9736842\tbest: 0.9912281 (10)\ttotal: 1.38s\tremaining: 522ms\n",
      "145:\tlearn: 1.0000000\ttest: 0.9736842\tbest: 0.9912281 (10)\ttotal: 1.39s\tremaining: 512ms\n",
      "146:\tlearn: 1.0000000\ttest: 0.9736842\tbest: 0.9912281 (10)\ttotal: 1.4s\tremaining: 503ms\n",
      "147:\tlearn: 1.0000000\ttest: 0.9736842\tbest: 0.9912281 (10)\ttotal: 1.41s\tremaining: 494ms\n",
      "148:\tlearn: 1.0000000\ttest: 0.9736842\tbest: 0.9912281 (10)\ttotal: 1.41s\tremaining: 484ms\n",
      "149:\tlearn: 1.0000000\ttest: 0.9736842\tbest: 0.9912281 (10)\ttotal: 1.42s\tremaining: 474ms\n",
      "150:\tlearn: 1.0000000\ttest: 0.9736842\tbest: 0.9912281 (10)\ttotal: 1.43s\tremaining: 465ms\n",
      "151:\tlearn: 1.0000000\ttest: 0.9736842\tbest: 0.9912281 (10)\ttotal: 1.44s\tremaining: 455ms\n",
      "152:\tlearn: 1.0000000\ttest: 0.9736842\tbest: 0.9912281 (10)\ttotal: 1.45s\tremaining: 445ms\n",
      "153:\tlearn: 1.0000000\ttest: 0.9736842\tbest: 0.9912281 (10)\ttotal: 1.46s\tremaining: 435ms\n",
      "154:\tlearn: 1.0000000\ttest: 0.9736842\tbest: 0.9912281 (10)\ttotal: 1.47s\tremaining: 426ms\n",
      "155:\tlearn: 1.0000000\ttest: 0.9736842\tbest: 0.9912281 (10)\ttotal: 1.48s\tremaining: 416ms\n",
      "156:\tlearn: 1.0000000\ttest: 0.9736842\tbest: 0.9912281 (10)\ttotal: 1.48s\tremaining: 406ms\n",
      "157:\tlearn: 1.0000000\ttest: 0.9736842\tbest: 0.9912281 (10)\ttotal: 1.49s\tremaining: 397ms\n",
      "158:\tlearn: 1.0000000\ttest: 0.9736842\tbest: 0.9912281 (10)\ttotal: 1.5s\tremaining: 387ms\n",
      "159:\tlearn: 1.0000000\ttest: 0.9736842\tbest: 0.9912281 (10)\ttotal: 1.51s\tremaining: 378ms\n",
      "160:\tlearn: 1.0000000\ttest: 0.9736842\tbest: 0.9912281 (10)\ttotal: 1.52s\tremaining: 368ms\n",
      "161:\tlearn: 1.0000000\ttest: 0.9736842\tbest: 0.9912281 (10)\ttotal: 1.53s\tremaining: 358ms\n",
      "162:\tlearn: 1.0000000\ttest: 0.9736842\tbest: 0.9912281 (10)\ttotal: 1.54s\tremaining: 349ms\n",
      "163:\tlearn: 1.0000000\ttest: 0.9736842\tbest: 0.9912281 (10)\ttotal: 1.55s\tremaining: 340ms\n",
      "164:\tlearn: 1.0000000\ttest: 0.9736842\tbest: 0.9912281 (10)\ttotal: 1.56s\tremaining: 331ms\n",
      "165:\tlearn: 1.0000000\ttest: 0.9736842\tbest: 0.9912281 (10)\ttotal: 1.57s\tremaining: 321ms\n",
      "166:\tlearn: 1.0000000\ttest: 0.9736842\tbest: 0.9912281 (10)\ttotal: 1.58s\tremaining: 312ms\n",
      "167:\tlearn: 1.0000000\ttest: 0.9736842\tbest: 0.9912281 (10)\ttotal: 1.59s\tremaining: 302ms\n",
      "168:\tlearn: 1.0000000\ttest: 0.9736842\tbest: 0.9912281 (10)\ttotal: 1.6s\tremaining: 293ms\n",
      "169:\tlearn: 1.0000000\ttest: 0.9736842\tbest: 0.9912281 (10)\ttotal: 1.61s\tremaining: 284ms\n",
      "170:\tlearn: 1.0000000\ttest: 0.9736842\tbest: 0.9912281 (10)\ttotal: 1.62s\tremaining: 274ms\n",
      "171:\tlearn: 1.0000000\ttest: 0.9736842\tbest: 0.9912281 (10)\ttotal: 1.63s\tremaining: 265ms\n",
      "172:\tlearn: 1.0000000\ttest: 0.9736842\tbest: 0.9912281 (10)\ttotal: 1.64s\tremaining: 255ms\n",
      "173:\tlearn: 1.0000000\ttest: 0.9736842\tbest: 0.9912281 (10)\ttotal: 1.65s\tremaining: 246ms\n",
      "174:\tlearn: 1.0000000\ttest: 0.9736842\tbest: 0.9912281 (10)\ttotal: 1.66s\tremaining: 237ms\n",
      "175:\tlearn: 1.0000000\ttest: 0.9736842\tbest: 0.9912281 (10)\ttotal: 1.67s\tremaining: 227ms\n",
      "176:\tlearn: 1.0000000\ttest: 0.9736842\tbest: 0.9912281 (10)\ttotal: 1.67s\tremaining: 218ms\n",
      "177:\tlearn: 1.0000000\ttest: 0.9736842\tbest: 0.9912281 (10)\ttotal: 1.68s\tremaining: 208ms\n",
      "178:\tlearn: 1.0000000\ttest: 0.9736842\tbest: 0.9912281 (10)\ttotal: 1.69s\tremaining: 199ms\n",
      "179:\tlearn: 1.0000000\ttest: 0.9736842\tbest: 0.9912281 (10)\ttotal: 1.7s\tremaining: 189ms\n",
      "180:\tlearn: 1.0000000\ttest: 0.9736842\tbest: 0.9912281 (10)\ttotal: 1.71s\tremaining: 180ms\n",
      "181:\tlearn: 1.0000000\ttest: 0.9736842\tbest: 0.9912281 (10)\ttotal: 1.72s\tremaining: 170ms\n",
      "182:\tlearn: 1.0000000\ttest: 0.9736842\tbest: 0.9912281 (10)\ttotal: 1.73s\tremaining: 161ms\n",
      "183:\tlearn: 1.0000000\ttest: 0.9736842\tbest: 0.9912281 (10)\ttotal: 1.74s\tremaining: 152ms\n",
      "184:\tlearn: 1.0000000\ttest: 0.9736842\tbest: 0.9912281 (10)\ttotal: 1.75s\tremaining: 142ms\n",
      "185:\tlearn: 1.0000000\ttest: 0.9736842\tbest: 0.9912281 (10)\ttotal: 1.76s\tremaining: 133ms\n",
      "186:\tlearn: 1.0000000\ttest: 0.9736842\tbest: 0.9912281 (10)\ttotal: 1.77s\tremaining: 123ms\n",
      "187:\tlearn: 1.0000000\ttest: 0.9736842\tbest: 0.9912281 (10)\ttotal: 1.78s\tremaining: 114ms\n",
      "188:\tlearn: 1.0000000\ttest: 0.9736842\tbest: 0.9912281 (10)\ttotal: 1.79s\tremaining: 104ms\n",
      "189:\tlearn: 1.0000000\ttest: 0.9736842\tbest: 0.9912281 (10)\ttotal: 1.8s\tremaining: 94.7ms\n",
      "190:\tlearn: 1.0000000\ttest: 0.9736842\tbest: 0.9912281 (10)\ttotal: 1.81s\tremaining: 85.2ms\n",
      "191:\tlearn: 1.0000000\ttest: 0.9736842\tbest: 0.9912281 (10)\ttotal: 1.82s\tremaining: 75.7ms\n",
      "192:\tlearn: 1.0000000\ttest: 0.9736842\tbest: 0.9912281 (10)\ttotal: 1.82s\tremaining: 66.2ms\n",
      "193:\tlearn: 1.0000000\ttest: 0.9736842\tbest: 0.9912281 (10)\ttotal: 1.83s\tremaining: 56.7ms\n",
      "194:\tlearn: 1.0000000\ttest: 0.9736842\tbest: 0.9912281 (10)\ttotal: 1.84s\tremaining: 47.3ms\n",
      "195:\tlearn: 1.0000000\ttest: 0.9736842\tbest: 0.9912281 (10)\ttotal: 1.85s\tremaining: 37.8ms\n",
      "196:\tlearn: 1.0000000\ttest: 0.9736842\tbest: 0.9912281 (10)\ttotal: 1.86s\tremaining: 28.3ms\n",
      "197:\tlearn: 1.0000000\ttest: 0.9736842\tbest: 0.9912281 (10)\ttotal: 1.87s\tremaining: 18.9ms\n",
      "198:\tlearn: 1.0000000\ttest: 0.9736842\tbest: 0.9912281 (10)\ttotal: 1.88s\tremaining: 9.44ms\n",
      "199:\tlearn: 1.0000000\ttest: 0.9736842\tbest: 0.9912281 (10)\ttotal: 1.89s\tremaining: 0us\n",
      "bestTest = 0.9912280702\n",
      "bestIteration = 10\n",
      "Shrink model to first 11 iterations.\n"
     ]
    },
    {
     "data": {
      "text/plain": [
       "<catboost.core.CatBoostClassifier at 0x1a6b008cb80>"
      ]
     },
     "execution_count": 26,
     "metadata": {},
     "output_type": "execute_result"
    }
   ],
   "source": [
    "catboost = CatBoostClassifier(iterations=200,learning_rate=0.1,eval_metric=\"Accuracy\",task_type=\"GPU\",random_state=0)\n",
    "catboost.fit(x_train,y_train,[],eval_set=(x_test,y_test))"
   ]
  },
  {
   "cell_type": "code",
   "execution_count": 27,
   "id": "c3ae423a-7995-42ee-a251-b57ea2ee778c",
   "metadata": {},
   "outputs": [
    {
     "data": {
      "text/plain": [
       "{'learn': {'Accuracy': 1.0, 'Logloss': 0.0019069506571843073},\n",
       " 'validation': {'Accuracy': 0.9912280701754386,\n",
       "  'Logloss': 0.050833229433026234}}"
      ]
     },
     "execution_count": 27,
     "metadata": {},
     "output_type": "execute_result"
    }
   ],
   "source": [
    "catboost.best_score_"
   ]
  },
  {
   "cell_type": "code",
   "execution_count": 28,
   "id": "c4055ec9-23d1-4965-848f-ab5059ca9f28",
   "metadata": {},
   "outputs": [
    {
     "name": "stdout",
     "output_type": "stream",
     "text": [
      "              precision    recall  f1-score   support\n",
      "\n",
      "           0       1.00      0.99      0.99        75\n",
      "           1       0.97      1.00      0.99        39\n",
      "\n",
      "    accuracy                           0.99       114\n",
      "   macro avg       0.99      0.99      0.99       114\n",
      "weighted avg       0.99      0.99      0.99       114\n",
      "\n"
     ]
    }
   ],
   "source": [
    "predict_cat = catboost.predict(x_test)\n",
    "print(metrics.classification_report(y_test,predict_cat))"
   ]
  },
  {
   "cell_type": "code",
   "execution_count": 29,
   "id": "37ce7204-0e9f-4518-a93f-a3bf654e493b",
   "metadata": {},
   "outputs": [
    {
     "name": "stderr",
     "output_type": "stream",
     "text": [
      "c:\\users\\akiai\\appdata\\local\\programs\\python\\python39\\lib\\site-packages\\sklearn\\utils\\deprecation.py:87: FutureWarning: Function plot_confusion_matrix is deprecated; Function `plot_confusion_matrix` is deprecated in 1.0 and will be removed in 1.2. Use one of the class methods: ConfusionMatrixDisplay.from_predictions or ConfusionMatrixDisplay.from_estimator.\n",
      "  warnings.warn(msg, category=FutureWarning)\n"
     ]
    },
    {
     "data": {
      "text/plain": [
       "<sklearn.metrics._plot.confusion_matrix.ConfusionMatrixDisplay at 0x1a6aecb2640>"
      ]
     },
     "execution_count": 29,
     "metadata": {},
     "output_type": "execute_result"
    },
    {
     "data": {
      "image/png": "[encoded data removed]",
      "text/plain": [
       "<Figure size 432x288 with 2 Axes>"
      ]
     },
     "metadata": {
      "needs_background": "light"
     },
     "output_type": "display_data"
    }
   ],
   "source": [
    "metrics.plot_confusion_matrix(catboost,x_test,y_test)"
   ]
  }
 ],
 "metadata": {
  "kernelspec": {
   "display_name": "Python 3 (ipykernel)",
   "language": "python",
   "name": "python3"
  },
  "language_info": {
   "codemirror_mode": {
    "name": "ipython",
    "version": 3
   },
   "file_extension": ".py",
   "mimetype": "text/x-python",
   "name": "python",
   "nbconvert_exporter": "python",
   "pygments_lexer": "ipython3",
   "version": "3.9.6"
  }
 },
 "nbformat": 4,
 "nbformat_minor": 5
}
