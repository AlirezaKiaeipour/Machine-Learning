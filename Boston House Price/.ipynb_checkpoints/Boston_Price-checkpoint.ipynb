{
 "cells": [
  {
   "cell_type": "markdown",
   "id": "b72a88e6-0ab5-44f7-a91c-756fecdee369",
   "metadata": {},
   "source": [
    "## Information About Dataset\n",
    "\n",
    "**CRIM:** per capita crime rate by town\n",
    "\n",
    "**ZN:** proportion of residential land zoned for lots over 25,000 sq.ft.\n",
    "\n",
    "**INDUS:** proportion of non-retail business acres per town\n",
    "\n",
    "**CHAS:** Charles River dummy variable (1 if tract bounds river; 0 otherwise)\n",
    "\n",
    "**NOX:** nitric oxides concentration (parts per 10 million) [parts/10M]\n",
    "\n",
    "**RM:** average number of rooms per dwelling\n",
    "\n",
    "**AGE:** proportion of owner-occupied units built prior to 1940\n",
    "\n",
    "**DIS:** weighted distances to five Boston employment centres\n",
    "\n",
    "**RAD:** index of accessibility to radial highways\n",
    "\n",
    "**TAX:** full-value property-tax rate per $10,000 [$/10k]\n",
    "\n",
    "**PTRATIO:** pupil-teacher ratio by town\n",
    "\n",
    "**B:** The result of the equation B=1000(Bk - 0.63)^2 where Bk is the proportion of blacks by town\n",
    "\n",
    "**LSTAT:** % lower status of the population\n",
    "\n",
    "**MEDV:** Median value of owner-occupied homes in $1000's [k$]"
   ]
  },
  {
   "cell_type": "markdown",
   "id": "9d53b67b-3940-4269-a266-9d606ef8eb20",
   "metadata": {},
   "source": [
    "## Import Libraries & Load Dataset"
   ]
  },
  {
   "cell_type": "code",
   "execution_count": 1,
   "id": "68142f7b-94a0-42a3-8989-f2039050dcf7",
   "metadata": {},
   "outputs": [],
   "source": [
    "import pandas as pd\n",
    "from sklearn.preprocessing import StandardScaler\n",
    "from sklearn.model_selection import train_test_split\n",
    "from sklearn import metrics\n",
    "from sklearn.linear_model import LinearRegression\n",
    "from sklearn.svm import SVR\n",
    "from sklearn.ensemble import RandomForestRegressor , GradientBoostingRegressor , AdaBoostRegressor\n",
    "from xgboost import XGBRFRegressor\n",
    "from catboost import CatBoostRegressor\n",
    "import matplotlib.pyplot as plt\n",
    "import seaborn as sns"
   ]
  },
  {
   "cell_type": "code",
   "execution_count": 2,
   "id": "fe669cd2-c7f9-4563-83d3-81776a47823a",
   "metadata": {},
   "outputs": [
    {
     "data": {
      "text/html": [
       "<div>\n",
       "<style scoped>\n",
       "    .dataframe tbody tr th:only-of-type {\n",
       "        vertical-align: middle;\n",
       "    }\n",
       "\n",
       "    .dataframe tbody tr th {\n",
       "        vertical-align: top;\n",
       "    }\n",
       "\n",
       "    .dataframe thead th {\n",
       "        text-align: right;\n",
       "    }\n",
       "</style>\n",
       "<table border=\"1\" class=\"dataframe\">\n",
       "  <thead>\n",
       "    <tr style=\"text-align: right;\">\n",
       "      <th></th>\n",
       "      <th>CRIM</th>\n",
       "      <th>ZN</th>\n",
       "      <th>INDUS</th>\n",
       "      <th>CHAS</th>\n",
       "      <th>NOX</th>\n",
       "      <th>RM</th>\n",
       "      <th>AGE</th>\n",
       "      <th>DIS</th>\n",
       "      <th>RAD</th>\n",
       "      <th>TAX</th>\n",
       "      <th>PTRATIO</th>\n",
       "      <th>B</th>\n",
       "      <th>LSTAT</th>\n",
       "      <th>MEDV</th>\n",
       "    </tr>\n",
       "  </thead>\n",
       "  <tbody>\n",
       "    <tr>\n",
       "      <th>0</th>\n",
       "      <td>0.00632</td>\n",
       "      <td>18.0</td>\n",
       "      <td>2.31</td>\n",
       "      <td>0</td>\n",
       "      <td>0.538</td>\n",
       "      <td>6.575</td>\n",
       "      <td>65.2</td>\n",
       "      <td>4.0900</td>\n",
       "      <td>1</td>\n",
       "      <td>296.0</td>\n",
       "      <td>15.3</td>\n",
       "      <td>396.90</td>\n",
       "      <td>4.98</td>\n",
       "      <td>24.0</td>\n",
       "    </tr>\n",
       "    <tr>\n",
       "      <th>1</th>\n",
       "      <td>0.02731</td>\n",
       "      <td>0.0</td>\n",
       "      <td>7.07</td>\n",
       "      <td>0</td>\n",
       "      <td>0.469</td>\n",
       "      <td>6.421</td>\n",
       "      <td>78.9</td>\n",
       "      <td>4.9671</td>\n",
       "      <td>2</td>\n",
       "      <td>242.0</td>\n",
       "      <td>17.8</td>\n",
       "      <td>396.90</td>\n",
       "      <td>9.14</td>\n",
       "      <td>21.6</td>\n",
       "    </tr>\n",
       "    <tr>\n",
       "      <th>2</th>\n",
       "      <td>0.02729</td>\n",
       "      <td>0.0</td>\n",
       "      <td>7.07</td>\n",
       "      <td>0</td>\n",
       "      <td>0.469</td>\n",
       "      <td>7.185</td>\n",
       "      <td>61.1</td>\n",
       "      <td>4.9671</td>\n",
       "      <td>2</td>\n",
       "      <td>242.0</td>\n",
       "      <td>17.8</td>\n",
       "      <td>392.83</td>\n",
       "      <td>4.03</td>\n",
       "      <td>34.7</td>\n",
       "    </tr>\n",
       "    <tr>\n",
       "      <th>3</th>\n",
       "      <td>0.03237</td>\n",
       "      <td>0.0</td>\n",
       "      <td>2.18</td>\n",
       "      <td>0</td>\n",
       "      <td>0.458</td>\n",
       "      <td>6.998</td>\n",
       "      <td>45.8</td>\n",
       "      <td>6.0622</td>\n",
       "      <td>3</td>\n",
       "      <td>222.0</td>\n",
       "      <td>18.7</td>\n",
       "      <td>394.63</td>\n",
       "      <td>2.94</td>\n",
       "      <td>33.4</td>\n",
       "    </tr>\n",
       "    <tr>\n",
       "      <th>4</th>\n",
       "      <td>0.06905</td>\n",
       "      <td>0.0</td>\n",
       "      <td>2.18</td>\n",
       "      <td>0</td>\n",
       "      <td>0.458</td>\n",
       "      <td>7.147</td>\n",
       "      <td>54.2</td>\n",
       "      <td>6.0622</td>\n",
       "      <td>3</td>\n",
       "      <td>222.0</td>\n",
       "      <td>18.7</td>\n",
       "      <td>396.90</td>\n",
       "      <td>5.33</td>\n",
       "      <td>36.2</td>\n",
       "    </tr>\n",
       "  </tbody>\n",
       "</table>\n",
       "</div>"
      ],
      "text/plain": [
       "      CRIM    ZN  INDUS  CHAS    NOX     RM   AGE     DIS  RAD    TAX  \\\n",
       "0  0.00632  18.0   2.31     0  0.538  6.575  65.2  4.0900    1  296.0   \n",
       "1  0.02731   0.0   7.07     0  0.469  6.421  78.9  4.9671    2  242.0   \n",
       "2  0.02729   0.0   7.07     0  0.469  7.185  61.1  4.9671    2  242.0   \n",
       "3  0.03237   0.0   2.18     0  0.458  6.998  45.8  6.0622    3  222.0   \n",
       "4  0.06905   0.0   2.18     0  0.458  7.147  54.2  6.0622    3  222.0   \n",
       "\n",
       "   PTRATIO       B  LSTAT  MEDV  \n",
       "0     15.3  396.90   4.98  24.0  \n",
       "1     17.8  396.90   9.14  21.6  \n",
       "2     17.8  392.83   4.03  34.7  \n",
       "3     18.7  394.63   2.94  33.4  \n",
       "4     18.7  396.90   5.33  36.2  "
      ]
     },
     "execution_count": 2,
     "metadata": {},
     "output_type": "execute_result"
    }
   ],
   "source": [
    "data = pd.read_csv(\"boston.csv\")\n",
    "data.head()"
   ]
  },
  {
   "cell_type": "code",
   "execution_count": 3,
   "id": "8fd2ce58-d0fc-4c78-80d5-1e78172ea47f",
   "metadata": {},
   "outputs": [
    {
     "data": {
      "text/html": [
       "<style type=\"text/css\">\n",
       "#T_812fe_row0_col0, #T_812fe_row0_col1, #T_812fe_row0_col2, #T_812fe_row0_col3, #T_812fe_row0_col4, #T_812fe_row0_col5, #T_812fe_row0_col6, #T_812fe_row0_col7, #T_812fe_row0_col8, #T_812fe_row0_col10, #T_812fe_row0_col11, #T_812fe_row0_col12, #T_812fe_row0_col13, #T_812fe_row7_col9 {\n",
       "  background-color: #b40426;\n",
       "  color: #f1f1f1;\n",
       "}\n",
       "#T_812fe_row0_col9 {\n",
       "  background-color: #f4c5ad;\n",
       "  color: #000000;\n",
       "}\n",
       "#T_812fe_row1_col0, #T_812fe_row1_col7, #T_812fe_row3_col5, #T_812fe_row4_col8, #T_812fe_row5_col7, #T_812fe_row6_col0 {\n",
       "  background-color: #3c4ec2;\n",
       "  color: #f1f1f1;\n",
       "}\n",
       "#T_812fe_row1_col1, #T_812fe_row1_col2, #T_812fe_row1_col12, #T_812fe_row3_col10, #T_812fe_row7_col7 {\n",
       "  background-color: #4055c8;\n",
       "  color: #f1f1f1;\n",
       "}\n",
       "#T_812fe_row1_col3, #T_812fe_row1_col4, #T_812fe_row2_col3, #T_812fe_row2_col4, #T_812fe_row2_col5, #T_812fe_row2_col7, #T_812fe_row2_col9, #T_812fe_row2_col10, #T_812fe_row3_col0, #T_812fe_row3_col1, #T_812fe_row3_col2, #T_812fe_row3_col3, #T_812fe_row3_col4, #T_812fe_row3_col6, #T_812fe_row3_col7, #T_812fe_row3_col8, #T_812fe_row3_col11, #T_812fe_row3_col12, #T_812fe_row3_col13, #T_812fe_row4_col0, #T_812fe_row4_col1, #T_812fe_row4_col3, #T_812fe_row4_col4, #T_812fe_row4_col7, #T_812fe_row5_col0, #T_812fe_row5_col1, #T_812fe_row5_col3, #T_812fe_row5_col4, #T_812fe_row6_col3, #T_812fe_row6_col4, #T_812fe_row7_col3, #T_812fe_row7_col4 {\n",
       "  background-color: #3b4cc0;\n",
       "  color: #f1f1f1;\n",
       "}\n",
       "#T_812fe_row1_col5, #T_812fe_row2_col12, #T_812fe_row2_col13, #T_812fe_row4_col2, #T_812fe_row4_col5, #T_812fe_row4_col12, #T_812fe_row5_col5, #T_812fe_row5_col8, #T_812fe_row6_col5, #T_812fe_row6_col7 {\n",
       "  background-color: #3d50c3;\n",
       "  color: #f1f1f1;\n",
       "}\n",
       "#T_812fe_row1_col6 {\n",
       "  background-color: #6384eb;\n",
       "  color: #f1f1f1;\n",
       "}\n",
       "#T_812fe_row1_col8, #T_812fe_row2_col0, #T_812fe_row5_col2, #T_812fe_row5_col12, #T_812fe_row7_col5 {\n",
       "  background-color: #3f53c6;\n",
       "  color: #f1f1f1;\n",
       "}\n",
       "#T_812fe_row1_col9 {\n",
       "  background-color: #cdd9ec;\n",
       "  color: #000000;\n",
       "}\n",
       "#T_812fe_row1_col10, #T_812fe_row1_col13, #T_812fe_row3_col9, #T_812fe_row5_col10, #T_812fe_row5_col13, #T_812fe_row6_col2 {\n",
       "  background-color: #445acc;\n",
       "  color: #f1f1f1;\n",
       "}\n",
       "#T_812fe_row1_col11 {\n",
       "  background-color: #f7aa8c;\n",
       "  color: #000000;\n",
       "}\n",
       "#T_812fe_row2_col1, #T_812fe_row6_col8, #T_812fe_row7_col8 {\n",
       "  background-color: #485fd1;\n",
       "  color: #f1f1f1;\n",
       "}\n",
       "#T_812fe_row2_col2, #T_812fe_row2_col8 {\n",
       "  background-color: #3e51c5;\n",
       "  color: #f1f1f1;\n",
       "}\n",
       "#T_812fe_row2_col6 {\n",
       "  background-color: #4961d2;\n",
       "  color: #f1f1f1;\n",
       "}\n",
       "#T_812fe_row2_col11, #T_812fe_row6_col6 {\n",
       "  background-color: #7597f6;\n",
       "  color: #f1f1f1;\n",
       "}\n",
       "#T_812fe_row4_col6 {\n",
       "  background-color: #5470de;\n",
       "  color: #f1f1f1;\n",
       "}\n",
       "#T_812fe_row4_col9 {\n",
       "  background-color: #7da0f9;\n",
       "  color: #f1f1f1;\n",
       "}\n",
       "#T_812fe_row4_col10, #T_812fe_row6_col12 {\n",
       "  background-color: #4358cb;\n",
       "  color: #f1f1f1;\n",
       "}\n",
       "#T_812fe_row4_col11 {\n",
       "  background-color: #f59d7e;\n",
       "  color: #000000;\n",
       "}\n",
       "#T_812fe_row4_col13, #T_812fe_row6_col1 {\n",
       "  background-color: #4257c9;\n",
       "  color: #f1f1f1;\n",
       "}\n",
       "#T_812fe_row5_col6 {\n",
       "  background-color: #688aef;\n",
       "  color: #f1f1f1;\n",
       "}\n",
       "#T_812fe_row5_col9 {\n",
       "  background-color: #9ebeff;\n",
       "  color: #000000;\n",
       "}\n",
       "#T_812fe_row5_col11 {\n",
       "  background-color: #f18f71;\n",
       "  color: #f1f1f1;\n",
       "}\n",
       "#T_812fe_row6_col9 {\n",
       "  background-color: #d1493f;\n",
       "  color: #f1f1f1;\n",
       "}\n",
       "#T_812fe_row6_col10 {\n",
       "  background-color: #455cce;\n",
       "  color: #f1f1f1;\n",
       "}\n",
       "#T_812fe_row6_col11, #T_812fe_row7_col11 {\n",
       "  background-color: #f08b6e;\n",
       "  color: #f1f1f1;\n",
       "}\n",
       "#T_812fe_row6_col13, #T_812fe_row7_col10 {\n",
       "  background-color: #465ecf;\n",
       "  color: #f1f1f1;\n",
       "}\n",
       "#T_812fe_row7_col0 {\n",
       "  background-color: #7396f5;\n",
       "  color: #f1f1f1;\n",
       "}\n",
       "#T_812fe_row7_col1 {\n",
       "  background-color: #7a9df8;\n",
       "  color: #f1f1f1;\n",
       "}\n",
       "#T_812fe_row7_col2 {\n",
       "  background-color: #4a63d3;\n",
       "  color: #f1f1f1;\n",
       "}\n",
       "#T_812fe_row7_col6 {\n",
       "  background-color: #799cf8;\n",
       "  color: #f1f1f1;\n",
       "}\n",
       "#T_812fe_row7_col12 {\n",
       "  background-color: #506bda;\n",
       "  color: #f1f1f1;\n",
       "}\n",
       "#T_812fe_row7_col13 {\n",
       "  background-color: #5572df;\n",
       "  color: #f1f1f1;\n",
       "}\n",
       "</style>\n",
       "<table id=\"T_812fe_\">\n",
       "  <thead>\n",
       "    <tr>\n",
       "      <th class=\"blank level0\" >&nbsp;</th>\n",
       "      <th class=\"col_heading level0 col0\" >CRIM</th>\n",
       "      <th class=\"col_heading level0 col1\" >ZN</th>\n",
       "      <th class=\"col_heading level0 col2\" >INDUS</th>\n",
       "      <th class=\"col_heading level0 col3\" >CHAS</th>\n",
       "      <th class=\"col_heading level0 col4\" >NOX</th>\n",
       "      <th class=\"col_heading level0 col5\" >RM</th>\n",
       "      <th class=\"col_heading level0 col6\" >AGE</th>\n",
       "      <th class=\"col_heading level0 col7\" >DIS</th>\n",
       "      <th class=\"col_heading level0 col8\" >RAD</th>\n",
       "      <th class=\"col_heading level0 col9\" >TAX</th>\n",
       "      <th class=\"col_heading level0 col10\" >PTRATIO</th>\n",
       "      <th class=\"col_heading level0 col11\" >B</th>\n",
       "      <th class=\"col_heading level0 col12\" >LSTAT</th>\n",
       "      <th class=\"col_heading level0 col13\" >MEDV</th>\n",
       "    </tr>\n",
       "  </thead>\n",
       "  <tbody>\n",
       "    <tr>\n",
       "      <th id=\"T_812fe_level0_row0\" class=\"row_heading level0 row0\" >count</th>\n",
       "      <td id=\"T_812fe_row0_col0\" class=\"data row0 col0\" >506.000000</td>\n",
       "      <td id=\"T_812fe_row0_col1\" class=\"data row0 col1\" >506.000000</td>\n",
       "      <td id=\"T_812fe_row0_col2\" class=\"data row0 col2\" >506.000000</td>\n",
       "      <td id=\"T_812fe_row0_col3\" class=\"data row0 col3\" >506.000000</td>\n",
       "      <td id=\"T_812fe_row0_col4\" class=\"data row0 col4\" >506.000000</td>\n",
       "      <td id=\"T_812fe_row0_col5\" class=\"data row0 col5\" >506.000000</td>\n",
       "      <td id=\"T_812fe_row0_col6\" class=\"data row0 col6\" >506.000000</td>\n",
       "      <td id=\"T_812fe_row0_col7\" class=\"data row0 col7\" >506.000000</td>\n",
       "      <td id=\"T_812fe_row0_col8\" class=\"data row0 col8\" >506.000000</td>\n",
       "      <td id=\"T_812fe_row0_col9\" class=\"data row0 col9\" >506.000000</td>\n",
       "      <td id=\"T_812fe_row0_col10\" class=\"data row0 col10\" >506.000000</td>\n",
       "      <td id=\"T_812fe_row0_col11\" class=\"data row0 col11\" >506.000000</td>\n",
       "      <td id=\"T_812fe_row0_col12\" class=\"data row0 col12\" >506.000000</td>\n",
       "      <td id=\"T_812fe_row0_col13\" class=\"data row0 col13\" >506.000000</td>\n",
       "    </tr>\n",
       "    <tr>\n",
       "      <th id=\"T_812fe_level0_row1\" class=\"row_heading level0 row1\" >mean</th>\n",
       "      <td id=\"T_812fe_row1_col0\" class=\"data row1 col0\" >3.613524</td>\n",
       "      <td id=\"T_812fe_row1_col1\" class=\"data row1 col1\" >11.363636</td>\n",
       "      <td id=\"T_812fe_row1_col2\" class=\"data row1 col2\" >11.136779</td>\n",
       "      <td id=\"T_812fe_row1_col3\" class=\"data row1 col3\" >0.069170</td>\n",
       "      <td id=\"T_812fe_row1_col4\" class=\"data row1 col4\" >0.554695</td>\n",
       "      <td id=\"T_812fe_row1_col5\" class=\"data row1 col5\" >6.284634</td>\n",
       "      <td id=\"T_812fe_row1_col6\" class=\"data row1 col6\" >68.574901</td>\n",
       "      <td id=\"T_812fe_row1_col7\" class=\"data row1 col7\" >3.795043</td>\n",
       "      <td id=\"T_812fe_row1_col8\" class=\"data row1 col8\" >9.549407</td>\n",
       "      <td id=\"T_812fe_row1_col9\" class=\"data row1 col9\" >408.237154</td>\n",
       "      <td id=\"T_812fe_row1_col10\" class=\"data row1 col10\" >18.455534</td>\n",
       "      <td id=\"T_812fe_row1_col11\" class=\"data row1 col11\" >356.674032</td>\n",
       "      <td id=\"T_812fe_row1_col12\" class=\"data row1 col12\" >12.653063</td>\n",
       "      <td id=\"T_812fe_row1_col13\" class=\"data row1 col13\" >22.532806</td>\n",
       "    </tr>\n",
       "    <tr>\n",
       "      <th id=\"T_812fe_level0_row2\" class=\"row_heading level0 row2\" >std</th>\n",
       "      <td id=\"T_812fe_row2_col0\" class=\"data row2 col0\" >8.601545</td>\n",
       "      <td id=\"T_812fe_row2_col1\" class=\"data row2 col1\" >23.322453</td>\n",
       "      <td id=\"T_812fe_row2_col2\" class=\"data row2 col2\" >6.860353</td>\n",
       "      <td id=\"T_812fe_row2_col3\" class=\"data row2 col3\" >0.253994</td>\n",
       "      <td id=\"T_812fe_row2_col4\" class=\"data row2 col4\" >0.115878</td>\n",
       "      <td id=\"T_812fe_row2_col5\" class=\"data row2 col5\" >0.702617</td>\n",
       "      <td id=\"T_812fe_row2_col6\" class=\"data row2 col6\" >28.148861</td>\n",
       "      <td id=\"T_812fe_row2_col7\" class=\"data row2 col7\" >2.105710</td>\n",
       "      <td id=\"T_812fe_row2_col8\" class=\"data row2 col8\" >8.707259</td>\n",
       "      <td id=\"T_812fe_row2_col9\" class=\"data row2 col9\" >168.537116</td>\n",
       "      <td id=\"T_812fe_row2_col10\" class=\"data row2 col10\" >2.164946</td>\n",
       "      <td id=\"T_812fe_row2_col11\" class=\"data row2 col11\" >91.294864</td>\n",
       "      <td id=\"T_812fe_row2_col12\" class=\"data row2 col12\" >7.141062</td>\n",
       "      <td id=\"T_812fe_row2_col13\" class=\"data row2 col13\" >9.197104</td>\n",
       "    </tr>\n",
       "    <tr>\n",
       "      <th id=\"T_812fe_level0_row3\" class=\"row_heading level0 row3\" >min</th>\n",
       "      <td id=\"T_812fe_row3_col0\" class=\"data row3 col0\" >0.006320</td>\n",
       "      <td id=\"T_812fe_row3_col1\" class=\"data row3 col1\" >0.000000</td>\n",
       "      <td id=\"T_812fe_row3_col2\" class=\"data row3 col2\" >0.460000</td>\n",
       "      <td id=\"T_812fe_row3_col3\" class=\"data row3 col3\" >0.000000</td>\n",
       "      <td id=\"T_812fe_row3_col4\" class=\"data row3 col4\" >0.385000</td>\n",
       "      <td id=\"T_812fe_row3_col5\" class=\"data row3 col5\" >3.561000</td>\n",
       "      <td id=\"T_812fe_row3_col6\" class=\"data row3 col6\" >2.900000</td>\n",
       "      <td id=\"T_812fe_row3_col7\" class=\"data row3 col7\" >1.129600</td>\n",
       "      <td id=\"T_812fe_row3_col8\" class=\"data row3 col8\" >1.000000</td>\n",
       "      <td id=\"T_812fe_row3_col9\" class=\"data row3 col9\" >187.000000</td>\n",
       "      <td id=\"T_812fe_row3_col10\" class=\"data row3 col10\" >12.600000</td>\n",
       "      <td id=\"T_812fe_row3_col11\" class=\"data row3 col11\" >0.320000</td>\n",
       "      <td id=\"T_812fe_row3_col12\" class=\"data row3 col12\" >1.730000</td>\n",
       "      <td id=\"T_812fe_row3_col13\" class=\"data row3 col13\" >5.000000</td>\n",
       "    </tr>\n",
       "    <tr>\n",
       "      <th id=\"T_812fe_level0_row4\" class=\"row_heading level0 row4\" >25%</th>\n",
       "      <td id=\"T_812fe_row4_col0\" class=\"data row4 col0\" >0.082045</td>\n",
       "      <td id=\"T_812fe_row4_col1\" class=\"data row4 col1\" >0.000000</td>\n",
       "      <td id=\"T_812fe_row4_col2\" class=\"data row4 col2\" >5.190000</td>\n",
       "      <td id=\"T_812fe_row4_col3\" class=\"data row4 col3\" >0.000000</td>\n",
       "      <td id=\"T_812fe_row4_col4\" class=\"data row4 col4\" >0.449000</td>\n",
       "      <td id=\"T_812fe_row4_col5\" class=\"data row4 col5\" >5.885500</td>\n",
       "      <td id=\"T_812fe_row4_col6\" class=\"data row4 col6\" >45.025000</td>\n",
       "      <td id=\"T_812fe_row4_col7\" class=\"data row4 col7\" >2.100175</td>\n",
       "      <td id=\"T_812fe_row4_col8\" class=\"data row4 col8\" >4.000000</td>\n",
       "      <td id=\"T_812fe_row4_col9\" class=\"data row4 col9\" >279.000000</td>\n",
       "      <td id=\"T_812fe_row4_col10\" class=\"data row4 col10\" >17.400000</td>\n",
       "      <td id=\"T_812fe_row4_col11\" class=\"data row4 col11\" >375.377500</td>\n",
       "      <td id=\"T_812fe_row4_col12\" class=\"data row4 col12\" >6.950000</td>\n",
       "      <td id=\"T_812fe_row4_col13\" class=\"data row4 col13\" >17.025000</td>\n",
       "    </tr>\n",
       "    <tr>\n",
       "      <th id=\"T_812fe_level0_row5\" class=\"row_heading level0 row5\" >50%</th>\n",
       "      <td id=\"T_812fe_row5_col0\" class=\"data row5 col0\" >0.256510</td>\n",
       "      <td id=\"T_812fe_row5_col1\" class=\"data row5 col1\" >0.000000</td>\n",
       "      <td id=\"T_812fe_row5_col2\" class=\"data row5 col2\" >9.690000</td>\n",
       "      <td id=\"T_812fe_row5_col3\" class=\"data row5 col3\" >0.000000</td>\n",
       "      <td id=\"T_812fe_row5_col4\" class=\"data row5 col4\" >0.538000</td>\n",
       "      <td id=\"T_812fe_row5_col5\" class=\"data row5 col5\" >6.208500</td>\n",
       "      <td id=\"T_812fe_row5_col6\" class=\"data row5 col6\" >77.500000</td>\n",
       "      <td id=\"T_812fe_row5_col7\" class=\"data row5 col7\" >3.207450</td>\n",
       "      <td id=\"T_812fe_row5_col8\" class=\"data row5 col8\" >5.000000</td>\n",
       "      <td id=\"T_812fe_row5_col9\" class=\"data row5 col9\" >330.000000</td>\n",
       "      <td id=\"T_812fe_row5_col10\" class=\"data row5 col10\" >19.050000</td>\n",
       "      <td id=\"T_812fe_row5_col11\" class=\"data row5 col11\" >391.440000</td>\n",
       "      <td id=\"T_812fe_row5_col12\" class=\"data row5 col12\" >11.360000</td>\n",
       "      <td id=\"T_812fe_row5_col13\" class=\"data row5 col13\" >21.200000</td>\n",
       "    </tr>\n",
       "    <tr>\n",
       "      <th id=\"T_812fe_level0_row6\" class=\"row_heading level0 row6\" >75%</th>\n",
       "      <td id=\"T_812fe_row6_col0\" class=\"data row6 col0\" >3.677083</td>\n",
       "      <td id=\"T_812fe_row6_col1\" class=\"data row6 col1\" >12.500000</td>\n",
       "      <td id=\"T_812fe_row6_col2\" class=\"data row6 col2\" >18.100000</td>\n",
       "      <td id=\"T_812fe_row6_col3\" class=\"data row6 col3\" >0.000000</td>\n",
       "      <td id=\"T_812fe_row6_col4\" class=\"data row6 col4\" >0.624000</td>\n",
       "      <td id=\"T_812fe_row6_col5\" class=\"data row6 col5\" >6.623500</td>\n",
       "      <td id=\"T_812fe_row6_col6\" class=\"data row6 col6\" >94.075000</td>\n",
       "      <td id=\"T_812fe_row6_col7\" class=\"data row6 col7\" >5.188425</td>\n",
       "      <td id=\"T_812fe_row6_col8\" class=\"data row6 col8\" >24.000000</td>\n",
       "      <td id=\"T_812fe_row6_col9\" class=\"data row6 col9\" >666.000000</td>\n",
       "      <td id=\"T_812fe_row6_col10\" class=\"data row6 col10\" >20.200000</td>\n",
       "      <td id=\"T_812fe_row6_col11\" class=\"data row6 col11\" >396.225000</td>\n",
       "      <td id=\"T_812fe_row6_col12\" class=\"data row6 col12\" >16.955000</td>\n",
       "      <td id=\"T_812fe_row6_col13\" class=\"data row6 col13\" >25.000000</td>\n",
       "    </tr>\n",
       "    <tr>\n",
       "      <th id=\"T_812fe_level0_row7\" class=\"row_heading level0 row7\" >max</th>\n",
       "      <td id=\"T_812fe_row7_col0\" class=\"data row7 col0\" >88.976200</td>\n",
       "      <td id=\"T_812fe_row7_col1\" class=\"data row7 col1\" >100.000000</td>\n",
       "      <td id=\"T_812fe_row7_col2\" class=\"data row7 col2\" >27.740000</td>\n",
       "      <td id=\"T_812fe_row7_col3\" class=\"data row7 col3\" >1.000000</td>\n",
       "      <td id=\"T_812fe_row7_col4\" class=\"data row7 col4\" >0.871000</td>\n",
       "      <td id=\"T_812fe_row7_col5\" class=\"data row7 col5\" >8.780000</td>\n",
       "      <td id=\"T_812fe_row7_col6\" class=\"data row7 col6\" >100.000000</td>\n",
       "      <td id=\"T_812fe_row7_col7\" class=\"data row7 col7\" >12.126500</td>\n",
       "      <td id=\"T_812fe_row7_col8\" class=\"data row7 col8\" >24.000000</td>\n",
       "      <td id=\"T_812fe_row7_col9\" class=\"data row7 col9\" >711.000000</td>\n",
       "      <td id=\"T_812fe_row7_col10\" class=\"data row7 col10\" >22.000000</td>\n",
       "      <td id=\"T_812fe_row7_col11\" class=\"data row7 col11\" >396.900000</td>\n",
       "      <td id=\"T_812fe_row7_col12\" class=\"data row7 col12\" >37.970000</td>\n",
       "      <td id=\"T_812fe_row7_col13\" class=\"data row7 col13\" >50.000000</td>\n",
       "    </tr>\n",
       "  </tbody>\n",
       "</table>\n"
      ],
      "text/plain": [
       "<pandas.io.formats.style.Styler at 0x190f8e0ccd0>"
      ]
     },
     "execution_count": 3,
     "metadata": {},
     "output_type": "execute_result"
    }
   ],
   "source": [
    "describe = data.describe()\n",
    "describe.style.background_gradient(cmap='coolwarm')"
   ]
  },
  {
   "cell_type": "code",
   "execution_count": 4,
   "id": "f353c348-c4dc-4619-9e15-c889e969dfe3",
   "metadata": {},
   "outputs": [
    {
     "data": {
      "text/plain": [
       "array([[<AxesSubplot:title={'center':'CRIM'}>,\n",
       "        <AxesSubplot:title={'center':'ZN'}>,\n",
       "        <AxesSubplot:title={'center':'INDUS'}>,\n",
       "        <AxesSubplot:title={'center':'CHAS'}>],\n",
       "       [<AxesSubplot:title={'center':'NOX'}>,\n",
       "        <AxesSubplot:title={'center':'RM'}>,\n",
       "        <AxesSubplot:title={'center':'AGE'}>,\n",
       "        <AxesSubplot:title={'center':'DIS'}>],\n",
       "       [<AxesSubplot:title={'center':'RAD'}>,\n",
       "        <AxesSubplot:title={'center':'TAX'}>,\n",
       "        <AxesSubplot:title={'center':'PTRATIO'}>,\n",
       "        <AxesSubplot:title={'center':'B'}>],\n",
       "       [<AxesSubplot:title={'center':'LSTAT'}>,\n",
       "        <AxesSubplot:title={'center':'MEDV'}>, <AxesSubplot:>,\n",
       "        <AxesSubplot:>]], dtype=object)"
      ]
     },
     "execution_count": 4,
     "metadata": {},
     "output_type": "execute_result"
    },
    {
     "data": {
      "image/png": "[encoded data removed]",
      "text/plain": [
       "<Figure size 1080x1080 with 16 Axes>"
      ]
     },
     "metadata": {
      "needs_background": "light"
     },
     "output_type": "display_data"
    }
   ],
   "source": [
    "data.hist(figsize=(15,15),bins=20)"
   ]
  },
  {
   "cell_type": "code",
   "execution_count": 5,
   "id": "e8c95fed-5766-4b1f-a93f-48d0b6b5fee4",
   "metadata": {},
   "outputs": [
    {
     "data": {
      "text/plain": [
       "<AxesSubplot:>"
      ]
     },
     "execution_count": 5,
     "metadata": {},
     "output_type": "execute_result"
    },
    {
     "data": {
      "image/png": "[encoded data removed]",
      "text/plain": [
       "<Figure size 1584x1080 with 2 Axes>"
      ]
     },
     "metadata": {
      "needs_background": "light"
     },
     "output_type": "display_data"
    }
   ],
   "source": [
    "plt.figure(figsize=(22,15))\n",
    "sns.heatmap(data.corr(),annot=True)"
   ]
  },
  {
   "cell_type": "markdown",
   "id": "ff9cc23b-73ef-4b47-822c-c94ed49ef915",
   "metadata": {},
   "source": [
    "# Preprocessing"
   ]
  },
  {
   "cell_type": "code",
   "execution_count": 6,
   "id": "a39932d0-ddce-47f7-9860-7c4d43129d79",
   "metadata": {
    "tags": []
   },
   "outputs": [],
   "source": [
    "X = data.drop(\"MEDV\",axis=1).values\n",
    "Y = data.MEDV.values"
   ]
  },
  {
   "cell_type": "markdown",
   "id": "081c1529-dfc2-4d35-834e-30c26e65778d",
   "metadata": {},
   "source": [
    "## Scaling\n",
    "### StandardScaler"
   ]
  },
  {
   "cell_type": "code",
   "execution_count": 7,
   "id": "094571cf-8bee-48fc-bb14-e78b627467b9",
   "metadata": {},
   "outputs": [],
   "source": [
    "SS = StandardScaler()\n",
    "X = SS.fit_transform(X)"
   ]
  },
  {
   "cell_type": "code",
   "execution_count": 8,
   "id": "584fce7a-5356-4788-a805-965c21aa146a",
   "metadata": {},
   "outputs": [],
   "source": [
    "x_train , x_test , y_train , y_test = train_test_split(X,Y,test_size=0.2,random_state=31)"
   ]
  },
  {
   "cell_type": "markdown",
   "id": "e19becfc-c972-4c9a-b127-b91d0345f913",
   "metadata": {},
   "source": [
    "# Model"
   ]
  },
  {
   "cell_type": "markdown",
   "id": "01df452b-f6b0-4f0a-8181-0e03ae21e038",
   "metadata": {},
   "source": [
    "### LinearRegression"
   ]
  },
  {
   "cell_type": "code",
   "execution_count": 9,
   "id": "d4205bb8-597b-446b-9056-f63af56fec44",
   "metadata": {},
   "outputs": [],
   "source": [
    "LR = LinearRegression()\n",
    "LR.fit(x_train,y_train)\n",
    "predict_lr = LR.predict(x_test)"
   ]
  },
  {
   "cell_type": "code",
   "execution_count": 10,
   "id": "6bafe5d1-1422-4846-a42d-780460ce9351",
   "metadata": {},
   "outputs": [
    {
     "data": {
      "text/plain": [
       "2.979521273301364"
      ]
     },
     "execution_count": 10,
     "metadata": {},
     "output_type": "execute_result"
    }
   ],
   "source": [
    "metrics.mean_absolute_error(y_test,predict_lr)"
   ]
  },
  {
   "cell_type": "markdown",
   "id": "6122cc60-0da9-4f2d-b96b-35dd2a33fb6b",
   "metadata": {},
   "source": [
    "### SVR"
   ]
  },
  {
   "cell_type": "code",
   "execution_count": 11,
   "id": "cc015b7c-da1a-4b80-8aea-651738e22845",
   "metadata": {},
   "outputs": [],
   "source": [
    "svr = SVR(C=5)\n",
    "svr.fit(x_train,y_train)\n",
    "predict_svr = svr.predict(x_test)"
   ]
  },
  {
   "cell_type": "code",
   "execution_count": 12,
   "id": "696b284b-ed5b-4d95-acf5-0424b495f799",
   "metadata": {},
   "outputs": [
    {
     "data": {
      "text/plain": [
       "2.5366875383669436"
      ]
     },
     "execution_count": 12,
     "metadata": {},
     "output_type": "execute_result"
    }
   ],
   "source": [
    "metrics.mean_absolute_error(y_test,predict_svr)"
   ]
  },
  {
   "cell_type": "markdown",
   "id": "8cbebf18-e181-4585-8ecf-b187833be184",
   "metadata": {},
   "source": [
    "### RandomForestRegressor"
   ]
  },
  {
   "cell_type": "code",
   "execution_count": 13,
   "id": "fb692a08-599b-4b94-88a6-703dd3118639",
   "metadata": {},
   "outputs": [],
   "source": [
    "RF = RandomForestRegressor(n_estimators=90,n_jobs=-1,random_state=17)\n",
    "RF.fit(x_train,y_train)\n",
    "predict_rf = RF.predict(x_test)"
   ]
  },
  {
   "cell_type": "code",
   "execution_count": 14,
   "id": "6aeaa6f6-6e95-42ba-802b-1aa10fd3822d",
   "metadata": {},
   "outputs": [
    {
     "data": {
      "text/plain": [
       "2.2663180827886706"
      ]
     },
     "execution_count": 14,
     "metadata": {},
     "output_type": "execute_result"
    }
   ],
   "source": [
    "metrics.mean_absolute_error(y_test,predict_rf)"
   ]
  },
  {
   "cell_type": "markdown",
   "id": "233de038-f3e1-4cd3-85bf-fafee8f76eb1",
   "metadata": {},
   "source": [
    "### AdaBoostRegressor"
   ]
  },
  {
   "cell_type": "code",
   "execution_count": 15,
   "id": "c503cbf5-7d90-4007-b6e2-72baee297684",
   "metadata": {},
   "outputs": [],
   "source": [
    "Adaboost = AdaBoostRegressor(RandomForestRegressor(),learning_rate=0.5,random_state=21)\n",
    "Adaboost.fit(x_train,y_train)\n",
    "predict_ab = Adaboost.predict(x_test)"
   ]
  },
  {
   "cell_type": "code",
   "execution_count": 16,
   "id": "92a122e9-442d-459e-b60a-7f6211c4740e",
   "metadata": {},
   "outputs": [
    {
     "data": {
      "text/plain": [
       "2.0371470588235274"
      ]
     },
     "execution_count": 16,
     "metadata": {},
     "output_type": "execute_result"
    }
   ],
   "source": [
    "metrics.mean_absolute_error(y_test,predict_ab)"
   ]
  },
  {
   "cell_type": "markdown",
   "id": "e9791381-572a-43d3-bffd-52065878cc0b",
   "metadata": {},
   "source": [
    "### GBoostingRegressor"
   ]
  },
  {
   "cell_type": "code",
   "execution_count": 17,
   "id": "8fb4fc27-4730-45a2-b90d-f744cf3e72ab",
   "metadata": {},
   "outputs": [],
   "source": [
    "gboost = GradientBoostingRegressor(n_estimators=1000,learning_rate=0.3,random_state=21)\n",
    "gboost.fit(x_train,y_train)\n",
    "predict_gb = gboost.predict(x_test)"
   ]
  },
  {
   "cell_type": "code",
   "execution_count": 18,
   "id": "3a02c274-0642-4d99-8906-46eabb9e4ec8",
   "metadata": {},
   "outputs": [
    {
     "data": {
      "text/plain": [
       "2.3993232756458474"
      ]
     },
     "execution_count": 18,
     "metadata": {},
     "output_type": "execute_result"
    }
   ],
   "source": [
    "metrics.mean_absolute_error(y_test,predict_gb)"
   ]
  },
  {
   "cell_type": "markdown",
   "id": "22703d0d-661f-481f-bb5d-aad3200f0d8f",
   "metadata": {},
   "source": [
    "### XGBRegressor"
   ]
  },
  {
   "cell_type": "code",
   "execution_count": 19,
   "id": "e6665f65-8772-408d-997b-b0f8fe0e1c4c",
   "metadata": {},
   "outputs": [],
   "source": [
    "xgboost = XGBRFRegressor(subsample=0.4)\n",
    "xgboost.fit(x_train,y_train)\n",
    "predict_xb = xgboost.predict(x_test)"
   ]
  },
  {
   "cell_type": "code",
   "execution_count": 20,
   "id": "cf9bc52a-8f23-4c64-9247-12b8c66365dc",
   "metadata": {},
   "outputs": [
    {
     "data": {
      "text/plain": [
       "2.3648047204111133"
      ]
     },
     "execution_count": 20,
     "metadata": {},
     "output_type": "execute_result"
    }
   ],
   "source": [
    "metrics.mean_absolute_error(y_test,predict_xb)"
   ]
  },
  {
   "cell_type": "markdown",
   "id": "208930df-9198-4840-8c3a-dd458020b519",
   "metadata": {},
   "source": [
    "### CatBoostRegressor"
   ]
  },
  {
   "cell_type": "code",
   "execution_count": 21,
   "id": "4548e66c-83e6-4b91-8c3f-ec3969d4f3a4",
   "metadata": {},
   "outputs": [
    {
     "name": "stdout",
     "output_type": "stream",
     "text": [
      "0:\tlearn: 4.8935843\ttest: 5.2696988\tbest: 5.2696988 (0)\ttotal: 9.51ms\tremaining: 1.89s\n",
      "1:\tlearn: 3.8298406\ttest: 4.2085882\tbest: 4.2085882 (1)\ttotal: 18ms\tremaining: 1.78s\n",
      "2:\tlearn: 3.1255741\ttest: 3.4738327\tbest: 3.4738327 (2)\ttotal: 24.9ms\tremaining: 1.63s\n",
      "3:\tlearn: 2.7534778\ttest: 3.0919366\tbest: 3.0919366 (3)\ttotal: 31.7ms\tremaining: 1.55s\n",
      "4:\tlearn: 2.4555953\ttest: 2.8012426\tbest: 2.8012426 (4)\ttotal: 38.7ms\tremaining: 1.51s\n",
      "5:\tlearn: 2.2110578\ttest: 2.6484549\tbest: 2.6484549 (5)\ttotal: 45.6ms\tremaining: 1.48s\n",
      "6:\tlearn: 2.0068456\ttest: 2.5177648\tbest: 2.5177648 (6)\ttotal: 52.5ms\tremaining: 1.45s\n",
      "7:\tlearn: 1.8516899\ttest: 2.4832608\tbest: 2.4832608 (7)\ttotal: 59.4ms\tremaining: 1.43s\n",
      "8:\tlearn: 1.7973068\ttest: 2.4093784\tbest: 2.4093784 (8)\ttotal: 66.2ms\tremaining: 1.41s\n",
      "9:\tlearn: 1.7270206\ttest: 2.3614469\tbest: 2.3614469 (9)\ttotal: 73.5ms\tremaining: 1.4s\n",
      "10:\tlearn: 1.6668941\ttest: 2.3313060\tbest: 2.3313060 (10)\ttotal: 82.7ms\tremaining: 1.42s\n",
      "11:\tlearn: 1.6015891\ttest: 2.2429314\tbest: 2.2429314 (11)\ttotal: 91.1ms\tremaining: 1.43s\n",
      "12:\tlearn: 1.5524810\ttest: 2.2140850\tbest: 2.2140850 (12)\ttotal: 99.4ms\tremaining: 1.43s\n",
      "13:\tlearn: 1.4985362\ttest: 2.2033521\tbest: 2.2033521 (13)\ttotal: 107ms\tremaining: 1.43s\n",
      "14:\tlearn: 1.4488497\ttest: 2.1627597\tbest: 2.1627597 (14)\ttotal: 116ms\tremaining: 1.43s\n",
      "15:\tlearn: 1.4127442\ttest: 2.1307559\tbest: 2.1307559 (15)\ttotal: 124ms\tremaining: 1.42s\n",
      "16:\tlearn: 1.3646198\ttest: 2.1024284\tbest: 2.1024284 (16)\ttotal: 132ms\tremaining: 1.42s\n",
      "17:\tlearn: 1.3304223\ttest: 2.0828136\tbest: 2.0828136 (17)\ttotal: 139ms\tremaining: 1.41s\n",
      "18:\tlearn: 1.3018403\ttest: 2.0774823\tbest: 2.0774823 (18)\ttotal: 146ms\tremaining: 1.39s\n",
      "19:\tlearn: 1.2745485\ttest: 2.0793774\tbest: 2.0774823 (18)\ttotal: 153ms\tremaining: 1.38s\n",
      "20:\tlearn: 1.2495086\ttest: 2.0663799\tbest: 2.0663799 (20)\ttotal: 160ms\tremaining: 1.36s\n",
      "21:\tlearn: 1.2187508\ttest: 2.0702512\tbest: 2.0663799 (20)\ttotal: 167ms\tremaining: 1.35s\n",
      "22:\tlearn: 1.2040035\ttest: 2.0611925\tbest: 2.0611925 (22)\ttotal: 174ms\tremaining: 1.34s\n",
      "23:\tlearn: 1.1774266\ttest: 2.0282183\tbest: 2.0282183 (23)\ttotal: 181ms\tremaining: 1.33s\n",
      "24:\tlearn: 1.1426281\ttest: 2.0120360\tbest: 2.0120360 (24)\ttotal: 190ms\tremaining: 1.33s\n",
      "25:\tlearn: 1.1130589\ttest: 2.0215768\tbest: 2.0120360 (24)\ttotal: 198ms\tremaining: 1.33s\n",
      "26:\tlearn: 1.0763424\ttest: 2.0199238\tbest: 2.0120360 (24)\ttotal: 206ms\tremaining: 1.32s\n",
      "27:\tlearn: 1.0620292\ttest: 2.0276832\tbest: 2.0120360 (24)\ttotal: 213ms\tremaining: 1.31s\n",
      "28:\tlearn: 1.0521879\ttest: 2.0067378\tbest: 2.0067378 (28)\ttotal: 220ms\tremaining: 1.3s\n",
      "29:\tlearn: 1.0271805\ttest: 2.0233035\tbest: 2.0067378 (28)\ttotal: 227ms\tremaining: 1.29s\n",
      "30:\tlearn: 1.0127289\ttest: 2.0333117\tbest: 2.0067378 (28)\ttotal: 234ms\tremaining: 1.27s\n",
      "31:\tlearn: 1.0037449\ttest: 2.0395571\tbest: 2.0067378 (28)\ttotal: 243ms\tremaining: 1.27s\n",
      "32:\tlearn: 0.9865115\ttest: 2.0274392\tbest: 2.0067378 (28)\ttotal: 251ms\tremaining: 1.27s\n",
      "33:\tlearn: 0.9687202\ttest: 2.0183254\tbest: 2.0067378 (28)\ttotal: 258ms\tremaining: 1.26s\n",
      "34:\tlearn: 0.9503781\ttest: 2.0094189\tbest: 2.0067378 (28)\ttotal: 265ms\tremaining: 1.25s\n",
      "35:\tlearn: 0.9156879\ttest: 2.0244975\tbest: 2.0067378 (28)\ttotal: 272ms\tremaining: 1.24s\n",
      "36:\tlearn: 0.9052062\ttest: 2.0268891\tbest: 2.0067378 (28)\ttotal: 279ms\tremaining: 1.23s\n",
      "37:\tlearn: 0.8811290\ttest: 2.0159197\tbest: 2.0067378 (28)\ttotal: 285ms\tremaining: 1.22s\n",
      "38:\tlearn: 0.8570720\ttest: 2.0015510\tbest: 2.0015510 (38)\ttotal: 292ms\tremaining: 1.21s\n",
      "39:\tlearn: 0.8366583\ttest: 1.9913442\tbest: 1.9913442 (39)\ttotal: 299ms\tremaining: 1.19s\n",
      "40:\tlearn: 0.8206974\ttest: 2.0013176\tbest: 1.9913442 (39)\ttotal: 305ms\tremaining: 1.18s\n",
      "41:\tlearn: 0.7998015\ttest: 2.0033352\tbest: 1.9913442 (39)\ttotal: 312ms\tremaining: 1.17s\n",
      "42:\tlearn: 0.7807395\ttest: 1.9865084\tbest: 1.9865084 (42)\ttotal: 318ms\tremaining: 1.16s\n",
      "43:\tlearn: 0.7718793\ttest: 1.9943536\tbest: 1.9865084 (42)\ttotal: 325ms\tremaining: 1.15s\n",
      "44:\tlearn: 0.7629514\ttest: 1.9942753\tbest: 1.9865084 (42)\ttotal: 332ms\tremaining: 1.14s\n",
      "45:\tlearn: 0.7521477\ttest: 1.9923480\tbest: 1.9865084 (42)\ttotal: 339ms\tremaining: 1.13s\n",
      "46:\tlearn: 0.7393531\ttest: 1.9935596\tbest: 1.9865084 (42)\ttotal: 345ms\tremaining: 1.12s\n",
      "47:\tlearn: 0.7171799\ttest: 2.0053816\tbest: 1.9865084 (42)\ttotal: 352ms\tremaining: 1.11s\n",
      "48:\tlearn: 0.6981391\ttest: 1.9968884\tbest: 1.9865084 (42)\ttotal: 358ms\tremaining: 1.1s\n",
      "49:\tlearn: 0.6885316\ttest: 1.9904698\tbest: 1.9865084 (42)\ttotal: 365ms\tremaining: 1.09s\n",
      "50:\tlearn: 0.6777321\ttest: 2.0050596\tbest: 1.9865084 (42)\ttotal: 373ms\tremaining: 1.09s\n",
      "51:\tlearn: 0.6713553\ttest: 2.0077893\tbest: 1.9865084 (42)\ttotal: 382ms\tremaining: 1.09s\n",
      "52:\tlearn: 0.6612902\ttest: 2.0044007\tbest: 1.9865084 (42)\ttotal: 389ms\tremaining: 1.08s\n",
      "53:\tlearn: 0.6555106\ttest: 2.0009635\tbest: 1.9865084 (42)\ttotal: 396ms\tremaining: 1.07s\n",
      "54:\tlearn: 0.6473254\ttest: 2.0005940\tbest: 1.9865084 (42)\ttotal: 402ms\tremaining: 1.06s\n",
      "55:\tlearn: 0.6365690\ttest: 2.0001451\tbest: 1.9865084 (42)\ttotal: 410ms\tremaining: 1.05s\n",
      "56:\tlearn: 0.6241512\ttest: 1.9906990\tbest: 1.9865084 (42)\ttotal: 416ms\tremaining: 1.04s\n",
      "57:\tlearn: 0.6083251\ttest: 1.9873021\tbest: 1.9865084 (42)\ttotal: 424ms\tremaining: 1.04s\n",
      "58:\tlearn: 0.5899450\ttest: 1.9777539\tbest: 1.9777539 (58)\ttotal: 430ms\tremaining: 1.03s\n",
      "59:\tlearn: 0.5766760\ttest: 1.9850239\tbest: 1.9777539 (58)\ttotal: 437ms\tremaining: 1.02s\n",
      "60:\tlearn: 0.5662622\ttest: 1.9905312\tbest: 1.9777539 (58)\ttotal: 444ms\tremaining: 1.01s\n",
      "61:\tlearn: 0.5537436\ttest: 1.9898061\tbest: 1.9777539 (58)\ttotal: 450ms\tremaining: 1s\n",
      "62:\tlearn: 0.5401747\ttest: 1.9830108\tbest: 1.9777539 (58)\ttotal: 457ms\tremaining: 993ms\n",
      "63:\tlearn: 0.5353164\ttest: 1.9786105\tbest: 1.9777539 (58)\ttotal: 463ms\tremaining: 984ms\n",
      "64:\tlearn: 0.5271318\ttest: 1.9831046\tbest: 1.9777539 (58)\ttotal: 470ms\tremaining: 977ms\n",
      "65:\tlearn: 0.5172813\ttest: 1.9794760\tbest: 1.9777539 (58)\ttotal: 478ms\tremaining: 970ms\n",
      "66:\tlearn: 0.5083012\ttest: 1.9743317\tbest: 1.9743317 (66)\ttotal: 485ms\tremaining: 963ms\n",
      "67:\tlearn: 0.5010095\ttest: 1.9723535\tbest: 1.9723535 (67)\ttotal: 492ms\tremaining: 955ms\n",
      "68:\tlearn: 0.4902266\ttest: 1.9675766\tbest: 1.9675766 (68)\ttotal: 499ms\tremaining: 947ms\n",
      "69:\tlearn: 0.4841625\ttest: 1.9596339\tbest: 1.9596339 (69)\ttotal: 506ms\tremaining: 939ms\n",
      "70:\tlearn: 0.4775040\ttest: 1.9589794\tbest: 1.9589794 (70)\ttotal: 512ms\tremaining: 931ms\n",
      "71:\tlearn: 0.4730747\ttest: 1.9578552\tbest: 1.9578552 (71)\ttotal: 520ms\tremaining: 925ms\n",
      "72:\tlearn: 0.4667445\ttest: 1.9614306\tbest: 1.9578552 (71)\ttotal: 528ms\tremaining: 919ms\n",
      "73:\tlearn: 0.4624259\ttest: 1.9585239\tbest: 1.9578552 (71)\ttotal: 535ms\tremaining: 911ms\n",
      "74:\tlearn: 0.4570922\ttest: 1.9601071\tbest: 1.9578552 (71)\ttotal: 542ms\tremaining: 904ms\n",
      "75:\tlearn: 0.4535894\ttest: 1.9648823\tbest: 1.9578552 (71)\ttotal: 549ms\tremaining: 896ms\n",
      "76:\tlearn: 0.4451078\ttest: 1.9590891\tbest: 1.9578552 (71)\ttotal: 557ms\tremaining: 889ms\n",
      "77:\tlearn: 0.4384447\ttest: 1.9621483\tbest: 1.9578552 (71)\ttotal: 565ms\tremaining: 884ms\n",
      "78:\tlearn: 0.4312215\ttest: 1.9600724\tbest: 1.9578552 (71)\ttotal: 572ms\tremaining: 876ms\n",
      "79:\tlearn: 0.4224993\ttest: 1.9614238\tbest: 1.9578552 (71)\ttotal: 580ms\tremaining: 870ms\n",
      "80:\tlearn: 0.4179204\ttest: 1.9574989\tbest: 1.9574989 (80)\ttotal: 587ms\tremaining: 862ms\n",
      "81:\tlearn: 0.4097812\ttest: 1.9536184\tbest: 1.9536184 (81)\ttotal: 594ms\tremaining: 855ms\n",
      "82:\tlearn: 0.4035979\ttest: 1.9587782\tbest: 1.9536184 (81)\ttotal: 601ms\tremaining: 847ms\n",
      "83:\tlearn: 0.3964059\ttest: 1.9548267\tbest: 1.9536184 (81)\ttotal: 609ms\tremaining: 842ms\n",
      "84:\tlearn: 0.3911881\ttest: 1.9563038\tbest: 1.9536184 (81)\ttotal: 617ms\tremaining: 835ms\n",
      "85:\tlearn: 0.3828162\ttest: 1.9505131\tbest: 1.9505131 (85)\ttotal: 625ms\tremaining: 828ms\n",
      "86:\tlearn: 0.3748674\ttest: 1.9493703\tbest: 1.9493703 (86)\ttotal: 631ms\tremaining: 820ms\n",
      "87:\tlearn: 0.3699041\ttest: 1.9441974\tbest: 1.9441974 (87)\ttotal: 638ms\tremaining: 812ms\n",
      "88:\tlearn: 0.3667510\ttest: 1.9460656\tbest: 1.9441974 (87)\ttotal: 645ms\tremaining: 804ms\n",
      "89:\tlearn: 0.3607606\ttest: 1.9465179\tbest: 1.9441974 (87)\ttotal: 651ms\tremaining: 796ms\n",
      "90:\tlearn: 0.3468204\ttest: 1.9411361\tbest: 1.9411361 (90)\ttotal: 658ms\tremaining: 788ms\n",
      "91:\tlearn: 0.3407971\ttest: 1.9454292\tbest: 1.9411361 (90)\ttotal: 664ms\tremaining: 780ms\n",
      "92:\tlearn: 0.3327949\ttest: 1.9497791\tbest: 1.9411361 (90)\ttotal: 671ms\tremaining: 772ms\n",
      "93:\tlearn: 0.3284705\ttest: 1.9443656\tbest: 1.9411361 (90)\ttotal: 678ms\tremaining: 765ms\n",
      "94:\tlearn: 0.3254946\ttest: 1.9463908\tbest: 1.9411361 (90)\ttotal: 685ms\tremaining: 757ms\n",
      "95:\tlearn: 0.3205184\ttest: 1.9469046\tbest: 1.9411361 (90)\ttotal: 692ms\tremaining: 750ms\n",
      "96:\tlearn: 0.3153414\ttest: 1.9545870\tbest: 1.9411361 (90)\ttotal: 701ms\tremaining: 744ms\n",
      "97:\tlearn: 0.3068761\ttest: 1.9605082\tbest: 1.9411361 (90)\ttotal: 708ms\tremaining: 737ms\n",
      "98:\tlearn: 0.2997090\ttest: 1.9555431\tbest: 1.9411361 (90)\ttotal: 715ms\tremaining: 729ms\n",
      "99:\tlearn: 0.2968281\ttest: 1.9563522\tbest: 1.9411361 (90)\ttotal: 722ms\tremaining: 722ms\n",
      "100:\tlearn: 0.2924464\ttest: 1.9571771\tbest: 1.9411361 (90)\ttotal: 729ms\tremaining: 714ms\n",
      "101:\tlearn: 0.2897484\ttest: 1.9585012\tbest: 1.9411361 (90)\ttotal: 739ms\tremaining: 710ms\n",
      "102:\tlearn: 0.2880734\ttest: 1.9593271\tbest: 1.9411361 (90)\ttotal: 748ms\tremaining: 705ms\n",
      "103:\tlearn: 0.2833072\ttest: 1.9584351\tbest: 1.9411361 (90)\ttotal: 756ms\tremaining: 698ms\n",
      "104:\tlearn: 0.2797864\ttest: 1.9584749\tbest: 1.9411361 (90)\ttotal: 763ms\tremaining: 690ms\n",
      "105:\tlearn: 0.2761941\ttest: 1.9587215\tbest: 1.9411361 (90)\ttotal: 769ms\tremaining: 682ms\n",
      "106:\tlearn: 0.2712830\ttest: 1.9587773\tbest: 1.9411361 (90)\ttotal: 776ms\tremaining: 675ms\n",
      "107:\tlearn: 0.2644506\ttest: 1.9552183\tbest: 1.9411361 (90)\ttotal: 783ms\tremaining: 667ms\n",
      "108:\tlearn: 0.2584063\ttest: 1.9537832\tbest: 1.9411361 (90)\ttotal: 791ms\tremaining: 661ms\n",
      "109:\tlearn: 0.2549170\ttest: 1.9541019\tbest: 1.9411361 (90)\ttotal: 798ms\tremaining: 653ms\n",
      "110:\tlearn: 0.2529890\ttest: 1.9521359\tbest: 1.9411361 (90)\ttotal: 806ms\tremaining: 646ms\n",
      "111:\tlearn: 0.2497565\ttest: 1.9518120\tbest: 1.9411361 (90)\ttotal: 813ms\tremaining: 639ms\n",
      "112:\tlearn: 0.2482375\ttest: 1.9513801\tbest: 1.9411361 (90)\ttotal: 820ms\tremaining: 631ms\n",
      "113:\tlearn: 0.2441334\ttest: 1.9483631\tbest: 1.9411361 (90)\ttotal: 827ms\tremaining: 624ms\n",
      "114:\tlearn: 0.2402697\ttest: 1.9486118\tbest: 1.9411361 (90)\ttotal: 834ms\tremaining: 616ms\n",
      "115:\tlearn: 0.2371502\ttest: 1.9521948\tbest: 1.9411361 (90)\ttotal: 840ms\tremaining: 609ms\n",
      "116:\tlearn: 0.2329706\ttest: 1.9520424\tbest: 1.9411361 (90)\ttotal: 848ms\tremaining: 601ms\n",
      "117:\tlearn: 0.2289091\ttest: 1.9545306\tbest: 1.9411361 (90)\ttotal: 855ms\tremaining: 594ms\n",
      "118:\tlearn: 0.2253905\ttest: 1.9541111\tbest: 1.9411361 (90)\ttotal: 863ms\tremaining: 588ms\n",
      "119:\tlearn: 0.2223359\ttest: 1.9560264\tbest: 1.9411361 (90)\ttotal: 870ms\tremaining: 580ms\n",
      "120:\tlearn: 0.2199641\ttest: 1.9565428\tbest: 1.9411361 (90)\ttotal: 877ms\tremaining: 573ms\n",
      "121:\tlearn: 0.2182044\ttest: 1.9549424\tbest: 1.9411361 (90)\ttotal: 885ms\tremaining: 566ms\n",
      "122:\tlearn: 0.2159181\ttest: 1.9536698\tbest: 1.9411361 (90)\ttotal: 892ms\tremaining: 558ms\n",
      "123:\tlearn: 0.2134327\ttest: 1.9549854\tbest: 1.9411361 (90)\ttotal: 899ms\tremaining: 551ms\n",
      "124:\tlearn: 0.2111635\ttest: 1.9536686\tbest: 1.9411361 (90)\ttotal: 906ms\tremaining: 543ms\n",
      "125:\tlearn: 0.2073066\ttest: 1.9521882\tbest: 1.9411361 (90)\ttotal: 913ms\tremaining: 536ms\n",
      "126:\tlearn: 0.2045236\ttest: 1.9513022\tbest: 1.9411361 (90)\ttotal: 921ms\tremaining: 529ms\n",
      "127:\tlearn: 0.2019784\ttest: 1.9515815\tbest: 1.9411361 (90)\ttotal: 930ms\tremaining: 523ms\n",
      "128:\tlearn: 0.1999313\ttest: 1.9517685\tbest: 1.9411361 (90)\ttotal: 940ms\tremaining: 517ms\n",
      "129:\tlearn: 0.1985418\ttest: 1.9528592\tbest: 1.9411361 (90)\ttotal: 950ms\tremaining: 511ms\n",
      "130:\tlearn: 0.1963322\ttest: 1.9534332\tbest: 1.9411361 (90)\ttotal: 957ms\tremaining: 504ms\n",
      "131:\tlearn: 0.1939098\ttest: 1.9521021\tbest: 1.9411361 (90)\ttotal: 965ms\tremaining: 497ms\n",
      "132:\tlearn: 0.1914849\ttest: 1.9533967\tbest: 1.9411361 (90)\ttotal: 973ms\tremaining: 490ms\n",
      "133:\tlearn: 0.1890710\ttest: 1.9552505\tbest: 1.9411361 (90)\ttotal: 982ms\tremaining: 483ms\n",
      "134:\tlearn: 0.1852763\ttest: 1.9579341\tbest: 1.9411361 (90)\ttotal: 990ms\tremaining: 476ms\n",
      "135:\tlearn: 0.1822059\ttest: 1.9589290\tbest: 1.9411361 (90)\ttotal: 997ms\tremaining: 469ms\n",
      "136:\tlearn: 0.1775685\ttest: 1.9595512\tbest: 1.9411361 (90)\ttotal: 1s\tremaining: 462ms\n",
      "137:\tlearn: 0.1755436\ttest: 1.9605650\tbest: 1.9411361 (90)\ttotal: 1.01s\tremaining: 454ms\n",
      "138:\tlearn: 0.1737509\ttest: 1.9590581\tbest: 1.9411361 (90)\ttotal: 1.02s\tremaining: 447ms\n",
      "139:\tlearn: 0.1711000\ttest: 1.9579764\tbest: 1.9411361 (90)\ttotal: 1.02s\tremaining: 439ms\n",
      "140:\tlearn: 0.1682552\ttest: 1.9577249\tbest: 1.9411361 (90)\ttotal: 1.03s\tremaining: 431ms\n",
      "141:\tlearn: 0.1655293\ttest: 1.9579330\tbest: 1.9411361 (90)\ttotal: 1.04s\tremaining: 424ms\n",
      "142:\tlearn: 0.1634230\ttest: 1.9590364\tbest: 1.9411361 (90)\ttotal: 1.04s\tremaining: 416ms\n",
      "143:\tlearn: 0.1604582\ttest: 1.9595606\tbest: 1.9411361 (90)\ttotal: 1.05s\tremaining: 409ms\n",
      "144:\tlearn: 0.1583723\ttest: 1.9574869\tbest: 1.9411361 (90)\ttotal: 1.06s\tremaining: 401ms\n",
      "145:\tlearn: 0.1558480\ttest: 1.9565341\tbest: 1.9411361 (90)\ttotal: 1.07s\tremaining: 395ms\n",
      "146:\tlearn: 0.1531903\ttest: 1.9553510\tbest: 1.9411361 (90)\ttotal: 1.07s\tremaining: 387ms\n",
      "147:\tlearn: 0.1525166\ttest: 1.9559440\tbest: 1.9411361 (90)\ttotal: 1.08s\tremaining: 380ms\n",
      "148:\tlearn: 0.1497868\ttest: 1.9560943\tbest: 1.9411361 (90)\ttotal: 1.09s\tremaining: 372ms\n",
      "149:\tlearn: 0.1466348\ttest: 1.9573997\tbest: 1.9411361 (90)\ttotal: 1.09s\tremaining: 365ms\n",
      "150:\tlearn: 0.1441801\ttest: 1.9557877\tbest: 1.9411361 (90)\ttotal: 1.1s\tremaining: 357ms\n",
      "151:\tlearn: 0.1421852\ttest: 1.9566025\tbest: 1.9411361 (90)\ttotal: 1.11s\tremaining: 351ms\n",
      "152:\tlearn: 0.1414379\ttest: 1.9569418\tbest: 1.9411361 (90)\ttotal: 1.12s\tremaining: 344ms\n",
      "153:\tlearn: 0.1394275\ttest: 1.9559862\tbest: 1.9411361 (90)\ttotal: 1.13s\tremaining: 337ms\n",
      "154:\tlearn: 0.1369007\ttest: 1.9566445\tbest: 1.9411361 (90)\ttotal: 1.14s\tremaining: 330ms\n",
      "155:\tlearn: 0.1351700\ttest: 1.9556400\tbest: 1.9411361 (90)\ttotal: 1.14s\tremaining: 323ms\n",
      "156:\tlearn: 0.1330468\ttest: 1.9565820\tbest: 1.9411361 (90)\ttotal: 1.15s\tremaining: 315ms\n",
      "157:\tlearn: 0.1309404\ttest: 1.9574223\tbest: 1.9411361 (90)\ttotal: 1.16s\tremaining: 308ms\n",
      "158:\tlearn: 0.1290825\ttest: 1.9565774\tbest: 1.9411361 (90)\ttotal: 1.17s\tremaining: 301ms\n",
      "159:\tlearn: 0.1264271\ttest: 1.9571674\tbest: 1.9411361 (90)\ttotal: 1.18s\tremaining: 294ms\n",
      "160:\tlearn: 0.1253543\ttest: 1.9576557\tbest: 1.9411361 (90)\ttotal: 1.18s\tremaining: 287ms\n",
      "161:\tlearn: 0.1233299\ttest: 1.9570673\tbest: 1.9411361 (90)\ttotal: 1.19s\tremaining: 279ms\n",
      "162:\tlearn: 0.1202708\ttest: 1.9553592\tbest: 1.9411361 (90)\ttotal: 1.2s\tremaining: 272ms\n",
      "163:\tlearn: 0.1181702\ttest: 1.9544395\tbest: 1.9411361 (90)\ttotal: 1.21s\tremaining: 265ms\n",
      "164:\tlearn: 0.1160776\ttest: 1.9553444\tbest: 1.9411361 (90)\ttotal: 1.21s\tremaining: 258ms\n",
      "165:\tlearn: 0.1151428\ttest: 1.9577539\tbest: 1.9411361 (90)\ttotal: 1.22s\tremaining: 250ms\n",
      "166:\tlearn: 0.1136216\ttest: 1.9562484\tbest: 1.9411361 (90)\ttotal: 1.23s\tremaining: 243ms\n",
      "167:\tlearn: 0.1123160\ttest: 1.9559522\tbest: 1.9411361 (90)\ttotal: 1.24s\tremaining: 236ms\n",
      "168:\tlearn: 0.1110202\ttest: 1.9558031\tbest: 1.9411361 (90)\ttotal: 1.25s\tremaining: 228ms\n",
      "169:\tlearn: 0.1100361\ttest: 1.9556376\tbest: 1.9411361 (90)\ttotal: 1.25s\tremaining: 221ms\n",
      "170:\tlearn: 0.1084657\ttest: 1.9553947\tbest: 1.9411361 (90)\ttotal: 1.26s\tremaining: 214ms\n",
      "171:\tlearn: 0.1074930\ttest: 1.9557993\tbest: 1.9411361 (90)\ttotal: 1.27s\tremaining: 207ms\n",
      "172:\tlearn: 0.1060097\ttest: 1.9559830\tbest: 1.9411361 (90)\ttotal: 1.28s\tremaining: 199ms\n",
      "173:\tlearn: 0.1048319\ttest: 1.9552514\tbest: 1.9411361 (90)\ttotal: 1.28s\tremaining: 192ms\n",
      "174:\tlearn: 0.1034973\ttest: 1.9545574\tbest: 1.9411361 (90)\ttotal: 1.29s\tremaining: 185ms\n",
      "175:\tlearn: 0.1026884\ttest: 1.9549193\tbest: 1.9411361 (90)\ttotal: 1.3s\tremaining: 177ms\n",
      "176:\tlearn: 0.1015799\ttest: 1.9548286\tbest: 1.9411361 (90)\ttotal: 1.31s\tremaining: 170ms\n",
      "177:\tlearn: 0.0990805\ttest: 1.9538449\tbest: 1.9411361 (90)\ttotal: 1.32s\tremaining: 163ms\n",
      "178:\tlearn: 0.0970341\ttest: 1.9526565\tbest: 1.9411361 (90)\ttotal: 1.32s\tremaining: 155ms\n",
      "179:\tlearn: 0.0957692\ttest: 1.9523543\tbest: 1.9411361 (90)\ttotal: 1.33s\tremaining: 148ms\n",
      "180:\tlearn: 0.0945528\ttest: 1.9509699\tbest: 1.9411361 (90)\ttotal: 1.34s\tremaining: 141ms\n",
      "181:\tlearn: 0.0935927\ttest: 1.9512835\tbest: 1.9411361 (90)\ttotal: 1.35s\tremaining: 133ms\n",
      "182:\tlearn: 0.0923040\ttest: 1.9507321\tbest: 1.9411361 (90)\ttotal: 1.35s\tremaining: 126ms\n",
      "183:\tlearn: 0.0903042\ttest: 1.9498605\tbest: 1.9411361 (90)\ttotal: 1.36s\tremaining: 118ms\n",
      "184:\tlearn: 0.0895675\ttest: 1.9495467\tbest: 1.9411361 (90)\ttotal: 1.37s\tremaining: 111ms\n",
      "185:\tlearn: 0.0880614\ttest: 1.9492487\tbest: 1.9411361 (90)\ttotal: 1.38s\tremaining: 104ms\n",
      "186:\tlearn: 0.0868345\ttest: 1.9479210\tbest: 1.9411361 (90)\ttotal: 1.38s\tremaining: 96.1ms\n",
      "187:\tlearn: 0.0851193\ttest: 1.9470616\tbest: 1.9411361 (90)\ttotal: 1.39s\tremaining: 88.8ms\n",
      "188:\tlearn: 0.0842904\ttest: 1.9466680\tbest: 1.9411361 (90)\ttotal: 1.4s\tremaining: 81.3ms\n",
      "189:\tlearn: 0.0829906\ttest: 1.9463036\tbest: 1.9411361 (90)\ttotal: 1.4s\tremaining: 73.9ms\n",
      "190:\tlearn: 0.0814982\ttest: 1.9464755\tbest: 1.9411361 (90)\ttotal: 1.41s\tremaining: 66.5ms\n",
      "191:\tlearn: 0.0800330\ttest: 1.9475163\tbest: 1.9411361 (90)\ttotal: 1.42s\tremaining: 59.1ms\n",
      "192:\tlearn: 0.0785199\ttest: 1.9471026\tbest: 1.9411361 (90)\ttotal: 1.43s\tremaining: 51.7ms\n",
      "193:\tlearn: 0.0779368\ttest: 1.9473647\tbest: 1.9411361 (90)\ttotal: 1.43s\tremaining: 44.3ms\n",
      "194:\tlearn: 0.0767235\ttest: 1.9467229\tbest: 1.9411361 (90)\ttotal: 1.44s\tremaining: 36.9ms\n",
      "195:\tlearn: 0.0755960\ttest: 1.9466110\tbest: 1.9411361 (90)\ttotal: 1.45s\tremaining: 29.5ms\n",
      "196:\tlearn: 0.0752895\ttest: 1.9465019\tbest: 1.9411361 (90)\ttotal: 1.45s\tremaining: 22.1ms\n",
      "197:\tlearn: 0.0739691\ttest: 1.9461495\tbest: 1.9411361 (90)\ttotal: 1.46s\tremaining: 14.7ms\n",
      "198:\tlearn: 0.0723467\ttest: 1.9457468\tbest: 1.9411361 (90)\ttotal: 1.47s\tremaining: 7.37ms\n",
      "199:\tlearn: 0.0712394\ttest: 1.9457538\tbest: 1.9411361 (90)\ttotal: 1.47s\tremaining: 0us\n",
      "bestTest = 1.94113608\n",
      "bestIteration = 90\n",
      "Shrink model to first 91 iterations.\n"
     ]
    },
    {
     "data": {
      "text/plain": [
       "<catboost.core.CatBoostRegressor at 0x1909dced1f0>"
      ]
     },
     "execution_count": 21,
     "metadata": {},
     "output_type": "execute_result"
    }
   ],
   "source": [
    "catboost = CatBoostRegressor(n_estimators=200,learning_rate=0.39,eval_metric=\"MAE\",task_type=\"GPU\",random_state=25)\n",
    "catboost.fit(x_train,y_train,[],eval_set=(x_test,y_test))"
   ]
  },
  {
   "cell_type": "code",
   "execution_count": 22,
   "id": "fc655eec-d2b5-4045-acf6-9826887ed27b",
   "metadata": {},
   "outputs": [
    {
     "data": {
      "text/plain": [
       "{'learn': {'MAE': 0.07123944782974696, 'RMSE': 0.09005802726832426},\n",
       " 'validation': {'MAE': 1.941136079676011, 'RMSE': 2.675377735872684}}"
      ]
     },
     "execution_count": 22,
     "metadata": {},
     "output_type": "execute_result"
    }
   ],
   "source": [
    "catboost.best_score_"
   ]
  },
  {
   "cell_type": "code",
   "execution_count": 23,
   "id": "087ca320-0111-481f-a455-c759abce00b3",
   "metadata": {},
   "outputs": [],
   "source": [
    "predict_cat = catboost.predict(x_test)"
   ]
  },
  {
   "cell_type": "code",
   "execution_count": 24,
   "id": "0fa71884-596f-48a8-83f5-a0b262201ee3",
   "metadata": {},
   "outputs": [],
   "source": [
    "acc = [{\"Algorithm\":\"LinearRegression\",'MAE': metrics.mean_absolute_error(y_test,predict_lr),'MSE': metrics.mean_squared_error(y_test,predict_lr),'R2-Score': metrics.r2_score(y_test,predict_lr)},\n",
    "       {\"Algorithm\":\"SVR\",'MAE': metrics.mean_absolute_error(y_test,predict_svr),'MSE': metrics.mean_squared_error(y_test,predict_svr),'R2-Score': metrics.r2_score(y_test,predict_svr)},\n",
    "        {\"Algorithm\":\"RandomForest\",'MAE': metrics.mean_absolute_error(y_test,predict_rf),'MSE': metrics.mean_squared_error(y_test,predict_rf),'R2-Score': metrics.r2_score(y_test,predict_rf)},\n",
    "       {\"Algorithm\":\"Adaboost\",'MAE': metrics.mean_absolute_error(y_test,predict_ab),'MSE': metrics.mean_squared_error(y_test,predict_ab),'R2-Score': metrics.r2_score(y_test,predict_ab)},\n",
    "        {\"Algorithm\":\"Gboost\",'MAE': metrics.mean_absolute_error(y_test,predict_gb),'MSE': metrics.mean_squared_error(y_test,predict_gb),'R2-Score': metrics.r2_score(y_test,predict_gb)},\n",
    "        {\"Algorithm\":\"XGboost\",'MAE': metrics.mean_absolute_error(y_test,predict_xb),'MSE': metrics.mean_squared_error(y_test,predict_xb),'R2-Score': metrics.r2_score(y_test,predict_xb)},\n",
    "        {\"Algorithm\":\"Catboost\",'MAE': metrics.mean_absolute_error(y_test,predict_cat),'MSE': metrics.mean_squared_error(y_test,predict_cat),'R2-Score': metrics.r2_score(y_test,predict_cat)}\n",
    "       ] "
   ]
  },
  {
   "cell_type": "code",
   "execution_count": 25,
   "id": "4ab45cb2-cb90-4581-a90e-c6b9eca2630d",
   "metadata": {},
   "outputs": [
    {
     "data": {
      "text/html": [
       "<div>\n",
       "<style scoped>\n",
       "    .dataframe tbody tr th:only-of-type {\n",
       "        vertical-align: middle;\n",
       "    }\n",
       "\n",
       "    .dataframe tbody tr th {\n",
       "        vertical-align: top;\n",
       "    }\n",
       "\n",
       "    .dataframe thead th {\n",
       "        text-align: right;\n",
       "    }\n",
       "</style>\n",
       "<table border=\"1\" class=\"dataframe\">\n",
       "  <thead>\n",
       "    <tr style=\"text-align: right;\">\n",
       "      <th></th>\n",
       "      <th>Algorithm</th>\n",
       "      <th>MAE</th>\n",
       "      <th>MSE</th>\n",
       "      <th>R2-Score</th>\n",
       "    </tr>\n",
       "  </thead>\n",
       "  <tbody>\n",
       "    <tr>\n",
       "      <th>0</th>\n",
       "      <td>LinearRegression</td>\n",
       "      <td>2.979521</td>\n",
       "      <td>16.538367</td>\n",
       "      <td>0.784902</td>\n",
       "    </tr>\n",
       "    <tr>\n",
       "      <th>1</th>\n",
       "      <td>SVR</td>\n",
       "      <td>2.536688</td>\n",
       "      <td>15.342723</td>\n",
       "      <td>0.800453</td>\n",
       "    </tr>\n",
       "    <tr>\n",
       "      <th>2</th>\n",
       "      <td>RandomForest</td>\n",
       "      <td>2.266318</td>\n",
       "      <td>12.604454</td>\n",
       "      <td>0.836067</td>\n",
       "    </tr>\n",
       "    <tr>\n",
       "      <th>3</th>\n",
       "      <td>Adaboost</td>\n",
       "      <td>2.037147</td>\n",
       "      <td>10.375075</td>\n",
       "      <td>0.865062</td>\n",
       "    </tr>\n",
       "    <tr>\n",
       "      <th>4</th>\n",
       "      <td>Gboost</td>\n",
       "      <td>2.399323</td>\n",
       "      <td>12.609588</td>\n",
       "      <td>0.836000</td>\n",
       "    </tr>\n",
       "    <tr>\n",
       "      <th>5</th>\n",
       "      <td>XGboost</td>\n",
       "      <td>2.364805</td>\n",
       "      <td>12.508929</td>\n",
       "      <td>0.837309</td>\n",
       "    </tr>\n",
       "    <tr>\n",
       "      <th>6</th>\n",
       "      <td>Catboost</td>\n",
       "      <td>1.941136</td>\n",
       "      <td>7.217388</td>\n",
       "      <td>0.906131</td>\n",
       "    </tr>\n",
       "  </tbody>\n",
       "</table>\n",
       "</div>"
      ],
      "text/plain": [
       "          Algorithm       MAE        MSE  R2-Score\n",
       "0  LinearRegression  2.979521  16.538367  0.784902\n",
       "1               SVR  2.536688  15.342723  0.800453\n",
       "2      RandomForest  2.266318  12.604454  0.836067\n",
       "3          Adaboost  2.037147  10.375075  0.865062\n",
       "4            Gboost  2.399323  12.609588  0.836000\n",
       "5           XGboost  2.364805  12.508929  0.837309\n",
       "6          Catboost  1.941136   7.217388  0.906131"
      ]
     },
     "execution_count": 25,
     "metadata": {},
     "output_type": "execute_result"
    }
   ],
   "source": [
    "accurac = pd.DataFrame.from_dict(acc)\n",
    "accurac"
   ]
  }
 ],
 "metadata": {
  "kernelspec": {
   "display_name": "Python 3 (ipykernel)",
   "language": "python",
   "name": "python3"
  },
  "language_info": {
   "codemirror_mode": {
    "name": "ipython",
    "version": 3
   },
   "file_extension": ".py",
   "mimetype": "text/x-python",
   "name": "python",
   "nbconvert_exporter": "python",
   "pygments_lexer": "ipython3",
   "version": "3.9.6"
  }
 },
 "nbformat": 4,
 "nbformat_minor": 5
}
