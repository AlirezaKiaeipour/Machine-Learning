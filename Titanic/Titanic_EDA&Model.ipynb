{
 "cells": [
  {
   "cell_type": "markdown",
   "id": "025bf054-280b-4ce1-9d01-3265d8aafce2",
   "metadata": {
    "tags": []
   },
   "source": [
    "## Import Libraries & Load Dataset"
   ]
  },
  {
   "cell_type": "code",
   "execution_count": 1,
   "id": "9f8945b5-8fca-4f5f-a646-fd87625fdb56",
   "metadata": {},
   "outputs": [],
   "source": [
    "import pickle\n",
    "import pandas as pd\n",
    "import numpy as np\n",
    "from sklearn.preprocessing import LabelEncoder ,  StandardScaler\n",
    "from sklearn.impute import KNNImputer\n",
    "from sklearn.model_selection import train_test_split\n",
    "from sklearn import metrics\n",
    "from sklearn.neighbors import KNeighborsClassifier\n",
    "from sklearn.svm import SVC\n",
    "from sklearn.ensemble import RandomForestClassifier , GradientBoostingClassifier ,AdaBoostClassifier\n",
    "from xgboost import XGBRFClassifier\n",
    "from catboost import CatBoostClassifier\n",
    "from imblearn.combine import SMOTETomek\n",
    "from tensorflow.keras.models import Sequential\n",
    "from tensorflow.keras.layers import Dense\n",
    "from tensorflow.keras.callbacks import ModelCheckpoint\n",
    "from perceptron import Perceptron\n",
    "import seaborn as sns\n",
    "import matplotlib.pyplot as plt"
   ]
  },
  {
   "cell_type": "markdown",
   "id": "c3472beb-3dd3-404b-abdd-dec152f3c08a",
   "metadata": {},
   "source": [
    "## Titanic Dataset"
   ]
  },
  {
   "cell_type": "code",
   "execution_count": 2,
   "id": "c6e22d89-9edb-4e2a-a8a4-5dccb77d929a",
   "metadata": {},
   "outputs": [
    {
     "data": {
      "text/html": [
       "<div>\n",
       "<style scoped>\n",
       "    .dataframe tbody tr th:only-of-type {\n",
       "        vertical-align: middle;\n",
       "    }\n",
       "\n",
       "    .dataframe tbody tr th {\n",
       "        vertical-align: top;\n",
       "    }\n",
       "\n",
       "    .dataframe thead th {\n",
       "        text-align: right;\n",
       "    }\n",
       "</style>\n",
       "<table border=\"1\" class=\"dataframe\">\n",
       "  <thead>\n",
       "    <tr style=\"text-align: right;\">\n",
       "      <th></th>\n",
       "      <th>PassengerId</th>\n",
       "      <th>Survived</th>\n",
       "      <th>Pclass</th>\n",
       "      <th>Name</th>\n",
       "      <th>Sex</th>\n",
       "      <th>Age</th>\n",
       "      <th>SibSp</th>\n",
       "      <th>Parch</th>\n",
       "      <th>Ticket</th>\n",
       "      <th>Fare</th>\n",
       "      <th>Cabin</th>\n",
       "      <th>Embarked</th>\n",
       "    </tr>\n",
       "  </thead>\n",
       "  <tbody>\n",
       "    <tr>\n",
       "      <th>0</th>\n",
       "      <td>1</td>\n",
       "      <td>0</td>\n",
       "      <td>3</td>\n",
       "      <td>Braund, Mr. Owen Harris</td>\n",
       "      <td>male</td>\n",
       "      <td>22.0</td>\n",
       "      <td>1</td>\n",
       "      <td>0</td>\n",
       "      <td>A/5 21171</td>\n",
       "      <td>7.2500</td>\n",
       "      <td>NaN</td>\n",
       "      <td>S</td>\n",
       "    </tr>\n",
       "    <tr>\n",
       "      <th>1</th>\n",
       "      <td>2</td>\n",
       "      <td>1</td>\n",
       "      <td>1</td>\n",
       "      <td>Cumings, Mrs. John Bradley (Florence Briggs Th...</td>\n",
       "      <td>female</td>\n",
       "      <td>38.0</td>\n",
       "      <td>1</td>\n",
       "      <td>0</td>\n",
       "      <td>PC 17599</td>\n",
       "      <td>71.2833</td>\n",
       "      <td>C85</td>\n",
       "      <td>C</td>\n",
       "    </tr>\n",
       "    <tr>\n",
       "      <th>2</th>\n",
       "      <td>3</td>\n",
       "      <td>1</td>\n",
       "      <td>3</td>\n",
       "      <td>Heikkinen, Miss. Laina</td>\n",
       "      <td>female</td>\n",
       "      <td>26.0</td>\n",
       "      <td>0</td>\n",
       "      <td>0</td>\n",
       "      <td>STON/O2. 3101282</td>\n",
       "      <td>7.9250</td>\n",
       "      <td>NaN</td>\n",
       "      <td>S</td>\n",
       "    </tr>\n",
       "    <tr>\n",
       "      <th>3</th>\n",
       "      <td>4</td>\n",
       "      <td>1</td>\n",
       "      <td>1</td>\n",
       "      <td>Futrelle, Mrs. Jacques Heath (Lily May Peel)</td>\n",
       "      <td>female</td>\n",
       "      <td>35.0</td>\n",
       "      <td>1</td>\n",
       "      <td>0</td>\n",
       "      <td>113803</td>\n",
       "      <td>53.1000</td>\n",
       "      <td>C123</td>\n",
       "      <td>S</td>\n",
       "    </tr>\n",
       "    <tr>\n",
       "      <th>4</th>\n",
       "      <td>5</td>\n",
       "      <td>0</td>\n",
       "      <td>3</td>\n",
       "      <td>Allen, Mr. William Henry</td>\n",
       "      <td>male</td>\n",
       "      <td>35.0</td>\n",
       "      <td>0</td>\n",
       "      <td>0</td>\n",
       "      <td>373450</td>\n",
       "      <td>8.0500</td>\n",
       "      <td>NaN</td>\n",
       "      <td>S</td>\n",
       "    </tr>\n",
       "  </tbody>\n",
       "</table>\n",
       "</div>"
      ],
      "text/plain": [
       "   PassengerId  Survived  Pclass  \\\n",
       "0            1         0       3   \n",
       "1            2         1       1   \n",
       "2            3         1       3   \n",
       "3            4         1       1   \n",
       "4            5         0       3   \n",
       "\n",
       "                                                Name     Sex   Age  SibSp  \\\n",
       "0                            Braund, Mr. Owen Harris    male  22.0      1   \n",
       "1  Cumings, Mrs. John Bradley (Florence Briggs Th...  female  38.0      1   \n",
       "2                             Heikkinen, Miss. Laina  female  26.0      0   \n",
       "3       Futrelle, Mrs. Jacques Heath (Lily May Peel)  female  35.0      1   \n",
       "4                           Allen, Mr. William Henry    male  35.0      0   \n",
       "\n",
       "   Parch            Ticket     Fare Cabin Embarked  \n",
       "0      0         A/5 21171   7.2500   NaN        S  \n",
       "1      0          PC 17599  71.2833   C85        C  \n",
       "2      0  STON/O2. 3101282   7.9250   NaN        S  \n",
       "3      0            113803  53.1000  C123        S  \n",
       "4      0            373450   8.0500   NaN        S  "
      ]
     },
     "execution_count": 2,
     "metadata": {},
     "output_type": "execute_result"
    }
   ],
   "source": [
    "data = pd.read_csv(\"Dataset/titanic.csv\")\n",
    "data.head()"
   ]
  },
  {
   "cell_type": "markdown",
   "id": "bc7e4960-1d3b-40bc-90bc-7ad136a4489e",
   "metadata": {},
   "source": [
    "# EDA"
   ]
  },
  {
   "cell_type": "code",
   "execution_count": 3,
   "id": "d9ad878f-ca79-4d84-9487-ceb244f0b3ff",
   "metadata": {},
   "outputs": [
    {
     "data": {
      "image/png": "[encoded data removed]",
      "text/plain": [
       "<Figure size 432x288 with 1 Axes>"
      ]
     },
     "metadata": {
      "needs_background": "light"
     },
     "output_type": "display_data"
    }
   ],
   "source": [
    "sns.countplot(x=\"Survived\",data=data,alpha=0.6)\n",
    "plt.title(\"Bar chart to visualize the survived\")\n",
    "plt.grid(axis = 'y')"
   ]
  },
  {
   "cell_type": "code",
   "execution_count": 4,
   "id": "c0922ccf-6445-4014-8d0c-1273b68a1121",
   "metadata": {},
   "outputs": [
    {
     "data": {
      "image/png": "[encoded data removed]",
      "text/plain": [
       "<Figure size 430.5x360 with 1 Axes>"
      ]
     },
     "metadata": {
      "needs_background": "light"
     },
     "output_type": "display_data"
    }
   ],
   "source": [
    "sns.catplot(x=\"Survived\",data=data,kind=\"count\",hue=\"Sex\",alpha=0.6)\n",
    "plt.title(\"Bar chart to visualize the survived for genders\")\n",
    "plt.grid(axis = 'y')"
   ]
  },
  {
   "cell_type": "code",
   "execution_count": 5,
   "id": "b189aec1-37af-4f05-8b43-31fec1618a73",
   "metadata": {},
   "outputs": [
    {
     "data": {
      "image/png": "[encoded data removed]",
      "text/plain": [
       "<Figure size 402.375x360 with 1 Axes>"
      ]
     },
     "metadata": {
      "needs_background": "light"
     },
     "output_type": "display_data"
    }
   ],
   "source": [
    "sns.catplot(x=\"Survived\",data=data,kind=\"count\",hue=\"Pclass\",alpha=0.6)\n",
    "plt.title(\"Bar chart to visualize the survived for Pclass\")\n",
    "plt.grid(axis = 'y')"
   ]
  },
  {
   "cell_type": "code",
   "execution_count": 6,
   "id": "3c17fa76-5706-4572-945c-cc5e9fa3b472",
   "metadata": {},
   "outputs": [
    {
     "data": {
      "image/png": "[encoded data removed]",
      "text/plain": [
       "<Figure size 432x288 with 1 Axes>"
      ]
     },
     "metadata": {
      "needs_background": "light"
     },
     "output_type": "display_data"
    }
   ],
   "source": [
    "sns.countplot(x=\"Embarked\",data=data,alpha=0.6)\n",
    "plt.title(\"Bar chart to visualize the Embarked\")\n",
    "plt.grid(axis = 'y')"
   ]
  },
  {
   "cell_type": "code",
   "execution_count": 7,
   "id": "cc0138c2-ccf3-4549-9ec5-22fceef3e513",
   "metadata": {},
   "outputs": [
    {
     "data": {
      "image/png": "[encoded data removed]",
      "text/plain": [
       "<Figure size 430.5x360 with 1 Axes>"
      ]
     },
     "metadata": {
      "needs_background": "light"
     },
     "output_type": "display_data"
    }
   ],
   "source": [
    "sns.catplot(x=\"Pclass\",data=data,kind=\"count\",hue=\"Sex\",alpha=0.6)\n",
    "plt.title(\"Bar chart to visualize the Pclass for genders\")\n",
    "plt.grid(axis = 'y')"
   ]
  },
  {
   "cell_type": "code",
   "execution_count": 8,
   "id": "2f1ca156-855d-4f36-b000-30049b6f338e",
   "metadata": {},
   "outputs": [
    {
     "data": {
      "text/plain": [
       "Text(0.5, 1.0, 'Histogram chart to visualize the Age')"
      ]
     },
     "execution_count": 8,
     "metadata": {},
     "output_type": "execute_result"
    },
    {
     "data": {
      "image/png": "[encoded data removed]",
      "text/plain": [
       "<Figure size 360x360 with 1 Axes>"
      ]
     },
     "metadata": {
      "needs_background": "light"
     },
     "output_type": "display_data"
    }
   ],
   "source": [
    "sns.displot(data[\"Age\"],alpha=0.6)\n",
    "plt.title(\"Histogram chart to visualize the Age\")"
   ]
  },
  {
   "cell_type": "code",
   "execution_count": 9,
   "id": "12afe9a2-6122-45dc-85c8-716faf565e2a",
   "metadata": {},
   "outputs": [
    {
     "data": {
      "text/plain": [
       "<AxesSubplot:>"
      ]
     },
     "execution_count": 9,
     "metadata": {},
     "output_type": "execute_result"
    },
    {
     "data": {
      "image/png": "[encoded data removed]",
      "text/plain": [
       "<Figure size 1080x720 with 2 Axes>"
      ]
     },
     "metadata": {
      "needs_background": "light"
     },
     "output_type": "display_data"
    }
   ],
   "source": [
    "plt.figure(figsize=(15,10))\n",
    "sns.heatmap(data.corr(),annot=True)"
   ]
  },
  {
   "cell_type": "markdown",
   "id": "ecb00e77-dd17-4779-a756-57be38e71f27",
   "metadata": {},
   "source": [
    "# Preprocessing:"
   ]
  },
  {
   "cell_type": "code",
   "execution_count": 10,
   "id": "20d10a92-fd78-4bc1-8959-45402f6e64f6",
   "metadata": {},
   "outputs": [],
   "source": [
    "data.drop([\"Name\",\"Ticket\",\"Cabin\"],axis=1,inplace=True)"
   ]
  },
  {
   "cell_type": "code",
   "execution_count": 11,
   "id": "d2d3bee9-fda1-4012-9093-af3a8a64a468",
   "metadata": {},
   "outputs": [
    {
     "data": {
      "text/html": [
       "<div>\n",
       "<style scoped>\n",
       "    .dataframe tbody tr th:only-of-type {\n",
       "        vertical-align: middle;\n",
       "    }\n",
       "\n",
       "    .dataframe tbody tr th {\n",
       "        vertical-align: top;\n",
       "    }\n",
       "\n",
       "    .dataframe thead th {\n",
       "        text-align: right;\n",
       "    }\n",
       "</style>\n",
       "<table border=\"1\" class=\"dataframe\">\n",
       "  <thead>\n",
       "    <tr style=\"text-align: right;\">\n",
       "      <th></th>\n",
       "      <th>PassengerId</th>\n",
       "      <th>Survived</th>\n",
       "      <th>Pclass</th>\n",
       "      <th>Sex</th>\n",
       "      <th>Age</th>\n",
       "      <th>SibSp</th>\n",
       "      <th>Parch</th>\n",
       "      <th>Fare</th>\n",
       "      <th>Embarked</th>\n",
       "    </tr>\n",
       "  </thead>\n",
       "  <tbody>\n",
       "    <tr>\n",
       "      <th>0</th>\n",
       "      <td>1</td>\n",
       "      <td>0</td>\n",
       "      <td>3</td>\n",
       "      <td>male</td>\n",
       "      <td>22.0</td>\n",
       "      <td>1</td>\n",
       "      <td>0</td>\n",
       "      <td>7.2500</td>\n",
       "      <td>S</td>\n",
       "    </tr>\n",
       "    <tr>\n",
       "      <th>1</th>\n",
       "      <td>2</td>\n",
       "      <td>1</td>\n",
       "      <td>1</td>\n",
       "      <td>female</td>\n",
       "      <td>38.0</td>\n",
       "      <td>1</td>\n",
       "      <td>0</td>\n",
       "      <td>71.2833</td>\n",
       "      <td>C</td>\n",
       "    </tr>\n",
       "    <tr>\n",
       "      <th>2</th>\n",
       "      <td>3</td>\n",
       "      <td>1</td>\n",
       "      <td>3</td>\n",
       "      <td>female</td>\n",
       "      <td>26.0</td>\n",
       "      <td>0</td>\n",
       "      <td>0</td>\n",
       "      <td>7.9250</td>\n",
       "      <td>S</td>\n",
       "    </tr>\n",
       "    <tr>\n",
       "      <th>3</th>\n",
       "      <td>4</td>\n",
       "      <td>1</td>\n",
       "      <td>1</td>\n",
       "      <td>female</td>\n",
       "      <td>35.0</td>\n",
       "      <td>1</td>\n",
       "      <td>0</td>\n",
       "      <td>53.1000</td>\n",
       "      <td>S</td>\n",
       "    </tr>\n",
       "    <tr>\n",
       "      <th>4</th>\n",
       "      <td>5</td>\n",
       "      <td>0</td>\n",
       "      <td>3</td>\n",
       "      <td>male</td>\n",
       "      <td>35.0</td>\n",
       "      <td>0</td>\n",
       "      <td>0</td>\n",
       "      <td>8.0500</td>\n",
       "      <td>S</td>\n",
       "    </tr>\n",
       "  </tbody>\n",
       "</table>\n",
       "</div>"
      ],
      "text/plain": [
       "   PassengerId  Survived  Pclass     Sex   Age  SibSp  Parch     Fare Embarked\n",
       "0            1         0       3    male  22.0      1      0   7.2500        S\n",
       "1            2         1       1  female  38.0      1      0  71.2833        C\n",
       "2            3         1       3  female  26.0      0      0   7.9250        S\n",
       "3            4         1       1  female  35.0      1      0  53.1000        S\n",
       "4            5         0       3    male  35.0      0      0   8.0500        S"
      ]
     },
     "execution_count": 11,
     "metadata": {},
     "output_type": "execute_result"
    }
   ],
   "source": [
    "data.head()"
   ]
  },
  {
   "cell_type": "markdown",
   "id": "9311b13f-5443-42ae-84aa-c197f66b294d",
   "metadata": {},
   "source": [
    "### Convert Categorical to Numerical"
   ]
  },
  {
   "cell_type": "markdown",
   "id": "a643aec4-d8f2-4333-b6a9-dd955f7f885c",
   "metadata": {},
   "source": [
    "### OHE"
   ]
  },
  {
   "cell_type": "code",
   "execution_count": 12,
   "id": "f7036b98-0c99-4047-a2e6-07385c2e817d",
   "metadata": {},
   "outputs": [],
   "source": [
    "data = pd.get_dummies(data,columns=[\"Embarked\"])"
   ]
  },
  {
   "cell_type": "code",
   "execution_count": 13,
   "id": "edec9764-97fc-48ad-845e-43a8f7be67f5",
   "metadata": {},
   "outputs": [],
   "source": [
    "X = data.drop(\"Survived\",axis=1)\n",
    "Y = data.Survived.values"
   ]
  },
  {
   "cell_type": "code",
   "execution_count": 14,
   "id": "67a9ae56-cd70-473d-abd6-3ee2565f5775",
   "metadata": {},
   "outputs": [],
   "source": [
    "X[\"Sex\"] = LabelEncoder().fit_transform(X[\"Sex\"])"
   ]
  },
  {
   "cell_type": "markdown",
   "id": "3608e868-cf71-4a2e-baa6-b8d7ec6990d9",
   "metadata": {},
   "source": [
    "### Missing values"
   ]
  },
  {
   "cell_type": "code",
   "execution_count": 15,
   "id": "60316a88-f640-4b4e-9709-58c4d0f8f82e",
   "metadata": {},
   "outputs": [
    {
     "data": {
      "text/plain": [
       "PassengerId      0\n",
       "Pclass           0\n",
       "Sex              0\n",
       "Age            177\n",
       "SibSp            0\n",
       "Parch            0\n",
       "Fare             0\n",
       "Embarked_C       0\n",
       "Embarked_Q       0\n",
       "Embarked_S       0\n",
       "dtype: int64"
      ]
     },
     "execution_count": 15,
     "metadata": {},
     "output_type": "execute_result"
    }
   ],
   "source": [
    "X.isnull().sum()"
   ]
  },
  {
   "cell_type": "code",
   "execution_count": 16,
   "id": "d3005ad7-3ad9-4a98-9ab5-f05791608f24",
   "metadata": {},
   "outputs": [],
   "source": [
    "knn_imp = KNNImputer()\n",
    "X = knn_imp.fit_transform(X)"
   ]
  },
  {
   "cell_type": "markdown",
   "id": "f7f03842-8202-4c2b-b90b-ff5d2a04b5ee",
   "metadata": {},
   "source": [
    "### Scaling"
   ]
  },
  {
   "cell_type": "code",
   "execution_count": 17,
   "id": "0a355539-c7c3-4a7c-8a24-87adcb8a67f0",
   "metadata": {},
   "outputs": [],
   "source": [
    "SS = StandardScaler()\n",
    "X = SS.fit_transform(X)"
   ]
  },
  {
   "cell_type": "markdown",
   "id": "6c87e4ec-9a0f-4636-a556-1f8529e0df58",
   "metadata": {},
   "source": [
    "### Balance:\n",
    "### SMOTETomek"
   ]
  },
  {
   "cell_type": "code",
   "execution_count": 18,
   "id": "1054afae-5221-4974-80c7-de19ad6a4cec",
   "metadata": {},
   "outputs": [],
   "source": [
    "ST = SMOTETomek(random_state=10)\n",
    "X,Y = ST.fit_resample(X,Y)"
   ]
  },
  {
   "cell_type": "code",
   "execution_count": 19,
   "id": "797dcc6c-3140-43c4-8048-9bbb7b4f534e",
   "metadata": {},
   "outputs": [],
   "source": [
    "x_train , x_test , y_train , y_test = train_test_split(X,Y,test_size=0.2,random_state=5)"
   ]
  },
  {
   "cell_type": "markdown",
   "id": "c4b2a3c7-f0b3-4f94-9524-9417e26464e3",
   "metadata": {},
   "source": [
    "# Model"
   ]
  },
  {
   "cell_type": "markdown",
   "id": "cef70bb9-2d1e-4a1f-8fee-aac30129580c",
   "metadata": {},
   "source": [
    "### KNeighborsClassifier"
   ]
  },
  {
   "cell_type": "code",
   "execution_count": 20,
   "id": "73944c75-c8d7-4126-b017-7ca88d7caaa2",
   "metadata": {},
   "outputs": [],
   "source": [
    "knn = KNeighborsClassifier(n_neighbors=9)\n",
    "knn.fit(x_train,y_train)\n",
    "predict_knn = knn.predict(x_test)"
   ]
  },
  {
   "cell_type": "code",
   "execution_count": 21,
   "id": "0a5b8a83-13a4-4075-8967-f0ab365e5637",
   "metadata": {},
   "outputs": [
    {
     "name": "stdout",
     "output_type": "stream",
     "text": [
      "              precision    recall  f1-score   support\n",
      "\n",
      "           0       0.84      0.84      0.84        89\n",
      "           1       0.88      0.88      0.88       113\n",
      "\n",
      "    accuracy                           0.86       202\n",
      "   macro avg       0.86      0.86      0.86       202\n",
      "weighted avg       0.86      0.86      0.86       202\n",
      "\n"
     ]
    }
   ],
   "source": [
    "print(metrics.classification_report(y_test,predict_knn))"
   ]
  },
  {
   "cell_type": "code",
   "execution_count": 22,
   "id": "43b2e7a9-a2d8-4171-81be-007fd89a2680",
   "metadata": {},
   "outputs": [
    {
     "name": "stderr",
     "output_type": "stream",
     "text": [
      "c:\\users\\akiai\\appdata\\local\\programs\\python\\python39\\lib\\site-packages\\sklearn\\utils\\deprecation.py:87: FutureWarning: Function plot_confusion_matrix is deprecated; Function `plot_confusion_matrix` is deprecated in 1.0 and will be removed in 1.2. Use one of the class methods: ConfusionMatrixDisplay.from_predictions or ConfusionMatrixDisplay.from_estimator.\n",
      "  warnings.warn(msg, category=FutureWarning)\n"
     ]
    },
    {
     "data": {
      "text/plain": [
       "<sklearn.metrics._plot.confusion_matrix.ConfusionMatrixDisplay at 0x22b7c52f640>"
      ]
     },
     "execution_count": 22,
     "metadata": {},
     "output_type": "execute_result"
    },
    {
     "data": {
      "image/png": "[encoded data removed]",
      "text/plain": [
       "<Figure size 432x288 with 2 Axes>"
      ]
     },
     "metadata": {
      "needs_background": "light"
     },
     "output_type": "display_data"
    }
   ],
   "source": [
    "metrics.plot_confusion_matrix(knn,x_test,y_test)"
   ]
  },
  {
   "cell_type": "markdown",
   "id": "708925c5-7a44-49de-a165-6c329a340183",
   "metadata": {},
   "source": [
    "### SVC"
   ]
  },
  {
   "cell_type": "code",
   "execution_count": 23,
   "id": "b0f8f67f-219c-4623-a442-3716d35c44bd",
   "metadata": {},
   "outputs": [
    {
     "name": "stdout",
     "output_type": "stream",
     "text": [
      "[LibSVM]"
     ]
    }
   ],
   "source": [
    "svc = SVC(kernel=\"rbf\",C=0.5,random_state=300,verbose=True)\n",
    "svc.fit(x_train,y_train)\n",
    "predict_svm = svc.predict(x_test)"
   ]
  },
  {
   "cell_type": "code",
   "execution_count": 24,
   "id": "caa623c7-5e39-4a60-98f2-9dc43bb06cdb",
   "metadata": {},
   "outputs": [
    {
     "name": "stdout",
     "output_type": "stream",
     "text": [
      "              precision    recall  f1-score   support\n",
      "\n",
      "           0       0.77      0.85      0.81        89\n",
      "           1       0.87      0.80      0.83       113\n",
      "\n",
      "    accuracy                           0.82       202\n",
      "   macro avg       0.82      0.83      0.82       202\n",
      "weighted avg       0.83      0.82      0.82       202\n",
      "\n"
     ]
    }
   ],
   "source": [
    "print(metrics.classification_report(y_test,predict_svm))"
   ]
  },
  {
   "cell_type": "code",
   "execution_count": 25,
   "id": "7066b10e-2397-4b57-a345-11d7539bca9a",
   "metadata": {},
   "outputs": [
    {
     "name": "stderr",
     "output_type": "stream",
     "text": [
      "c:\\users\\akiai\\appdata\\local\\programs\\python\\python39\\lib\\site-packages\\sklearn\\utils\\deprecation.py:87: FutureWarning: Function plot_confusion_matrix is deprecated; Function `plot_confusion_matrix` is deprecated in 1.0 and will be removed in 1.2. Use one of the class methods: ConfusionMatrixDisplay.from_predictions or ConfusionMatrixDisplay.from_estimator.\n",
      "  warnings.warn(msg, category=FutureWarning)\n"
     ]
    },
    {
     "data": {
      "text/plain": [
       "<sklearn.metrics._plot.confusion_matrix.ConfusionMatrixDisplay at 0x22b7c639ee0>"
      ]
     },
     "execution_count": 25,
     "metadata": {},
     "output_type": "execute_result"
    },
    {
     "data": {
      "image/png": "[encoded data removed]",
      "text/plain": [
       "<Figure size 432x288 with 2 Axes>"
      ]
     },
     "metadata": {
      "needs_background": "light"
     },
     "output_type": "display_data"
    }
   ],
   "source": [
    "metrics.plot_confusion_matrix(svc,x_test,y_test)"
   ]
  },
  {
   "cell_type": "markdown",
   "id": "0eb4aec6-4e17-4496-b918-a7533edd7eba",
   "metadata": {},
   "source": [
    "### RandomForestClassifier"
   ]
  },
  {
   "cell_type": "code",
   "execution_count": 26,
   "id": "544851d3-c760-4ed2-99d6-51d6c25ab123",
   "metadata": {},
   "outputs": [],
   "source": [
    "RF = RandomForestClassifier(n_estimators=1000,n_jobs=-1,random_state=242)\n",
    "RF.fit(x_train,y_train)\n",
    "predict_rf = RF.predict(x_test)"
   ]
  },
  {
   "cell_type": "code",
   "execution_count": 27,
   "id": "24c7593d-20de-4292-b645-3475f6d8e1bd",
   "metadata": {},
   "outputs": [
    {
     "name": "stdout",
     "output_type": "stream",
     "text": [
      "              precision    recall  f1-score   support\n",
      "\n",
      "           0       0.90      0.94      0.92        89\n",
      "           1       0.95      0.92      0.94       113\n",
      "\n",
      "    accuracy                           0.93       202\n",
      "   macro avg       0.93      0.93      0.93       202\n",
      "weighted avg       0.93      0.93      0.93       202\n",
      "\n"
     ]
    }
   ],
   "source": [
    "print(metrics.classification_report(y_test,predict_rf))"
   ]
  },
  {
   "cell_type": "code",
   "execution_count": 28,
   "id": "6b230e9a-7dc9-443f-b310-dae693823024",
   "metadata": {},
   "outputs": [
    {
     "name": "stderr",
     "output_type": "stream",
     "text": [
      "c:\\users\\akiai\\appdata\\local\\programs\\python\\python39\\lib\\site-packages\\sklearn\\utils\\deprecation.py:87: FutureWarning: Function plot_confusion_matrix is deprecated; Function `plot_confusion_matrix` is deprecated in 1.0 and will be removed in 1.2. Use one of the class methods: ConfusionMatrixDisplay.from_predictions or ConfusionMatrixDisplay.from_estimator.\n",
      "  warnings.warn(msg, category=FutureWarning)\n"
     ]
    },
    {
     "data": {
      "text/plain": [
       "<sklearn.metrics._plot.confusion_matrix.ConfusionMatrixDisplay at 0x22b7c48bf40>"
      ]
     },
     "execution_count": 28,
     "metadata": {},
     "output_type": "execute_result"
    },
    {
     "data": {
      "image/png": "[encoded data removed]",
      "text/plain": [
       "<Figure size 432x288 with 2 Axes>"
      ]
     },
     "metadata": {
      "needs_background": "light"
     },
     "output_type": "display_data"
    }
   ],
   "source": [
    "metrics.plot_confusion_matrix(RF,x_test,y_test)"
   ]
  },
  {
   "cell_type": "markdown",
   "id": "9cc22b7c-e116-452a-95d0-77f9349052f0",
   "metadata": {},
   "source": [
    "### AdaBoostClassifier"
   ]
  },
  {
   "cell_type": "code",
   "execution_count": 29,
   "id": "f258e630-b892-4542-b6e9-efee51318cfa",
   "metadata": {},
   "outputs": [],
   "source": [
    "adaboost = AdaBoostClassifier(random_state=242)\n",
    "adaboost.fit(x_train,y_train)\n",
    "predict_ab = adaboost.predict(x_test)"
   ]
  },
  {
   "cell_type": "code",
   "execution_count": 30,
   "id": "90b67806-34e9-4320-8e55-e5948414def4",
   "metadata": {},
   "outputs": [
    {
     "name": "stdout",
     "output_type": "stream",
     "text": [
      "              precision    recall  f1-score   support\n",
      "\n",
      "           0       0.81      0.83      0.82        89\n",
      "           1       0.86      0.85      0.86       113\n",
      "\n",
      "    accuracy                           0.84       202\n",
      "   macro avg       0.84      0.84      0.84       202\n",
      "weighted avg       0.84      0.84      0.84       202\n",
      "\n"
     ]
    }
   ],
   "source": [
    "print(metrics.classification_report(y_test,predict_ab))"
   ]
  },
  {
   "cell_type": "code",
   "execution_count": 31,
   "id": "eda7267a-e05e-4d12-9e0b-b647683d96c1",
   "metadata": {},
   "outputs": [
    {
     "name": "stderr",
     "output_type": "stream",
     "text": [
      "c:\\users\\akiai\\appdata\\local\\programs\\python\\python39\\lib\\site-packages\\sklearn\\utils\\deprecation.py:87: FutureWarning: Function plot_confusion_matrix is deprecated; Function `plot_confusion_matrix` is deprecated in 1.0 and will be removed in 1.2. Use one of the class methods: ConfusionMatrixDisplay.from_predictions or ConfusionMatrixDisplay.from_estimator.\n",
      "  warnings.warn(msg, category=FutureWarning)\n"
     ]
    },
    {
     "data": {
      "text/plain": [
       "<sklearn.metrics._plot.confusion_matrix.ConfusionMatrixDisplay at 0x22b7c3e9dc0>"
      ]
     },
     "execution_count": 31,
     "metadata": {},
     "output_type": "execute_result"
    },
    {
     "data": {
      "image/png": "[encoded data removed]",
      "text/plain": [
       "<Figure size 432x288 with 2 Axes>"
      ]
     },
     "metadata": {
      "needs_background": "light"
     },
     "output_type": "display_data"
    }
   ],
   "source": [
    "metrics.plot_confusion_matrix(adaboost,x_test,y_test)"
   ]
  },
  {
   "cell_type": "markdown",
   "id": "2cc59774-b7d8-41f0-bd7f-5d0a140f30e4",
   "metadata": {},
   "source": [
    "### GBoostingClassifier"
   ]
  },
  {
   "cell_type": "code",
   "execution_count": 32,
   "id": "ca0189c0-7b2a-4a8a-b884-a427f1a64a5c",
   "metadata": {},
   "outputs": [],
   "source": [
    "Gboost = GradientBoostingClassifier(n_estimators=1000,learning_rate=0.01,subsample=0.9,min_samples_split=10,max_depth=2,random_state=25)\n",
    "Gboost.fit(x_train,y_train)\n",
    "predict_gb = Gboost.predict(x_test)"
   ]
  },
  {
   "cell_type": "code",
   "execution_count": 33,
   "id": "d5e5bf19-3618-4220-a1b8-6c70755f4ecd",
   "metadata": {},
   "outputs": [
    {
     "name": "stdout",
     "output_type": "stream",
     "text": [
      "              precision    recall  f1-score   support\n",
      "\n",
      "           0       0.83      0.88      0.85        89\n",
      "           1       0.90      0.86      0.88       113\n",
      "\n",
      "    accuracy                           0.87       202\n",
      "   macro avg       0.86      0.87      0.87       202\n",
      "weighted avg       0.87      0.87      0.87       202\n",
      "\n"
     ]
    }
   ],
   "source": [
    "print(metrics.classification_report(y_test,predict_gb))"
   ]
  },
  {
   "cell_type": "code",
   "execution_count": 34,
   "id": "f27de7fe-0eda-4544-9043-70f187596094",
   "metadata": {},
   "outputs": [
    {
     "name": "stderr",
     "output_type": "stream",
     "text": [
      "c:\\users\\akiai\\appdata\\local\\programs\\python\\python39\\lib\\site-packages\\sklearn\\utils\\deprecation.py:87: FutureWarning: Function plot_confusion_matrix is deprecated; Function `plot_confusion_matrix` is deprecated in 1.0 and will be removed in 1.2. Use one of the class methods: ConfusionMatrixDisplay.from_predictions or ConfusionMatrixDisplay.from_estimator.\n",
      "  warnings.warn(msg, category=FutureWarning)\n"
     ]
    },
    {
     "data": {
      "text/plain": [
       "<sklearn.metrics._plot.confusion_matrix.ConfusionMatrixDisplay at 0x22b7c847ca0>"
      ]
     },
     "execution_count": 34,
     "metadata": {},
     "output_type": "execute_result"
    },
    {
     "data": {
      "image/png": "[encoded data removed]",
      "text/plain": [
       "<Figure size 432x288 with 2 Axes>"
      ]
     },
     "metadata": {
      "needs_background": "light"
     },
     "output_type": "display_data"
    }
   ],
   "source": [
    "metrics.plot_confusion_matrix(Gboost,x_test,y_test)"
   ]
  },
  {
   "cell_type": "markdown",
   "id": "3205426f-1c56-4cdc-8d8a-28ebf31a846d",
   "metadata": {},
   "source": [
    "### XGBoostClassifier"
   ]
  },
  {
   "cell_type": "code",
   "execution_count": 35,
   "id": "a1c17906-779c-4825-881e-1b9760b457a0",
   "metadata": {},
   "outputs": [
    {
     "name": "stderr",
     "output_type": "stream",
     "text": [
      "c:\\users\\akiai\\appdata\\local\\programs\\python\\python39\\lib\\site-packages\\xgboost\\sklearn.py:1224: UserWarning: The use of label encoder in XGBClassifier is deprecated and will be removed in a future release. To remove this warning, do the following: 1) Pass option use_label_encoder=False when constructing XGBClassifier object; and 2) Encode your labels (y) as integers starting with 0, i.e. 0, 1, 2, ..., [num_class - 1].\n",
      "  warnings.warn(label_encoder_deprecation_msg, UserWarning)\n"
     ]
    },
    {
     "name": "stdout",
     "output_type": "stream",
     "text": [
      "[18:44:38] WARNING: C:/Users/Administrator/workspace/xgboost-win64_release_1.5.1/src/learner.cc:1115: Starting in XGBoost 1.3.0, the default evaluation metric used with the objective 'binary:logistic' was changed from 'error' to 'logloss'. Explicitly set eval_metric if you'd like to restore the old behavior.\n"
     ]
    }
   ],
   "source": [
    "XGboost = XGBRFClassifier(learning_rate=0.05,subsample=0.5,reg_lambda=0.3)\n",
    "XGboost.fit(x_train,y_train)\n",
    "predict_xb = XGboost.predict(x_test)"
   ]
  },
  {
   "cell_type": "code",
   "execution_count": 36,
   "id": "6b0e0155-2cc1-4761-a953-f7f679e0e207",
   "metadata": {},
   "outputs": [
    {
     "name": "stdout",
     "output_type": "stream",
     "text": [
      "              precision    recall  f1-score   support\n",
      "\n",
      "           0       0.82      0.88      0.85        89\n",
      "           1       0.90      0.85      0.87       113\n",
      "\n",
      "    accuracy                           0.86       202\n",
      "   macro avg       0.86      0.86      0.86       202\n",
      "weighted avg       0.86      0.86      0.86       202\n",
      "\n"
     ]
    }
   ],
   "source": [
    "print(metrics.classification_report(y_test,predict_xb))"
   ]
  },
  {
   "cell_type": "code",
   "execution_count": 37,
   "id": "c39f4019-0330-43b8-9550-01cd285f642f",
   "metadata": {},
   "outputs": [
    {
     "name": "stderr",
     "output_type": "stream",
     "text": [
      "c:\\users\\akiai\\appdata\\local\\programs\\python\\python39\\lib\\site-packages\\sklearn\\utils\\deprecation.py:87: FutureWarning: Function plot_confusion_matrix is deprecated; Function `plot_confusion_matrix` is deprecated in 1.0 and will be removed in 1.2. Use one of the class methods: ConfusionMatrixDisplay.from_predictions or ConfusionMatrixDisplay.from_estimator.\n",
      "  warnings.warn(msg, category=FutureWarning)\n"
     ]
    },
    {
     "data": {
      "text/plain": [
       "<sklearn.metrics._plot.confusion_matrix.ConfusionMatrixDisplay at 0x22b7c4d2760>"
      ]
     },
     "execution_count": 37,
     "metadata": {},
     "output_type": "execute_result"
    },
    {
     "data": {
      "image/png": "[encoded data removed]",
      "text/plain": [
       "<Figure size 432x288 with 2 Axes>"
      ]
     },
     "metadata": {
      "needs_background": "light"
     },
     "output_type": "display_data"
    }
   ],
   "source": [
    "metrics.plot_confusion_matrix(XGboost,x_test,y_test)"
   ]
  },
  {
   "cell_type": "markdown",
   "id": "a73201ff-742a-47c7-9cd2-0f2f8b0d40a6",
   "metadata": {},
   "source": [
    "### CatBoostClassifier"
   ]
  },
  {
   "cell_type": "code",
   "execution_count": 38,
   "id": "da69dd1a-67f6-4273-bb28-64d0829f22ab",
   "metadata": {},
   "outputs": [
    {
     "name": "stdout",
     "output_type": "stream",
     "text": [
      "0:\tlearn: 0.8415842\ttest: 0.8267327\tbest: 0.8267327 (0)\ttotal: 13.6ms\tremaining: 2.71s\n",
      "1:\tlearn: 0.8688119\ttest: 0.8465347\tbest: 0.8465347 (1)\ttotal: 26.8ms\tremaining: 2.65s\n",
      "2:\tlearn: 0.8799505\ttest: 0.8663366\tbest: 0.8663366 (2)\ttotal: 37.5ms\tremaining: 2.46s\n",
      "3:\tlearn: 0.8824257\ttest: 0.8663366\tbest: 0.8663366 (2)\ttotal: 48.3ms\tremaining: 2.37s\n",
      "4:\tlearn: 0.9059406\ttest: 0.8663366\tbest: 0.8663366 (2)\ttotal: 59.6ms\tremaining: 2.32s\n",
      "5:\tlearn: 0.9158416\ttest: 0.8712871\tbest: 0.8712871 (5)\ttotal: 70ms\tremaining: 2.26s\n",
      "6:\tlearn: 0.9207921\ttest: 0.8762376\tbest: 0.8762376 (6)\ttotal: 81ms\tremaining: 2.23s\n",
      "7:\tlearn: 0.9282178\ttest: 0.8712871\tbest: 0.8762376 (6)\ttotal: 92.3ms\tremaining: 2.21s\n",
      "8:\tlearn: 0.9306931\ttest: 0.8613861\tbest: 0.8762376 (6)\ttotal: 103ms\tremaining: 2.19s\n",
      "9:\tlearn: 0.9331683\ttest: 0.8613861\tbest: 0.8762376 (6)\ttotal: 111ms\tremaining: 2.12s\n",
      "10:\tlearn: 0.9331683\ttest: 0.8663366\tbest: 0.8762376 (6)\ttotal: 123ms\tremaining: 2.11s\n",
      "11:\tlearn: 0.9381188\ttest: 0.8712871\tbest: 0.8762376 (6)\ttotal: 133ms\tremaining: 2.09s\n",
      "12:\tlearn: 0.9430693\ttest: 0.8861386\tbest: 0.8861386 (12)\ttotal: 145ms\tremaining: 2.08s\n",
      "13:\tlearn: 0.9529703\ttest: 0.8811881\tbest: 0.8861386 (12)\ttotal: 156ms\tremaining: 2.07s\n",
      "14:\tlearn: 0.9579208\ttest: 0.8910891\tbest: 0.8910891 (14)\ttotal: 166ms\tremaining: 2.05s\n",
      "15:\tlearn: 0.9653465\ttest: 0.8811881\tbest: 0.8910891 (14)\ttotal: 178ms\tremaining: 2.04s\n",
      "16:\tlearn: 0.9628713\ttest: 0.8910891\tbest: 0.8910891 (14)\ttotal: 189ms\tremaining: 2.03s\n",
      "17:\tlearn: 0.9715347\ttest: 0.8960396\tbest: 0.8960396 (17)\ttotal: 200ms\tremaining: 2.02s\n",
      "18:\tlearn: 0.9727723\ttest: 0.8910891\tbest: 0.8960396 (17)\ttotal: 211ms\tremaining: 2.01s\n",
      "19:\tlearn: 0.9727723\ttest: 0.8910891\tbest: 0.8960396 (17)\ttotal: 223ms\tremaining: 2.01s\n",
      "20:\tlearn: 0.9764851\ttest: 0.8960396\tbest: 0.8960396 (17)\ttotal: 233ms\tremaining: 1.99s\n",
      "21:\tlearn: 0.9752475\ttest: 0.8910891\tbest: 0.8960396 (17)\ttotal: 243ms\tremaining: 1.97s\n",
      "22:\tlearn: 0.9752475\ttest: 0.8910891\tbest: 0.8960396 (17)\ttotal: 255ms\tremaining: 1.96s\n",
      "23:\tlearn: 0.9777228\ttest: 0.8910891\tbest: 0.8960396 (17)\ttotal: 267ms\tremaining: 1.96s\n",
      "24:\tlearn: 0.9777228\ttest: 0.8910891\tbest: 0.8960396 (17)\ttotal: 278ms\tremaining: 1.95s\n",
      "25:\tlearn: 0.9777228\ttest: 0.8910891\tbest: 0.8960396 (17)\ttotal: 289ms\tremaining: 1.93s\n",
      "26:\tlearn: 0.9826733\ttest: 0.9009901\tbest: 0.9009901 (26)\ttotal: 299ms\tremaining: 1.91s\n",
      "27:\tlearn: 0.9839109\ttest: 0.9059406\tbest: 0.9059406 (27)\ttotal: 309ms\tremaining: 1.9s\n",
      "28:\tlearn: 0.9863861\ttest: 0.9059406\tbest: 0.9059406 (27)\ttotal: 318ms\tremaining: 1.88s\n",
      "29:\tlearn: 0.9839109\ttest: 0.9059406\tbest: 0.9059406 (27)\ttotal: 331ms\tremaining: 1.87s\n",
      "30:\tlearn: 0.9851485\ttest: 0.9059406\tbest: 0.9059406 (27)\ttotal: 343ms\tremaining: 1.87s\n",
      "31:\tlearn: 0.9888614\ttest: 0.9009901\tbest: 0.9059406 (27)\ttotal: 352ms\tremaining: 1.85s\n",
      "32:\tlearn: 0.9888614\ttest: 0.9108911\tbest: 0.9108911 (32)\ttotal: 362ms\tremaining: 1.83s\n",
      "33:\tlearn: 0.9900990\ttest: 0.9059406\tbest: 0.9108911 (32)\ttotal: 372ms\tremaining: 1.81s\n",
      "34:\tlearn: 0.9900990\ttest: 0.9059406\tbest: 0.9108911 (32)\ttotal: 381ms\tremaining: 1.8s\n",
      "35:\tlearn: 0.9900990\ttest: 0.9059406\tbest: 0.9108911 (32)\ttotal: 391ms\tremaining: 1.78s\n",
      "36:\tlearn: 0.9900990\ttest: 0.9059406\tbest: 0.9108911 (32)\ttotal: 403ms\tremaining: 1.77s\n",
      "37:\tlearn: 0.9925743\ttest: 0.9059406\tbest: 0.9108911 (32)\ttotal: 415ms\tremaining: 1.77s\n",
      "38:\tlearn: 0.9925743\ttest: 0.9059406\tbest: 0.9108911 (32)\ttotal: 424ms\tremaining: 1.75s\n",
      "39:\tlearn: 0.9925743\ttest: 0.9059406\tbest: 0.9108911 (32)\ttotal: 435ms\tremaining: 1.74s\n",
      "40:\tlearn: 0.9938119\ttest: 0.9059406\tbest: 0.9108911 (32)\ttotal: 445ms\tremaining: 1.72s\n",
      "41:\tlearn: 0.9950495\ttest: 0.9059406\tbest: 0.9108911 (32)\ttotal: 455ms\tremaining: 1.71s\n",
      "42:\tlearn: 0.9950495\ttest: 0.9059406\tbest: 0.9108911 (32)\ttotal: 465ms\tremaining: 1.7s\n",
      "43:\tlearn: 0.9962871\ttest: 0.9158416\tbest: 0.9158416 (43)\ttotal: 475ms\tremaining: 1.68s\n",
      "44:\tlearn: 0.9975248\ttest: 0.9158416\tbest: 0.9158416 (43)\ttotal: 485ms\tremaining: 1.67s\n",
      "45:\tlearn: 0.9987624\ttest: 0.9158416\tbest: 0.9158416 (43)\ttotal: 495ms\tremaining: 1.66s\n",
      "46:\tlearn: 1.0000000\ttest: 0.9207921\tbest: 0.9207921 (46)\ttotal: 505ms\tremaining: 1.64s\n",
      "47:\tlearn: 1.0000000\ttest: 0.9207921\tbest: 0.9207921 (46)\ttotal: 515ms\tremaining: 1.63s\n",
      "48:\tlearn: 1.0000000\ttest: 0.9158416\tbest: 0.9207921 (46)\ttotal: 525ms\tremaining: 1.62s\n",
      "49:\tlearn: 1.0000000\ttest: 0.9207921\tbest: 0.9207921 (46)\ttotal: 537ms\tremaining: 1.61s\n",
      "50:\tlearn: 1.0000000\ttest: 0.9207921\tbest: 0.9207921 (46)\ttotal: 550ms\tremaining: 1.6s\n",
      "51:\tlearn: 1.0000000\ttest: 0.9108911\tbest: 0.9207921 (46)\ttotal: 559ms\tremaining: 1.59s\n",
      "52:\tlearn: 1.0000000\ttest: 0.9158416\tbest: 0.9207921 (46)\ttotal: 569ms\tremaining: 1.58s\n",
      "53:\tlearn: 1.0000000\ttest: 0.9158416\tbest: 0.9207921 (46)\ttotal: 579ms\tremaining: 1.56s\n",
      "54:\tlearn: 1.0000000\ttest: 0.9108911\tbest: 0.9207921 (46)\ttotal: 589ms\tremaining: 1.55s\n",
      "55:\tlearn: 1.0000000\ttest: 0.9108911\tbest: 0.9207921 (46)\ttotal: 601ms\tremaining: 1.54s\n",
      "56:\tlearn: 1.0000000\ttest: 0.9158416\tbest: 0.9207921 (46)\ttotal: 612ms\tremaining: 1.54s\n",
      "57:\tlearn: 1.0000000\ttest: 0.9108911\tbest: 0.9207921 (46)\ttotal: 622ms\tremaining: 1.52s\n",
      "58:\tlearn: 1.0000000\ttest: 0.9108911\tbest: 0.9207921 (46)\ttotal: 632ms\tremaining: 1.51s\n",
      "59:\tlearn: 1.0000000\ttest: 0.9108911\tbest: 0.9207921 (46)\ttotal: 645ms\tremaining: 1.5s\n",
      "60:\tlearn: 1.0000000\ttest: 0.9108911\tbest: 0.9207921 (46)\ttotal: 657ms\tremaining: 1.5s\n",
      "61:\tlearn: 1.0000000\ttest: 0.9108911\tbest: 0.9207921 (46)\ttotal: 666ms\tremaining: 1.48s\n",
      "62:\tlearn: 1.0000000\ttest: 0.9108911\tbest: 0.9207921 (46)\ttotal: 676ms\tremaining: 1.47s\n",
      "63:\tlearn: 1.0000000\ttest: 0.9108911\tbest: 0.9207921 (46)\ttotal: 686ms\tremaining: 1.46s\n",
      "64:\tlearn: 1.0000000\ttest: 0.9108911\tbest: 0.9207921 (46)\ttotal: 696ms\tremaining: 1.45s\n",
      "65:\tlearn: 1.0000000\ttest: 0.9108911\tbest: 0.9207921 (46)\ttotal: 706ms\tremaining: 1.43s\n",
      "66:\tlearn: 1.0000000\ttest: 0.9108911\tbest: 0.9207921 (46)\ttotal: 716ms\tremaining: 1.42s\n",
      "67:\tlearn: 1.0000000\ttest: 0.9108911\tbest: 0.9207921 (46)\ttotal: 725ms\tremaining: 1.41s\n",
      "68:\tlearn: 1.0000000\ttest: 0.9108911\tbest: 0.9207921 (46)\ttotal: 736ms\tremaining: 1.4s\n",
      "69:\tlearn: 1.0000000\ttest: 0.9009901\tbest: 0.9207921 (46)\ttotal: 745ms\tremaining: 1.38s\n",
      "70:\tlearn: 1.0000000\ttest: 0.9009901\tbest: 0.9207921 (46)\ttotal: 755ms\tremaining: 1.37s\n",
      "71:\tlearn: 1.0000000\ttest: 0.9009901\tbest: 0.9207921 (46)\ttotal: 765ms\tremaining: 1.36s\n",
      "72:\tlearn: 1.0000000\ttest: 0.9009901\tbest: 0.9207921 (46)\ttotal: 776ms\tremaining: 1.35s\n",
      "73:\tlearn: 1.0000000\ttest: 0.9108911\tbest: 0.9207921 (46)\ttotal: 788ms\tremaining: 1.34s\n",
      "74:\tlearn: 1.0000000\ttest: 0.9108911\tbest: 0.9207921 (46)\ttotal: 800ms\tremaining: 1.33s\n",
      "75:\tlearn: 1.0000000\ttest: 0.9059406\tbest: 0.9207921 (46)\ttotal: 810ms\tremaining: 1.32s\n",
      "76:\tlearn: 1.0000000\ttest: 0.9009901\tbest: 0.9207921 (46)\ttotal: 822ms\tremaining: 1.31s\n",
      "77:\tlearn: 1.0000000\ttest: 0.9059406\tbest: 0.9207921 (46)\ttotal: 832ms\tremaining: 1.3s\n",
      "78:\tlearn: 1.0000000\ttest: 0.9059406\tbest: 0.9207921 (46)\ttotal: 845ms\tremaining: 1.29s\n",
      "79:\tlearn: 1.0000000\ttest: 0.9009901\tbest: 0.9207921 (46)\ttotal: 857ms\tremaining: 1.28s\n",
      "80:\tlearn: 1.0000000\ttest: 0.9009901\tbest: 0.9207921 (46)\ttotal: 869ms\tremaining: 1.28s\n",
      "81:\tlearn: 1.0000000\ttest: 0.9059406\tbest: 0.9207921 (46)\ttotal: 970ms\tremaining: 1.4s\n",
      "82:\tlearn: 1.0000000\ttest: 0.9059406\tbest: 0.9207921 (46)\ttotal: 986ms\tremaining: 1.39s\n",
      "83:\tlearn: 1.0000000\ttest: 0.9108911\tbest: 0.9207921 (46)\ttotal: 999ms\tremaining: 1.38s\n",
      "84:\tlearn: 1.0000000\ttest: 0.9059406\tbest: 0.9207921 (46)\ttotal: 1.01s\tremaining: 1.36s\n",
      "85:\tlearn: 1.0000000\ttest: 0.8960396\tbest: 0.9207921 (46)\ttotal: 1.02s\tremaining: 1.35s\n",
      "86:\tlearn: 1.0000000\ttest: 0.9108911\tbest: 0.9207921 (46)\ttotal: 1.03s\tremaining: 1.34s\n",
      "87:\tlearn: 1.0000000\ttest: 0.9108911\tbest: 0.9207921 (46)\ttotal: 1.04s\tremaining: 1.32s\n",
      "88:\tlearn: 1.0000000\ttest: 0.9108911\tbest: 0.9207921 (46)\ttotal: 1.05s\tremaining: 1.31s\n",
      "89:\tlearn: 1.0000000\ttest: 0.9059406\tbest: 0.9207921 (46)\ttotal: 1.06s\tremaining: 1.3s\n",
      "90:\tlearn: 1.0000000\ttest: 0.9059406\tbest: 0.9207921 (46)\ttotal: 1.07s\tremaining: 1.28s\n",
      "91:\tlearn: 1.0000000\ttest: 0.9059406\tbest: 0.9207921 (46)\ttotal: 1.08s\tremaining: 1.27s\n",
      "92:\tlearn: 1.0000000\ttest: 0.9059406\tbest: 0.9207921 (46)\ttotal: 1.09s\tremaining: 1.26s\n",
      "93:\tlearn: 1.0000000\ttest: 0.9059406\tbest: 0.9207921 (46)\ttotal: 1.1s\tremaining: 1.24s\n",
      "94:\tlearn: 1.0000000\ttest: 0.9009901\tbest: 0.9207921 (46)\ttotal: 1.11s\tremaining: 1.23s\n",
      "95:\tlearn: 1.0000000\ttest: 0.9009901\tbest: 0.9207921 (46)\ttotal: 1.12s\tremaining: 1.22s\n",
      "96:\tlearn: 1.0000000\ttest: 0.9059406\tbest: 0.9207921 (46)\ttotal: 1.13s\tremaining: 1.2s\n",
      "97:\tlearn: 1.0000000\ttest: 0.9059406\tbest: 0.9207921 (46)\ttotal: 1.14s\tremaining: 1.19s\n",
      "98:\tlearn: 1.0000000\ttest: 0.9009901\tbest: 0.9207921 (46)\ttotal: 1.16s\tremaining: 1.18s\n",
      "99:\tlearn: 1.0000000\ttest: 0.9059406\tbest: 0.9207921 (46)\ttotal: 1.17s\tremaining: 1.17s\n",
      "100:\tlearn: 1.0000000\ttest: 0.9009901\tbest: 0.9207921 (46)\ttotal: 1.18s\tremaining: 1.16s\n",
      "101:\tlearn: 1.0000000\ttest: 0.9009901\tbest: 0.9207921 (46)\ttotal: 1.19s\tremaining: 1.15s\n",
      "102:\tlearn: 1.0000000\ttest: 0.9009901\tbest: 0.9207921 (46)\ttotal: 1.2s\tremaining: 1.13s\n",
      "103:\tlearn: 1.0000000\ttest: 0.9009901\tbest: 0.9207921 (46)\ttotal: 1.21s\tremaining: 1.12s\n",
      "104:\tlearn: 1.0000000\ttest: 0.9009901\tbest: 0.9207921 (46)\ttotal: 1.22s\tremaining: 1.11s\n",
      "105:\tlearn: 1.0000000\ttest: 0.9059406\tbest: 0.9207921 (46)\ttotal: 1.23s\tremaining: 1.09s\n",
      "106:\tlearn: 1.0000000\ttest: 0.9009901\tbest: 0.9207921 (46)\ttotal: 1.24s\tremaining: 1.08s\n",
      "107:\tlearn: 1.0000000\ttest: 0.9009901\tbest: 0.9207921 (46)\ttotal: 1.25s\tremaining: 1.07s\n",
      "108:\tlearn: 1.0000000\ttest: 0.9009901\tbest: 0.9207921 (46)\ttotal: 1.26s\tremaining: 1.05s\n",
      "109:\tlearn: 1.0000000\ttest: 0.9009901\tbest: 0.9207921 (46)\ttotal: 1.27s\tremaining: 1.04s\n",
      "110:\tlearn: 1.0000000\ttest: 0.9009901\tbest: 0.9207921 (46)\ttotal: 1.28s\tremaining: 1.03s\n",
      "111:\tlearn: 1.0000000\ttest: 0.9009901\tbest: 0.9207921 (46)\ttotal: 1.29s\tremaining: 1.01s\n",
      "112:\tlearn: 1.0000000\ttest: 0.9059406\tbest: 0.9207921 (46)\ttotal: 1.3s\tremaining: 1s\n",
      "113:\tlearn: 1.0000000\ttest: 0.9009901\tbest: 0.9207921 (46)\ttotal: 1.31s\tremaining: 989ms\n",
      "114:\tlearn: 1.0000000\ttest: 0.9059406\tbest: 0.9207921 (46)\ttotal: 1.32s\tremaining: 976ms\n",
      "115:\tlearn: 1.0000000\ttest: 0.9009901\tbest: 0.9207921 (46)\ttotal: 1.33s\tremaining: 963ms\n",
      "116:\tlearn: 1.0000000\ttest: 0.9009901\tbest: 0.9207921 (46)\ttotal: 1.34s\tremaining: 950ms\n",
      "117:\tlearn: 1.0000000\ttest: 0.9009901\tbest: 0.9207921 (46)\ttotal: 1.35s\tremaining: 937ms\n",
      "118:\tlearn: 1.0000000\ttest: 0.9009901\tbest: 0.9207921 (46)\ttotal: 1.36s\tremaining: 924ms\n",
      "119:\tlearn: 1.0000000\ttest: 0.9009901\tbest: 0.9207921 (46)\ttotal: 1.37s\tremaining: 913ms\n",
      "120:\tlearn: 1.0000000\ttest: 0.9009901\tbest: 0.9207921 (46)\ttotal: 1.38s\tremaining: 902ms\n",
      "121:\tlearn: 1.0000000\ttest: 0.9009901\tbest: 0.9207921 (46)\ttotal: 1.39s\tremaining: 889ms\n",
      "122:\tlearn: 1.0000000\ttest: 0.9009901\tbest: 0.9207921 (46)\ttotal: 1.4s\tremaining: 877ms\n",
      "123:\tlearn: 1.0000000\ttest: 0.9009901\tbest: 0.9207921 (46)\ttotal: 1.41s\tremaining: 865ms\n",
      "124:\tlearn: 1.0000000\ttest: 0.9009901\tbest: 0.9207921 (46)\ttotal: 1.42s\tremaining: 853ms\n",
      "125:\tlearn: 1.0000000\ttest: 0.9009901\tbest: 0.9207921 (46)\ttotal: 1.43s\tremaining: 841ms\n",
      "126:\tlearn: 1.0000000\ttest: 0.8960396\tbest: 0.9207921 (46)\ttotal: 1.44s\tremaining: 829ms\n",
      "127:\tlearn: 1.0000000\ttest: 0.9009901\tbest: 0.9207921 (46)\ttotal: 1.45s\tremaining: 816ms\n",
      "128:\tlearn: 1.0000000\ttest: 0.9009901\tbest: 0.9207921 (46)\ttotal: 1.46s\tremaining: 804ms\n",
      "129:\tlearn: 1.0000000\ttest: 0.9009901\tbest: 0.9207921 (46)\ttotal: 1.47s\tremaining: 792ms\n",
      "130:\tlearn: 1.0000000\ttest: 0.9009901\tbest: 0.9207921 (46)\ttotal: 1.48s\tremaining: 780ms\n",
      "131:\tlearn: 1.0000000\ttest: 0.9009901\tbest: 0.9207921 (46)\ttotal: 1.49s\tremaining: 768ms\n",
      "132:\tlearn: 1.0000000\ttest: 0.9009901\tbest: 0.9207921 (46)\ttotal: 1.5s\tremaining: 756ms\n",
      "133:\tlearn: 1.0000000\ttest: 0.9059406\tbest: 0.9207921 (46)\ttotal: 1.51s\tremaining: 744ms\n",
      "134:\tlearn: 1.0000000\ttest: 0.9059406\tbest: 0.9207921 (46)\ttotal: 1.52s\tremaining: 732ms\n",
      "135:\tlearn: 1.0000000\ttest: 0.9009901\tbest: 0.9207921 (46)\ttotal: 1.53s\tremaining: 720ms\n",
      "136:\tlearn: 1.0000000\ttest: 0.9009901\tbest: 0.9207921 (46)\ttotal: 1.54s\tremaining: 708ms\n",
      "137:\tlearn: 1.0000000\ttest: 0.9009901\tbest: 0.9207921 (46)\ttotal: 1.55s\tremaining: 696ms\n",
      "138:\tlearn: 1.0000000\ttest: 0.9009901\tbest: 0.9207921 (46)\ttotal: 1.56s\tremaining: 684ms\n",
      "139:\tlearn: 1.0000000\ttest: 0.9009901\tbest: 0.9207921 (46)\ttotal: 1.57s\tremaining: 674ms\n",
      "140:\tlearn: 1.0000000\ttest: 0.9009901\tbest: 0.9207921 (46)\ttotal: 1.58s\tremaining: 662ms\n",
      "141:\tlearn: 1.0000000\ttest: 0.9059406\tbest: 0.9207921 (46)\ttotal: 1.59s\tremaining: 651ms\n",
      "142:\tlearn: 1.0000000\ttest: 0.9059406\tbest: 0.9207921 (46)\ttotal: 1.6s\tremaining: 640ms\n",
      "143:\tlearn: 1.0000000\ttest: 0.9059406\tbest: 0.9207921 (46)\ttotal: 1.61s\tremaining: 628ms\n",
      "144:\tlearn: 1.0000000\ttest: 0.8960396\tbest: 0.9207921 (46)\ttotal: 1.63s\tremaining: 617ms\n",
      "145:\tlearn: 1.0000000\ttest: 0.8960396\tbest: 0.9207921 (46)\ttotal: 1.64s\tremaining: 605ms\n",
      "146:\tlearn: 1.0000000\ttest: 0.8960396\tbest: 0.9207921 (46)\ttotal: 1.65s\tremaining: 593ms\n",
      "147:\tlearn: 1.0000000\ttest: 0.8960396\tbest: 0.9207921 (46)\ttotal: 1.66s\tremaining: 581ms\n",
      "148:\tlearn: 1.0000000\ttest: 0.9009901\tbest: 0.9207921 (46)\ttotal: 1.67s\tremaining: 570ms\n",
      "149:\tlearn: 1.0000000\ttest: 0.9059406\tbest: 0.9207921 (46)\ttotal: 1.68s\tremaining: 559ms\n",
      "150:\tlearn: 1.0000000\ttest: 0.9059406\tbest: 0.9207921 (46)\ttotal: 1.69s\tremaining: 547ms\n",
      "151:\tlearn: 1.0000000\ttest: 0.9059406\tbest: 0.9207921 (46)\ttotal: 1.7s\tremaining: 535ms\n",
      "152:\tlearn: 1.0000000\ttest: 0.9059406\tbest: 0.9207921 (46)\ttotal: 1.7s\tremaining: 524ms\n",
      "153:\tlearn: 1.0000000\ttest: 0.9009901\tbest: 0.9207921 (46)\ttotal: 1.71s\tremaining: 512ms\n",
      "154:\tlearn: 1.0000000\ttest: 0.9009901\tbest: 0.9207921 (46)\ttotal: 1.72s\tremaining: 501ms\n",
      "155:\tlearn: 1.0000000\ttest: 0.9009901\tbest: 0.9207921 (46)\ttotal: 1.73s\tremaining: 489ms\n",
      "156:\tlearn: 1.0000000\ttest: 0.9009901\tbest: 0.9207921 (46)\ttotal: 1.74s\tremaining: 478ms\n",
      "157:\tlearn: 1.0000000\ttest: 0.9009901\tbest: 0.9207921 (46)\ttotal: 1.75s\tremaining: 466ms\n",
      "158:\tlearn: 1.0000000\ttest: 0.8960396\tbest: 0.9207921 (46)\ttotal: 1.76s\tremaining: 455ms\n",
      "159:\tlearn: 1.0000000\ttest: 0.8960396\tbest: 0.9207921 (46)\ttotal: 1.77s\tremaining: 443ms\n",
      "160:\tlearn: 1.0000000\ttest: 0.8960396\tbest: 0.9207921 (46)\ttotal: 1.78s\tremaining: 432ms\n",
      "161:\tlearn: 1.0000000\ttest: 0.8960396\tbest: 0.9207921 (46)\ttotal: 1.79s\tremaining: 421ms\n",
      "162:\tlearn: 1.0000000\ttest: 0.8960396\tbest: 0.9207921 (46)\ttotal: 1.8s\tremaining: 410ms\n",
      "163:\tlearn: 1.0000000\ttest: 0.8960396\tbest: 0.9207921 (46)\ttotal: 1.81s\tremaining: 398ms\n",
      "164:\tlearn: 1.0000000\ttest: 0.9009901\tbest: 0.9207921 (46)\ttotal: 1.82s\tremaining: 387ms\n",
      "165:\tlearn: 1.0000000\ttest: 0.9009901\tbest: 0.9207921 (46)\ttotal: 1.83s\tremaining: 376ms\n",
      "166:\tlearn: 1.0000000\ttest: 0.8960396\tbest: 0.9207921 (46)\ttotal: 1.84s\tremaining: 364ms\n",
      "167:\tlearn: 1.0000000\ttest: 0.8960396\tbest: 0.9207921 (46)\ttotal: 1.85s\tremaining: 353ms\n",
      "168:\tlearn: 1.0000000\ttest: 0.8960396\tbest: 0.9207921 (46)\ttotal: 1.88s\tremaining: 345ms\n",
      "169:\tlearn: 1.0000000\ttest: 0.8960396\tbest: 0.9207921 (46)\ttotal: 1.96s\tremaining: 345ms\n",
      "170:\tlearn: 1.0000000\ttest: 0.8960396\tbest: 0.9207921 (46)\ttotal: 1.97s\tremaining: 334ms\n",
      "171:\tlearn: 1.0000000\ttest: 0.8960396\tbest: 0.9207921 (46)\ttotal: 1.98s\tremaining: 322ms\n",
      "172:\tlearn: 1.0000000\ttest: 0.8960396\tbest: 0.9207921 (46)\ttotal: 1.99s\tremaining: 311ms\n",
      "173:\tlearn: 1.0000000\ttest: 0.8960396\tbest: 0.9207921 (46)\ttotal: 2s\tremaining: 299ms\n",
      "174:\tlearn: 1.0000000\ttest: 0.9009901\tbest: 0.9207921 (46)\ttotal: 2.01s\tremaining: 287ms\n",
      "175:\tlearn: 1.0000000\ttest: 0.9009901\tbest: 0.9207921 (46)\ttotal: 2.02s\tremaining: 275ms\n",
      "176:\tlearn: 1.0000000\ttest: 0.8960396\tbest: 0.9207921 (46)\ttotal: 2.03s\tremaining: 263ms\n",
      "177:\tlearn: 1.0000000\ttest: 0.8960396\tbest: 0.9207921 (46)\ttotal: 2.04s\tremaining: 252ms\n",
      "178:\tlearn: 1.0000000\ttest: 0.9009901\tbest: 0.9207921 (46)\ttotal: 2.05s\tremaining: 240ms\n",
      "179:\tlearn: 1.0000000\ttest: 0.9009901\tbest: 0.9207921 (46)\ttotal: 2.06s\tremaining: 228ms\n",
      "180:\tlearn: 1.0000000\ttest: 0.9009901\tbest: 0.9207921 (46)\ttotal: 2.06s\tremaining: 217ms\n",
      "181:\tlearn: 1.0000000\ttest: 0.9009901\tbest: 0.9207921 (46)\ttotal: 2.08s\tremaining: 205ms\n",
      "182:\tlearn: 1.0000000\ttest: 0.9009901\tbest: 0.9207921 (46)\ttotal: 2.08s\tremaining: 194ms\n",
      "183:\tlearn: 1.0000000\ttest: 0.9059406\tbest: 0.9207921 (46)\ttotal: 2.09s\tremaining: 182ms\n",
      "184:\tlearn: 1.0000000\ttest: 0.9059406\tbest: 0.9207921 (46)\ttotal: 2.1s\tremaining: 171ms\n",
      "185:\tlearn: 1.0000000\ttest: 0.9059406\tbest: 0.9207921 (46)\ttotal: 2.11s\tremaining: 159ms\n",
      "186:\tlearn: 1.0000000\ttest: 0.9059406\tbest: 0.9207921 (46)\ttotal: 2.12s\tremaining: 148ms\n",
      "187:\tlearn: 1.0000000\ttest: 0.9059406\tbest: 0.9207921 (46)\ttotal: 2.13s\tremaining: 136ms\n",
      "188:\tlearn: 1.0000000\ttest: 0.9059406\tbest: 0.9207921 (46)\ttotal: 2.14s\tremaining: 125ms\n",
      "189:\tlearn: 1.0000000\ttest: 0.9059406\tbest: 0.9207921 (46)\ttotal: 2.15s\tremaining: 113ms\n",
      "190:\tlearn: 1.0000000\ttest: 0.9059406\tbest: 0.9207921 (46)\ttotal: 2.16s\tremaining: 102ms\n",
      "191:\tlearn: 1.0000000\ttest: 0.9059406\tbest: 0.9207921 (46)\ttotal: 2.17s\tremaining: 90.6ms\n",
      "192:\tlearn: 1.0000000\ttest: 0.9059406\tbest: 0.9207921 (46)\ttotal: 2.19s\tremaining: 79.3ms\n",
      "193:\tlearn: 1.0000000\ttest: 0.9059406\tbest: 0.9207921 (46)\ttotal: 2.19s\tremaining: 67.9ms\n",
      "194:\tlearn: 1.0000000\ttest: 0.9059406\tbest: 0.9207921 (46)\ttotal: 2.21s\tremaining: 56.6ms\n",
      "195:\tlearn: 1.0000000\ttest: 0.9059406\tbest: 0.9207921 (46)\ttotal: 2.22s\tremaining: 45.3ms\n",
      "196:\tlearn: 1.0000000\ttest: 0.9059406\tbest: 0.9207921 (46)\ttotal: 2.23s\tremaining: 33.9ms\n",
      "197:\tlearn: 1.0000000\ttest: 0.9059406\tbest: 0.9207921 (46)\ttotal: 2.24s\tremaining: 22.6ms\n",
      "198:\tlearn: 1.0000000\ttest: 0.9059406\tbest: 0.9207921 (46)\ttotal: 2.25s\tremaining: 11.3ms\n",
      "199:\tlearn: 1.0000000\ttest: 0.9059406\tbest: 0.9207921 (46)\ttotal: 2.26s\tremaining: 0us\n",
      "bestTest = 0.9207920792\n",
      "bestIteration = 46\n",
      "Shrink model to first 47 iterations.\n"
     ]
    },
    {
     "data": {
      "text/plain": [
       "<catboost.core.CatBoostClassifier at 0x22b7dd15130>"
      ]
     },
     "execution_count": 38,
     "metadata": {},
     "output_type": "execute_result"
    }
   ],
   "source": [
    "catboost = CatBoostClassifier(iterations=200,learning_rate=0.55,eval_metric=\"Accuracy\",task_type=\"GPU\",random_state=5)\n",
    "catboost.fit(x_train,y_train,[],eval_set=(x_test,y_test))"
   ]
  },
  {
   "cell_type": "code",
   "execution_count": 39,
   "id": "8fa6d484-9b25-44d4-9c64-2eb1cf9ed90a",
   "metadata": {},
   "outputs": [
    {
     "data": {
      "text/plain": [
       "{'learn': {'Accuracy': 1.0, 'Logloss': 0.006375697579714332},\n",
       " 'validation': {'Accuracy': 0.9207920792079208,\n",
       "  'Logloss': 0.30235366065903463}}"
      ]
     },
     "execution_count": 39,
     "metadata": {},
     "output_type": "execute_result"
    }
   ],
   "source": [
    "catboost.best_score_"
   ]
  },
  {
   "cell_type": "code",
   "execution_count": 40,
   "id": "df7813db-6964-48dd-865c-cec12e894214",
   "metadata": {},
   "outputs": [
    {
     "name": "stdout",
     "output_type": "stream",
     "text": [
      "              precision    recall  f1-score   support\n",
      "\n",
      "           0       0.90      0.92      0.91        89\n",
      "           1       0.94      0.92      0.93       113\n",
      "\n",
      "    accuracy                           0.92       202\n",
      "   macro avg       0.92      0.92      0.92       202\n",
      "weighted avg       0.92      0.92      0.92       202\n",
      "\n"
     ]
    }
   ],
   "source": [
    "predict_cat = catboost.predict(x_test)\n",
    "print(metrics.classification_report(y_test,predict_cat))"
   ]
  },
  {
   "cell_type": "code",
   "execution_count": 41,
   "id": "6412c72c-e80b-42f2-9056-07c3a9396398",
   "metadata": {},
   "outputs": [
    {
     "name": "stderr",
     "output_type": "stream",
     "text": [
      "c:\\users\\akiai\\appdata\\local\\programs\\python\\python39\\lib\\site-packages\\sklearn\\utils\\deprecation.py:87: FutureWarning: Function plot_confusion_matrix is deprecated; Function `plot_confusion_matrix` is deprecated in 1.0 and will be removed in 1.2. Use one of the class methods: ConfusionMatrixDisplay.from_predictions or ConfusionMatrixDisplay.from_estimator.\n",
      "  warnings.warn(msg, category=FutureWarning)\n"
     ]
    },
    {
     "data": {
      "text/plain": [
       "<sklearn.metrics._plot.confusion_matrix.ConfusionMatrixDisplay at 0x22b7c52fd00>"
      ]
     },
     "execution_count": 41,
     "metadata": {},
     "output_type": "execute_result"
    },
    {
     "data": {
      "image/png": "[encoded data removed]",
      "text/plain": [
       "<Figure size 432x288 with 2 Axes>"
      ]
     },
     "metadata": {
      "needs_background": "light"
     },
     "output_type": "display_data"
    }
   ],
   "source": [
    "metrics.plot_confusion_matrix(catboost,x_test,y_test)"
   ]
  },
  {
   "cell_type": "markdown",
   "id": "54cea9d3-ea76-40c3-be4a-116feb020500",
   "metadata": {},
   "source": [
    "### Perceptron"
   ]
  },
  {
   "cell_type": "code",
   "execution_count": 42,
   "id": "374845f5-7d85-4bd1-a57f-78714e2a1b59",
   "metadata": {},
   "outputs": [],
   "source": [
    "perceptron = Perceptron()\n",
    "perceptron.fit(x_train, y_train)"
   ]
  },
  {
   "cell_type": "code",
   "execution_count": 43,
   "id": "62bb7040-f49c-4705-8a0b-6014de6e6a6b",
   "metadata": {},
   "outputs": [
    {
     "name": "stdout",
     "output_type": "stream",
     "text": [
      "              precision    recall  f1-score   support\n",
      "\n",
      "           0       0.72      0.82      0.77        89\n",
      "           1       0.84      0.75      0.79       113\n",
      "\n",
      "    accuracy                           0.78       202\n",
      "   macro avg       0.78      0.79      0.78       202\n",
      "weighted avg       0.79      0.78      0.78       202\n",
      "\n"
     ]
    }
   ],
   "source": [
    "predict_per = perceptron.predict(x_test)\n",
    "print(metrics.classification_report(y_test,predict_per))"
   ]
  },
  {
   "cell_type": "markdown",
   "id": "c6350b95-a586-4401-bec6-755e48b257b3",
   "metadata": {},
   "source": [
    "### Multi Layer Perceptron"
   ]
  },
  {
   "cell_type": "code",
   "execution_count": 44,
   "id": "f039e32a-10c4-400b-8eaf-d13b27372f57",
   "metadata": {},
   "outputs": [],
   "source": [
    "model_mlp = Sequential()\n",
    "model_mlp.add(Dense(10,activation=\"relu\",input_shape=(10,)))\n",
    "model_mlp.add(Dense(2048,activation=\"relu\"))\n",
    "model_mlp.add(Dense(128,activation=\"relu\"))\n",
    "model_mlp.add(Dense(64,activation=\"relu\"))\n",
    "model_mlp.add(Dense(32,activation=\"relu\"))\n",
    "model_mlp.add(Dense(2,activation=\"softmax\"))"
   ]
  },
  {
   "cell_type": "code",
   "execution_count": 45,
   "id": "30ca9ba1-59c4-4efb-abe5-a264c1f73c92",
   "metadata": {},
   "outputs": [
    {
     "name": "stdout",
     "output_type": "stream",
     "text": [
      "Model: \"sequential\"\n",
      "_________________________________________________________________\n",
      " Layer (type)                Output Shape              Param #   \n",
      "=================================================================\n",
      " dense (Dense)               (None, 10)                110       \n",
      "                                                                 \n",
      " dense_1 (Dense)             (None, 2048)              22528     \n",
      "                                                                 \n",
      " dense_2 (Dense)             (None, 128)               262272    \n",
      "                                                                 \n",
      " dense_3 (Dense)             (None, 64)                8256      \n",
      "                                                                 \n",
      " dense_4 (Dense)             (None, 32)                2080      \n",
      "                                                                 \n",
      " dense_5 (Dense)             (None, 2)                 66        \n",
      "                                                                 \n",
      "=================================================================\n",
      "Total params: 295,312\n",
      "Trainable params: 295,312\n",
      "Non-trainable params: 0\n",
      "_________________________________________________________________\n"
     ]
    }
   ],
   "source": [
    "model_mlp.summary()"
   ]
  },
  {
   "cell_type": "code",
   "execution_count": 46,
   "id": "0ea8e498-0798-4c05-ba47-50b40959ad09",
   "metadata": {},
   "outputs": [],
   "source": [
    "model_mlp.compile(optimizer=\"adam\",loss=\"sparse_categorical_crossentropy\",metrics=[\"accuracy\"])\n",
    "checkpoint = ModelCheckpoint(\"model_mlp.h5\",monitor=\"val_accuracy\",mode=\"max\",save_best_only=True)"
   ]
  },
  {
   "cell_type": "code",
   "execution_count": 47,
   "id": "7de23df5-36b2-4fc8-9a7f-ac85ed855116",
   "metadata": {},
   "outputs": [
    {
     "name": "stdout",
     "output_type": "stream",
     "text": [
      "Epoch 1/200\n",
      "33/33 [==============================] - 1s 9ms/step - loss: 0.5569 - accuracy: 0.7178 - val_loss: 0.4706 - val_accuracy: 0.7772\n",
      "Epoch 2/200\n",
      "33/33 [==============================] - 0s 5ms/step - loss: 0.4666 - accuracy: 0.7859 - val_loss: 0.4644 - val_accuracy: 0.7871\n",
      "Epoch 3/200\n",
      "33/33 [==============================] - 0s 6ms/step - loss: 0.4384 - accuracy: 0.7970 - val_loss: 0.4526 - val_accuracy: 0.7921\n",
      "Epoch 4/200\n",
      "33/33 [==============================] - 0s 6ms/step - loss: 0.4277 - accuracy: 0.7983 - val_loss: 0.4201 - val_accuracy: 0.8119\n",
      "Epoch 5/200\n",
      "33/33 [==============================] - 0s 4ms/step - loss: 0.4058 - accuracy: 0.8156 - val_loss: 0.4229 - val_accuracy: 0.8119\n",
      "Epoch 6/200\n",
      "33/33 [==============================] - 0s 5ms/step - loss: 0.4071 - accuracy: 0.8131 - val_loss: 0.3911 - val_accuracy: 0.8267\n",
      "Epoch 7/200\n",
      "33/33 [==============================] - 0s 4ms/step - loss: 0.3911 - accuracy: 0.8243 - val_loss: 0.4103 - val_accuracy: 0.8168\n",
      "Epoch 8/200\n",
      "33/33 [==============================] - 0s 6ms/step - loss: 0.3893 - accuracy: 0.8267 - val_loss: 0.3875 - val_accuracy: 0.8465\n",
      "Epoch 9/200\n",
      "33/33 [==============================] - 0s 7ms/step - loss: 0.3780 - accuracy: 0.8304 - val_loss: 0.3776 - val_accuracy: 0.8564\n",
      "Epoch 10/200\n",
      "33/33 [==============================] - 0s 5ms/step - loss: 0.3611 - accuracy: 0.8453 - val_loss: 0.3847 - val_accuracy: 0.8614\n",
      "Epoch 11/200\n",
      "33/33 [==============================] - 0s 5ms/step - loss: 0.3770 - accuracy: 0.8304 - val_loss: 0.3809 - val_accuracy: 0.8663\n",
      "Epoch 12/200\n",
      "33/33 [==============================] - 0s 5ms/step - loss: 0.3582 - accuracy: 0.8441 - val_loss: 0.3712 - val_accuracy: 0.8762\n",
      "Epoch 13/200\n",
      "33/33 [==============================] - 0s 4ms/step - loss: 0.3522 - accuracy: 0.8428 - val_loss: 0.3787 - val_accuracy: 0.8713\n",
      "Epoch 14/200\n",
      "33/33 [==============================] - 0s 5ms/step - loss: 0.3393 - accuracy: 0.8502 - val_loss: 0.3816 - val_accuracy: 0.8366\n",
      "Epoch 15/200\n",
      "33/33 [==============================] - 0s 6ms/step - loss: 0.3314 - accuracy: 0.8515 - val_loss: 0.4023 - val_accuracy: 0.8762\n",
      "Epoch 16/200\n",
      "33/33 [==============================] - 0s 4ms/step - loss: 0.3308 - accuracy: 0.8478 - val_loss: 0.3885 - val_accuracy: 0.8762\n",
      "Epoch 17/200\n",
      "33/33 [==============================] - 0s 4ms/step - loss: 0.3165 - accuracy: 0.8639 - val_loss: 0.3859 - val_accuracy: 0.8663\n",
      "Epoch 18/200\n",
      "33/33 [==============================] - 0s 4ms/step - loss: 0.3175 - accuracy: 0.8651 - val_loss: 0.3743 - val_accuracy: 0.8713\n",
      "Epoch 19/200\n",
      "33/33 [==============================] - 0s 4ms/step - loss: 0.3246 - accuracy: 0.8527 - val_loss: 0.4262 - val_accuracy: 0.8515\n",
      "Epoch 20/200\n",
      "33/33 [==============================] - 0s 6ms/step - loss: 0.3162 - accuracy: 0.8540 - val_loss: 0.4082 - val_accuracy: 0.8861\n",
      "Epoch 21/200\n",
      "33/33 [==============================] - 0s 7ms/step - loss: 0.2971 - accuracy: 0.8676 - val_loss: 0.3795 - val_accuracy: 0.8960\n",
      "Epoch 22/200\n",
      "33/33 [==============================] - 0s 4ms/step - loss: 0.2885 - accuracy: 0.8837 - val_loss: 0.3985 - val_accuracy: 0.8861\n",
      "Epoch 23/200\n",
      "33/33 [==============================] - 0s 4ms/step - loss: 0.2977 - accuracy: 0.8651 - val_loss: 0.3752 - val_accuracy: 0.8861\n",
      "Epoch 24/200\n",
      "33/33 [==============================] - 0s 4ms/step - loss: 0.2817 - accuracy: 0.8762 - val_loss: 0.4070 - val_accuracy: 0.8861\n",
      "Epoch 25/200\n",
      "33/33 [==============================] - 0s 5ms/step - loss: 0.2729 - accuracy: 0.8762 - val_loss: 0.3974 - val_accuracy: 0.8564\n",
      "Epoch 26/200\n",
      "33/33 [==============================] - 0s 4ms/step - loss: 0.2963 - accuracy: 0.8589 - val_loss: 0.4177 - val_accuracy: 0.8713\n",
      "Epoch 27/200\n",
      "33/33 [==============================] - 0s 6ms/step - loss: 0.2667 - accuracy: 0.8775 - val_loss: 0.3942 - val_accuracy: 0.8861\n",
      "Epoch 28/200\n",
      "33/33 [==============================] - 0s 5ms/step - loss: 0.2601 - accuracy: 0.8923 - val_loss: 0.4361 - val_accuracy: 0.8515\n",
      "Epoch 29/200\n",
      "33/33 [==============================] - 0s 4ms/step - loss: 0.2687 - accuracy: 0.8750 - val_loss: 0.4581 - val_accuracy: 0.8564\n",
      "Epoch 30/200\n",
      "33/33 [==============================] - 0s 4ms/step - loss: 0.2540 - accuracy: 0.8849 - val_loss: 0.3990 - val_accuracy: 0.8762\n",
      "Epoch 31/200\n",
      "33/33 [==============================] - 0s 4ms/step - loss: 0.2437 - accuracy: 0.8985 - val_loss: 0.4552 - val_accuracy: 0.8614\n",
      "Epoch 32/200\n",
      "33/33 [==============================] - 0s 4ms/step - loss: 0.2515 - accuracy: 0.8960 - val_loss: 0.4271 - val_accuracy: 0.8564\n",
      "Epoch 33/200\n",
      "33/33 [==============================] - 0s 5ms/step - loss: 0.2436 - accuracy: 0.8985 - val_loss: 0.4547 - val_accuracy: 0.8812\n",
      "Epoch 34/200\n",
      "33/33 [==============================] - 0s 6ms/step - loss: 0.2250 - accuracy: 0.9022 - val_loss: 0.4559 - val_accuracy: 0.8812\n",
      "Epoch 35/200\n",
      "33/33 [==============================] - 0s 4ms/step - loss: 0.2366 - accuracy: 0.8911 - val_loss: 0.4638 - val_accuracy: 0.8762\n",
      "Epoch 36/200\n",
      "33/33 [==============================] - 0s 4ms/step - loss: 0.2370 - accuracy: 0.8973 - val_loss: 0.4585 - val_accuracy: 0.8713\n",
      "Epoch 37/200\n",
      "33/33 [==============================] - 0s 4ms/step - loss: 0.2099 - accuracy: 0.9109 - val_loss: 0.5147 - val_accuracy: 0.8812\n",
      "Epoch 38/200\n",
      "33/33 [==============================] - 0s 4ms/step - loss: 0.2172 - accuracy: 0.9183 - val_loss: 0.5522 - val_accuracy: 0.8515\n",
      "Epoch 39/200\n",
      "33/33 [==============================] - 0s 5ms/step - loss: 0.2262 - accuracy: 0.9047 - val_loss: 0.4897 - val_accuracy: 0.8564\n",
      "Epoch 40/200\n",
      "33/33 [==============================] - 0s 4ms/step - loss: 0.2134 - accuracy: 0.9022 - val_loss: 0.4301 - val_accuracy: 0.8762\n",
      "Epoch 41/200\n",
      "33/33 [==============================] - 0s 5ms/step - loss: 0.2080 - accuracy: 0.9121 - val_loss: 0.5167 - val_accuracy: 0.8762\n",
      "Epoch 42/200\n",
      "33/33 [==============================] - 0s 5ms/step - loss: 0.2249 - accuracy: 0.9022 - val_loss: 0.4643 - val_accuracy: 0.8911\n",
      "Epoch 43/200\n",
      "33/33 [==============================] - 0s 4ms/step - loss: 0.1964 - accuracy: 0.9208 - val_loss: 0.5254 - val_accuracy: 0.8861\n",
      "Epoch 44/200\n",
      "33/33 [==============================] - 0s 4ms/step - loss: 0.1985 - accuracy: 0.9196 - val_loss: 0.5530 - val_accuracy: 0.8762\n",
      "Epoch 45/200\n",
      "33/33 [==============================] - 0s 5ms/step - loss: 0.1942 - accuracy: 0.9171 - val_loss: 0.5028 - val_accuracy: 0.8762\n",
      "Epoch 46/200\n",
      "33/33 [==============================] - 0s 6ms/step - loss: 0.1829 - accuracy: 0.9220 - val_loss: 0.5988 - val_accuracy: 0.8465\n",
      "Epoch 47/200\n",
      "33/33 [==============================] - 0s 7ms/step - loss: 0.1899 - accuracy: 0.9171 - val_loss: 0.5001 - val_accuracy: 0.8911\n",
      "Epoch 48/200\n",
      "33/33 [==============================] - 0s 5ms/step - loss: 0.1757 - accuracy: 0.9245 - val_loss: 0.5323 - val_accuracy: 0.8812\n",
      "Epoch 49/200\n",
      "33/33 [==============================] - 0s 5ms/step - loss: 0.1957 - accuracy: 0.9208 - val_loss: 0.4763 - val_accuracy: 0.8762\n",
      "Epoch 50/200\n",
      "33/33 [==============================] - 0s 5ms/step - loss: 0.1975 - accuracy: 0.9183 - val_loss: 0.4924 - val_accuracy: 0.8614\n",
      "Epoch 51/200\n",
      "33/33 [==============================] - 0s 5ms/step - loss: 0.2002 - accuracy: 0.9109 - val_loss: 0.5370 - val_accuracy: 0.8960\n",
      "Epoch 52/200\n",
      "33/33 [==============================] - 0s 6ms/step - loss: 0.1910 - accuracy: 0.9158 - val_loss: 0.4836 - val_accuracy: 0.8762\n",
      "Epoch 53/200\n",
      "33/33 [==============================] - 0s 5ms/step - loss: 0.1655 - accuracy: 0.9270 - val_loss: 0.5259 - val_accuracy: 0.8762\n",
      "Epoch 54/200\n",
      "33/33 [==============================] - 0s 5ms/step - loss: 0.1620 - accuracy: 0.9332 - val_loss: 0.5927 - val_accuracy: 0.8812\n",
      "Epoch 55/200\n",
      "33/33 [==============================] - 0s 4ms/step - loss: 0.1451 - accuracy: 0.9394 - val_loss: 0.6244 - val_accuracy: 0.8861\n",
      "Epoch 56/200\n",
      "33/33 [==============================] - 0s 5ms/step - loss: 0.1481 - accuracy: 0.9307 - val_loss: 0.6995 - val_accuracy: 0.8812\n",
      "Epoch 57/200\n",
      "33/33 [==============================] - 0s 5ms/step - loss: 0.1793 - accuracy: 0.9319 - val_loss: 0.5913 - val_accuracy: 0.8663\n",
      "Epoch 58/200\n",
      "33/33 [==============================] - 0s 5ms/step - loss: 0.1646 - accuracy: 0.9307 - val_loss: 0.5758 - val_accuracy: 0.8812\n",
      "Epoch 59/200\n",
      "33/33 [==============================] - 0s 6ms/step - loss: 0.1423 - accuracy: 0.9406 - val_loss: 0.5879 - val_accuracy: 0.8614\n",
      "Epoch 60/200\n",
      "33/33 [==============================] - 0s 4ms/step - loss: 0.1256 - accuracy: 0.9517 - val_loss: 0.6638 - val_accuracy: 0.8861\n",
      "Epoch 61/200\n",
      "33/33 [==============================] - 0s 5ms/step - loss: 0.1315 - accuracy: 0.9394 - val_loss: 0.7830 - val_accuracy: 0.9059\n",
      "Epoch 62/200\n",
      "33/33 [==============================] - 0s 4ms/step - loss: 0.1935 - accuracy: 0.9146 - val_loss: 0.5056 - val_accuracy: 0.8911\n",
      "Epoch 63/200\n",
      "33/33 [==============================] - 0s 4ms/step - loss: 0.1421 - accuracy: 0.9418 - val_loss: 0.5779 - val_accuracy: 0.8762\n",
      "Epoch 64/200\n",
      "33/33 [==============================] - 0s 5ms/step - loss: 0.1395 - accuracy: 0.9418 - val_loss: 0.6239 - val_accuracy: 0.8812\n",
      "Epoch 65/200\n",
      "33/33 [==============================] - 0s 6ms/step - loss: 0.1378 - accuracy: 0.9369 - val_loss: 0.7555 - val_accuracy: 0.8564\n",
      "Epoch 66/200\n",
      "33/33 [==============================] - 0s 4ms/step - loss: 0.1617 - accuracy: 0.9356 - val_loss: 0.6044 - val_accuracy: 0.9059\n",
      "Epoch 67/200\n",
      "33/33 [==============================] - 0s 4ms/step - loss: 0.1393 - accuracy: 0.9406 - val_loss: 0.7031 - val_accuracy: 0.8762\n",
      "Epoch 68/200\n",
      "33/33 [==============================] - 0s 4ms/step - loss: 0.1512 - accuracy: 0.9356 - val_loss: 0.6836 - val_accuracy: 0.8762\n",
      "Epoch 69/200\n",
      "33/33 [==============================] - 0s 4ms/step - loss: 0.1323 - accuracy: 0.9468 - val_loss: 0.7168 - val_accuracy: 0.8713\n",
      "Epoch 70/200\n",
      "33/33 [==============================] - 0s 4ms/step - loss: 0.1341 - accuracy: 0.9406 - val_loss: 0.6605 - val_accuracy: 0.8911\n",
      "Epoch 71/200\n",
      "33/33 [==============================] - 0s 6ms/step - loss: 0.1149 - accuracy: 0.9554 - val_loss: 0.7896 - val_accuracy: 0.8911\n",
      "Epoch 72/200\n",
      "33/33 [==============================] - 0s 5ms/step - loss: 0.1129 - accuracy: 0.9554 - val_loss: 0.7908 - val_accuracy: 0.8762\n",
      "Epoch 73/200\n",
      "33/33 [==============================] - 0s 4ms/step - loss: 0.1015 - accuracy: 0.9579 - val_loss: 0.8348 - val_accuracy: 0.8812\n",
      "Epoch 74/200\n",
      "33/33 [==============================] - 0s 4ms/step - loss: 0.1337 - accuracy: 0.9406 - val_loss: 0.7917 - val_accuracy: 0.8663\n",
      "Epoch 75/200\n",
      "33/33 [==============================] - 0s 4ms/step - loss: 0.1123 - accuracy: 0.9554 - val_loss: 0.7333 - val_accuracy: 0.9010\n",
      "Epoch 76/200\n",
      "33/33 [==============================] - 0s 4ms/step - loss: 0.1070 - accuracy: 0.9579 - val_loss: 0.7845 - val_accuracy: 0.8762\n",
      "Epoch 77/200\n",
      "33/33 [==============================] - 0s 4ms/step - loss: 0.1262 - accuracy: 0.9542 - val_loss: 0.7213 - val_accuracy: 0.8762\n",
      "Epoch 78/200\n",
      "33/33 [==============================] - 0s 6ms/step - loss: 0.1065 - accuracy: 0.9530 - val_loss: 0.8194 - val_accuracy: 0.8911\n",
      "Epoch 79/200\n",
      "33/33 [==============================] - 0s 4ms/step - loss: 0.0996 - accuracy: 0.9616 - val_loss: 0.7475 - val_accuracy: 0.8911\n",
      "Epoch 80/200\n",
      "33/33 [==============================] - 0s 4ms/step - loss: 0.1074 - accuracy: 0.9579 - val_loss: 0.7972 - val_accuracy: 0.8960\n",
      "Epoch 81/200\n",
      "33/33 [==============================] - 0s 4ms/step - loss: 0.0987 - accuracy: 0.9530 - val_loss: 0.7600 - val_accuracy: 0.8762\n",
      "Epoch 82/200\n",
      "33/33 [==============================] - 0s 4ms/step - loss: 0.1068 - accuracy: 0.9567 - val_loss: 0.7464 - val_accuracy: 0.8861\n",
      "Epoch 83/200\n",
      "33/33 [==============================] - 0s 5ms/step - loss: 0.1092 - accuracy: 0.9480 - val_loss: 0.7611 - val_accuracy: 0.8762\n",
      "Epoch 84/200\n",
      "33/33 [==============================] - 0s 7ms/step - loss: 0.0988 - accuracy: 0.9579 - val_loss: 0.8196 - val_accuracy: 0.8762\n",
      "Epoch 85/200\n",
      "33/33 [==============================] - 0s 5ms/step - loss: 0.0903 - accuracy: 0.9666 - val_loss: 0.8312 - val_accuracy: 0.9010\n",
      "Epoch 86/200\n",
      "33/33 [==============================] - 0s 4ms/step - loss: 0.1082 - accuracy: 0.9567 - val_loss: 0.8766 - val_accuracy: 0.8861\n",
      "Epoch 87/200\n",
      "33/33 [==============================] - 0s 4ms/step - loss: 0.1202 - accuracy: 0.9493 - val_loss: 0.7321 - val_accuracy: 0.8861\n",
      "Epoch 88/200\n",
      "33/33 [==============================] - 0s 4ms/step - loss: 0.0979 - accuracy: 0.9517 - val_loss: 0.7325 - val_accuracy: 0.8960\n",
      "Epoch 89/200\n",
      "33/33 [==============================] - 0s 6ms/step - loss: 0.0883 - accuracy: 0.9653 - val_loss: 0.8535 - val_accuracy: 0.9109\n",
      "Epoch 90/200\n",
      "33/33 [==============================] - 0s 5ms/step - loss: 0.0840 - accuracy: 0.9653 - val_loss: 0.9072 - val_accuracy: 0.8861\n",
      "Epoch 91/200\n",
      "33/33 [==============================] - 0s 4ms/step - loss: 0.1015 - accuracy: 0.9629 - val_loss: 0.8640 - val_accuracy: 0.8713\n",
      "Epoch 92/200\n",
      "33/33 [==============================] - 0s 5ms/step - loss: 0.0882 - accuracy: 0.9629 - val_loss: 0.8731 - val_accuracy: 0.8861\n",
      "Epoch 93/200\n",
      "33/33 [==============================] - 0s 4ms/step - loss: 0.0814 - accuracy: 0.9678 - val_loss: 0.8946 - val_accuracy: 0.9059\n",
      "Epoch 94/200\n",
      "33/33 [==============================] - 0s 4ms/step - loss: 0.0702 - accuracy: 0.9678 - val_loss: 0.9463 - val_accuracy: 0.9109\n",
      "Epoch 95/200\n",
      "33/33 [==============================] - 0s 4ms/step - loss: 0.1000 - accuracy: 0.9616 - val_loss: 0.8692 - val_accuracy: 0.8861\n",
      "Epoch 96/200\n",
      "33/33 [==============================] - 0s 4ms/step - loss: 0.1253 - accuracy: 0.9616 - val_loss: 0.9173 - val_accuracy: 0.8861\n",
      "Epoch 97/200\n",
      "33/33 [==============================] - 0s 6ms/step - loss: 0.1113 - accuracy: 0.9592 - val_loss: 0.7695 - val_accuracy: 0.8861\n",
      "Epoch 98/200\n",
      "33/33 [==============================] - 0s 4ms/step - loss: 0.1308 - accuracy: 0.9455 - val_loss: 0.7344 - val_accuracy: 0.8812\n",
      "Epoch 99/200\n",
      "33/33 [==============================] - 0s 4ms/step - loss: 0.0973 - accuracy: 0.9592 - val_loss: 0.8795 - val_accuracy: 0.8614\n",
      "Epoch 100/200\n",
      "33/33 [==============================] - 0s 4ms/step - loss: 0.1263 - accuracy: 0.9579 - val_loss: 0.7608 - val_accuracy: 0.8762\n",
      "Epoch 101/200\n",
      "33/33 [==============================] - 0s 4ms/step - loss: 0.1057 - accuracy: 0.9579 - val_loss: 0.7784 - val_accuracy: 0.8911\n",
      "Epoch 102/200\n",
      "33/33 [==============================] - 0s 4ms/step - loss: 0.0854 - accuracy: 0.9629 - val_loss: 0.7869 - val_accuracy: 0.8713\n",
      "Epoch 103/200\n",
      "33/33 [==============================] - 0s 5ms/step - loss: 0.0646 - accuracy: 0.9752 - val_loss: 0.8196 - val_accuracy: 0.8861\n",
      "Epoch 104/200\n",
      "33/33 [==============================] - 0s 4ms/step - loss: 0.0608 - accuracy: 0.9802 - val_loss: 0.8805 - val_accuracy: 0.8911\n",
      "Epoch 105/200\n",
      "33/33 [==============================] - 0s 5ms/step - loss: 0.0627 - accuracy: 0.9740 - val_loss: 0.9115 - val_accuracy: 0.8762\n",
      "Epoch 106/200\n",
      "33/33 [==============================] - 0s 4ms/step - loss: 0.0595 - accuracy: 0.9752 - val_loss: 0.9920 - val_accuracy: 0.8762\n",
      "Epoch 107/200\n",
      "33/33 [==============================] - 0s 4ms/step - loss: 0.0742 - accuracy: 0.9728 - val_loss: 0.9797 - val_accuracy: 0.8861\n",
      "Epoch 108/200\n",
      "33/33 [==============================] - 0s 4ms/step - loss: 0.0708 - accuracy: 0.9666 - val_loss: 0.9568 - val_accuracy: 0.8911\n",
      "Epoch 109/200\n",
      "33/33 [==============================] - 0s 4ms/step - loss: 0.0717 - accuracy: 0.9678 - val_loss: 0.9164 - val_accuracy: 0.8861\n",
      "Epoch 110/200\n",
      "33/33 [==============================] - 0s 4ms/step - loss: 0.0597 - accuracy: 0.9703 - val_loss: 1.0592 - val_accuracy: 0.8861\n",
      "Epoch 111/200\n",
      "33/33 [==============================] - 0s 4ms/step - loss: 0.0600 - accuracy: 0.9728 - val_loss: 1.0456 - val_accuracy: 0.8911\n",
      "Epoch 112/200\n",
      "33/33 [==============================] - 0s 6ms/step - loss: 0.0776 - accuracy: 0.9715 - val_loss: 1.0153 - val_accuracy: 0.8861\n",
      "Epoch 113/200\n",
      "33/33 [==============================] - 0s 4ms/step - loss: 0.0580 - accuracy: 0.9715 - val_loss: 1.0944 - val_accuracy: 0.8911\n",
      "Epoch 114/200\n",
      "33/33 [==============================] - 0s 5ms/step - loss: 0.0604 - accuracy: 0.9740 - val_loss: 1.0943 - val_accuracy: 0.8911\n",
      "Epoch 115/200\n",
      "33/33 [==============================] - 0s 5ms/step - loss: 0.0612 - accuracy: 0.9728 - val_loss: 1.0657 - val_accuracy: 0.8812\n",
      "Epoch 116/200\n",
      "33/33 [==============================] - 0s 5ms/step - loss: 0.0604 - accuracy: 0.9740 - val_loss: 1.0490 - val_accuracy: 0.8812\n",
      "Epoch 117/200\n",
      "33/33 [==============================] - 0s 6ms/step - loss: 0.0585 - accuracy: 0.9765 - val_loss: 1.1178 - val_accuracy: 0.8812\n",
      "Epoch 118/200\n",
      "33/33 [==============================] - 0s 7ms/step - loss: 0.0745 - accuracy: 0.9666 - val_loss: 1.0259 - val_accuracy: 0.9010\n",
      "Epoch 119/200\n",
      "33/33 [==============================] - 0s 5ms/step - loss: 0.0790 - accuracy: 0.9678 - val_loss: 1.0956 - val_accuracy: 0.8713\n",
      "Epoch 120/200\n",
      "33/33 [==============================] - 0s 5ms/step - loss: 0.1285 - accuracy: 0.9579 - val_loss: 1.0624 - val_accuracy: 0.8663\n",
      "Epoch 121/200\n",
      "33/33 [==============================] - 0s 5ms/step - loss: 0.1281 - accuracy: 0.9567 - val_loss: 0.8656 - val_accuracy: 0.8762\n",
      "Epoch 122/200\n",
      "33/33 [==============================] - 0s 6ms/step - loss: 0.0777 - accuracy: 0.9678 - val_loss: 1.1083 - val_accuracy: 0.9109\n",
      "Epoch 123/200\n",
      "33/33 [==============================] - 0s 7ms/step - loss: 0.0728 - accuracy: 0.9703 - val_loss: 0.8307 - val_accuracy: 0.9059\n",
      "Epoch 124/200\n",
      "33/33 [==============================] - 0s 6ms/step - loss: 0.0955 - accuracy: 0.9653 - val_loss: 0.9411 - val_accuracy: 0.8812\n",
      "Epoch 125/200\n",
      "33/33 [==============================] - 0s 5ms/step - loss: 0.1031 - accuracy: 0.9641 - val_loss: 0.7743 - val_accuracy: 0.9059\n",
      "Epoch 126/200\n",
      "33/33 [==============================] - 0s 6ms/step - loss: 0.0853 - accuracy: 0.9691 - val_loss: 0.7643 - val_accuracy: 0.9158\n",
      "Epoch 127/200\n",
      "33/33 [==============================] - 0s 6ms/step - loss: 0.0659 - accuracy: 0.9728 - val_loss: 0.8245 - val_accuracy: 0.8911\n",
      "Epoch 128/200\n",
      "33/33 [==============================] - 0s 6ms/step - loss: 0.0515 - accuracy: 0.9802 - val_loss: 0.8888 - val_accuracy: 0.9010\n",
      "Epoch 129/200\n",
      "33/33 [==============================] - 0s 7ms/step - loss: 0.0491 - accuracy: 0.9777 - val_loss: 0.9733 - val_accuracy: 0.9109\n",
      "Epoch 130/200\n",
      "33/33 [==============================] - 0s 5ms/step - loss: 0.0516 - accuracy: 0.9777 - val_loss: 0.9798 - val_accuracy: 0.9059\n",
      "Epoch 131/200\n",
      "33/33 [==============================] - 0s 5ms/step - loss: 0.0508 - accuracy: 0.9777 - val_loss: 1.0339 - val_accuracy: 0.9010\n",
      "Epoch 132/200\n",
      "33/33 [==============================] - 0s 7ms/step - loss: 0.0462 - accuracy: 0.9752 - val_loss: 1.0659 - val_accuracy: 0.9158\n",
      "Epoch 133/200\n",
      "33/33 [==============================] - 0s 5ms/step - loss: 0.0537 - accuracy: 0.9777 - val_loss: 1.0991 - val_accuracy: 0.9109\n",
      "Epoch 134/200\n",
      "33/33 [==============================] - 0s 7ms/step - loss: 0.0568 - accuracy: 0.9691 - val_loss: 1.0338 - val_accuracy: 0.9059\n",
      "Epoch 135/200\n",
      "33/33 [==============================] - 0s 5ms/step - loss: 0.0503 - accuracy: 0.9752 - val_loss: 1.1012 - val_accuracy: 0.8960\n",
      "Epoch 136/200\n",
      "33/33 [==============================] - 0s 5ms/step - loss: 0.0683 - accuracy: 0.9765 - val_loss: 1.0875 - val_accuracy: 0.8861\n",
      "Epoch 137/200\n",
      "33/33 [==============================] - 0s 5ms/step - loss: 0.0632 - accuracy: 0.9752 - val_loss: 1.1186 - val_accuracy: 0.8960\n",
      "Epoch 138/200\n",
      "33/33 [==============================] - 0s 5ms/step - loss: 0.0442 - accuracy: 0.9790 - val_loss: 1.1834 - val_accuracy: 0.8960\n",
      "Epoch 139/200\n",
      "33/33 [==============================] - 0s 8ms/step - loss: 0.0814 - accuracy: 0.9579 - val_loss: 1.1029 - val_accuracy: 0.8960\n",
      "Epoch 140/200\n",
      "33/33 [==============================] - 0s 6ms/step - loss: 0.0920 - accuracy: 0.9666 - val_loss: 1.0939 - val_accuracy: 0.8911\n",
      "Epoch 141/200\n",
      "33/33 [==============================] - 0s 5ms/step - loss: 0.0731 - accuracy: 0.9678 - val_loss: 1.0449 - val_accuracy: 0.8812\n",
      "Epoch 142/200\n",
      "33/33 [==============================] - 0s 6ms/step - loss: 0.0758 - accuracy: 0.9678 - val_loss: 1.1514 - val_accuracy: 0.8713\n",
      "Epoch 143/200\n",
      "33/33 [==============================] - 0s 5ms/step - loss: 0.0943 - accuracy: 0.9604 - val_loss: 0.9396 - val_accuracy: 0.8861\n",
      "Epoch 144/200\n",
      "33/33 [==============================] - 0s 6ms/step - loss: 0.0950 - accuracy: 0.9691 - val_loss: 0.8713 - val_accuracy: 0.9158\n",
      "Epoch 145/200\n",
      "33/33 [==============================] - 0s 5ms/step - loss: 0.0572 - accuracy: 0.9777 - val_loss: 0.9265 - val_accuracy: 0.8911\n",
      "Epoch 146/200\n",
      "33/33 [==============================] - 0s 5ms/step - loss: 0.0477 - accuracy: 0.9814 - val_loss: 1.0510 - val_accuracy: 0.8911\n",
      "Epoch 147/200\n",
      "33/33 [==============================] - 0s 5ms/step - loss: 0.0714 - accuracy: 0.9715 - val_loss: 0.9510 - val_accuracy: 0.9059\n",
      "Epoch 148/200\n",
      "33/33 [==============================] - 0s 6ms/step - loss: 0.0558 - accuracy: 0.9790 - val_loss: 0.9720 - val_accuracy: 0.8861\n",
      "Epoch 149/200\n",
      "33/33 [==============================] - 0s 5ms/step - loss: 0.0674 - accuracy: 0.9802 - val_loss: 1.1326 - val_accuracy: 0.9109\n",
      "Epoch 150/200\n",
      "33/33 [==============================] - 0s 7ms/step - loss: 0.0749 - accuracy: 0.9678 - val_loss: 0.8813 - val_accuracy: 0.8911\n",
      "Epoch 151/200\n",
      "33/33 [==============================] - 0s 5ms/step - loss: 0.0827 - accuracy: 0.9715 - val_loss: 0.9273 - val_accuracy: 0.9059\n",
      "Epoch 152/200\n",
      "33/33 [==============================] - 0s 5ms/step - loss: 0.0742 - accuracy: 0.9740 - val_loss: 0.7342 - val_accuracy: 0.9158\n",
      "Epoch 153/200\n",
      "33/33 [==============================] - 0s 7ms/step - loss: 0.0898 - accuracy: 0.9666 - val_loss: 0.7605 - val_accuracy: 0.9208\n",
      "Epoch 154/200\n",
      "33/33 [==============================] - 0s 5ms/step - loss: 0.0601 - accuracy: 0.9728 - val_loss: 0.9165 - val_accuracy: 0.9059\n",
      "Epoch 155/200\n",
      "33/33 [==============================] - 0s 5ms/step - loss: 0.0719 - accuracy: 0.9678 - val_loss: 0.8593 - val_accuracy: 0.9059\n",
      "Epoch 156/200\n",
      "33/33 [==============================] - 0s 6ms/step - loss: 0.0675 - accuracy: 0.9777 - val_loss: 0.8395 - val_accuracy: 0.9010\n",
      "Epoch 157/200\n",
      "33/33 [==============================] - 0s 5ms/step - loss: 0.0894 - accuracy: 0.9703 - val_loss: 0.8134 - val_accuracy: 0.9158\n",
      "Epoch 158/200\n",
      "33/33 [==============================] - 0s 5ms/step - loss: 0.0477 - accuracy: 0.9827 - val_loss: 0.8830 - val_accuracy: 0.9059\n",
      "Epoch 159/200\n",
      "33/33 [==============================] - 0s 6ms/step - loss: 0.0648 - accuracy: 0.9765 - val_loss: 0.8370 - val_accuracy: 0.9158\n",
      "Epoch 160/200\n",
      "33/33 [==============================] - 0s 5ms/step - loss: 0.0591 - accuracy: 0.9777 - val_loss: 0.8607 - val_accuracy: 0.9059\n",
      "Epoch 161/200\n",
      "33/33 [==============================] - 0s 6ms/step - loss: 0.0597 - accuracy: 0.9740 - val_loss: 0.8522 - val_accuracy: 0.9010\n",
      "Epoch 162/200\n",
      "33/33 [==============================] - 0s 5ms/step - loss: 0.0462 - accuracy: 0.9790 - val_loss: 0.9232 - val_accuracy: 0.8960\n",
      "Epoch 163/200\n",
      "33/33 [==============================] - 0s 5ms/step - loss: 0.0469 - accuracy: 0.9827 - val_loss: 0.8938 - val_accuracy: 0.9158\n",
      "Epoch 164/200\n",
      "33/33 [==============================] - 0s 5ms/step - loss: 0.0553 - accuracy: 0.9864 - val_loss: 0.9061 - val_accuracy: 0.9158\n",
      "Epoch 165/200\n",
      "33/33 [==============================] - 0s 5ms/step - loss: 0.0521 - accuracy: 0.9777 - val_loss: 0.9123 - val_accuracy: 0.9109\n",
      "Epoch 166/200\n",
      "33/33 [==============================] - 0s 5ms/step - loss: 0.0486 - accuracy: 0.9740 - val_loss: 0.9786 - val_accuracy: 0.9158\n",
      "Epoch 167/200\n",
      "33/33 [==============================] - 0s 6ms/step - loss: 0.0432 - accuracy: 0.9802 - val_loss: 0.9822 - val_accuracy: 0.9059\n",
      "Epoch 168/200\n",
      "33/33 [==============================] - 0s 5ms/step - loss: 0.0405 - accuracy: 0.9777 - val_loss: 0.9931 - val_accuracy: 0.8960\n",
      "Epoch 169/200\n",
      "33/33 [==============================] - 0s 5ms/step - loss: 0.0317 - accuracy: 0.9864 - val_loss: 1.0653 - val_accuracy: 0.9158\n",
      "Epoch 170/200\n",
      "33/33 [==============================] - 0s 5ms/step - loss: 0.0297 - accuracy: 0.9864 - val_loss: 1.0649 - val_accuracy: 0.9158\n",
      "Epoch 171/200\n",
      "33/33 [==============================] - 0s 5ms/step - loss: 0.0309 - accuracy: 0.9839 - val_loss: 1.1745 - val_accuracy: 0.8960\n",
      "Epoch 172/200\n",
      "33/33 [==============================] - 0s 5ms/step - loss: 0.0424 - accuracy: 0.9777 - val_loss: 1.1670 - val_accuracy: 0.9059\n",
      "Epoch 173/200\n",
      "33/33 [==============================] - 0s 7ms/step - loss: 0.0315 - accuracy: 0.9864 - val_loss: 1.1662 - val_accuracy: 0.8960\n",
      "Epoch 174/200\n",
      "33/33 [==============================] - 0s 6ms/step - loss: 0.0318 - accuracy: 0.9814 - val_loss: 1.1833 - val_accuracy: 0.9010\n",
      "Epoch 175/200\n",
      "33/33 [==============================] - 0s 5ms/step - loss: 0.0305 - accuracy: 0.9889 - val_loss: 1.1751 - val_accuracy: 0.8960\n",
      "Epoch 176/200\n",
      "33/33 [==============================] - 0s 5ms/step - loss: 0.0547 - accuracy: 0.9752 - val_loss: 1.2255 - val_accuracy: 0.8812\n",
      "Epoch 177/200\n",
      "33/33 [==============================] - 0s 5ms/step - loss: 0.0959 - accuracy: 0.9678 - val_loss: 1.1912 - val_accuracy: 0.8515\n",
      "Epoch 178/200\n",
      "33/33 [==============================] - 0s 7ms/step - loss: 0.0971 - accuracy: 0.9666 - val_loss: 0.9266 - val_accuracy: 0.9307\n",
      "Epoch 179/200\n",
      "33/33 [==============================] - 0s 5ms/step - loss: 0.0844 - accuracy: 0.9703 - val_loss: 0.8063 - val_accuracy: 0.8960\n",
      "Epoch 180/200\n",
      "33/33 [==============================] - 0s 5ms/step - loss: 0.0538 - accuracy: 0.9740 - val_loss: 0.8622 - val_accuracy: 0.9059\n",
      "Epoch 181/200\n",
      "33/33 [==============================] - 0s 5ms/step - loss: 0.0466 - accuracy: 0.9790 - val_loss: 1.0099 - val_accuracy: 0.8960\n",
      "Epoch 182/200\n",
      "33/33 [==============================] - 0s 5ms/step - loss: 0.0812 - accuracy: 0.9703 - val_loss: 0.8819 - val_accuracy: 0.9158\n",
      "Epoch 183/200\n",
      "33/33 [==============================] - 0s 5ms/step - loss: 0.0587 - accuracy: 0.9715 - val_loss: 0.8317 - val_accuracy: 0.9158\n",
      "Epoch 184/200\n",
      "33/33 [==============================] - 0s 6ms/step - loss: 0.0680 - accuracy: 0.9728 - val_loss: 0.8334 - val_accuracy: 0.9109\n",
      "Epoch 185/200\n",
      "33/33 [==============================] - 0s 5ms/step - loss: 0.0448 - accuracy: 0.9814 - val_loss: 0.8367 - val_accuracy: 0.9059\n",
      "Epoch 186/200\n",
      "33/33 [==============================] - 0s 5ms/step - loss: 0.0543 - accuracy: 0.9790 - val_loss: 0.8683 - val_accuracy: 0.8911\n",
      "Epoch 187/200\n",
      "33/33 [==============================] - 0s 5ms/step - loss: 0.0479 - accuracy: 0.9790 - val_loss: 0.8665 - val_accuracy: 0.8960\n",
      "Epoch 188/200\n",
      "33/33 [==============================] - 0s 5ms/step - loss: 0.0322 - accuracy: 0.9864 - val_loss: 0.9077 - val_accuracy: 0.9109\n",
      "Epoch 189/200\n",
      "33/33 [==============================] - 0s 5ms/step - loss: 0.0316 - accuracy: 0.9827 - val_loss: 0.9861 - val_accuracy: 0.9158\n",
      "Epoch 190/200\n",
      "33/33 [==============================] - 0s 6ms/step - loss: 0.0349 - accuracy: 0.9827 - val_loss: 1.0143 - val_accuracy: 0.9109\n",
      "Epoch 191/200\n",
      "33/33 [==============================] - 0s 5ms/step - loss: 0.0297 - accuracy: 0.9913 - val_loss: 1.0113 - val_accuracy: 0.9109\n",
      "Epoch 192/200\n",
      "33/33 [==============================] - 0s 5ms/step - loss: 0.0371 - accuracy: 0.9864 - val_loss: 1.0429 - val_accuracy: 0.8713\n",
      "Epoch 193/200\n",
      "33/33 [==============================] - 0s 5ms/step - loss: 0.0435 - accuracy: 0.9790 - val_loss: 1.0197 - val_accuracy: 0.9257\n",
      "Epoch 194/200\n",
      "33/33 [==============================] - 0s 5ms/step - loss: 0.0298 - accuracy: 0.9851 - val_loss: 0.9958 - val_accuracy: 0.9059\n",
      "Epoch 195/200\n",
      "33/33 [==============================] - 0s 5ms/step - loss: 0.0271 - accuracy: 0.9851 - val_loss: 1.1278 - val_accuracy: 0.8960\n",
      "Epoch 196/200\n",
      "33/33 [==============================] - 0s 6ms/step - loss: 0.0429 - accuracy: 0.9827 - val_loss: 1.0623 - val_accuracy: 0.9059\n",
      "Epoch 197/200\n",
      "33/33 [==============================] - 0s 5ms/step - loss: 0.0513 - accuracy: 0.9790 - val_loss: 1.1205 - val_accuracy: 0.8614\n",
      "Epoch 198/200\n",
      "33/33 [==============================] - 0s 5ms/step - loss: 0.0367 - accuracy: 0.9839 - val_loss: 1.0540 - val_accuracy: 0.8812\n",
      "Epoch 199/200\n",
      "33/33 [==============================] - 0s 6ms/step - loss: 0.0263 - accuracy: 0.9889 - val_loss: 1.1154 - val_accuracy: 0.9010\n",
      "Epoch 200/200\n",
      "33/33 [==============================] - 0s 5ms/step - loss: 0.0370 - accuracy: 0.9839 - val_loss: 1.1050 - val_accuracy: 0.9010\n"
     ]
    }
   ],
   "source": [
    "history = model_mlp.fit(x_train,y_train,validation_data=(x_test,y_test),epochs=200,batch_size=25,callbacks=[checkpoint])"
   ]
  },
  {
   "cell_type": "code",
   "execution_count": 48,
   "id": "f54ae007-b986-41cc-a7d2-026846ca6786",
   "metadata": {},
   "outputs": [],
   "source": [
    "with open(\"StandardScaler\",\"wb\") as f:\n",
    "    pickle.dump(SS,f)"
   ]
  },
  {
   "cell_type": "code",
   "execution_count": 49,
   "id": "2ec35b24-5fd8-4985-a85e-8c304b2d5cd0",
   "metadata": {},
   "outputs": [],
   "source": [
    "acc = [{\"Algorithm\":\"KNeighbors\",'Accuracy': metrics.accuracy_score(y_test,predict_knn),'Precision': metrics.precision_score(y_test,predict_knn),'Recall': metrics.recall_score(y_test,predict_knn),'F1-score': metrics.f1_score(y_test,predict_knn)},\n",
    "       {\"Algorithm\":\"SVM\", 'Accuracy': metrics.accuracy_score(y_test,predict_svm),'Precision': metrics.precision_score(y_test,predict_svm),'Recall': metrics.recall_score(y_test,predict_svm),'F1-score': metrics.f1_score(y_test,predict_svm)},\n",
    "        {\"Algorithm\":\"RandomForest\",'Accuracy': metrics.accuracy_score(y_test,predict_rf),'Precision': metrics.precision_score(y_test,predict_rf),'Recall': metrics.recall_score(y_test,predict_rf),'F1-score': metrics.f1_score(y_test,predict_rf)},\n",
    "        {\"Algorithm\":\"Adaboost\", 'Accuracy': metrics.accuracy_score(y_test,predict_ab),'Precision': metrics.precision_score(y_test,predict_ab),'Recall': metrics.recall_score(y_test,predict_ab),'F1-score': metrics.f1_score(y_test,predict_ab)},\n",
    "        {\"Algorithm\":\"Gboost\",'Accuracy': metrics.accuracy_score(y_test,predict_gb),'Precision': metrics.precision_score(y_test,predict_gb),'Recall': metrics.recall_score(y_test,predict_gb),'F1-score': metrics.f1_score(y_test,predict_gb)},\n",
    "        {\"Algorithm\":\"XGboost\",'Accuracy': metrics.accuracy_score(y_test,predict_xb),'Precision': metrics.precision_score(y_test,predict_xb),'Recall': metrics.recall_score(y_test,predict_xb),'F1-score': metrics.f1_score(y_test,predict_xb)},\n",
    "        {\"Algorithm\":\"Catboost\",'Accuracy': metrics.accuracy_score(y_test,predict_cat),'Precision': metrics.precision_score(y_test,predict_cat),'Recall': metrics.recall_score(y_test,predict_cat),'F1-score': metrics.f1_score(y_test,predict_cat)},\n",
    "       {\"Algorithm\":\"Perceptron\",'Accuracy': metrics.accuracy_score(y_test,predict_per),'Precision': metrics.precision_score(y_test,predict_per),'Recall': metrics.recall_score(y_test,predict_per),'F1-score': metrics.f1_score(y_test,predict_per)},\n",
    "       {\"Algorithm\":\"MLP\",'Accuracy': max(history.history[\"val_accuracy\"]),\"Precision\": max(history.history[\"val_accuracy\"]), \"Recall\" :max(history.history[\"val_accuracy\"]) ,\"F1-score\":max(history.history[\"val_accuracy\"])} \n",
    "       ] \n"
   ]
  },
  {
   "cell_type": "code",
   "execution_count": 50,
   "id": "f81d6920-bf8f-4434-b2e2-27a9cdf860a6",
   "metadata": {},
   "outputs": [
    {
     "data": {
      "text/html": [
       "<div>\n",
       "<style scoped>\n",
       "    .dataframe tbody tr th:only-of-type {\n",
       "        vertical-align: middle;\n",
       "    }\n",
       "\n",
       "    .dataframe tbody tr th {\n",
       "        vertical-align: top;\n",
       "    }\n",
       "\n",
       "    .dataframe thead th {\n",
       "        text-align: right;\n",
       "    }\n",
       "</style>\n",
       "<table border=\"1\" class=\"dataframe\">\n",
       "  <thead>\n",
       "    <tr style=\"text-align: right;\">\n",
       "      <th></th>\n",
       "      <th>Algorithm</th>\n",
       "      <th>Accuracy</th>\n",
       "      <th>Precision</th>\n",
       "      <th>Recall</th>\n",
       "      <th>F1-score</th>\n",
       "    </tr>\n",
       "  </thead>\n",
       "  <tbody>\n",
       "    <tr>\n",
       "      <th>0</th>\n",
       "      <td>KNeighbors</td>\n",
       "      <td>0.861386</td>\n",
       "      <td>0.876106</td>\n",
       "      <td>0.876106</td>\n",
       "      <td>0.876106</td>\n",
       "    </tr>\n",
       "    <tr>\n",
       "      <th>1</th>\n",
       "      <td>SVM</td>\n",
       "      <td>0.821782</td>\n",
       "      <td>0.873786</td>\n",
       "      <td>0.796460</td>\n",
       "      <td>0.833333</td>\n",
       "    </tr>\n",
       "    <tr>\n",
       "      <th>2</th>\n",
       "      <td>RandomForest</td>\n",
       "      <td>0.930693</td>\n",
       "      <td>0.954128</td>\n",
       "      <td>0.920354</td>\n",
       "      <td>0.936937</td>\n",
       "    </tr>\n",
       "    <tr>\n",
       "      <th>3</th>\n",
       "      <td>Adaboost</td>\n",
       "      <td>0.841584</td>\n",
       "      <td>0.864865</td>\n",
       "      <td>0.849558</td>\n",
       "      <td>0.857143</td>\n",
       "    </tr>\n",
       "    <tr>\n",
       "      <th>4</th>\n",
       "      <td>Gboost</td>\n",
       "      <td>0.866337</td>\n",
       "      <td>0.898148</td>\n",
       "      <td>0.858407</td>\n",
       "      <td>0.877828</td>\n",
       "    </tr>\n",
       "    <tr>\n",
       "      <th>5</th>\n",
       "      <td>XGboost</td>\n",
       "      <td>0.861386</td>\n",
       "      <td>0.897196</td>\n",
       "      <td>0.849558</td>\n",
       "      <td>0.872727</td>\n",
       "    </tr>\n",
       "    <tr>\n",
       "      <th>6</th>\n",
       "      <td>Catboost</td>\n",
       "      <td>0.920792</td>\n",
       "      <td>0.936937</td>\n",
       "      <td>0.920354</td>\n",
       "      <td>0.928571</td>\n",
       "    </tr>\n",
       "    <tr>\n",
       "      <th>7</th>\n",
       "      <td>Perceptron</td>\n",
       "      <td>0.782178</td>\n",
       "      <td>0.841584</td>\n",
       "      <td>0.752212</td>\n",
       "      <td>0.794393</td>\n",
       "    </tr>\n",
       "    <tr>\n",
       "      <th>8</th>\n",
       "      <td>MLP</td>\n",
       "      <td>0.930693</td>\n",
       "      <td>0.930693</td>\n",
       "      <td>0.930693</td>\n",
       "      <td>0.930693</td>\n",
       "    </tr>\n",
       "  </tbody>\n",
       "</table>\n",
       "</div>"
      ],
      "text/plain": [
       "      Algorithm  Accuracy  Precision    Recall  F1-score\n",
       "0    KNeighbors  0.861386   0.876106  0.876106  0.876106\n",
       "1           SVM  0.821782   0.873786  0.796460  0.833333\n",
       "2  RandomForest  0.930693   0.954128  0.920354  0.936937\n",
       "3      Adaboost  0.841584   0.864865  0.849558  0.857143\n",
       "4        Gboost  0.866337   0.898148  0.858407  0.877828\n",
       "5       XGboost  0.861386   0.897196  0.849558  0.872727\n",
       "6      Catboost  0.920792   0.936937  0.920354  0.928571\n",
       "7    Perceptron  0.782178   0.841584  0.752212  0.794393\n",
       "8           MLP  0.930693   0.930693  0.930693  0.930693"
      ]
     },
     "execution_count": 50,
     "metadata": {},
     "output_type": "execute_result"
    }
   ],
   "source": [
    "accurac = pd.DataFrame.from_dict(acc)\n",
    "accurac"
   ]
  }
 ],
 "metadata": {
  "kernelspec": {
   "display_name": "Python 3 (ipykernel)",
   "language": "python",
   "name": "python3"
  },
  "language_info": {
   "codemirror_mode": {
    "name": "ipython",
    "version": 3
   },
   "file_extension": ".py",
   "mimetype": "text/x-python",
   "name": "python",
   "nbconvert_exporter": "python",
   "pygments_lexer": "ipython3",
   "version": "3.9.6"
  }
 },
 "nbformat": 4,
 "nbformat_minor": 5
}
