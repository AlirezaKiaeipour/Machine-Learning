{
 "cells": [
  {
   "cell_type": "code",
   "execution_count": 1,
   "id": "b22002ce-165d-4cc0-9342-e8d780f2f97b",
   "metadata": {},
   "outputs": [],
   "source": [
    "import pandas as pd\n",
    "import seaborn as sns\n",
    "from sklearn.preprocessing import LabelEncoder ,  StandardScaler\n",
    "from sklearn.impute import KNNImputer\n",
    "from sklearn.model_selection import train_test_split\n",
    "from sklearn import metrics\n",
    "from sklearn.neighbors import KNeighborsClassifier\n",
    "from sklearn.svm import SVC\n",
    "from sklearn.ensemble import RandomForestClassifier , GradientBoostingClassifier ,AdaBoostClassifier\n",
    "from xgboost import XGBRFClassifier\n",
    "from catboost import CatBoostClassifier\n",
    "from imblearn.combine import SMOTETomek"
   ]
  },
  {
   "cell_type": "markdown",
   "id": "c3472beb-3dd3-404b-abdd-dec152f3c08a",
   "metadata": {},
   "source": [
    "## Titanic Dataset"
   ]
  },
  {
   "cell_type": "code",
   "execution_count": 2,
   "id": "c6e22d89-9edb-4e2a-a8a4-5dccb77d929a",
   "metadata": {},
   "outputs": [
    {
     "data": {
      "text/html": [
       "<div>\n",
       "<style scoped>\n",
       "    .dataframe tbody tr th:only-of-type {\n",
       "        vertical-align: middle;\n",
       "    }\n",
       "\n",
       "    .dataframe tbody tr th {\n",
       "        vertical-align: top;\n",
       "    }\n",
       "\n",
       "    .dataframe thead th {\n",
       "        text-align: right;\n",
       "    }\n",
       "</style>\n",
       "<table border=\"1\" class=\"dataframe\">\n",
       "  <thead>\n",
       "    <tr style=\"text-align: right;\">\n",
       "      <th></th>\n",
       "      <th>PassengerId</th>\n",
       "      <th>Survived</th>\n",
       "      <th>Pclass</th>\n",
       "      <th>Name</th>\n",
       "      <th>Sex</th>\n",
       "      <th>Age</th>\n",
       "      <th>SibSp</th>\n",
       "      <th>Parch</th>\n",
       "      <th>Ticket</th>\n",
       "      <th>Fare</th>\n",
       "      <th>Cabin</th>\n",
       "      <th>Embarked</th>\n",
       "    </tr>\n",
       "  </thead>\n",
       "  <tbody>\n",
       "    <tr>\n",
       "      <th>0</th>\n",
       "      <td>1</td>\n",
       "      <td>0</td>\n",
       "      <td>3</td>\n",
       "      <td>Braund, Mr. Owen Harris</td>\n",
       "      <td>male</td>\n",
       "      <td>22.0</td>\n",
       "      <td>1</td>\n",
       "      <td>0</td>\n",
       "      <td>A/5 21171</td>\n",
       "      <td>7.2500</td>\n",
       "      <td>NaN</td>\n",
       "      <td>S</td>\n",
       "    </tr>\n",
       "    <tr>\n",
       "      <th>1</th>\n",
       "      <td>2</td>\n",
       "      <td>1</td>\n",
       "      <td>1</td>\n",
       "      <td>Cumings, Mrs. John Bradley (Florence Briggs Th...</td>\n",
       "      <td>female</td>\n",
       "      <td>38.0</td>\n",
       "      <td>1</td>\n",
       "      <td>0</td>\n",
       "      <td>PC 17599</td>\n",
       "      <td>71.2833</td>\n",
       "      <td>C85</td>\n",
       "      <td>C</td>\n",
       "    </tr>\n",
       "    <tr>\n",
       "      <th>2</th>\n",
       "      <td>3</td>\n",
       "      <td>1</td>\n",
       "      <td>3</td>\n",
       "      <td>Heikkinen, Miss. Laina</td>\n",
       "      <td>female</td>\n",
       "      <td>26.0</td>\n",
       "      <td>0</td>\n",
       "      <td>0</td>\n",
       "      <td>STON/O2. 3101282</td>\n",
       "      <td>7.9250</td>\n",
       "      <td>NaN</td>\n",
       "      <td>S</td>\n",
       "    </tr>\n",
       "    <tr>\n",
       "      <th>3</th>\n",
       "      <td>4</td>\n",
       "      <td>1</td>\n",
       "      <td>1</td>\n",
       "      <td>Futrelle, Mrs. Jacques Heath (Lily May Peel)</td>\n",
       "      <td>female</td>\n",
       "      <td>35.0</td>\n",
       "      <td>1</td>\n",
       "      <td>0</td>\n",
       "      <td>113803</td>\n",
       "      <td>53.1000</td>\n",
       "      <td>C123</td>\n",
       "      <td>S</td>\n",
       "    </tr>\n",
       "    <tr>\n",
       "      <th>4</th>\n",
       "      <td>5</td>\n",
       "      <td>0</td>\n",
       "      <td>3</td>\n",
       "      <td>Allen, Mr. William Henry</td>\n",
       "      <td>male</td>\n",
       "      <td>35.0</td>\n",
       "      <td>0</td>\n",
       "      <td>0</td>\n",
       "      <td>373450</td>\n",
       "      <td>8.0500</td>\n",
       "      <td>NaN</td>\n",
       "      <td>S</td>\n",
       "    </tr>\n",
       "  </tbody>\n",
       "</table>\n",
       "</div>"
      ],
      "text/plain": [
       "   PassengerId  Survived  Pclass  \\\n",
       "0            1         0       3   \n",
       "1            2         1       1   \n",
       "2            3         1       3   \n",
       "3            4         1       1   \n",
       "4            5         0       3   \n",
       "\n",
       "                                                Name     Sex   Age  SibSp  \\\n",
       "0                            Braund, Mr. Owen Harris    male  22.0      1   \n",
       "1  Cumings, Mrs. John Bradley (Florence Briggs Th...  female  38.0      1   \n",
       "2                             Heikkinen, Miss. Laina  female  26.0      0   \n",
       "3       Futrelle, Mrs. Jacques Heath (Lily May Peel)  female  35.0      1   \n",
       "4                           Allen, Mr. William Henry    male  35.0      0   \n",
       "\n",
       "   Parch            Ticket     Fare Cabin Embarked  \n",
       "0      0         A/5 21171   7.2500   NaN        S  \n",
       "1      0          PC 17599  71.2833   C85        C  \n",
       "2      0  STON/O2. 3101282   7.9250   NaN        S  \n",
       "3      0            113803  53.1000  C123        S  \n",
       "4      0            373450   8.0500   NaN        S  "
      ]
     },
     "execution_count": 2,
     "metadata": {},
     "output_type": "execute_result"
    }
   ],
   "source": [
    "data = pd.read_csv(\"Dataset/titanic.csv\")\n",
    "data.head()"
   ]
  },
  {
   "cell_type": "code",
   "execution_count": 3,
   "id": "d9ad878f-ca79-4d84-9487-ceb244f0b3ff",
   "metadata": {},
   "outputs": [
    {
     "name": "stderr",
     "output_type": "stream",
     "text": [
      "c:\\users\\akiai\\appdata\\local\\programs\\python\\python39\\lib\\site-packages\\seaborn\\_decorators.py:36: FutureWarning: Pass the following variable as a keyword arg: x. From version 0.12, the only valid positional argument will be `data`, and passing other arguments without an explicit keyword will result in an error or misinterpretation.\n",
      "  warnings.warn(\n"
     ]
    },
    {
     "data": {
      "text/plain": [
       "<AxesSubplot:xlabel='Survived', ylabel='count'>"
      ]
     },
     "execution_count": 3,
     "metadata": {},
     "output_type": "execute_result"
    },
    {
     "data": {
      "image/png": "[encoded data removed]",
      "text/plain": [
       "<Figure size 432x288 with 1 Axes>"
      ]
     },
     "metadata": {
      "needs_background": "light"
     },
     "output_type": "display_data"
    }
   ],
   "source": [
    "sns.countplot(data[\"Survived\"])"
   ]
  },
  {
   "cell_type": "markdown",
   "id": "ecb00e77-dd17-4779-a756-57be38e71f27",
   "metadata": {},
   "source": [
    "## Preprocessing:"
   ]
  },
  {
   "cell_type": "code",
   "execution_count": 4,
   "id": "20d10a92-fd78-4bc1-8959-45402f6e64f6",
   "metadata": {},
   "outputs": [],
   "source": [
    "data.drop([\"Name\",\"Ticket\",\"Cabin\"],axis=1,inplace=True)"
   ]
  },
  {
   "cell_type": "code",
   "execution_count": 5,
   "id": "d2d3bee9-fda1-4012-9093-af3a8a64a468",
   "metadata": {},
   "outputs": [
    {
     "data": {
      "text/html": [
       "<div>\n",
       "<style scoped>\n",
       "    .dataframe tbody tr th:only-of-type {\n",
       "        vertical-align: middle;\n",
       "    }\n",
       "\n",
       "    .dataframe tbody tr th {\n",
       "        vertical-align: top;\n",
       "    }\n",
       "\n",
       "    .dataframe thead th {\n",
       "        text-align: right;\n",
       "    }\n",
       "</style>\n",
       "<table border=\"1\" class=\"dataframe\">\n",
       "  <thead>\n",
       "    <tr style=\"text-align: right;\">\n",
       "      <th></th>\n",
       "      <th>PassengerId</th>\n",
       "      <th>Survived</th>\n",
       "      <th>Pclass</th>\n",
       "      <th>Sex</th>\n",
       "      <th>Age</th>\n",
       "      <th>SibSp</th>\n",
       "      <th>Parch</th>\n",
       "      <th>Fare</th>\n",
       "      <th>Embarked</th>\n",
       "    </tr>\n",
       "  </thead>\n",
       "  <tbody>\n",
       "    <tr>\n",
       "      <th>0</th>\n",
       "      <td>1</td>\n",
       "      <td>0</td>\n",
       "      <td>3</td>\n",
       "      <td>male</td>\n",
       "      <td>22.0</td>\n",
       "      <td>1</td>\n",
       "      <td>0</td>\n",
       "      <td>7.2500</td>\n",
       "      <td>S</td>\n",
       "    </tr>\n",
       "    <tr>\n",
       "      <th>1</th>\n",
       "      <td>2</td>\n",
       "      <td>1</td>\n",
       "      <td>1</td>\n",
       "      <td>female</td>\n",
       "      <td>38.0</td>\n",
       "      <td>1</td>\n",
       "      <td>0</td>\n",
       "      <td>71.2833</td>\n",
       "      <td>C</td>\n",
       "    </tr>\n",
       "    <tr>\n",
       "      <th>2</th>\n",
       "      <td>3</td>\n",
       "      <td>1</td>\n",
       "      <td>3</td>\n",
       "      <td>female</td>\n",
       "      <td>26.0</td>\n",
       "      <td>0</td>\n",
       "      <td>0</td>\n",
       "      <td>7.9250</td>\n",
       "      <td>S</td>\n",
       "    </tr>\n",
       "    <tr>\n",
       "      <th>3</th>\n",
       "      <td>4</td>\n",
       "      <td>1</td>\n",
       "      <td>1</td>\n",
       "      <td>female</td>\n",
       "      <td>35.0</td>\n",
       "      <td>1</td>\n",
       "      <td>0</td>\n",
       "      <td>53.1000</td>\n",
       "      <td>S</td>\n",
       "    </tr>\n",
       "    <tr>\n",
       "      <th>4</th>\n",
       "      <td>5</td>\n",
       "      <td>0</td>\n",
       "      <td>3</td>\n",
       "      <td>male</td>\n",
       "      <td>35.0</td>\n",
       "      <td>0</td>\n",
       "      <td>0</td>\n",
       "      <td>8.0500</td>\n",
       "      <td>S</td>\n",
       "    </tr>\n",
       "  </tbody>\n",
       "</table>\n",
       "</div>"
      ],
      "text/plain": [
       "   PassengerId  Survived  Pclass     Sex   Age  SibSp  Parch     Fare Embarked\n",
       "0            1         0       3    male  22.0      1      0   7.2500        S\n",
       "1            2         1       1  female  38.0      1      0  71.2833        C\n",
       "2            3         1       3  female  26.0      0      0   7.9250        S\n",
       "3            4         1       1  female  35.0      1      0  53.1000        S\n",
       "4            5         0       3    male  35.0      0      0   8.0500        S"
      ]
     },
     "execution_count": 5,
     "metadata": {},
     "output_type": "execute_result"
    }
   ],
   "source": [
    "data.head()"
   ]
  },
  {
   "cell_type": "markdown",
   "id": "9311b13f-5443-42ae-84aa-c197f66b294d",
   "metadata": {},
   "source": [
    "### Convert Categorical to Numerical"
   ]
  },
  {
   "cell_type": "markdown",
   "id": "a643aec4-d8f2-4333-b6a9-dd955f7f885c",
   "metadata": {},
   "source": [
    "### OHE"
   ]
  },
  {
   "cell_type": "code",
   "execution_count": 6,
   "id": "f7036b98-0c99-4047-a2e6-07385c2e817d",
   "metadata": {},
   "outputs": [],
   "source": [
    "data = pd.get_dummies(data,columns=[\"Embarked\"])"
   ]
  },
  {
   "cell_type": "code",
   "execution_count": 7,
   "id": "edec9764-97fc-48ad-845e-43a8f7be67f5",
   "metadata": {},
   "outputs": [],
   "source": [
    "X = data.drop(\"Survived\",axis=1)\n",
    "Y = data.Survived.values"
   ]
  },
  {
   "cell_type": "code",
   "execution_count": 8,
   "id": "67a9ae56-cd70-473d-abd6-3ee2565f5775",
   "metadata": {},
   "outputs": [],
   "source": [
    "X[\"Sex\"] = LabelEncoder().fit_transform(X[\"Sex\"])"
   ]
  },
  {
   "cell_type": "markdown",
   "id": "3608e868-cf71-4a2e-baa6-b8d7ec6990d9",
   "metadata": {},
   "source": [
    "### Missing values"
   ]
  },
  {
   "cell_type": "code",
   "execution_count": 9,
   "id": "60316a88-f640-4b4e-9709-58c4d0f8f82e",
   "metadata": {},
   "outputs": [
    {
     "data": {
      "text/plain": [
       "PassengerId      0\n",
       "Pclass           0\n",
       "Sex              0\n",
       "Age            177\n",
       "SibSp            0\n",
       "Parch            0\n",
       "Fare             0\n",
       "Embarked_C       0\n",
       "Embarked_Q       0\n",
       "Embarked_S       0\n",
       "dtype: int64"
      ]
     },
     "execution_count": 9,
     "metadata": {},
     "output_type": "execute_result"
    }
   ],
   "source": [
    "X.isnull().sum()"
   ]
  },
  {
   "cell_type": "code",
   "execution_count": 10,
   "id": "d3005ad7-3ad9-4a98-9ab5-f05791608f24",
   "metadata": {},
   "outputs": [],
   "source": [
    "knn_imp = KNNImputer()\n",
    "X = knn_imp.fit_transform(X)"
   ]
  },
  {
   "cell_type": "markdown",
   "id": "f7f03842-8202-4c2b-b90b-ff5d2a04b5ee",
   "metadata": {},
   "source": [
    "### Scaling"
   ]
  },
  {
   "cell_type": "code",
   "execution_count": 11,
   "id": "0a355539-c7c3-4a7c-8a24-87adcb8a67f0",
   "metadata": {},
   "outputs": [],
   "source": [
    "SS = StandardScaler()\n",
    "X = SS.fit_transform(X)"
   ]
  },
  {
   "cell_type": "markdown",
   "id": "6c87e4ec-9a0f-4636-a556-1f8529e0df58",
   "metadata": {},
   "source": [
    "### Balance:\n",
    "### SMOTETomek"
   ]
  },
  {
   "cell_type": "code",
   "execution_count": 12,
   "id": "1054afae-5221-4974-80c7-de19ad6a4cec",
   "metadata": {},
   "outputs": [],
   "source": [
    "ST = SMOTETomek(random_state=10)\n",
    "X,Y = ST.fit_resample(X,Y)"
   ]
  },
  {
   "cell_type": "code",
   "execution_count": 13,
   "id": "797dcc6c-3140-43c4-8048-9bbb7b4f534e",
   "metadata": {},
   "outputs": [],
   "source": [
    "x_train , x_test , y_train , y_test = train_test_split(X,Y,test_size=0.2,random_state=5)"
   ]
  },
  {
   "cell_type": "markdown",
   "id": "cef70bb9-2d1e-4a1f-8fee-aac30129580c",
   "metadata": {},
   "source": [
    "### KNeighborsClassifier"
   ]
  },
  {
   "cell_type": "code",
   "execution_count": 14,
   "id": "73944c75-c8d7-4126-b017-7ca88d7caaa2",
   "metadata": {},
   "outputs": [],
   "source": [
    "knn = KNeighborsClassifier(n_neighbors=9)\n",
    "knn.fit(x_train,y_train)\n",
    "predict_knn = knn.predict(x_test)"
   ]
  },
  {
   "cell_type": "code",
   "execution_count": 15,
   "id": "0a5b8a83-13a4-4075-8967-f0ab365e5637",
   "metadata": {},
   "outputs": [
    {
     "name": "stdout",
     "output_type": "stream",
     "text": [
      "              precision    recall  f1-score   support\n",
      "\n",
      "           0       0.84      0.84      0.84        89\n",
      "           1       0.88      0.88      0.88       113\n",
      "\n",
      "    accuracy                           0.86       202\n",
      "   macro avg       0.86      0.86      0.86       202\n",
      "weighted avg       0.86      0.86      0.86       202\n",
      "\n"
     ]
    }
   ],
   "source": [
    "print(metrics.classification_report(y_test,predict_knn))"
   ]
  },
  {
   "cell_type": "code",
   "execution_count": 16,
   "id": "43b2e7a9-a2d8-4171-81be-007fd89a2680",
   "metadata": {},
   "outputs": [
    {
     "name": "stderr",
     "output_type": "stream",
     "text": [
      "c:\\users\\akiai\\appdata\\local\\programs\\python\\python39\\lib\\site-packages\\sklearn\\utils\\deprecation.py:87: FutureWarning: Function plot_confusion_matrix is deprecated; Function `plot_confusion_matrix` is deprecated in 1.0 and will be removed in 1.2. Use one of the class methods: ConfusionMatrixDisplay.from_predictions or ConfusionMatrixDisplay.from_estimator.\n",
      "  warnings.warn(msg, category=FutureWarning)\n"
     ]
    },
    {
     "data": {
      "text/plain": [
       "<sklearn.metrics._plot.confusion_matrix.ConfusionMatrixDisplay at 0x2848e8a4280>"
      ]
     },
     "execution_count": 16,
     "metadata": {},
     "output_type": "execute_result"
    },
    {
     "data": {
      "image/png": "[encoded data removed]",
      "text/plain": [
       "<Figure size 432x288 with 2 Axes>"
      ]
     },
     "metadata": {
      "needs_background": "light"
     },
     "output_type": "display_data"
    }
   ],
   "source": [
    "metrics.plot_confusion_matrix(knn,x_test,y_test)"
   ]
  },
  {
   "cell_type": "markdown",
   "id": "708925c5-7a44-49de-a165-6c329a340183",
   "metadata": {},
   "source": [
    "### SVC"
   ]
  },
  {
   "cell_type": "code",
   "execution_count": 17,
   "id": "b0f8f67f-219c-4623-a442-3716d35c44bd",
   "metadata": {},
   "outputs": [
    {
     "name": "stdout",
     "output_type": "stream",
     "text": [
      "[LibSVM]"
     ]
    }
   ],
   "source": [
    "svc = SVC(kernel=\"rbf\",C=0.5,random_state=300,verbose=True)\n",
    "svc.fit(x_train,y_train)\n",
    "predict_svm = svc.predict(x_test)"
   ]
  },
  {
   "cell_type": "code",
   "execution_count": 18,
   "id": "caa623c7-5e39-4a60-98f2-9dc43bb06cdb",
   "metadata": {},
   "outputs": [
    {
     "name": "stdout",
     "output_type": "stream",
     "text": [
      "              precision    recall  f1-score   support\n",
      "\n",
      "           0       0.77      0.85      0.81        89\n",
      "           1       0.87      0.80      0.83       113\n",
      "\n",
      "    accuracy                           0.82       202\n",
      "   macro avg       0.82      0.83      0.82       202\n",
      "weighted avg       0.83      0.82      0.82       202\n",
      "\n"
     ]
    }
   ],
   "source": [
    "print(metrics.classification_report(y_test,predict_svm))"
   ]
  },
  {
   "cell_type": "code",
   "execution_count": 19,
   "id": "7066b10e-2397-4b57-a345-11d7539bca9a",
   "metadata": {},
   "outputs": [
    {
     "name": "stderr",
     "output_type": "stream",
     "text": [
      "c:\\users\\akiai\\appdata\\local\\programs\\python\\python39\\lib\\site-packages\\sklearn\\utils\\deprecation.py:87: FutureWarning: Function plot_confusion_matrix is deprecated; Function `plot_confusion_matrix` is deprecated in 1.0 and will be removed in 1.2. Use one of the class methods: ConfusionMatrixDisplay.from_predictions or ConfusionMatrixDisplay.from_estimator.\n",
      "  warnings.warn(msg, category=FutureWarning)\n"
     ]
    },
    {
     "data": {
      "text/plain": [
       "<sklearn.metrics._plot.confusion_matrix.ConfusionMatrixDisplay at 0x2848e8d9250>"
      ]
     },
     "execution_count": 19,
     "metadata": {},
     "output_type": "execute_result"
    },
    {
     "data": {
      "image/png": "[encoded data removed]",
      "text/plain": [
       "<Figure size 432x288 with 2 Axes>"
      ]
     },
     "metadata": {
      "needs_background": "light"
     },
     "output_type": "display_data"
    }
   ],
   "source": [
    "metrics.plot_confusion_matrix(svc,x_test,y_test)"
   ]
  },
  {
   "cell_type": "markdown",
   "id": "0eb4aec6-4e17-4496-b918-a7533edd7eba",
   "metadata": {},
   "source": [
    "### RandomForestClassifier"
   ]
  },
  {
   "cell_type": "code",
   "execution_count": 20,
   "id": "544851d3-c760-4ed2-99d6-51d6c25ab123",
   "metadata": {},
   "outputs": [],
   "source": [
    "RF = RandomForestClassifier(n_estimators=1000,n_jobs=-1,random_state=242)\n",
    "RF.fit(x_train,y_train)\n",
    "predict_rf = RF.predict(x_test)"
   ]
  },
  {
   "cell_type": "code",
   "execution_count": 21,
   "id": "24c7593d-20de-4292-b645-3475f6d8e1bd",
   "metadata": {},
   "outputs": [
    {
     "name": "stdout",
     "output_type": "stream",
     "text": [
      "              precision    recall  f1-score   support\n",
      "\n",
      "           0       0.90      0.94      0.92        89\n",
      "           1       0.95      0.92      0.94       113\n",
      "\n",
      "    accuracy                           0.93       202\n",
      "   macro avg       0.93      0.93      0.93       202\n",
      "weighted avg       0.93      0.93      0.93       202\n",
      "\n"
     ]
    }
   ],
   "source": [
    "print(metrics.classification_report(y_test,predict_rf))"
   ]
  },
  {
   "cell_type": "code",
   "execution_count": 22,
   "id": "6b230e9a-7dc9-443f-b310-dae693823024",
   "metadata": {},
   "outputs": [
    {
     "name": "stderr",
     "output_type": "stream",
     "text": [
      "c:\\users\\akiai\\appdata\\local\\programs\\python\\python39\\lib\\site-packages\\sklearn\\utils\\deprecation.py:87: FutureWarning: Function plot_confusion_matrix is deprecated; Function `plot_confusion_matrix` is deprecated in 1.0 and will be removed in 1.2. Use one of the class methods: ConfusionMatrixDisplay.from_predictions or ConfusionMatrixDisplay.from_estimator.\n",
      "  warnings.warn(msg, category=FutureWarning)\n"
     ]
    },
    {
     "data": {
      "text/plain": [
       "<sklearn.metrics._plot.confusion_matrix.ConfusionMatrixDisplay at 0x2848e9ca7f0>"
      ]
     },
     "execution_count": 22,
     "metadata": {},
     "output_type": "execute_result"
    },
    {
     "data": {
      "image/png": "[encoded data removed]",
      "text/plain": [
       "<Figure size 432x288 with 2 Axes>"
      ]
     },
     "metadata": {
      "needs_background": "light"
     },
     "output_type": "display_data"
    }
   ],
   "source": [
    "metrics.plot_confusion_matrix(RF,x_test,y_test)"
   ]
  },
  {
   "cell_type": "markdown",
   "id": "9cc22b7c-e116-452a-95d0-77f9349052f0",
   "metadata": {},
   "source": [
    "### AdaBoostClassifier"
   ]
  },
  {
   "cell_type": "code",
   "execution_count": 23,
   "id": "f258e630-b892-4542-b6e9-efee51318cfa",
   "metadata": {},
   "outputs": [],
   "source": [
    "adaboost = AdaBoostClassifier(random_state=242)\n",
    "adaboost.fit(x_train,y_train)\n",
    "predict_ab = adaboost.predict(x_test)"
   ]
  },
  {
   "cell_type": "code",
   "execution_count": 24,
   "id": "90b67806-34e9-4320-8e55-e5948414def4",
   "metadata": {},
   "outputs": [
    {
     "name": "stdout",
     "output_type": "stream",
     "text": [
      "              precision    recall  f1-score   support\n",
      "\n",
      "           0       0.81      0.83      0.82        89\n",
      "           1       0.86      0.85      0.86       113\n",
      "\n",
      "    accuracy                           0.84       202\n",
      "   macro avg       0.84      0.84      0.84       202\n",
      "weighted avg       0.84      0.84      0.84       202\n",
      "\n"
     ]
    }
   ],
   "source": [
    "print(metrics.classification_report(y_test,predict_ab))"
   ]
  },
  {
   "cell_type": "code",
   "execution_count": 25,
   "id": "eda7267a-e05e-4d12-9e0b-b647683d96c1",
   "metadata": {},
   "outputs": [
    {
     "name": "stderr",
     "output_type": "stream",
     "text": [
      "c:\\users\\akiai\\appdata\\local\\programs\\python\\python39\\lib\\site-packages\\sklearn\\utils\\deprecation.py:87: FutureWarning: Function plot_confusion_matrix is deprecated; Function `plot_confusion_matrix` is deprecated in 1.0 and will be removed in 1.2. Use one of the class methods: ConfusionMatrixDisplay.from_predictions or ConfusionMatrixDisplay.from_estimator.\n",
      "  warnings.warn(msg, category=FutureWarning)\n"
     ]
    },
    {
     "data": {
      "text/plain": [
       "<sklearn.metrics._plot.confusion_matrix.ConfusionMatrixDisplay at 0x28490b24850>"
      ]
     },
     "execution_count": 25,
     "metadata": {},
     "output_type": "execute_result"
    },
    {
     "data": {
      "image/png": "[encoded data removed]",
      "text/plain": [
       "<Figure size 432x288 with 2 Axes>"
      ]
     },
     "metadata": {
      "needs_background": "light"
     },
     "output_type": "display_data"
    }
   ],
   "source": [
    "metrics.plot_confusion_matrix(adaboost,x_test,y_test)"
   ]
  },
  {
   "cell_type": "markdown",
   "id": "2cc59774-b7d8-41f0-bd7f-5d0a140f30e4",
   "metadata": {},
   "source": [
    "### GBoostingClassifier"
   ]
  },
  {
   "cell_type": "code",
   "execution_count": 26,
   "id": "ca0189c0-7b2a-4a8a-b884-a427f1a64a5c",
   "metadata": {},
   "outputs": [],
   "source": [
    "Gboost = GradientBoostingClassifier(n_estimators=1000,learning_rate=0.01,subsample=0.9,min_samples_split=10,max_depth=2,random_state=25)\n",
    "Gboost.fit(x_train,y_train)\n",
    "predict_gb = Gboost.predict(x_test)"
   ]
  },
  {
   "cell_type": "code",
   "execution_count": 27,
   "id": "d5e5bf19-3618-4220-a1b8-6c70755f4ecd",
   "metadata": {},
   "outputs": [
    {
     "name": "stdout",
     "output_type": "stream",
     "text": [
      "              precision    recall  f1-score   support\n",
      "\n",
      "           0       0.83      0.88      0.85        89\n",
      "           1       0.90      0.86      0.88       113\n",
      "\n",
      "    accuracy                           0.87       202\n",
      "   macro avg       0.86      0.87      0.87       202\n",
      "weighted avg       0.87      0.87      0.87       202\n",
      "\n"
     ]
    }
   ],
   "source": [
    "print(metrics.classification_report(y_test,predict_gb))"
   ]
  },
  {
   "cell_type": "code",
   "execution_count": 28,
   "id": "f27de7fe-0eda-4544-9043-70f187596094",
   "metadata": {},
   "outputs": [
    {
     "name": "stderr",
     "output_type": "stream",
     "text": [
      "c:\\users\\akiai\\appdata\\local\\programs\\python\\python39\\lib\\site-packages\\sklearn\\utils\\deprecation.py:87: FutureWarning: Function plot_confusion_matrix is deprecated; Function `plot_confusion_matrix` is deprecated in 1.0 and will be removed in 1.2. Use one of the class methods: ConfusionMatrixDisplay.from_predictions or ConfusionMatrixDisplay.from_estimator.\n",
      "  warnings.warn(msg, category=FutureWarning)\n"
     ]
    },
    {
     "data": {
      "text/plain": [
       "<sklearn.metrics._plot.confusion_matrix.ConfusionMatrixDisplay at 0x2848ea55ac0>"
      ]
     },
     "execution_count": 28,
     "metadata": {},
     "output_type": "execute_result"
    },
    {
     "data": {
      "image/png": "[encoded data removed]",
      "text/plain": [
       "<Figure size 432x288 with 2 Axes>"
      ]
     },
     "metadata": {
      "needs_background": "light"
     },
     "output_type": "display_data"
    }
   ],
   "source": [
    "metrics.plot_confusion_matrix(Gboost,x_test,y_test)"
   ]
  },
  {
   "cell_type": "markdown",
   "id": "3205426f-1c56-4cdc-8d8a-28ebf31a846d",
   "metadata": {},
   "source": [
    "### XGBoostClassifier"
   ]
  },
  {
   "cell_type": "code",
   "execution_count": 29,
   "id": "a1c17906-779c-4825-881e-1b9760b457a0",
   "metadata": {},
   "outputs": [
    {
     "name": "stderr",
     "output_type": "stream",
     "text": [
      "c:\\users\\akiai\\appdata\\local\\programs\\python\\python39\\lib\\site-packages\\xgboost\\sklearn.py:1224: UserWarning: The use of label encoder in XGBClassifier is deprecated and will be removed in a future release. To remove this warning, do the following: 1) Pass option use_label_encoder=False when constructing XGBClassifier object; and 2) Encode your labels (y) as integers starting with 0, i.e. 0, 1, 2, ..., [num_class - 1].\n",
      "  warnings.warn(label_encoder_deprecation_msg, UserWarning)\n"
     ]
    },
    {
     "name": "stdout",
     "output_type": "stream",
     "text": [
      "[22:03:47] WARNING: C:/Users/Administrator/workspace/xgboost-win64_release_1.5.1/src/learner.cc:1115: Starting in XGBoost 1.3.0, the default evaluation metric used with the objective 'binary:logistic' was changed from 'error' to 'logloss'. Explicitly set eval_metric if you'd like to restore the old behavior.\n"
     ]
    }
   ],
   "source": [
    "XGboost = XGBRFClassifier(learning_rate=0.05,subsample=0.5,reg_lambda=0.3)\n",
    "XGboost.fit(x_train,y_train)\n",
    "predict_xb = XGboost.predict(x_test)"
   ]
  },
  {
   "cell_type": "code",
   "execution_count": 30,
   "id": "6b0e0155-2cc1-4761-a953-f7f679e0e207",
   "metadata": {},
   "outputs": [
    {
     "name": "stdout",
     "output_type": "stream",
     "text": [
      "              precision    recall  f1-score   support\n",
      "\n",
      "           0       0.82      0.88      0.85        89\n",
      "           1       0.90      0.85      0.87       113\n",
      "\n",
      "    accuracy                           0.86       202\n",
      "   macro avg       0.86      0.86      0.86       202\n",
      "weighted avg       0.86      0.86      0.86       202\n",
      "\n"
     ]
    }
   ],
   "source": [
    "print(metrics.classification_report(y_test,predict_xb))"
   ]
  },
  {
   "cell_type": "code",
   "execution_count": 31,
   "id": "c39f4019-0330-43b8-9550-01cd285f642f",
   "metadata": {},
   "outputs": [
    {
     "name": "stderr",
     "output_type": "stream",
     "text": [
      "c:\\users\\akiai\\appdata\\local\\programs\\python\\python39\\lib\\site-packages\\sklearn\\utils\\deprecation.py:87: FutureWarning: Function plot_confusion_matrix is deprecated; Function `plot_confusion_matrix` is deprecated in 1.0 and will be removed in 1.2. Use one of the class methods: ConfusionMatrixDisplay.from_predictions or ConfusionMatrixDisplay.from_estimator.\n",
      "  warnings.warn(msg, category=FutureWarning)\n"
     ]
    },
    {
     "data": {
      "text/plain": [
       "<sklearn.metrics._plot.confusion_matrix.ConfusionMatrixDisplay at 0x28490bdcfd0>"
      ]
     },
     "execution_count": 31,
     "metadata": {},
     "output_type": "execute_result"
    },
    {
     "data": {
      "image/png": "[encoded data removed]",
      "text/plain": [
       "<Figure size 432x288 with 2 Axes>"
      ]
     },
     "metadata": {
      "needs_background": "light"
     },
     "output_type": "display_data"
    }
   ],
   "source": [
    "metrics.plot_confusion_matrix(XGboost,x_test,y_test)"
   ]
  },
  {
   "cell_type": "markdown",
   "id": "a73201ff-742a-47c7-9cd2-0f2f8b0d40a6",
   "metadata": {},
   "source": [
    "### CatBoostClassifier"
   ]
  },
  {
   "cell_type": "code",
   "execution_count": 32,
   "id": "da69dd1a-67f6-4273-bb28-64d0829f22ab",
   "metadata": {},
   "outputs": [
    {
     "name": "stdout",
     "output_type": "stream",
     "text": [
      "0:\tlearn: 0.8415842\ttest: 0.8267327\tbest: 0.8267327 (0)\ttotal: 11.9ms\tremaining: 2.37s\n",
      "1:\tlearn: 0.8688119\ttest: 0.8465347\tbest: 0.8465347 (1)\ttotal: 22.9ms\tremaining: 2.27s\n",
      "2:\tlearn: 0.8799505\ttest: 0.8663366\tbest: 0.8663366 (2)\ttotal: 33.6ms\tremaining: 2.2s\n",
      "3:\tlearn: 0.8824257\ttest: 0.8663366\tbest: 0.8663366 (2)\ttotal: 43.8ms\tremaining: 2.15s\n",
      "4:\tlearn: 0.9059406\ttest: 0.8663366\tbest: 0.8663366 (2)\ttotal: 54.2ms\tremaining: 2.11s\n",
      "5:\tlearn: 0.9158416\ttest: 0.8712871\tbest: 0.8712871 (5)\ttotal: 66.1ms\tremaining: 2.14s\n",
      "6:\tlearn: 0.9207921\ttest: 0.8762376\tbest: 0.8762376 (6)\ttotal: 76.3ms\tremaining: 2.1s\n",
      "7:\tlearn: 0.9282178\ttest: 0.8712871\tbest: 0.8762376 (6)\ttotal: 86.4ms\tremaining: 2.07s\n",
      "8:\tlearn: 0.9306931\ttest: 0.8613861\tbest: 0.8762376 (6)\ttotal: 98.1ms\tremaining: 2.08s\n",
      "9:\tlearn: 0.9331683\ttest: 0.8613861\tbest: 0.8762376 (6)\ttotal: 106ms\tremaining: 2.01s\n",
      "10:\tlearn: 0.9331683\ttest: 0.8663366\tbest: 0.8762376 (6)\ttotal: 116ms\tremaining: 2s\n",
      "11:\tlearn: 0.9381188\ttest: 0.8712871\tbest: 0.8762376 (6)\ttotal: 127ms\tremaining: 1.98s\n",
      "12:\tlearn: 0.9430693\ttest: 0.8861386\tbest: 0.8861386 (12)\ttotal: 137ms\tremaining: 1.97s\n",
      "13:\tlearn: 0.9529703\ttest: 0.8811881\tbest: 0.8861386 (12)\ttotal: 147ms\tremaining: 1.95s\n",
      "14:\tlearn: 0.9579208\ttest: 0.8910891\tbest: 0.8910891 (14)\ttotal: 157ms\tremaining: 1.94s\n",
      "15:\tlearn: 0.9653465\ttest: 0.8811881\tbest: 0.8910891 (14)\ttotal: 167ms\tremaining: 1.92s\n",
      "16:\tlearn: 0.9628713\ttest: 0.8910891\tbest: 0.8910891 (14)\ttotal: 177ms\tremaining: 1.91s\n",
      "17:\tlearn: 0.9715347\ttest: 0.8960396\tbest: 0.8960396 (17)\ttotal: 188ms\tremaining: 1.9s\n",
      "18:\tlearn: 0.9727723\ttest: 0.8910891\tbest: 0.8960396 (17)\ttotal: 199ms\tremaining: 1.89s\n",
      "19:\tlearn: 0.9727723\ttest: 0.8910891\tbest: 0.8960396 (17)\ttotal: 211ms\tremaining: 1.9s\n",
      "20:\tlearn: 0.9764851\ttest: 0.8960396\tbest: 0.8960396 (17)\ttotal: 222ms\tremaining: 1.89s\n",
      "21:\tlearn: 0.9752475\ttest: 0.8910891\tbest: 0.8960396 (17)\ttotal: 233ms\tremaining: 1.88s\n",
      "22:\tlearn: 0.9752475\ttest: 0.8910891\tbest: 0.8960396 (17)\ttotal: 243ms\tremaining: 1.87s\n",
      "23:\tlearn: 0.9777228\ttest: 0.8910891\tbest: 0.8960396 (17)\ttotal: 253ms\tremaining: 1.86s\n",
      "24:\tlearn: 0.9777228\ttest: 0.8910891\tbest: 0.8960396 (17)\ttotal: 265ms\tremaining: 1.85s\n",
      "25:\tlearn: 0.9777228\ttest: 0.8910891\tbest: 0.8960396 (17)\ttotal: 276ms\tremaining: 1.84s\n",
      "26:\tlearn: 0.9826733\ttest: 0.9009901\tbest: 0.9009901 (26)\ttotal: 286ms\tremaining: 1.83s\n",
      "27:\tlearn: 0.9839109\ttest: 0.9059406\tbest: 0.9059406 (27)\ttotal: 296ms\tremaining: 1.82s\n",
      "28:\tlearn: 0.9863861\ttest: 0.9059406\tbest: 0.9059406 (27)\ttotal: 307ms\tremaining: 1.81s\n",
      "29:\tlearn: 0.9839109\ttest: 0.9059406\tbest: 0.9059406 (27)\ttotal: 319ms\tremaining: 1.81s\n",
      "30:\tlearn: 0.9851485\ttest: 0.9059406\tbest: 0.9059406 (27)\ttotal: 330ms\tremaining: 1.8s\n",
      "31:\tlearn: 0.9888614\ttest: 0.9009901\tbest: 0.9059406 (27)\ttotal: 340ms\tremaining: 1.79s\n",
      "32:\tlearn: 0.9888614\ttest: 0.9108911\tbest: 0.9108911 (32)\ttotal: 351ms\tremaining: 1.77s\n",
      "33:\tlearn: 0.9900990\ttest: 0.9059406\tbest: 0.9108911 (32)\ttotal: 361ms\tremaining: 1.76s\n",
      "34:\tlearn: 0.9900990\ttest: 0.9059406\tbest: 0.9108911 (32)\ttotal: 371ms\tremaining: 1.75s\n",
      "35:\tlearn: 0.9900990\ttest: 0.9059406\tbest: 0.9108911 (32)\ttotal: 384ms\tremaining: 1.75s\n",
      "36:\tlearn: 0.9900990\ttest: 0.9059406\tbest: 0.9108911 (32)\ttotal: 492ms\tremaining: 2.17s\n",
      "37:\tlearn: 0.9925743\ttest: 0.9059406\tbest: 0.9108911 (32)\ttotal: 502ms\tremaining: 2.14s\n",
      "38:\tlearn: 0.9925743\ttest: 0.9059406\tbest: 0.9108911 (32)\ttotal: 512ms\tremaining: 2.11s\n",
      "39:\tlearn: 0.9925743\ttest: 0.9059406\tbest: 0.9108911 (32)\ttotal: 522ms\tremaining: 2.09s\n",
      "40:\tlearn: 0.9938119\ttest: 0.9059406\tbest: 0.9108911 (32)\ttotal: 532ms\tremaining: 2.06s\n",
      "41:\tlearn: 0.9950495\ttest: 0.9059406\tbest: 0.9108911 (32)\ttotal: 542ms\tremaining: 2.04s\n",
      "42:\tlearn: 0.9950495\ttest: 0.9059406\tbest: 0.9108911 (32)\ttotal: 551ms\tremaining: 2.01s\n",
      "43:\tlearn: 0.9962871\ttest: 0.9158416\tbest: 0.9158416 (43)\ttotal: 561ms\tremaining: 1.99s\n",
      "44:\tlearn: 0.9975248\ttest: 0.9158416\tbest: 0.9158416 (43)\ttotal: 571ms\tremaining: 1.97s\n",
      "45:\tlearn: 0.9987624\ttest: 0.9158416\tbest: 0.9158416 (43)\ttotal: 581ms\tremaining: 1.94s\n",
      "46:\tlearn: 1.0000000\ttest: 0.9207921\tbest: 0.9207921 (46)\ttotal: 590ms\tremaining: 1.92s\n",
      "47:\tlearn: 1.0000000\ttest: 0.9207921\tbest: 0.9207921 (46)\ttotal: 602ms\tremaining: 1.91s\n",
      "48:\tlearn: 1.0000000\ttest: 0.9158416\tbest: 0.9207921 (46)\ttotal: 612ms\tremaining: 1.89s\n",
      "49:\tlearn: 1.0000000\ttest: 0.9207921\tbest: 0.9207921 (46)\ttotal: 622ms\tremaining: 1.87s\n",
      "50:\tlearn: 1.0000000\ttest: 0.9207921\tbest: 0.9207921 (46)\ttotal: 632ms\tremaining: 1.84s\n",
      "51:\tlearn: 1.0000000\ttest: 0.9108911\tbest: 0.9207921 (46)\ttotal: 641ms\tremaining: 1.82s\n",
      "52:\tlearn: 1.0000000\ttest: 0.9158416\tbest: 0.9207921 (46)\ttotal: 652ms\tremaining: 1.81s\n",
      "53:\tlearn: 1.0000000\ttest: 0.9158416\tbest: 0.9207921 (46)\ttotal: 663ms\tremaining: 1.79s\n",
      "54:\tlearn: 1.0000000\ttest: 0.9108911\tbest: 0.9207921 (46)\ttotal: 673ms\tremaining: 1.77s\n",
      "55:\tlearn: 1.0000000\ttest: 0.9108911\tbest: 0.9207921 (46)\ttotal: 685ms\tremaining: 1.76s\n",
      "56:\tlearn: 1.0000000\ttest: 0.9158416\tbest: 0.9207921 (46)\ttotal: 697ms\tremaining: 1.75s\n",
      "57:\tlearn: 1.0000000\ttest: 0.9108911\tbest: 0.9207921 (46)\ttotal: 707ms\tremaining: 1.73s\n",
      "58:\tlearn: 1.0000000\ttest: 0.9108911\tbest: 0.9207921 (46)\ttotal: 716ms\tremaining: 1.71s\n",
      "59:\tlearn: 1.0000000\ttest: 0.9108911\tbest: 0.9207921 (46)\ttotal: 727ms\tremaining: 1.7s\n",
      "60:\tlearn: 1.0000000\ttest: 0.9108911\tbest: 0.9207921 (46)\ttotal: 739ms\tremaining: 1.68s\n",
      "61:\tlearn: 1.0000000\ttest: 0.9108911\tbest: 0.9207921 (46)\ttotal: 750ms\tremaining: 1.67s\n",
      "62:\tlearn: 1.0000000\ttest: 0.9108911\tbest: 0.9207921 (46)\ttotal: 760ms\tremaining: 1.65s\n",
      "63:\tlearn: 1.0000000\ttest: 0.9108911\tbest: 0.9207921 (46)\ttotal: 771ms\tremaining: 1.64s\n",
      "64:\tlearn: 1.0000000\ttest: 0.9108911\tbest: 0.9207921 (46)\ttotal: 780ms\tremaining: 1.62s\n",
      "65:\tlearn: 1.0000000\ttest: 0.9108911\tbest: 0.9207921 (46)\ttotal: 790ms\tremaining: 1.6s\n",
      "66:\tlearn: 1.0000000\ttest: 0.9108911\tbest: 0.9207921 (46)\ttotal: 800ms\tremaining: 1.59s\n",
      "67:\tlearn: 1.0000000\ttest: 0.9108911\tbest: 0.9207921 (46)\ttotal: 810ms\tremaining: 1.57s\n",
      "68:\tlearn: 1.0000000\ttest: 0.9108911\tbest: 0.9207921 (46)\ttotal: 820ms\tremaining: 1.56s\n",
      "69:\tlearn: 1.0000000\ttest: 0.9009901\tbest: 0.9207921 (46)\ttotal: 831ms\tremaining: 1.54s\n",
      "70:\tlearn: 1.0000000\ttest: 0.9009901\tbest: 0.9207921 (46)\ttotal: 843ms\tremaining: 1.53s\n",
      "71:\tlearn: 1.0000000\ttest: 0.9009901\tbest: 0.9207921 (46)\ttotal: 852ms\tremaining: 1.51s\n",
      "72:\tlearn: 1.0000000\ttest: 0.9009901\tbest: 0.9207921 (46)\ttotal: 864ms\tremaining: 1.5s\n",
      "73:\tlearn: 1.0000000\ttest: 0.9108911\tbest: 0.9207921 (46)\ttotal: 875ms\tremaining: 1.49s\n",
      "74:\tlearn: 1.0000000\ttest: 0.9108911\tbest: 0.9207921 (46)\ttotal: 887ms\tremaining: 1.48s\n",
      "75:\tlearn: 1.0000000\ttest: 0.9059406\tbest: 0.9207921 (46)\ttotal: 899ms\tremaining: 1.47s\n",
      "76:\tlearn: 1.0000000\ttest: 0.9009901\tbest: 0.9207921 (46)\ttotal: 911ms\tremaining: 1.46s\n",
      "77:\tlearn: 1.0000000\ttest: 0.9059406\tbest: 0.9207921 (46)\ttotal: 922ms\tremaining: 1.44s\n",
      "78:\tlearn: 1.0000000\ttest: 0.9059406\tbest: 0.9207921 (46)\ttotal: 932ms\tremaining: 1.43s\n",
      "79:\tlearn: 1.0000000\ttest: 0.9009901\tbest: 0.9207921 (46)\ttotal: 942ms\tremaining: 1.41s\n",
      "80:\tlearn: 1.0000000\ttest: 0.9009901\tbest: 0.9207921 (46)\ttotal: 952ms\tremaining: 1.4s\n",
      "81:\tlearn: 1.0000000\ttest: 0.9059406\tbest: 0.9207921 (46)\ttotal: 961ms\tremaining: 1.38s\n",
      "82:\tlearn: 1.0000000\ttest: 0.9059406\tbest: 0.9207921 (46)\ttotal: 972ms\tremaining: 1.37s\n",
      "83:\tlearn: 1.0000000\ttest: 0.9108911\tbest: 0.9207921 (46)\ttotal: 983ms\tremaining: 1.36s\n",
      "84:\tlearn: 1.0000000\ttest: 0.9059406\tbest: 0.9207921 (46)\ttotal: 993ms\tremaining: 1.34s\n",
      "85:\tlearn: 1.0000000\ttest: 0.8960396\tbest: 0.9207921 (46)\ttotal: 1s\tremaining: 1.33s\n",
      "86:\tlearn: 1.0000000\ttest: 0.9108911\tbest: 0.9207921 (46)\ttotal: 1.01s\tremaining: 1.32s\n",
      "87:\tlearn: 1.0000000\ttest: 0.9108911\tbest: 0.9207921 (46)\ttotal: 1.02s\tremaining: 1.3s\n",
      "88:\tlearn: 1.0000000\ttest: 0.9108911\tbest: 0.9207921 (46)\ttotal: 1.03s\tremaining: 1.29s\n",
      "89:\tlearn: 1.0000000\ttest: 0.9059406\tbest: 0.9207921 (46)\ttotal: 1.05s\tremaining: 1.28s\n",
      "90:\tlearn: 1.0000000\ttest: 0.9059406\tbest: 0.9207921 (46)\ttotal: 1.06s\tremaining: 1.27s\n",
      "91:\tlearn: 1.0000000\ttest: 0.9059406\tbest: 0.9207921 (46)\ttotal: 1.07s\tremaining: 1.26s\n",
      "92:\tlearn: 1.0000000\ttest: 0.9059406\tbest: 0.9207921 (46)\ttotal: 1.08s\tremaining: 1.24s\n",
      "93:\tlearn: 1.0000000\ttest: 0.9059406\tbest: 0.9207921 (46)\ttotal: 1.09s\tremaining: 1.23s\n",
      "94:\tlearn: 1.0000000\ttest: 0.9009901\tbest: 0.9207921 (46)\ttotal: 1.1s\tremaining: 1.22s\n",
      "95:\tlearn: 1.0000000\ttest: 0.9009901\tbest: 0.9207921 (46)\ttotal: 1.11s\tremaining: 1.21s\n",
      "96:\tlearn: 1.0000000\ttest: 0.9059406\tbest: 0.9207921 (46)\ttotal: 1.13s\tremaining: 1.2s\n",
      "97:\tlearn: 1.0000000\ttest: 0.9059406\tbest: 0.9207921 (46)\ttotal: 1.14s\tremaining: 1.18s\n",
      "98:\tlearn: 1.0000000\ttest: 0.9009901\tbest: 0.9207921 (46)\ttotal: 1.15s\tremaining: 1.17s\n",
      "99:\tlearn: 1.0000000\ttest: 0.9059406\tbest: 0.9207921 (46)\ttotal: 1.16s\tremaining: 1.16s\n",
      "100:\tlearn: 1.0000000\ttest: 0.9009901\tbest: 0.9207921 (46)\ttotal: 1.17s\tremaining: 1.14s\n",
      "101:\tlearn: 1.0000000\ttest: 0.9009901\tbest: 0.9207921 (46)\ttotal: 1.18s\tremaining: 1.13s\n",
      "102:\tlearn: 1.0000000\ttest: 0.9009901\tbest: 0.9207921 (46)\ttotal: 1.19s\tremaining: 1.12s\n",
      "103:\tlearn: 1.0000000\ttest: 0.9009901\tbest: 0.9207921 (46)\ttotal: 1.2s\tremaining: 1.1s\n",
      "104:\tlearn: 1.0000000\ttest: 0.9009901\tbest: 0.9207921 (46)\ttotal: 1.2s\tremaining: 1.09s\n",
      "105:\tlearn: 1.0000000\ttest: 0.9059406\tbest: 0.9207921 (46)\ttotal: 1.22s\tremaining: 1.08s\n",
      "106:\tlearn: 1.0000000\ttest: 0.9009901\tbest: 0.9207921 (46)\ttotal: 1.23s\tremaining: 1.07s\n",
      "107:\tlearn: 1.0000000\ttest: 0.9009901\tbest: 0.9207921 (46)\ttotal: 1.24s\tremaining: 1.05s\n",
      "108:\tlearn: 1.0000000\ttest: 0.9009901\tbest: 0.9207921 (46)\ttotal: 1.25s\tremaining: 1.04s\n",
      "109:\tlearn: 1.0000000\ttest: 0.9009901\tbest: 0.9207921 (46)\ttotal: 1.26s\tremaining: 1.03s\n",
      "110:\tlearn: 1.0000000\ttest: 0.9009901\tbest: 0.9207921 (46)\ttotal: 1.27s\tremaining: 1.02s\n",
      "111:\tlearn: 1.0000000\ttest: 0.9009901\tbest: 0.9207921 (46)\ttotal: 1.28s\tremaining: 1.01s\n",
      "112:\tlearn: 1.0000000\ttest: 0.9059406\tbest: 0.9207921 (46)\ttotal: 1.29s\tremaining: 995ms\n",
      "113:\tlearn: 1.0000000\ttest: 0.9009901\tbest: 0.9207921 (46)\ttotal: 1.3s\tremaining: 983ms\n",
      "114:\tlearn: 1.0000000\ttest: 0.9059406\tbest: 0.9207921 (46)\ttotal: 1.31s\tremaining: 970ms\n",
      "115:\tlearn: 1.0000000\ttest: 0.9009901\tbest: 0.9207921 (46)\ttotal: 1.32s\tremaining: 958ms\n",
      "116:\tlearn: 1.0000000\ttest: 0.9009901\tbest: 0.9207921 (46)\ttotal: 1.33s\tremaining: 946ms\n",
      "117:\tlearn: 1.0000000\ttest: 0.9009901\tbest: 0.9207921 (46)\ttotal: 1.34s\tremaining: 934ms\n",
      "118:\tlearn: 1.0000000\ttest: 0.9009901\tbest: 0.9207921 (46)\ttotal: 1.38s\tremaining: 936ms\n",
      "119:\tlearn: 1.0000000\ttest: 0.9009901\tbest: 0.9207921 (46)\ttotal: 1.45s\tremaining: 966ms\n",
      "120:\tlearn: 1.0000000\ttest: 0.9009901\tbest: 0.9207921 (46)\ttotal: 1.46s\tremaining: 954ms\n",
      "121:\tlearn: 1.0000000\ttest: 0.9009901\tbest: 0.9207921 (46)\ttotal: 1.47s\tremaining: 941ms\n",
      "122:\tlearn: 1.0000000\ttest: 0.9009901\tbest: 0.9207921 (46)\ttotal: 1.49s\tremaining: 930ms\n",
      "123:\tlearn: 1.0000000\ttest: 0.9009901\tbest: 0.9207921 (46)\ttotal: 1.49s\tremaining: 916ms\n",
      "124:\tlearn: 1.0000000\ttest: 0.9009901\tbest: 0.9207921 (46)\ttotal: 1.5s\tremaining: 903ms\n",
      "125:\tlearn: 1.0000000\ttest: 0.9009901\tbest: 0.9207921 (46)\ttotal: 1.51s\tremaining: 890ms\n",
      "126:\tlearn: 1.0000000\ttest: 0.8960396\tbest: 0.9207921 (46)\ttotal: 1.52s\tremaining: 877ms\n",
      "127:\tlearn: 1.0000000\ttest: 0.9009901\tbest: 0.9207921 (46)\ttotal: 1.53s\tremaining: 863ms\n",
      "128:\tlearn: 1.0000000\ttest: 0.9009901\tbest: 0.9207921 (46)\ttotal: 1.54s\tremaining: 850ms\n",
      "129:\tlearn: 1.0000000\ttest: 0.9009901\tbest: 0.9207921 (46)\ttotal: 1.55s\tremaining: 837ms\n",
      "130:\tlearn: 1.0000000\ttest: 0.9009901\tbest: 0.9207921 (46)\ttotal: 1.56s\tremaining: 823ms\n",
      "131:\tlearn: 1.0000000\ttest: 0.9009901\tbest: 0.9207921 (46)\ttotal: 1.57s\tremaining: 811ms\n",
      "132:\tlearn: 1.0000000\ttest: 0.9009901\tbest: 0.9207921 (46)\ttotal: 1.58s\tremaining: 798ms\n",
      "133:\tlearn: 1.0000000\ttest: 0.9059406\tbest: 0.9207921 (46)\ttotal: 1.59s\tremaining: 785ms\n",
      "134:\tlearn: 1.0000000\ttest: 0.9059406\tbest: 0.9207921 (46)\ttotal: 1.6s\tremaining: 772ms\n",
      "135:\tlearn: 1.0000000\ttest: 0.9009901\tbest: 0.9207921 (46)\ttotal: 1.61s\tremaining: 760ms\n",
      "136:\tlearn: 1.0000000\ttest: 0.9009901\tbest: 0.9207921 (46)\ttotal: 1.63s\tremaining: 748ms\n",
      "137:\tlearn: 1.0000000\ttest: 0.9009901\tbest: 0.9207921 (46)\ttotal: 1.64s\tremaining: 735ms\n",
      "138:\tlearn: 1.0000000\ttest: 0.9009901\tbest: 0.9207921 (46)\ttotal: 1.65s\tremaining: 723ms\n",
      "139:\tlearn: 1.0000000\ttest: 0.9009901\tbest: 0.9207921 (46)\ttotal: 1.66s\tremaining: 711ms\n",
      "140:\tlearn: 1.0000000\ttest: 0.9009901\tbest: 0.9207921 (46)\ttotal: 1.67s\tremaining: 699ms\n",
      "141:\tlearn: 1.0000000\ttest: 0.9059406\tbest: 0.9207921 (46)\ttotal: 1.68s\tremaining: 686ms\n",
      "142:\tlearn: 1.0000000\ttest: 0.9059406\tbest: 0.9207921 (46)\ttotal: 1.69s\tremaining: 674ms\n",
      "143:\tlearn: 1.0000000\ttest: 0.9059406\tbest: 0.9207921 (46)\ttotal: 1.7s\tremaining: 662ms\n",
      "144:\tlearn: 1.0000000\ttest: 0.8960396\tbest: 0.9207921 (46)\ttotal: 1.71s\tremaining: 649ms\n",
      "145:\tlearn: 1.0000000\ttest: 0.8960396\tbest: 0.9207921 (46)\ttotal: 1.72s\tremaining: 637ms\n",
      "146:\tlearn: 1.0000000\ttest: 0.8960396\tbest: 0.9207921 (46)\ttotal: 1.73s\tremaining: 624ms\n",
      "147:\tlearn: 1.0000000\ttest: 0.8960396\tbest: 0.9207921 (46)\ttotal: 1.74s\tremaining: 612ms\n",
      "148:\tlearn: 1.0000000\ttest: 0.9009901\tbest: 0.9207921 (46)\ttotal: 1.75s\tremaining: 601ms\n",
      "149:\tlearn: 1.0000000\ttest: 0.9059406\tbest: 0.9207921 (46)\ttotal: 1.77s\tremaining: 590ms\n",
      "150:\tlearn: 1.0000000\ttest: 0.9059406\tbest: 0.9207921 (46)\ttotal: 1.78s\tremaining: 578ms\n",
      "151:\tlearn: 1.0000000\ttest: 0.9059406\tbest: 0.9207921 (46)\ttotal: 1.79s\tremaining: 565ms\n",
      "152:\tlearn: 1.0000000\ttest: 0.9059406\tbest: 0.9207921 (46)\ttotal: 1.8s\tremaining: 553ms\n",
      "153:\tlearn: 1.0000000\ttest: 0.9009901\tbest: 0.9207921 (46)\ttotal: 1.81s\tremaining: 541ms\n",
      "154:\tlearn: 1.0000000\ttest: 0.9009901\tbest: 0.9207921 (46)\ttotal: 1.82s\tremaining: 528ms\n",
      "155:\tlearn: 1.0000000\ttest: 0.9009901\tbest: 0.9207921 (46)\ttotal: 1.83s\tremaining: 516ms\n",
      "156:\tlearn: 1.0000000\ttest: 0.9009901\tbest: 0.9207921 (46)\ttotal: 1.84s\tremaining: 505ms\n",
      "157:\tlearn: 1.0000000\ttest: 0.9009901\tbest: 0.9207921 (46)\ttotal: 1.86s\tremaining: 494ms\n",
      "158:\tlearn: 1.0000000\ttest: 0.8960396\tbest: 0.9207921 (46)\ttotal: 1.87s\tremaining: 481ms\n",
      "159:\tlearn: 1.0000000\ttest: 0.8960396\tbest: 0.9207921 (46)\ttotal: 1.88s\tremaining: 469ms\n",
      "160:\tlearn: 1.0000000\ttest: 0.8960396\tbest: 0.9207921 (46)\ttotal: 1.89s\tremaining: 457ms\n",
      "161:\tlearn: 1.0000000\ttest: 0.8960396\tbest: 0.9207921 (46)\ttotal: 1.9s\tremaining: 445ms\n",
      "162:\tlearn: 1.0000000\ttest: 0.8960396\tbest: 0.9207921 (46)\ttotal: 1.91s\tremaining: 433ms\n",
      "163:\tlearn: 1.0000000\ttest: 0.8960396\tbest: 0.9207921 (46)\ttotal: 1.92s\tremaining: 421ms\n",
      "164:\tlearn: 1.0000000\ttest: 0.9009901\tbest: 0.9207921 (46)\ttotal: 1.93s\tremaining: 409ms\n",
      "165:\tlearn: 1.0000000\ttest: 0.9009901\tbest: 0.9207921 (46)\ttotal: 1.94s\tremaining: 397ms\n",
      "166:\tlearn: 1.0000000\ttest: 0.8960396\tbest: 0.9207921 (46)\ttotal: 1.95s\tremaining: 385ms\n",
      "167:\tlearn: 1.0000000\ttest: 0.8960396\tbest: 0.9207921 (46)\ttotal: 1.96s\tremaining: 374ms\n",
      "168:\tlearn: 1.0000000\ttest: 0.8960396\tbest: 0.9207921 (46)\ttotal: 1.97s\tremaining: 362ms\n",
      "169:\tlearn: 1.0000000\ttest: 0.8960396\tbest: 0.9207921 (46)\ttotal: 1.98s\tremaining: 350ms\n",
      "170:\tlearn: 1.0000000\ttest: 0.8960396\tbest: 0.9207921 (46)\ttotal: 1.99s\tremaining: 338ms\n",
      "171:\tlearn: 1.0000000\ttest: 0.8960396\tbest: 0.9207921 (46)\ttotal: 2s\tremaining: 326ms\n",
      "172:\tlearn: 1.0000000\ttest: 0.8960396\tbest: 0.9207921 (46)\ttotal: 2.01s\tremaining: 314ms\n",
      "173:\tlearn: 1.0000000\ttest: 0.8960396\tbest: 0.9207921 (46)\ttotal: 2.02s\tremaining: 302ms\n",
      "174:\tlearn: 1.0000000\ttest: 0.9009901\tbest: 0.9207921 (46)\ttotal: 2.03s\tremaining: 290ms\n",
      "175:\tlearn: 1.0000000\ttest: 0.9009901\tbest: 0.9207921 (46)\ttotal: 2.04s\tremaining: 279ms\n",
      "176:\tlearn: 1.0000000\ttest: 0.8960396\tbest: 0.9207921 (46)\ttotal: 2.06s\tremaining: 267ms\n",
      "177:\tlearn: 1.0000000\ttest: 0.8960396\tbest: 0.9207921 (46)\ttotal: 2.07s\tremaining: 256ms\n",
      "178:\tlearn: 1.0000000\ttest: 0.9009901\tbest: 0.9207921 (46)\ttotal: 2.08s\tremaining: 244ms\n",
      "179:\tlearn: 1.0000000\ttest: 0.9009901\tbest: 0.9207921 (46)\ttotal: 2.09s\tremaining: 232ms\n",
      "180:\tlearn: 1.0000000\ttest: 0.9009901\tbest: 0.9207921 (46)\ttotal: 2.1s\tremaining: 221ms\n",
      "181:\tlearn: 1.0000000\ttest: 0.9009901\tbest: 0.9207921 (46)\ttotal: 2.11s\tremaining: 209ms\n",
      "182:\tlearn: 1.0000000\ttest: 0.9009901\tbest: 0.9207921 (46)\ttotal: 2.12s\tremaining: 197ms\n",
      "183:\tlearn: 1.0000000\ttest: 0.9059406\tbest: 0.9207921 (46)\ttotal: 2.13s\tremaining: 185ms\n",
      "184:\tlearn: 1.0000000\ttest: 0.9059406\tbest: 0.9207921 (46)\ttotal: 2.14s\tremaining: 174ms\n",
      "185:\tlearn: 1.0000000\ttest: 0.9059406\tbest: 0.9207921 (46)\ttotal: 2.15s\tremaining: 162ms\n",
      "186:\tlearn: 1.0000000\ttest: 0.9059406\tbest: 0.9207921 (46)\ttotal: 2.16s\tremaining: 150ms\n",
      "187:\tlearn: 1.0000000\ttest: 0.9059406\tbest: 0.9207921 (46)\ttotal: 2.17s\tremaining: 139ms\n",
      "188:\tlearn: 1.0000000\ttest: 0.9059406\tbest: 0.9207921 (46)\ttotal: 2.18s\tremaining: 127ms\n",
      "189:\tlearn: 1.0000000\ttest: 0.9059406\tbest: 0.9207921 (46)\ttotal: 2.19s\tremaining: 116ms\n",
      "190:\tlearn: 1.0000000\ttest: 0.9059406\tbest: 0.9207921 (46)\ttotal: 2.21s\tremaining: 104ms\n",
      "191:\tlearn: 1.0000000\ttest: 0.9059406\tbest: 0.9207921 (46)\ttotal: 2.22s\tremaining: 92.4ms\n",
      "192:\tlearn: 1.0000000\ttest: 0.9059406\tbest: 0.9207921 (46)\ttotal: 2.23s\tremaining: 80.9ms\n",
      "193:\tlearn: 1.0000000\ttest: 0.9059406\tbest: 0.9207921 (46)\ttotal: 2.24s\tremaining: 69.3ms\n",
      "194:\tlearn: 1.0000000\ttest: 0.9059406\tbest: 0.9207921 (46)\ttotal: 2.25s\tremaining: 57.8ms\n",
      "195:\tlearn: 1.0000000\ttest: 0.9059406\tbest: 0.9207921 (46)\ttotal: 2.27s\tremaining: 46.3ms\n",
      "196:\tlearn: 1.0000000\ttest: 0.9059406\tbest: 0.9207921 (46)\ttotal: 2.28s\tremaining: 34.7ms\n",
      "197:\tlearn: 1.0000000\ttest: 0.9059406\tbest: 0.9207921 (46)\ttotal: 2.29s\tremaining: 23.1ms\n",
      "198:\tlearn: 1.0000000\ttest: 0.9059406\tbest: 0.9207921 (46)\ttotal: 2.3s\tremaining: 11.6ms\n",
      "199:\tlearn: 1.0000000\ttest: 0.9059406\tbest: 0.9207921 (46)\ttotal: 2.31s\tremaining: 0us\n",
      "bestTest = 0.9207920792\n",
      "bestIteration = 46\n",
      "Shrink model to first 47 iterations.\n"
     ]
    },
    {
     "data": {
      "text/plain": [
       "<catboost.core.CatBoostClassifier at 0x28490de17c0>"
      ]
     },
     "execution_count": 32,
     "metadata": {},
     "output_type": "execute_result"
    }
   ],
   "source": [
    "catboost = CatBoostClassifier(iterations=200,learning_rate=0.55,eval_metric=\"Accuracy\",task_type=\"GPU\",random_state=5)\n",
    "catboost.fit(x_train,y_train,[],eval_set=(x_test,y_test))"
   ]
  },
  {
   "cell_type": "code",
   "execution_count": 33,
   "id": "8fa6d484-9b25-44d4-9c64-2eb1cf9ed90a",
   "metadata": {},
   "outputs": [
    {
     "data": {
      "text/plain": [
       "{'learn': {'Accuracy': 1.0, 'Logloss': 0.006375697579714332},\n",
       " 'validation': {'Accuracy': 0.9207920792079208,\n",
       "  'Logloss': 0.30235366065903463}}"
      ]
     },
     "execution_count": 33,
     "metadata": {},
     "output_type": "execute_result"
    }
   ],
   "source": [
    "catboost.best_score_"
   ]
  },
  {
   "cell_type": "code",
   "execution_count": 34,
   "id": "5bd9706c-2d3c-4733-9508-7bac1ec423d1",
   "metadata": {},
   "outputs": [
    {
     "name": "stderr",
     "output_type": "stream",
     "text": [
      "c:\\users\\akiai\\appdata\\local\\programs\\python\\python39\\lib\\site-packages\\sklearn\\utils\\deprecation.py:87: FutureWarning: Function plot_confusion_matrix is deprecated; Function `plot_confusion_matrix` is deprecated in 1.0 and will be removed in 1.2. Use one of the class methods: ConfusionMatrixDisplay.from_predictions or ConfusionMatrixDisplay.from_estimator.\n",
      "  warnings.warn(msg, category=FutureWarning)\n"
     ]
    },
    {
     "data": {
      "text/plain": [
       "<sklearn.metrics._plot.confusion_matrix.ConfusionMatrixDisplay at 0x28490d71340>"
      ]
     },
     "execution_count": 34,
     "metadata": {},
     "output_type": "execute_result"
    },
    {
     "data": {
      "image/png": "[encoded data removed]",
      "text/plain": [
       "<Figure size 432x288 with 2 Axes>"
      ]
     },
     "metadata": {
      "needs_background": "light"
     },
     "output_type": "display_data"
    }
   ],
   "source": [
    "metrics.plot_confusion_matrix(catboost,x_test,y_test)"
   ]
  },
  {
   "cell_type": "code",
   "execution_count": 35,
   "id": "df7813db-6964-48dd-865c-cec12e894214",
   "metadata": {},
   "outputs": [
    {
     "name": "stdout",
     "output_type": "stream",
     "text": [
      "              precision    recall  f1-score   support\n",
      "\n",
      "           0       0.90      0.92      0.91        89\n",
      "           1       0.94      0.92      0.93       113\n",
      "\n",
      "    accuracy                           0.92       202\n",
      "   macro avg       0.92      0.92      0.92       202\n",
      "weighted avg       0.92      0.92      0.92       202\n",
      "\n"
     ]
    }
   ],
   "source": [
    "predict_cat = catboost.predict(x_test)\n",
    "print(metrics.classification_report(y_test,predict_cat))"
   ]
  },
  {
   "cell_type": "code",
   "execution_count": 36,
   "id": "2ec35b24-5fd8-4985-a85e-8c304b2d5cd0",
   "metadata": {},
   "outputs": [],
   "source": [
    "acc = [{\"Algorithm\":\"KNeighbors\",'Accuracy': metrics.accuracy_score(y_test,predict_knn),'Precision': metrics.precision_score(y_test,predict_knn),'Recall': metrics.recall_score(y_test,predict_knn),'F1-score': metrics.f1_score(y_test,predict_knn)},\n",
    "       {\"Algorithm\":\"SVM\", 'Accuracy': metrics.accuracy_score(y_test,predict_svm),'Precision': metrics.precision_score(y_test,predict_svm),'Recall': metrics.recall_score(y_test,predict_svm),'F1-score': metrics.f1_score(y_test,predict_svm)},\n",
    "        {\"Algorithm\":\"RandomForest\",'Accuracy': metrics.accuracy_score(y_test,predict_rf),'Precision': metrics.precision_score(y_test,predict_rf),'Recall': metrics.recall_score(y_test,predict_rf),'F1-score': metrics.f1_score(y_test,predict_rf)},\n",
    "        {\"Algorithm\":\"Adaboost\", 'Accuracy': metrics.accuracy_score(y_test,predict_ab),'Precision': metrics.precision_score(y_test,predict_ab),'Recall': metrics.recall_score(y_test,predict_ab),'F1-score': metrics.f1_score(y_test,predict_ab)},\n",
    "        {\"Algorithm\":\"Gboost\",'Accuracy': metrics.accuracy_score(y_test,predict_gb),'Precision': metrics.precision_score(y_test,predict_gb),'Recall': metrics.recall_score(y_test,predict_gb),'F1-score': metrics.f1_score(y_test,predict_gb)},\n",
    "        {\"Algorithm\":\"XGboost\",'Accuracy': metrics.accuracy_score(y_test,predict_xb),'Precision': metrics.precision_score(y_test,predict_xb),'Recall': metrics.recall_score(y_test,predict_xb),'F1-score': metrics.f1_score(y_test,predict_xb)},\n",
    "        {\"Algorithm\":\"Catboost\",'Accuracy': metrics.accuracy_score(y_test,predict_cat),'Precision': metrics.precision_score(y_test,predict_cat),'Recall': metrics.recall_score(y_test,predict_cat),'F1-score': metrics.f1_score(y_test,predict_cat)}\n",
    "       ] \n"
   ]
  },
  {
   "cell_type": "code",
   "execution_count": 37,
   "id": "f81d6920-bf8f-4434-b2e2-27a9cdf860a6",
   "metadata": {},
   "outputs": [
    {
     "data": {
      "text/html": [
       "<div>\n",
       "<style scoped>\n",
       "    .dataframe tbody tr th:only-of-type {\n",
       "        vertical-align: middle;\n",
       "    }\n",
       "\n",
       "    .dataframe tbody tr th {\n",
       "        vertical-align: top;\n",
       "    }\n",
       "\n",
       "    .dataframe thead th {\n",
       "        text-align: right;\n",
       "    }\n",
       "</style>\n",
       "<table border=\"1\" class=\"dataframe\">\n",
       "  <thead>\n",
       "    <tr style=\"text-align: right;\">\n",
       "      <th></th>\n",
       "      <th>Algorithm</th>\n",
       "      <th>Accuracy</th>\n",
       "      <th>Precision</th>\n",
       "      <th>Recall</th>\n",
       "      <th>F1-score</th>\n",
       "    </tr>\n",
       "  </thead>\n",
       "  <tbody>\n",
       "    <tr>\n",
       "      <th>0</th>\n",
       "      <td>KNeighbors</td>\n",
       "      <td>0.861386</td>\n",
       "      <td>0.876106</td>\n",
       "      <td>0.876106</td>\n",
       "      <td>0.876106</td>\n",
       "    </tr>\n",
       "    <tr>\n",
       "      <th>1</th>\n",
       "      <td>SVM</td>\n",
       "      <td>0.821782</td>\n",
       "      <td>0.873786</td>\n",
       "      <td>0.796460</td>\n",
       "      <td>0.833333</td>\n",
       "    </tr>\n",
       "    <tr>\n",
       "      <th>2</th>\n",
       "      <td>RandomForest</td>\n",
       "      <td>0.930693</td>\n",
       "      <td>0.954128</td>\n",
       "      <td>0.920354</td>\n",
       "      <td>0.936937</td>\n",
       "    </tr>\n",
       "    <tr>\n",
       "      <th>3</th>\n",
       "      <td>Adaboost</td>\n",
       "      <td>0.841584</td>\n",
       "      <td>0.864865</td>\n",
       "      <td>0.849558</td>\n",
       "      <td>0.857143</td>\n",
       "    </tr>\n",
       "    <tr>\n",
       "      <th>4</th>\n",
       "      <td>Gboost</td>\n",
       "      <td>0.866337</td>\n",
       "      <td>0.898148</td>\n",
       "      <td>0.858407</td>\n",
       "      <td>0.877828</td>\n",
       "    </tr>\n",
       "    <tr>\n",
       "      <th>5</th>\n",
       "      <td>XGboost</td>\n",
       "      <td>0.861386</td>\n",
       "      <td>0.897196</td>\n",
       "      <td>0.849558</td>\n",
       "      <td>0.872727</td>\n",
       "    </tr>\n",
       "    <tr>\n",
       "      <th>6</th>\n",
       "      <td>Catboost</td>\n",
       "      <td>0.920792</td>\n",
       "      <td>0.936937</td>\n",
       "      <td>0.920354</td>\n",
       "      <td>0.928571</td>\n",
       "    </tr>\n",
       "  </tbody>\n",
       "</table>\n",
       "</div>"
      ],
      "text/plain": [
       "      Algorithm  Accuracy  Precision    Recall  F1-score\n",
       "0    KNeighbors  0.861386   0.876106  0.876106  0.876106\n",
       "1           SVM  0.821782   0.873786  0.796460  0.833333\n",
       "2  RandomForest  0.930693   0.954128  0.920354  0.936937\n",
       "3      Adaboost  0.841584   0.864865  0.849558  0.857143\n",
       "4        Gboost  0.866337   0.898148  0.858407  0.877828\n",
       "5       XGboost  0.861386   0.897196  0.849558  0.872727\n",
       "6      Catboost  0.920792   0.936937  0.920354  0.928571"
      ]
     },
     "execution_count": 37,
     "metadata": {},
     "output_type": "execute_result"
    }
   ],
   "source": [
    "accurac = pd.DataFrame.from_dict(acc)\n",
    "accurac"
   ]
  }
 ],
 "metadata": {
  "kernelspec": {
   "display_name": "Python 3 (ipykernel)",
   "language": "python",
   "name": "python3"
  },
  "language_info": {
   "codemirror_mode": {
    "name": "ipython",
    "version": 3
   },
   "file_extension": ".py",
   "mimetype": "text/x-python",
   "name": "python",
   "nbconvert_exporter": "python",
   "pygments_lexer": "ipython3",
   "version": "3.9.6"
  }
 },
 "nbformat": 4,
 "nbformat_minor": 5
}
